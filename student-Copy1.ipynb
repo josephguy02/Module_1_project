{
 "cells": [
  {
   "cell_type": "markdown",
   "metadata": {},
   "source": [
    "## Final Project Submission\n",
    "\n",
    "Please fill out:\n",
    "* Student name: Joe Guy\n",
    "* Student pace:  part time \n",
    "* Scheduled project review date/time: 03/08/19 3pm\n",
    "* Instructor name: Joe San Pietro\n",
    "* Blog post URL: https://github.com/josephguy02/Module_1_project.git\n"
   ]
  },
  {
   "cell_type": "markdown",
   "metadata": {},
   "source": [
    "## Intro"
   ]
  },
  {
   "cell_type": "markdown",
   "metadata": {},
   "source": [
    "During this project I used the OSEMN (Obtain, Scrub, Explore, Model, iNterpret) approach to determine the best predictor of price based on the King County House Sales dataset.  The datase was scrubbed of any null values or improper strings.  It was then normalized and explored for relationships between predictors.  A model was then created to identify statistically significant relationships between the dependent variable, price, and all other independent variables in the dataset.\n",
    "The model also highlighed the \"ordinary least squares\" fit of the data, a measurement of how much error lies in the comparisons.  Finally the relationships were interpreted to explain the numerical effects on price by these independent variables."
   ]
  },
  {
   "cell_type": "markdown",
   "metadata": {},
   "source": [
    "## Obtaining - Importing programs and files"
   ]
  },
  {
   "cell_type": "code",
   "execution_count": 192,
   "metadata": {},
   "outputs": [],
   "source": [
    "import pandas as pd\n",
    "import numpy as np\n",
    "import matplotlib.pyplot as plt\n",
    "%matplotlib inline\n",
    "import seaborn as sns"
   ]
  },
  {
   "cell_type": "code",
   "execution_count": 299,
   "metadata": {},
   "outputs": [],
   "source": [
    "df = pd.read_csv(\"kc_house_data.csv\")"
   ]
  },
  {
   "cell_type": "markdown",
   "metadata": {},
   "source": [
    "## Scrubbing the dataset"
   ]
  },
  {
   "cell_type": "code",
   "execution_count": 300,
   "metadata": {},
   "outputs": [
    {
     "name": "stdout",
     "output_type": "stream",
     "text": [
      "<class 'pandas.core.frame.DataFrame'>\n",
      "RangeIndex: 21597 entries, 0 to 21596\n",
      "Data columns (total 21 columns):\n",
      "id               21597 non-null int64\n",
      "date             21597 non-null object\n",
      "price            21597 non-null float64\n",
      "bedrooms         21597 non-null int64\n",
      "bathrooms        21597 non-null float64\n",
      "sqft_living      21597 non-null int64\n",
      "sqft_lot         21597 non-null int64\n",
      "floors           21597 non-null float64\n",
      "waterfront       19221 non-null float64\n",
      "view             21534 non-null float64\n",
      "condition        21597 non-null int64\n",
      "grade            21597 non-null int64\n",
      "sqft_above       21597 non-null int64\n",
      "sqft_basement    21597 non-null object\n",
      "yr_built         21597 non-null int64\n",
      "yr_renovated     17755 non-null float64\n",
      "zipcode          21597 non-null int64\n",
      "lat              21597 non-null float64\n",
      "long             21597 non-null float64\n",
      "sqft_living15    21597 non-null int64\n",
      "sqft_lot15       21597 non-null int64\n",
      "dtypes: float64(8), int64(11), object(2)\n",
      "memory usage: 3.5+ MB\n"
     ]
    }
   ],
   "source": [
    "df.info()"
   ]
  },
  {
   "cell_type": "code",
   "execution_count": 301,
   "metadata": {},
   "outputs": [],
   "source": [
    "df = df.drop(['id'], axis=1) #ID is not useful to us it is an index\n",
    "df = df.drop(['date'], axis=1) # not using datetime trending in this model"
   ]
  },
  {
   "cell_type": "markdown",
   "metadata": {},
   "source": [
    "There are missing values in waterfront, view, yr_renovated.  "
   ]
  },
  {
   "cell_type": "code",
   "execution_count": 302,
   "metadata": {},
   "outputs": [
    {
     "data": {
      "text/plain": [
       "price               0\n",
       "bedrooms            0\n",
       "bathrooms           0\n",
       "sqft_living         0\n",
       "sqft_lot            0\n",
       "floors              0\n",
       "waterfront       2376\n",
       "view               63\n",
       "condition           0\n",
       "grade               0\n",
       "sqft_above          0\n",
       "sqft_basement       0\n",
       "yr_built            0\n",
       "yr_renovated     3842\n",
       "zipcode             0\n",
       "lat                 0\n",
       "long                0\n",
       "sqft_living15       0\n",
       "sqft_lot15          0\n",
       "dtype: int64"
      ]
     },
     "execution_count": 302,
     "metadata": {},
     "output_type": "execute_result"
    }
   ],
   "source": [
    "df.isna().sum()"
   ]
  },
  {
   "cell_type": "code",
   "execution_count": 303,
   "metadata": {},
   "outputs": [],
   "source": [
    "df.dropna(subset=['view'], inplace=True) #remove rows containing nulls in the view column"
   ]
  },
  {
   "cell_type": "markdown",
   "metadata": {},
   "source": [
    "There are too many nulls in waterfront and yr_renovated.  Will bin out the nulls.  "
   ]
  },
  {
   "cell_type": "code",
   "execution_count": 305,
   "metadata": {},
   "outputs": [
    {
     "name": "stdout",
     "output_type": "stream",
     "text": [
      "<class 'pandas.core.frame.DataFrame'>\n",
      "Int64Index: 21534 entries, 0 to 21596\n",
      "Data columns (total 19 columns):\n",
      "price            21534 non-null float64\n",
      "bedrooms         21534 non-null int64\n",
      "bathrooms        21534 non-null float64\n",
      "sqft_living      21534 non-null int64\n",
      "sqft_lot         21534 non-null int64\n",
      "floors           21534 non-null float64\n",
      "waterfront       19164 non-null float64\n",
      "view             21534 non-null float64\n",
      "condition        21534 non-null int64\n",
      "grade            21534 non-null int64\n",
      "sqft_above       21534 non-null int64\n",
      "sqft_basement    21534 non-null object\n",
      "yr_built         21534 non-null int64\n",
      "yr_renovated     17704 non-null float64\n",
      "zipcode          21534 non-null int64\n",
      "lat              21534 non-null float64\n",
      "long             21534 non-null float64\n",
      "sqft_living15    21534 non-null int64\n",
      "sqft_lot15       21534 non-null int64\n",
      "dtypes: float64(8), int64(10), object(1)\n",
      "memory usage: 3.3+ MB\n"
     ]
    }
   ],
   "source": [
    "df.info()"
   ]
  },
  {
   "cell_type": "code",
   "execution_count": 306,
   "metadata": {},
   "outputs": [
    {
     "data": {
      "text/plain": [
       "0.0    19019\n",
       "1.0      145\n",
       "Name: waterfront, dtype: int64"
      ]
     },
     "execution_count": 306,
     "metadata": {},
     "output_type": "execute_result"
    }
   ],
   "source": [
    "df.waterfront.value_counts() #waterfront is a categorical column, 0 = not on the waterfront, 1 = on the waterfront.  "
   ]
  },
  {
   "cell_type": "code",
   "execution_count": 307,
   "metadata": {},
   "outputs": [],
   "source": [
    "df.waterfront=df.waterfront.fillna(2) #filling the nulls with 2. This bin will represent data that will be dropped."
   ]
  },
  {
   "cell_type": "code",
   "execution_count": 308,
   "metadata": {},
   "outputs": [
    {
     "data": {
      "text/plain": [
       "0.0    19019\n",
       "2.0     2370\n",
       "1.0      145\n",
       "Name: waterfront, dtype: int64"
      ]
     },
     "execution_count": 308,
     "metadata": {},
     "output_type": "execute_result"
    }
   ],
   "source": [
    "df.waterfront.value_counts()"
   ]
  },
  {
   "cell_type": "code",
   "execution_count": 309,
   "metadata": {},
   "outputs": [
    {
     "data": {
      "text/plain": [
       "<matplotlib.axes._subplots.AxesSubplot at 0x299d21f40f0>"
      ]
     },
     "execution_count": 309,
     "metadata": {},
     "output_type": "execute_result"
    },
    {
     "data": {
      "image/png": "[encoded data removed]",
      "text/plain": [
       "<Figure size 432x288 with 1 Axes>"
      ]
     },
     "metadata": {
      "needs_background": "light"
     },
     "output_type": "display_data"
    }
   ],
   "source": [
    "bins_waterfront = [-1, .9, 1.1, 2.1]\n",
    "# use pd.cut\n",
    "bins_waterfront = pd.cut(df['waterfront'], bins_waterfront)\n",
    "bins_waterfront = bins_waterfront.cat.as_unordered()\n",
    "bins_waterfront.value_counts().plot(kind='bar')"
   ]
  },
  {
   "cell_type": "code",
   "execution_count": 310,
   "metadata": {},
   "outputs": [],
   "source": [
    "df[\"waterfront\"]=bins_waterfront"
   ]
  },
  {
   "cell_type": "code",
   "execution_count": 311,
   "metadata": {
    "scrolled": true
   },
   "outputs": [
    {
     "data": {
      "text/plain": [
       "0.0       16961\n",
       "2014.0       73\n",
       "2003.0       31\n",
       "2013.0       31\n",
       "2007.0       30\n",
       "2000.0       29\n",
       "2005.0       29\n",
       "1990.0       22\n",
       "2004.0       22\n",
       "2009.0       21\n",
       "1989.0       20\n",
       "2006.0       20\n",
       "2002.0       17\n",
       "1991.0       16\n",
       "1998.0       16\n",
       "1984.0       16\n",
       "1999.0       15\n",
       "2008.0       15\n",
       "2010.0       15\n",
       "2001.0       15\n",
       "1983.0       15\n",
       "2015.0       14\n",
       "1994.0       14\n",
       "1985.0       14\n",
       "1986.0       14\n",
       "1987.0       14\n",
       "1992.0       13\n",
       "1997.0       12\n",
       "1993.0       12\n",
       "1996.0       11\n",
       "          ...  \n",
       "1975.0        5\n",
       "1964.0        5\n",
       "1969.0        4\n",
       "1963.0        4\n",
       "1973.0        4\n",
       "1981.0        4\n",
       "1965.0        4\n",
       "1978.0        3\n",
       "1960.0        3\n",
       "1958.0        3\n",
       "1956.0        3\n",
       "1955.0        3\n",
       "1945.0        3\n",
       "1972.0        3\n",
       "1967.0        2\n",
       "1957.0        2\n",
       "1940.0        2\n",
       "1974.0        2\n",
       "1962.0        2\n",
       "1953.0        1\n",
       "1950.0        1\n",
       "1934.0        1\n",
       "1944.0        1\n",
       "1976.0        1\n",
       "1948.0        1\n",
       "1946.0        1\n",
       "1959.0        1\n",
       "1971.0        1\n",
       "1951.0        1\n",
       "1954.0        1\n",
       "Name: yr_renovated, Length: 70, dtype: int64"
      ]
     },
     "execution_count": 311,
     "metadata": {},
     "output_type": "execute_result"
    }
   ],
   "source": [
    "df.yr_renovated.value_counts() #There are many more properties that have not been renovated; not renovated = 0. "
   ]
  },
  {
   "cell_type": "code",
   "execution_count": 312,
   "metadata": {},
   "outputs": [],
   "source": [
    "df.yr_renovated = df.yr_renovated.fillna(1) #Replacing the null values with a 1."
   ]
  },
  {
   "cell_type": "code",
   "execution_count": 313,
   "metadata": {
    "scrolled": true
   },
   "outputs": [
    {
     "data": {
      "text/plain": [
       "0.0       16961\n",
       "1.0        3830\n",
       "2014.0       73\n",
       "2003.0       31\n",
       "2013.0       31\n",
       "2007.0       30\n",
       "2005.0       29\n",
       "2000.0       29\n",
       "1990.0       22\n",
       "2004.0       22\n",
       "2009.0       21\n",
       "1989.0       20\n",
       "2006.0       20\n",
       "2002.0       17\n",
       "1991.0       16\n",
       "1998.0       16\n",
       "1984.0       16\n",
       "1999.0       15\n",
       "2001.0       15\n",
       "2008.0       15\n",
       "2010.0       15\n",
       "1983.0       15\n",
       "2015.0       14\n",
       "1986.0       14\n",
       "1987.0       14\n",
       "1994.0       14\n",
       "1985.0       14\n",
       "1992.0       13\n",
       "1997.0       12\n",
       "1993.0       12\n",
       "          ...  \n",
       "1964.0        5\n",
       "1975.0        5\n",
       "1973.0        4\n",
       "1981.0        4\n",
       "1963.0        4\n",
       "1969.0        4\n",
       "1965.0        4\n",
       "1972.0        3\n",
       "1956.0        3\n",
       "1945.0        3\n",
       "1960.0        3\n",
       "1978.0        3\n",
       "1958.0        3\n",
       "1955.0        3\n",
       "1974.0        2\n",
       "1962.0        2\n",
       "1967.0        2\n",
       "1940.0        2\n",
       "1957.0        2\n",
       "1946.0        1\n",
       "1959.0        1\n",
       "1951.0        1\n",
       "1954.0        1\n",
       "1950.0        1\n",
       "1971.0        1\n",
       "1944.0        1\n",
       "1948.0        1\n",
       "1976.0        1\n",
       "1934.0        1\n",
       "1953.0        1\n",
       "Name: yr_renovated, Length: 71, dtype: int64"
      ]
     },
     "execution_count": 313,
     "metadata": {},
     "output_type": "execute_result"
    }
   ],
   "source": [
    "df.yr_renovated.value_counts()"
   ]
  },
  {
   "cell_type": "code",
   "execution_count": 314,
   "metadata": {},
   "outputs": [
    {
     "data": {
      "text/plain": [
       "<matplotlib.axes._subplots.AxesSubplot at 0x299d1a09c88>"
      ]
     },
     "execution_count": 314,
     "metadata": {},
     "output_type": "execute_result"
    },
    {
     "data": {
      "image/png": "[encoded data removed]",
      "text/plain": [
       "<Figure size 432x288 with 1 Axes>"
      ]
     },
     "metadata": {
      "needs_background": "light"
     },
     "output_type": "display_data"
    }
   ],
   "source": [
    "#binning to create columns for renovated = y, renovated = n, and renovated = N/A\n",
    "bins_yr_renovated = [-1, .1, 1.1, 2016]\n",
    "bins_yr_renovated = pd.cut(df['yr_renovated'], bins_yr_renovated)\n",
    "bins_yr_renovated = bins_yr_renovated.cat.as_unordered()\n",
    "bins_yr_renovated.value_counts().plot(kind='bar')"
   ]
  },
  {
   "cell_type": "code",
   "execution_count": 315,
   "metadata": {},
   "outputs": [],
   "source": [
    "df[\"yr_renovated\"]=bins_yr_renovated"
   ]
  },
  {
   "cell_type": "code",
   "execution_count": 316,
   "metadata": {},
   "outputs": [
    {
     "name": "stdout",
     "output_type": "stream",
     "text": [
      "<class 'pandas.core.frame.DataFrame'>\n",
      "Int64Index: 21534 entries, 0 to 21596\n",
      "Data columns (total 19 columns):\n",
      "price            21534 non-null float64\n",
      "bedrooms         21534 non-null int64\n",
      "bathrooms        21534 non-null float64\n",
      "sqft_living      21534 non-null int64\n",
      "sqft_lot         21534 non-null int64\n",
      "floors           21534 non-null float64\n",
      "waterfront       21534 non-null category\n",
      "view             21534 non-null float64\n",
      "condition        21534 non-null int64\n",
      "grade            21534 non-null int64\n",
      "sqft_above       21534 non-null int64\n",
      "sqft_basement    21534 non-null object\n",
      "yr_built         21534 non-null int64\n",
      "yr_renovated     21534 non-null category\n",
      "zipcode          21534 non-null int64\n",
      "lat              21534 non-null float64\n",
      "long             21534 non-null float64\n",
      "sqft_living15    21534 non-null int64\n",
      "sqft_lot15       21534 non-null int64\n",
      "dtypes: category(2), float64(6), int64(10), object(1)\n",
      "memory usage: 3.0+ MB\n"
     ]
    }
   ],
   "source": [
    "df.info() #All nulls removed.  Will drop the null columns from yr_renovated and waterfront after one hot encoding."
   ]
  },
  {
   "cell_type": "code",
   "execution_count": 317,
   "metadata": {
    "scrolled": true
   },
   "outputs": [
    {
     "data": {
      "text/plain": [
       "0.0       12798\n",
       "?           452\n",
       "600.0       216\n",
       "500.0       209\n",
       "700.0       207\n",
       "800.0       201\n",
       "400.0       184\n",
       "1000.0      147\n",
       "900.0       142\n",
       "300.0       140\n",
       "200.0       105\n",
       "750.0       104\n",
       "450.0       103\n",
       "530.0       103\n",
       "480.0       102\n",
       "720.0        98\n",
       "620.0        90\n",
       "580.0        84\n",
       "840.0        83\n",
       "420.0        81\n",
       "1100.0       78\n",
       "860.0        78\n",
       "670.0        77\n",
       "550.0        76\n",
       "780.0        75\n",
       "650.0        75\n",
       "240.0        74\n",
       "680.0        73\n",
       "380.0        73\n",
       "910.0        71\n",
       "          ...  \n",
       "875.0         1\n",
       "3260.0        1\n",
       "1913.0        1\n",
       "172.0         1\n",
       "915.0         1\n",
       "248.0         1\n",
       "2730.0        1\n",
       "2810.0        1\n",
       "1024.0        1\n",
       "2190.0        1\n",
       "3480.0        1\n",
       "768.0         1\n",
       "243.0         1\n",
       "274.0         1\n",
       "2400.0        1\n",
       "652.0         1\n",
       "1920.0        1\n",
       "207.0         1\n",
       "1840.0        1\n",
       "143.0         1\n",
       "276.0         1\n",
       "417.0         1\n",
       "2580.0        1\n",
       "2120.0        1\n",
       "556.0         1\n",
       "2600.0        1\n",
       "65.0          1\n",
       "3500.0        1\n",
       "1960.0        1\n",
       "704.0         1\n",
       "Name: sqft_basement, Length: 302, dtype: int64"
      ]
     },
     "execution_count": 317,
     "metadata": {},
     "output_type": "execute_result"
    }
   ],
   "source": [
    "df.sqft_basement.value_counts() #listed with an object datatype"
   ]
  },
  {
   "cell_type": "code",
   "execution_count": 318,
   "metadata": {},
   "outputs": [],
   "source": [
    "df = df[df.sqft_basement != '?'] #remove '?' from the sqft_basement column"
   ]
  },
  {
   "cell_type": "code",
   "execution_count": 319,
   "metadata": {},
   "outputs": [],
   "source": [
    "df.view = df.view.astype('int64')"
   ]
  },
  {
   "cell_type": "code",
   "execution_count": 320,
   "metadata": {},
   "outputs": [],
   "source": [
    "df.floors = df.floors.astype('int64')"
   ]
  },
  {
   "cell_type": "code",
   "execution_count": 321,
   "metadata": {},
   "outputs": [],
   "source": [
    "#What else is categorical, changing datatype to category for scatterplot display.\n",
    "df.floors = df.floors.astype('category')\n",
    "df.view = df.view.astype('category')\n",
    "df.condition = df.condition.astype('category')\n",
    "df.grade = df.grade.astype('category')\n",
    "df.floors = df.floors.astype('category')\n",
    "df.sqft_basement = df.sqft_basement.astype('float64')"
   ]
  },
  {
   "cell_type": "code",
   "execution_count": 322,
   "metadata": {},
   "outputs": [
    {
     "data": {
      "image/png": "[encoded data removed]",
      "text/plain": [
       "<Figure size 1152x216 with 4 Axes>"
      ]
     },
     "metadata": {
      "needs_background": "light"
     },
     "output_type": "display_data"
    }
   ],
   "source": [
    "fig, axes = plt.subplots(nrows=1, ncols=4, figsize=(16,3))\n",
    "\n",
    "for xcol, ax in zip(['sqft_living', 'sqft_lot', 'bedrooms', 'bathrooms'], axes):\n",
    "    df.plot(kind='scatter', x=xcol, y='price', ax=ax, alpha=0.4, color='b')"
   ]
  },
  {
   "cell_type": "markdown",
   "metadata": {},
   "source": [
    "Sqft_living shows a high degree of linearity with price.  Sqft_lot is heavily skewed toward 0, but is numerical.  Bedrooms and bathrooms are categorical and need to be binned."
   ]
  },
  {
   "cell_type": "code",
   "execution_count": 323,
   "metadata": {},
   "outputs": [
    {
     "data": {
      "image/png": "[encoded data removed]",
      "text/plain": [
       "<Figure size 1152x216 with 4 Axes>"
      ]
     },
     "metadata": {
      "needs_background": "light"
     },
     "output_type": "display_data"
    }
   ],
   "source": [
    "fig, axes = plt.subplots(nrows=1, ncols=4, figsize=(16,3))\n",
    "\n",
    "for xcol, ax in zip(['sqft_above', 'sqft_basement', 'yr_built', 'zipcode'], axes):\n",
    "    df.plot(kind='scatter', x=xcol, y='price', ax=ax, alpha=0.4, color='b')"
   ]
  },
  {
   "cell_type": "markdown",
   "metadata": {},
   "source": [
    "Sqft_above is linear with price as well.  Sqft_basement is not linear, but numerical.  Yr_built shows very little linearity. Zipcodes are categorical, need to be binned."
   ]
  },
  {
   "cell_type": "code",
   "execution_count": 324,
   "metadata": {},
   "outputs": [],
   "source": [
    "df.zipcode = df.zipcode.astype('category')"
   ]
  },
  {
   "cell_type": "code",
   "execution_count": 325,
   "metadata": {},
   "outputs": [
    {
     "data": {
      "image/png": "[encoded data removed]",
      "text/plain": [
       "<Figure size 1152x216 with 4 Axes>"
      ]
     },
     "metadata": {
      "needs_background": "light"
     },
     "output_type": "display_data"
    }
   ],
   "source": [
    "fig, axes = plt.subplots(nrows=1, ncols=4, figsize=(16,3))\n",
    "\n",
    "for xcol, ax in zip(['lat', 'long', 'sqft_living15', 'sqft_lot15'], axes):\n",
    "    df.plot(kind='scatter', x=xcol, y='price', ax=ax, alpha=0.4, color='b')"
   ]
  },
  {
   "cell_type": "markdown",
   "metadata": {},
   "source": [
    "Lat and long do not show linearity, need to look at histogram to determine if it needs normalization.  Sqft_living15 is linear with price.  Sqft_lot15 is heavily skewed toward 0."
   ]
  },
  {
   "cell_type": "code",
   "execution_count": 326,
   "metadata": {},
   "outputs": [
    {
     "data": {
      "image/png": "[encoded data removed]",
      "text/plain": [
       "<Figure size 792x648 with 2 Axes>"
      ]
     },
     "metadata": {
      "needs_background": "light"
     },
     "output_type": "display_data"
    }
   ],
   "source": [
    "f, ax = plt.subplots(figsize=(11, 9))\n",
    "sns.heatmap(df.corr(), center=0, cmap='RdYlBu',);"
   ]
  },
  {
   "cell_type": "code",
   "execution_count": 327,
   "metadata": {},
   "outputs": [
    {
     "data": {
      "text/html": [
       "<div>\n",
       "<style scoped>\n",
       "    .dataframe tbody tr th:only-of-type {\n",
       "        vertical-align: middle;\n",
       "    }\n",
       "\n",
       "    .dataframe tbody tr th {\n",
       "        vertical-align: top;\n",
       "    }\n",
       "\n",
       "    .dataframe thead th {\n",
       "        text-align: right;\n",
       "    }\n",
       "</style>\n",
       "<table border=\"1\" class=\"dataframe\">\n",
       "  <thead>\n",
       "    <tr style=\"text-align: right;\">\n",
       "      <th></th>\n",
       "      <th>price</th>\n",
       "      <th>bedrooms</th>\n",
       "      <th>bathrooms</th>\n",
       "      <th>sqft_living</th>\n",
       "      <th>sqft_lot</th>\n",
       "      <th>sqft_above</th>\n",
       "      <th>sqft_basement</th>\n",
       "      <th>yr_built</th>\n",
       "      <th>lat</th>\n",
       "      <th>long</th>\n",
       "      <th>sqft_living15</th>\n",
       "      <th>sqft_lot15</th>\n",
       "    </tr>\n",
       "  </thead>\n",
       "  <tbody>\n",
       "    <tr>\n",
       "      <th>price</th>\n",
       "      <td>True</td>\n",
       "      <td>False</td>\n",
       "      <td>False</td>\n",
       "      <td>False</td>\n",
       "      <td>False</td>\n",
       "      <td>False</td>\n",
       "      <td>False</td>\n",
       "      <td>False</td>\n",
       "      <td>False</td>\n",
       "      <td>False</td>\n",
       "      <td>False</td>\n",
       "      <td>False</td>\n",
       "    </tr>\n",
       "    <tr>\n",
       "      <th>bedrooms</th>\n",
       "      <td>False</td>\n",
       "      <td>True</td>\n",
       "      <td>False</td>\n",
       "      <td>False</td>\n",
       "      <td>False</td>\n",
       "      <td>False</td>\n",
       "      <td>False</td>\n",
       "      <td>False</td>\n",
       "      <td>False</td>\n",
       "      <td>False</td>\n",
       "      <td>False</td>\n",
       "      <td>False</td>\n",
       "    </tr>\n",
       "    <tr>\n",
       "      <th>bathrooms</th>\n",
       "      <td>False</td>\n",
       "      <td>False</td>\n",
       "      <td>True</td>\n",
       "      <td>True</td>\n",
       "      <td>False</td>\n",
       "      <td>False</td>\n",
       "      <td>False</td>\n",
       "      <td>False</td>\n",
       "      <td>False</td>\n",
       "      <td>False</td>\n",
       "      <td>False</td>\n",
       "      <td>False</td>\n",
       "    </tr>\n",
       "    <tr>\n",
       "      <th>sqft_living</th>\n",
       "      <td>False</td>\n",
       "      <td>False</td>\n",
       "      <td>True</td>\n",
       "      <td>True</td>\n",
       "      <td>False</td>\n",
       "      <td>True</td>\n",
       "      <td>False</td>\n",
       "      <td>False</td>\n",
       "      <td>False</td>\n",
       "      <td>False</td>\n",
       "      <td>True</td>\n",
       "      <td>False</td>\n",
       "    </tr>\n",
       "    <tr>\n",
       "      <th>sqft_lot</th>\n",
       "      <td>False</td>\n",
       "      <td>False</td>\n",
       "      <td>False</td>\n",
       "      <td>False</td>\n",
       "      <td>True</td>\n",
       "      <td>False</td>\n",
       "      <td>False</td>\n",
       "      <td>False</td>\n",
       "      <td>False</td>\n",
       "      <td>False</td>\n",
       "      <td>False</td>\n",
       "      <td>False</td>\n",
       "    </tr>\n",
       "    <tr>\n",
       "      <th>sqft_above</th>\n",
       "      <td>False</td>\n",
       "      <td>False</td>\n",
       "      <td>False</td>\n",
       "      <td>True</td>\n",
       "      <td>False</td>\n",
       "      <td>True</td>\n",
       "      <td>False</td>\n",
       "      <td>False</td>\n",
       "      <td>False</td>\n",
       "      <td>False</td>\n",
       "      <td>False</td>\n",
       "      <td>False</td>\n",
       "    </tr>\n",
       "    <tr>\n",
       "      <th>sqft_basement</th>\n",
       "      <td>False</td>\n",
       "      <td>False</td>\n",
       "      <td>False</td>\n",
       "      <td>False</td>\n",
       "      <td>False</td>\n",
       "      <td>False</td>\n",
       "      <td>True</td>\n",
       "      <td>False</td>\n",
       "      <td>False</td>\n",
       "      <td>False</td>\n",
       "      <td>False</td>\n",
       "      <td>False</td>\n",
       "    </tr>\n",
       "    <tr>\n",
       "      <th>yr_built</th>\n",
       "      <td>False</td>\n",
       "      <td>False</td>\n",
       "      <td>False</td>\n",
       "      <td>False</td>\n",
       "      <td>False</td>\n",
       "      <td>False</td>\n",
       "      <td>False</td>\n",
       "      <td>True</td>\n",
       "      <td>False</td>\n",
       "      <td>False</td>\n",
       "      <td>False</td>\n",
       "      <td>False</td>\n",
       "    </tr>\n",
       "    <tr>\n",
       "      <th>lat</th>\n",
       "      <td>False</td>\n",
       "      <td>False</td>\n",
       "      <td>False</td>\n",
       "      <td>False</td>\n",
       "      <td>False</td>\n",
       "      <td>False</td>\n",
       "      <td>False</td>\n",
       "      <td>False</td>\n",
       "      <td>True</td>\n",
       "      <td>False</td>\n",
       "      <td>False</td>\n",
       "      <td>False</td>\n",
       "    </tr>\n",
       "    <tr>\n",
       "      <th>long</th>\n",
       "      <td>False</td>\n",
       "      <td>False</td>\n",
       "      <td>False</td>\n",
       "      <td>False</td>\n",
       "      <td>False</td>\n",
       "      <td>False</td>\n",
       "      <td>False</td>\n",
       "      <td>False</td>\n",
       "      <td>False</td>\n",
       "      <td>True</td>\n",
       "      <td>False</td>\n",
       "      <td>False</td>\n",
       "    </tr>\n",
       "    <tr>\n",
       "      <th>sqft_living15</th>\n",
       "      <td>False</td>\n",
       "      <td>False</td>\n",
       "      <td>False</td>\n",
       "      <td>True</td>\n",
       "      <td>False</td>\n",
       "      <td>False</td>\n",
       "      <td>False</td>\n",
       "      <td>False</td>\n",
       "      <td>False</td>\n",
       "      <td>False</td>\n",
       "      <td>True</td>\n",
       "      <td>False</td>\n",
       "    </tr>\n",
       "    <tr>\n",
       "      <th>sqft_lot15</th>\n",
       "      <td>False</td>\n",
       "      <td>False</td>\n",
       "      <td>False</td>\n",
       "      <td>False</td>\n",
       "      <td>False</td>\n",
       "      <td>False</td>\n",
       "      <td>False</td>\n",
       "      <td>False</td>\n",
       "      <td>False</td>\n",
       "      <td>False</td>\n",
       "      <td>False</td>\n",
       "      <td>True</td>\n",
       "    </tr>\n",
       "  </tbody>\n",
       "</table>\n",
       "</div>"
      ],
      "text/plain": [
       "               price  bedrooms  bathrooms  sqft_living  sqft_lot  sqft_above  \\\n",
       "price           True     False      False        False     False       False   \n",
       "bedrooms       False      True      False        False     False       False   \n",
       "bathrooms      False     False       True         True     False       False   \n",
       "sqft_living    False     False       True         True     False        True   \n",
       "sqft_lot       False     False      False        False      True       False   \n",
       "sqft_above     False     False      False         True     False        True   \n",
       "sqft_basement  False     False      False        False     False       False   \n",
       "yr_built       False     False      False        False     False       False   \n",
       "lat            False     False      False        False     False       False   \n",
       "long           False     False      False        False     False       False   \n",
       "sqft_living15  False     False      False         True     False       False   \n",
       "sqft_lot15     False     False      False        False     False       False   \n",
       "\n",
       "               sqft_basement  yr_built    lat   long  sqft_living15  \\\n",
       "price                  False     False  False  False          False   \n",
       "bedrooms               False     False  False  False          False   \n",
       "bathrooms              False     False  False  False          False   \n",
       "sqft_living            False     False  False  False           True   \n",
       "sqft_lot               False     False  False  False          False   \n",
       "sqft_above             False     False  False  False          False   \n",
       "sqft_basement           True     False  False  False          False   \n",
       "yr_built               False      True  False  False          False   \n",
       "lat                    False     False   True  False          False   \n",
       "long                   False     False  False   True          False   \n",
       "sqft_living15          False     False  False  False           True   \n",
       "sqft_lot15             False     False  False  False          False   \n",
       "\n",
       "               sqft_lot15  \n",
       "price               False  \n",
       "bedrooms            False  \n",
       "bathrooms           False  \n",
       "sqft_living         False  \n",
       "sqft_lot            False  \n",
       "sqft_above          False  \n",
       "sqft_basement       False  \n",
       "yr_built            False  \n",
       "lat                 False  \n",
       "long                False  \n",
       "sqft_living15       False  \n",
       "sqft_lot15           True  "
      ]
     },
     "execution_count": 327,
     "metadata": {},
     "output_type": "execute_result"
    }
   ],
   "source": [
    "abs(df.corr()) >0.75 #Positive correlation between sqft living and above columns."
   ]
  },
  {
   "cell_type": "code",
   "execution_count": 328,
   "metadata": {},
   "outputs": [
    {
     "name": "stdout",
     "output_type": "stream",
     "text": [
      "<class 'pandas.core.frame.DataFrame'>\n",
      "Int64Index: 21082 entries, 0 to 21596\n",
      "Data columns (total 19 columns):\n",
      "price            21082 non-null float64\n",
      "bedrooms         21082 non-null int64\n",
      "bathrooms        21082 non-null float64\n",
      "sqft_living      21082 non-null int64\n",
      "sqft_lot         21082 non-null int64\n",
      "floors           21082 non-null category\n",
      "waterfront       21082 non-null category\n",
      "view             21082 non-null category\n",
      "condition        21082 non-null category\n",
      "grade            21082 non-null category\n",
      "sqft_above       21082 non-null int64\n",
      "sqft_basement    21082 non-null float64\n",
      "yr_built         21082 non-null int64\n",
      "yr_renovated     21082 non-null category\n",
      "zipcode          21082 non-null category\n",
      "lat              21082 non-null float64\n",
      "long             21082 non-null float64\n",
      "sqft_living15    21082 non-null int64\n",
      "sqft_lot15       21082 non-null int64\n",
      "dtypes: category(7), float64(5), int64(7)\n",
      "memory usage: 2.2 MB\n"
     ]
    }
   ],
   "source": [
    "df.info()"
   ]
  },
  {
   "cell_type": "code",
   "execution_count": 329,
   "metadata": {},
   "outputs": [],
   "source": [
    "#normalizing the numerical data.\n",
    "df.bedrooms = (df.bedrooms - df.bedrooms.mean()) / df.bedrooms.std()\n",
    "df.bathrooms = (df.bathrooms - df.bathrooms.mean()) / df.bathrooms.std()\n",
    "df.sqft_living = (df.sqft_living - df.sqft_living.mean()) / df.sqft_living.std()\n",
    "df.sqft_lot = (df.sqft_lot - df.sqft_lot.mean()) / df.sqft_lot.std()\n",
    "df.sqft_above = (df.sqft_above - df.sqft_above.mean()) / df.sqft_above.std()\n",
    "df.sqft_basement = (df.sqft_basement - df.sqft_basement.mean()) / df.sqft_basement.std()\n",
    "df.yr_built = (df.yr_built - df.yr_built.mean()) / df.yr_built.std()\n",
    "df.lat = (df.lat - df.lat.mean()) / df.lat.std()\n",
    "df.long = (df.long - df.long.mean()) / df.long.std()\n",
    "df.sqft_living15 = (df.sqft_living15 - df.sqft_living15.mean()) / df.sqft_living15.std()\n",
    "df.sqft_lot15 = (df.sqft_lot15 - df.sqft_lot15.mean()) / df.sqft_lot15.std()"
   ]
  },
  {
   "cell_type": "code",
   "execution_count": 332,
   "metadata": {},
   "outputs": [
    {
     "data": {
      "text/plain": [
       "<matplotlib.axes._subplots.AxesSubplot at 0x299d447cf60>"
      ]
     },
     "execution_count": 332,
     "metadata": {},
     "output_type": "execute_result"
    },
    {
     "data": {
      "image/png": "[encoded data removed]",
      "text/plain": [
       "<Figure size 432x288 with 1 Axes>"
      ]
     },
     "metadata": {
      "needs_background": "light"
     },
     "output_type": "display_data"
    }
   ],
   "source": [
    "bins_zipcode = [98000, 98025, 98050, 98075, 98100, 98125, 98150, 98175, 98200]\n",
    "bins_zipcode = pd.cut(df['zipcode'], bins_zipcode)\n",
    "bins_zipcode = bins_zipcode.cat.as_unordered()\n",
    "bins_zipcode.value_counts().plot(kind='bar')"
   ]
  },
  {
   "cell_type": "code",
   "execution_count": 333,
   "metadata": {},
   "outputs": [],
   "source": [
    "df[\"zipcode\"]=bins_zipcode"
   ]
  },
  {
   "cell_type": "code",
   "execution_count": 334,
   "metadata": {},
   "outputs": [
    {
     "name": "stdout",
     "output_type": "stream",
     "text": [
      "<class 'pandas.core.frame.DataFrame'>\n",
      "Int64Index: 21082 entries, 0 to 21596\n",
      "Data columns (total 19 columns):\n",
      "price            21082 non-null float64\n",
      "bedrooms         21082 non-null float64\n",
      "bathrooms        21082 non-null float64\n",
      "sqft_living      21082 non-null float64\n",
      "sqft_lot         21082 non-null float64\n",
      "floors           21082 non-null category\n",
      "waterfront       21082 non-null category\n",
      "view             21082 non-null category\n",
      "condition        21082 non-null category\n",
      "grade            21082 non-null category\n",
      "sqft_above       21082 non-null float64\n",
      "sqft_basement    21082 non-null float64\n",
      "yr_built         21082 non-null float64\n",
      "yr_renovated     21082 non-null category\n",
      "zipcode          21082 non-null category\n",
      "lat              21082 non-null float64\n",
      "long             21082 non-null float64\n",
      "sqft_living15    21082 non-null float64\n",
      "sqft_lot15       21082 non-null float64\n",
      "dtypes: category(7), float64(12)\n",
      "memory usage: 2.2 MB\n"
     ]
    }
   ],
   "source": [
    "df.info()"
   ]
  },
  {
   "cell_type": "code",
   "execution_count": 335,
   "metadata": {},
   "outputs": [
    {
     "data": {
      "text/html": [
       "<div>\n",
       "<style scoped>\n",
       "    .dataframe tbody tr th:only-of-type {\n",
       "        vertical-align: middle;\n",
       "    }\n",
       "\n",
       "    .dataframe tbody tr th {\n",
       "        vertical-align: top;\n",
       "    }\n",
       "\n",
       "    .dataframe thead th {\n",
       "        text-align: right;\n",
       "    }\n",
       "</style>\n",
       "<table border=\"1\" class=\"dataframe\">\n",
       "  <thead>\n",
       "    <tr style=\"text-align: right;\">\n",
       "      <th></th>\n",
       "      <th>price</th>\n",
       "      <th>bedrooms</th>\n",
       "      <th>bathrooms</th>\n",
       "      <th>sqft_living</th>\n",
       "      <th>sqft_lot</th>\n",
       "      <th>floors</th>\n",
       "      <th>waterfront</th>\n",
       "      <th>view</th>\n",
       "      <th>condition</th>\n",
       "      <th>grade</th>\n",
       "      <th>sqft_above</th>\n",
       "      <th>sqft_basement</th>\n",
       "      <th>yr_built</th>\n",
       "      <th>yr_renovated</th>\n",
       "      <th>zipcode</th>\n",
       "      <th>lat</th>\n",
       "      <th>long</th>\n",
       "      <th>sqft_living15</th>\n",
       "      <th>sqft_lot15</th>\n",
       "    </tr>\n",
       "  </thead>\n",
       "  <tbody>\n",
       "    <tr>\n",
       "      <th>0</th>\n",
       "      <td>221900.0</td>\n",
       "      <td>-0.402600</td>\n",
       "      <td>-1.452748</td>\n",
       "      <td>-0.980938</td>\n",
       "      <td>-0.228973</td>\n",
       "      <td>1</td>\n",
       "      <td>(1.1, 2.1]</td>\n",
       "      <td>0</td>\n",
       "      <td>3</td>\n",
       "      <td>7</td>\n",
       "      <td>-0.735179</td>\n",
       "      <td>-0.659174</td>\n",
       "      <td>-0.546440</td>\n",
       "      <td>(-1.0, 0.1]</td>\n",
       "      <td>(98175, 98200]</td>\n",
       "      <td>-0.354849</td>\n",
       "      <td>-0.306933</td>\n",
       "      <td>-0.943655</td>\n",
       "      <td>-0.260878</td>\n",
       "    </tr>\n",
       "    <tr>\n",
       "      <th>1</th>\n",
       "      <td>538000.0</td>\n",
       "      <td>-0.402600</td>\n",
       "      <td>0.174556</td>\n",
       "      <td>0.533460</td>\n",
       "      <td>-0.190307</td>\n",
       "      <td>2</td>\n",
       "      <td>(-1.0, 0.9]</td>\n",
       "      <td>0</td>\n",
       "      <td>3</td>\n",
       "      <td>7</td>\n",
       "      <td>0.459940</td>\n",
       "      <td>0.245788</td>\n",
       "      <td>-0.682852</td>\n",
       "      <td>(1.1, 2016.0]</td>\n",
       "      <td>(98100, 98125]</td>\n",
       "      <td>1.159208</td>\n",
       "      <td>-0.747879</td>\n",
       "      <td>-0.433112</td>\n",
       "      <td>-0.187615</td>\n",
       "    </tr>\n",
       "    <tr>\n",
       "      <th>2</th>\n",
       "      <td>180000.0</td>\n",
       "      <td>-1.483686</td>\n",
       "      <td>-1.452748</td>\n",
       "      <td>-1.427631</td>\n",
       "      <td>-0.123322</td>\n",
       "      <td>1</td>\n",
       "      <td>(-1.0, 0.9]</td>\n",
       "      <td>0</td>\n",
       "      <td>3</td>\n",
       "      <td>6</td>\n",
       "      <td>-1.230128</td>\n",
       "      <td>-0.659174</td>\n",
       "      <td>-1.296702</td>\n",
       "      <td>(0.1, 1.1]</td>\n",
       "      <td>(98025, 98050]</td>\n",
       "      <td>1.281170</td>\n",
       "      <td>-0.136245</td>\n",
       "      <td>1.069344</td>\n",
       "      <td>-0.172034</td>\n",
       "    </tr>\n",
       "    <tr>\n",
       "      <th>3</th>\n",
       "      <td>604000.0</td>\n",
       "      <td>0.678486</td>\n",
       "      <td>1.150938</td>\n",
       "      <td>-0.131132</td>\n",
       "      <td>-0.244760</td>\n",
       "      <td>1</td>\n",
       "      <td>(-1.0, 0.9]</td>\n",
       "      <td>0</td>\n",
       "      <td>5</td>\n",
       "      <td>7</td>\n",
       "      <td>-0.892114</td>\n",
       "      <td>1.399613</td>\n",
       "      <td>-0.205413</td>\n",
       "      <td>(-1.0, 0.1]</td>\n",
       "      <td>(98125, 98150]</td>\n",
       "      <td>-0.285569</td>\n",
       "      <td>-1.274170</td>\n",
       "      <td>-0.914481</td>\n",
       "      <td>-0.284820</td>\n",
       "    </tr>\n",
       "    <tr>\n",
       "      <th>4</th>\n",
       "      <td>510000.0</td>\n",
       "      <td>-0.402600</td>\n",
       "      <td>-0.150905</td>\n",
       "      <td>-0.436190</td>\n",
       "      <td>-0.169954</td>\n",
       "      <td>1</td>\n",
       "      <td>(-1.0, 0.9]</td>\n",
       "      <td>0</td>\n",
       "      <td>3</td>\n",
       "      <td>8</td>\n",
       "      <td>-0.131584</td>\n",
       "      <td>-0.659174</td>\n",
       "      <td>0.544849</td>\n",
       "      <td>(-1.0, 0.1]</td>\n",
       "      <td>(98050, 98075]</td>\n",
       "      <td>0.407231</td>\n",
       "      <td>1.200818</td>\n",
       "      <td>-0.272656</td>\n",
       "      <td>-0.192624</td>\n",
       "    </tr>\n",
       "  </tbody>\n",
       "</table>\n",
       "</div>"
      ],
      "text/plain": [
       "      price  bedrooms  bathrooms  sqft_living  sqft_lot floors   waterfront  \\\n",
       "0  221900.0 -0.402600  -1.452748    -0.980938 -0.228973      1   (1.1, 2.1]   \n",
       "1  538000.0 -0.402600   0.174556     0.533460 -0.190307      2  (-1.0, 0.9]   \n",
       "2  180000.0 -1.483686  -1.452748    -1.427631 -0.123322      1  (-1.0, 0.9]   \n",
       "3  604000.0  0.678486   1.150938    -0.131132 -0.244760      1  (-1.0, 0.9]   \n",
       "4  510000.0 -0.402600  -0.150905    -0.436190 -0.169954      1  (-1.0, 0.9]   \n",
       "\n",
       "  view condition grade  sqft_above  sqft_basement  yr_built   yr_renovated  \\\n",
       "0    0         3     7   -0.735179      -0.659174 -0.546440    (-1.0, 0.1]   \n",
       "1    0         3     7    0.459940       0.245788 -0.682852  (1.1, 2016.0]   \n",
       "2    0         3     6   -1.230128      -0.659174 -1.296702     (0.1, 1.1]   \n",
       "3    0         5     7   -0.892114       1.399613 -0.205413    (-1.0, 0.1]   \n",
       "4    0         3     8   -0.131584      -0.659174  0.544849    (-1.0, 0.1]   \n",
       "\n",
       "          zipcode       lat      long  sqft_living15  sqft_lot15  \n",
       "0  (98175, 98200] -0.354849 -0.306933      -0.943655   -0.260878  \n",
       "1  (98100, 98125]  1.159208 -0.747879      -0.433112   -0.187615  \n",
       "2  (98025, 98050]  1.281170 -0.136245       1.069344   -0.172034  \n",
       "3  (98125, 98150] -0.285569 -1.274170      -0.914481   -0.284820  \n",
       "4  (98050, 98075]  0.407231  1.200818      -0.272656   -0.192624  "
      ]
     },
     "execution_count": 335,
     "metadata": {},
     "output_type": "execute_result"
    }
   ],
   "source": [
    "df.head()"
   ]
  },
  {
   "cell_type": "code",
   "execution_count": 336,
   "metadata": {},
   "outputs": [],
   "source": [
    "df = pd.get_dummies(df)"
   ]
  },
  {
   "cell_type": "code",
   "execution_count": 337,
   "metadata": {},
   "outputs": [
    {
     "name": "stdout",
     "output_type": "stream",
     "text": [
      "<class 'pandas.core.frame.DataFrame'>\n",
      "Int64Index: 21082 entries, 0 to 21596\n",
      "Data columns (total 50 columns):\n",
      "price                         21082 non-null float64\n",
      "bedrooms                      21082 non-null float64\n",
      "bathrooms                     21082 non-null float64\n",
      "sqft_living                   21082 non-null float64\n",
      "sqft_lot                      21082 non-null float64\n",
      "sqft_above                    21082 non-null float64\n",
      "sqft_basement                 21082 non-null float64\n",
      "yr_built                      21082 non-null float64\n",
      "lat                           21082 non-null float64\n",
      "long                          21082 non-null float64\n",
      "sqft_living15                 21082 non-null float64\n",
      "sqft_lot15                    21082 non-null float64\n",
      "floors_1                      21082 non-null uint8\n",
      "floors_2                      21082 non-null uint8\n",
      "floors_3                      21082 non-null uint8\n",
      "waterfront_(-1.0, 0.9]        21082 non-null uint8\n",
      "waterfront_(0.9, 1.1]         21082 non-null uint8\n",
      "waterfront_(1.1, 2.1]         21082 non-null uint8\n",
      "view_0                        21082 non-null uint8\n",
      "view_1                        21082 non-null uint8\n",
      "view_2                        21082 non-null uint8\n",
      "view_3                        21082 non-null uint8\n",
      "view_4                        21082 non-null uint8\n",
      "condition_1                   21082 non-null uint8\n",
      "condition_2                   21082 non-null uint8\n",
      "condition_3                   21082 non-null uint8\n",
      "condition_4                   21082 non-null uint8\n",
      "condition_5                   21082 non-null uint8\n",
      "grade_3                       21082 non-null uint8\n",
      "grade_4                       21082 non-null uint8\n",
      "grade_5                       21082 non-null uint8\n",
      "grade_6                       21082 non-null uint8\n",
      "grade_7                       21082 non-null uint8\n",
      "grade_8                       21082 non-null uint8\n",
      "grade_9                       21082 non-null uint8\n",
      "grade_10                      21082 non-null uint8\n",
      "grade_11                      21082 non-null uint8\n",
      "grade_12                      21082 non-null uint8\n",
      "grade_13                      21082 non-null uint8\n",
      "yr_renovated_(-1.0, 0.1]      21082 non-null uint8\n",
      "yr_renovated_(0.1, 1.1]       21082 non-null uint8\n",
      "yr_renovated_(1.1, 2016.0]    21082 non-null uint8\n",
      "zipcode_(98000, 98025]        21082 non-null uint8\n",
      "zipcode_(98025, 98050]        21082 non-null uint8\n",
      "zipcode_(98050, 98075]        21082 non-null uint8\n",
      "zipcode_(98075, 98100]        21082 non-null uint8\n",
      "zipcode_(98100, 98125]        21082 non-null uint8\n",
      "zipcode_(98125, 98150]        21082 non-null uint8\n",
      "zipcode_(98150, 98175]        21082 non-null uint8\n",
      "zipcode_(98175, 98200]        21082 non-null uint8\n",
      "dtypes: float64(12), uint8(38)\n",
      "memory usage: 2.9 MB\n"
     ]
    }
   ],
   "source": [
    "df.info()"
   ]
  },
  {
   "cell_type": "code",
   "execution_count": 338,
   "metadata": {},
   "outputs": [],
   "source": [
    "df.rename(columns={'waterfront_(-1.0, 0.9]': 'waterfront_no', 'waterfront_(0.9, 1.1]':'waterfront_yes', 'waterfront_(1.1, 2.1]':'waterfront_na', 'yr_renovated_(-1.0, 0.1]':'renovated_no', 'yr_renovated_(0.1, 1.1]':'renovated_na', 'yr_renovated_(1.1, 2016.0]':'renovated_yes'}, inplace=True)"
   ]
  },
  {
   "cell_type": "code",
   "execution_count": 339,
   "metadata": {},
   "outputs": [
    {
     "data": {
      "text/plain": [
       "Index(['price', 'bedrooms', 'bathrooms', 'sqft_living', 'sqft_lot',\n",
       "       'sqft_above', 'sqft_basement', 'yr_built', 'lat', 'long',\n",
       "       'sqft_living15', 'sqft_lot15', 'floors_1', 'floors_2', 'floors_3',\n",
       "       'waterfront_no', 'waterfront_yes', 'waterfront_na', 'view_0', 'view_1',\n",
       "       'view_2', 'view_3', 'view_4', 'condition_1', 'condition_2',\n",
       "       'condition_3', 'condition_4', 'condition_5', 'grade_3', 'grade_4',\n",
       "       'grade_5', 'grade_6', 'grade_7', 'grade_8', 'grade_9', 'grade_10',\n",
       "       'grade_11', 'grade_12', 'grade_13', 'renovated_no', 'renovated_na',\n",
       "       'renovated_yes', 'zipcode_(98000, 98025]', 'zipcode_(98025, 98050]',\n",
       "       'zipcode_(98050, 98075]', 'zipcode_(98075, 98100]',\n",
       "       'zipcode_(98100, 98125]', 'zipcode_(98125, 98150]',\n",
       "       'zipcode_(98150, 98175]', 'zipcode_(98175, 98200]'],\n",
       "      dtype='object')"
      ]
     },
     "execution_count": 339,
     "metadata": {},
     "output_type": "execute_result"
    }
   ],
   "source": [
    "df.columns"
   ]
  },
  {
   "cell_type": "code",
   "execution_count": 347,
   "metadata": {},
   "outputs": [],
   "source": [
    "df.rename(columns={'zipcode_(98000, 98025]':'zipcode_98000_98025', 'zipcode_(98025, 98050]':'zipcode_98025_98050',\n",
    "       'zipcode_(98050, 98075]': 'zipcode_98050_98075', 'zipcode_(98075, 98100]':'zipcode_98075_98100'}, inplace=True)"
   ]
  },
  {
   "cell_type": "code",
   "execution_count": 350,
   "metadata": {},
   "outputs": [],
   "source": [
    "df.rename(columns={\n",
    "       'zipcode_(98100, 98125]':'zipcode_98100_98125','zipcode_(98125, 98150]':'zipcode_98125_98150','zipcode_(98150, 98175]':'zipcode_98150_98175', 'zipcode_(98175, 98200]' : 'zipcode_98175_98200'}, inplace=True)"
   ]
  },
  {
   "cell_type": "code",
   "execution_count": 351,
   "metadata": {},
   "outputs": [
    {
     "name": "stdout",
     "output_type": "stream",
     "text": [
      "<class 'pandas.core.frame.DataFrame'>\n",
      "Int64Index: 21082 entries, 0 to 21596\n",
      "Data columns (total 50 columns):\n",
      "price                  21082 non-null float64\n",
      "bedrooms               21082 non-null float64\n",
      "bathrooms              21082 non-null float64\n",
      "sqft_living            21082 non-null float64\n",
      "sqft_lot               21082 non-null float64\n",
      "sqft_above             21082 non-null float64\n",
      "sqft_basement          21082 non-null float64\n",
      "yr_built               21082 non-null float64\n",
      "lat                    21082 non-null float64\n",
      "long                   21082 non-null float64\n",
      "sqft_living15          21082 non-null float64\n",
      "sqft_lot15             21082 non-null float64\n",
      "floors_1               21082 non-null uint8\n",
      "floors_2               21082 non-null uint8\n",
      "floors_3               21082 non-null uint8\n",
      "waterfront_no          21082 non-null uint8\n",
      "waterfront_yes         21082 non-null uint8\n",
      "waterfront_na          21082 non-null uint8\n",
      "view_0                 21082 non-null uint8\n",
      "view_1                 21082 non-null uint8\n",
      "view_2                 21082 non-null uint8\n",
      "view_3                 21082 non-null uint8\n",
      "view_4                 21082 non-null uint8\n",
      "condition_1            21082 non-null uint8\n",
      "condition_2            21082 non-null uint8\n",
      "condition_3            21082 non-null uint8\n",
      "condition_4            21082 non-null uint8\n",
      "condition_5            21082 non-null uint8\n",
      "grade_3                21082 non-null uint8\n",
      "grade_4                21082 non-null uint8\n",
      "grade_5                21082 non-null uint8\n",
      "grade_6                21082 non-null uint8\n",
      "grade_7                21082 non-null uint8\n",
      "grade_8                21082 non-null uint8\n",
      "grade_9                21082 non-null uint8\n",
      "grade_10               21082 non-null uint8\n",
      "grade_11               21082 non-null uint8\n",
      "grade_12               21082 non-null uint8\n",
      "grade_13               21082 non-null uint8\n",
      "renovated_no           21082 non-null uint8\n",
      "renovated_na           21082 non-null uint8\n",
      "renovated_yes          21082 non-null uint8\n",
      "zipcode_98000_98025    21082 non-null uint8\n",
      "zipcode_98025_98050    21082 non-null uint8\n",
      "zipcode_98050_98075    21082 non-null uint8\n",
      "zipcode_98075_98100    21082 non-null uint8\n",
      "zipcode_98100_98125    21082 non-null uint8\n",
      "zipcode_98125_98150    21082 non-null uint8\n",
      "zipcode_98150_98175    21082 non-null uint8\n",
      "zipcode_98175_98200    21082 non-null uint8\n",
      "dtypes: float64(12), uint8(38)\n",
      "memory usage: 2.9 MB\n"
     ]
    }
   ],
   "source": [
    "df.info()"
   ]
  },
  {
   "cell_type": "code",
   "execution_count": 352,
   "metadata": {},
   "outputs": [],
   "source": [
    "df = df.drop(['waterfront_na', 'renovated_na'], axis=1)"
   ]
  },
  {
   "cell_type": "code",
   "execution_count": 353,
   "metadata": {
    "scrolled": true
   },
   "outputs": [
    {
     "name": "stdout",
     "output_type": "stream",
     "text": [
      "<class 'pandas.core.frame.DataFrame'>\n",
      "Int64Index: 21082 entries, 0 to 21596\n",
      "Data columns (total 48 columns):\n",
      "price                  21082 non-null float64\n",
      "bedrooms               21082 non-null float64\n",
      "bathrooms              21082 non-null float64\n",
      "sqft_living            21082 non-null float64\n",
      "sqft_lot               21082 non-null float64\n",
      "sqft_above             21082 non-null float64\n",
      "sqft_basement          21082 non-null float64\n",
      "yr_built               21082 non-null float64\n",
      "lat                    21082 non-null float64\n",
      "long                   21082 non-null float64\n",
      "sqft_living15          21082 non-null float64\n",
      "sqft_lot15             21082 non-null float64\n",
      "floors_1               21082 non-null uint8\n",
      "floors_2               21082 non-null uint8\n",
      "floors_3               21082 non-null uint8\n",
      "waterfront_no          21082 non-null uint8\n",
      "waterfront_yes         21082 non-null uint8\n",
      "view_0                 21082 non-null uint8\n",
      "view_1                 21082 non-null uint8\n",
      "view_2                 21082 non-null uint8\n",
      "view_3                 21082 non-null uint8\n",
      "view_4                 21082 non-null uint8\n",
      "condition_1            21082 non-null uint8\n",
      "condition_2            21082 non-null uint8\n",
      "condition_3            21082 non-null uint8\n",
      "condition_4            21082 non-null uint8\n",
      "condition_5            21082 non-null uint8\n",
      "grade_3                21082 non-null uint8\n",
      "grade_4                21082 non-null uint8\n",
      "grade_5                21082 non-null uint8\n",
      "grade_6                21082 non-null uint8\n",
      "grade_7                21082 non-null uint8\n",
      "grade_8                21082 non-null uint8\n",
      "grade_9                21082 non-null uint8\n",
      "grade_10               21082 non-null uint8\n",
      "grade_11               21082 non-null uint8\n",
      "grade_12               21082 non-null uint8\n",
      "grade_13               21082 non-null uint8\n",
      "renovated_no           21082 non-null uint8\n",
      "renovated_yes          21082 non-null uint8\n",
      "zipcode_98000_98025    21082 non-null uint8\n",
      "zipcode_98025_98050    21082 non-null uint8\n",
      "zipcode_98050_98075    21082 non-null uint8\n",
      "zipcode_98075_98100    21082 non-null uint8\n",
      "zipcode_98100_98125    21082 non-null uint8\n",
      "zipcode_98125_98150    21082 non-null uint8\n",
      "zipcode_98150_98175    21082 non-null uint8\n",
      "zipcode_98175_98200    21082 non-null uint8\n",
      "dtypes: float64(12), uint8(36)\n",
      "memory usage: 2.8 MB\n"
     ]
    }
   ],
   "source": [
    "df.info()"
   ]
  },
  {
   "cell_type": "markdown",
   "metadata": {},
   "source": [
    "Data scrubbed, normalized, and one hot encoded."
   ]
  },
  {
   "cell_type": "code",
   "execution_count": 354,
   "metadata": {},
   "outputs": [],
   "source": [
    "df.to_csv('student_scrub.csv')"
   ]
  },
  {
   "cell_type": "markdown",
   "metadata": {},
   "source": [
    "## Exploring"
   ]
  },
  {
   "cell_type": "code",
   "execution_count": 355,
   "metadata": {},
   "outputs": [],
   "source": [
    "for cat_names in df.iloc[:,12:].columns:\n",
    "         df[cat_names] = df[cat_names].astype('category')"
   ]
  },
  {
   "cell_type": "code",
   "execution_count": 356,
   "metadata": {},
   "outputs": [
    {
     "data": {
      "text/html": [
       "<div>\n",
       "<style scoped>\n",
       "    .dataframe tbody tr th:only-of-type {\n",
       "        vertical-align: middle;\n",
       "    }\n",
       "\n",
       "    .dataframe tbody tr th {\n",
       "        vertical-align: top;\n",
       "    }\n",
       "\n",
       "    .dataframe thead th {\n",
       "        text-align: right;\n",
       "    }\n",
       "</style>\n",
       "<table border=\"1\" class=\"dataframe\">\n",
       "  <thead>\n",
       "    <tr style=\"text-align: right;\">\n",
       "      <th></th>\n",
       "      <th>price</th>\n",
       "      <th>bedrooms</th>\n",
       "      <th>bathrooms</th>\n",
       "      <th>sqft_living</th>\n",
       "      <th>sqft_lot</th>\n",
       "      <th>sqft_above</th>\n",
       "      <th>sqft_basement</th>\n",
       "      <th>yr_built</th>\n",
       "      <th>lat</th>\n",
       "      <th>long</th>\n",
       "      <th>sqft_living15</th>\n",
       "      <th>sqft_lot15</th>\n",
       "    </tr>\n",
       "  </thead>\n",
       "  <tbody>\n",
       "    <tr>\n",
       "      <th>count</th>\n",
       "      <td>2.108200e+04</td>\n",
       "      <td>2.108200e+04</td>\n",
       "      <td>2.108200e+04</td>\n",
       "      <td>2.108200e+04</td>\n",
       "      <td>2.108200e+04</td>\n",
       "      <td>21082.000000</td>\n",
       "      <td>2.108200e+04</td>\n",
       "      <td>2.108200e+04</td>\n",
       "      <td>2.108200e+04</td>\n",
       "      <td>2.108200e+04</td>\n",
       "      <td>2.108200e+04</td>\n",
       "      <td>2.108200e+04</td>\n",
       "    </tr>\n",
       "    <tr>\n",
       "      <th>mean</th>\n",
       "      <td>5.402469e+05</td>\n",
       "      <td>-7.414828e-17</td>\n",
       "      <td>-3.019857e-16</td>\n",
       "      <td>1.941337e-16</td>\n",
       "      <td>2.696301e-18</td>\n",
       "      <td>0.000000</td>\n",
       "      <td>3.505191e-17</td>\n",
       "      <td>-1.013809e-15</td>\n",
       "      <td>-2.467503e-14</td>\n",
       "      <td>9.732838e-14</td>\n",
       "      <td>-5.931862e-17</td>\n",
       "      <td>5.392602e-18</td>\n",
       "    </tr>\n",
       "    <tr>\n",
       "      <th>std</th>\n",
       "      <td>3.667323e+05</td>\n",
       "      <td>1.000000e+00</td>\n",
       "      <td>1.000000e+00</td>\n",
       "      <td>1.000000e+00</td>\n",
       "      <td>1.000000e+00</td>\n",
       "      <td>1.000000</td>\n",
       "      <td>1.000000e+00</td>\n",
       "      <td>1.000000e+00</td>\n",
       "      <td>1.000000e+00</td>\n",
       "      <td>1.000000e+00</td>\n",
       "      <td>1.000000e+00</td>\n",
       "      <td>1.000000e+00</td>\n",
       "    </tr>\n",
       "    <tr>\n",
       "      <th>min</th>\n",
       "      <td>7.800000e+04</td>\n",
       "      <td>-2.564772e+00</td>\n",
       "      <td>-2.103670e+00</td>\n",
       "      <td>-1.863429e+00</td>\n",
       "      <td>-3.535680e-01</td>\n",
       "      <td>-1.713004</td>\n",
       "      <td>-6.591737e-01</td>\n",
       "      <td>-2.422093e+00</td>\n",
       "      <td>-2.918930e+00</td>\n",
       "      <td>-2.170286e+00</td>\n",
       "      <td>-2.316287e+00</td>\n",
       "      <td>-4.450113e-01</td>\n",
       "    </tr>\n",
       "    <tr>\n",
       "      <th>25%</th>\n",
       "      <td>3.220000e+05</td>\n",
       "      <td>-4.025997e-01</td>\n",
       "      <td>-4.763658e-01</td>\n",
       "      <td>-7.085640e-01</td>\n",
       "      <td>-2.437883e-01</td>\n",
       "      <td>-0.711035</td>\n",
       "      <td>-6.591737e-01</td>\n",
       "      <td>-6.487487e-01</td>\n",
       "      <td>-6.426134e-01</td>\n",
       "      <td>-8.118877e-01</td>\n",
       "      <td>-7.248510e-01</td>\n",
       "      <td>-2.811365e-01</td>\n",
       "    </tr>\n",
       "    <tr>\n",
       "      <th>50%</th>\n",
       "      <td>4.500000e+05</td>\n",
       "      <td>-4.025997e-01</td>\n",
       "      <td>1.745558e-01</td>\n",
       "      <td>-1.856063e-01</td>\n",
       "      <td>-1.811264e-01</td>\n",
       "      <td>-0.276447</td>\n",
       "      <td>-6.591737e-01</td>\n",
       "      <td>1.356153e-01</td>\n",
       "      <td>8.536787e-02</td>\n",
       "      <td>-1.149085e-01</td>\n",
       "      <td>-2.143077e-01</td>\n",
       "      <td>-1.880937e-01</td>\n",
       "    </tr>\n",
       "    <tr>\n",
       "      <th>75%</th>\n",
       "      <td>6.450000e+05</td>\n",
       "      <td>6.784864e-01</td>\n",
       "      <td>5.000166e-01</td>\n",
       "      <td>5.116705e-01</td>\n",
       "      <td>-1.063755e-01</td>\n",
       "      <td>0.508227</td>\n",
       "      <td>6.077721e-01</td>\n",
       "      <td>8.858765e-01</td>\n",
       "      <td>8.503345e-01</td>\n",
       "      <td>6.318550e-01</td>\n",
       "      <td>5.442137e-01</td>\n",
       "      <td>-9.738058e-02</td>\n",
       "    </tr>\n",
       "    <tr>\n",
       "      <th>max</th>\n",
       "      <td>7.700000e+06</td>\n",
       "      <td>3.202998e+01</td>\n",
       "      <td>7.660154e+00</td>\n",
       "      <td>1.248522e+01</td>\n",
       "      <td>3.974125e+01</td>\n",
       "      <td>9.200002</td>\n",
       "      <td>1.024561e+01</td>\n",
       "      <td>1.499727e+00</td>\n",
       "      <td>1.567671e+00</td>\n",
       "      <td>6.392602e+00</td>\n",
       "      <td>6.160190e+00</td>\n",
       "      <td>3.162085e+01</td>\n",
       "    </tr>\n",
       "  </tbody>\n",
       "</table>\n",
       "</div>"
      ],
      "text/plain": [
       "              price      bedrooms     bathrooms   sqft_living      sqft_lot  \\\n",
       "count  2.108200e+04  2.108200e+04  2.108200e+04  2.108200e+04  2.108200e+04   \n",
       "mean   5.402469e+05 -7.414828e-17 -3.019857e-16  1.941337e-16  2.696301e-18   \n",
       "std    3.667323e+05  1.000000e+00  1.000000e+00  1.000000e+00  1.000000e+00   \n",
       "min    7.800000e+04 -2.564772e+00 -2.103670e+00 -1.863429e+00 -3.535680e-01   \n",
       "25%    3.220000e+05 -4.025997e-01 -4.763658e-01 -7.085640e-01 -2.437883e-01   \n",
       "50%    4.500000e+05 -4.025997e-01  1.745558e-01 -1.856063e-01 -1.811264e-01   \n",
       "75%    6.450000e+05  6.784864e-01  5.000166e-01  5.116705e-01 -1.063755e-01   \n",
       "max    7.700000e+06  3.202998e+01  7.660154e+00  1.248522e+01  3.974125e+01   \n",
       "\n",
       "         sqft_above  sqft_basement      yr_built           lat          long  \\\n",
       "count  21082.000000   2.108200e+04  2.108200e+04  2.108200e+04  2.108200e+04   \n",
       "mean       0.000000   3.505191e-17 -1.013809e-15 -2.467503e-14  9.732838e-14   \n",
       "std        1.000000   1.000000e+00  1.000000e+00  1.000000e+00  1.000000e+00   \n",
       "min       -1.713004  -6.591737e-01 -2.422093e+00 -2.918930e+00 -2.170286e+00   \n",
       "25%       -0.711035  -6.591737e-01 -6.487487e-01 -6.426134e-01 -8.118877e-01   \n",
       "50%       -0.276447  -6.591737e-01  1.356153e-01  8.536787e-02 -1.149085e-01   \n",
       "75%        0.508227   6.077721e-01  8.858765e-01  8.503345e-01  6.318550e-01   \n",
       "max        9.200002   1.024561e+01  1.499727e+00  1.567671e+00  6.392602e+00   \n",
       "\n",
       "       sqft_living15    sqft_lot15  \n",
       "count   2.108200e+04  2.108200e+04  \n",
       "mean   -5.931862e-17  5.392602e-18  \n",
       "std     1.000000e+00  1.000000e+00  \n",
       "min    -2.316287e+00 -4.450113e-01  \n",
       "25%    -7.248510e-01 -2.811365e-01  \n",
       "50%    -2.143077e-01 -1.880937e-01  \n",
       "75%     5.442137e-01 -9.738058e-02  \n",
       "max     6.160190e+00  3.162085e+01  "
      ]
     },
     "execution_count": 356,
     "metadata": {},
     "output_type": "execute_result"
    }
   ],
   "source": [
    "df.describe()"
   ]
  },
  {
   "cell_type": "code",
   "execution_count": 357,
   "metadata": {},
   "outputs": [
    {
     "data": {
      "text/plain": [
       "array([[<matplotlib.axes._subplots.AxesSubplot object at 0x00000299D460EA58>,\n",
       "        <matplotlib.axes._subplots.AxesSubplot object at 0x00000299D4618A90>,\n",
       "        <matplotlib.axes._subplots.AxesSubplot object at 0x00000299D46A2CF8>],\n",
       "       [<matplotlib.axes._subplots.AxesSubplot object at 0x00000299D478CF60>,\n",
       "        <matplotlib.axes._subplots.AxesSubplot object at 0x00000299D47BB208>,\n",
       "        <matplotlib.axes._subplots.AxesSubplot object at 0x00000299D47E4470>],\n",
       "       [<matplotlib.axes._subplots.AxesSubplot object at 0x00000299D480D4E0>,\n",
       "        <matplotlib.axes._subplots.AxesSubplot object at 0x00000299D4835780>,\n",
       "        <matplotlib.axes._subplots.AxesSubplot object at 0x00000299D48357B8>],\n",
       "       [<matplotlib.axes._subplots.AxesSubplot object at 0x00000299D4887C18>,\n",
       "        <matplotlib.axes._subplots.AxesSubplot object at 0x00000299D48B2E80>,\n",
       "        <matplotlib.axes._subplots.AxesSubplot object at 0x00000299D48E3128>]],\n",
       "      dtype=object)"
      ]
     },
     "execution_count": 357,
     "metadata": {},
     "output_type": "execute_result"
    },
    {
     "data": {
      "image/png": "[encoded data removed]",
      "text/plain": [
       "<Figure size 1296x1296 with 12 Axes>"
      ]
     },
     "metadata": {
      "needs_background": "light"
     },
     "output_type": "display_data"
    }
   ],
   "source": [
    "df.hist(figsize=(18,18))"
   ]
  },
  {
   "cell_type": "markdown",
   "metadata": {},
   "source": [
    "Bedrooms, price, sqft_lot, and sqft_lot15 look to have outliers.  Most histograms are skewed.    "
   ]
  },
  {
   "cell_type": "code",
   "execution_count": 358,
   "metadata": {},
   "outputs": [
    {
     "name": "stderr",
     "output_type": "stream",
     "text": [
      "C:\\Users\\josep\\Anaconda3\\envs\\learn-env\\lib\\site-packages\\matplotlib\\axes\\_axes.py:6521: MatplotlibDeprecationWarning: \n",
      "The 'normed' kwarg was deprecated in Matplotlib 2.1 and will be removed in 3.1. Use 'density' instead.\n",
      "  alternative=\"'density'\", removal=\"3.1\")\n"
     ]
    },
    {
     "data": {
      "image/png": "[encoded data removed]",
      "text/plain": [
       "<Figure size 432x288 with 1 Axes>"
      ]
     },
     "metadata": {
      "needs_background": "light"
     },
     "output_type": "display_data"
    },
    {
     "name": "stderr",
     "output_type": "stream",
     "text": [
      "C:\\Users\\josep\\Anaconda3\\envs\\learn-env\\lib\\site-packages\\matplotlib\\axes\\_axes.py:6521: MatplotlibDeprecationWarning: \n",
      "The 'normed' kwarg was deprecated in Matplotlib 2.1 and will be removed in 3.1. Use 'density' instead.\n",
      "  alternative=\"'density'\", removal=\"3.1\")\n"
     ]
    },
    {
     "data": {
      "image/png": "[encoded data removed]",
      "text/plain": [
       "<Figure size 432x288 with 1 Axes>"
      ]
     },
     "metadata": {
      "needs_background": "light"
     },
     "output_type": "display_data"
    },
    {
     "name": "stderr",
     "output_type": "stream",
     "text": [
      "C:\\Users\\josep\\Anaconda3\\envs\\learn-env\\lib\\site-packages\\matplotlib\\axes\\_axes.py:6521: MatplotlibDeprecationWarning: \n",
      "The 'normed' kwarg was deprecated in Matplotlib 2.1 and will be removed in 3.1. Use 'density' instead.\n",
      "  alternative=\"'density'\", removal=\"3.1\")\n"
     ]
    },
    {
     "data": {
      "image/png": "[encoded data removed]",
      "text/plain": [
       "<Figure size 432x288 with 1 Axes>"
      ]
     },
     "metadata": {
      "needs_background": "light"
     },
     "output_type": "display_data"
    },
    {
     "name": "stderr",
     "output_type": "stream",
     "text": [
      "C:\\Users\\josep\\Anaconda3\\envs\\learn-env\\lib\\site-packages\\matplotlib\\axes\\_axes.py:6521: MatplotlibDeprecationWarning: \n",
      "The 'normed' kwarg was deprecated in Matplotlib 2.1 and will be removed in 3.1. Use 'density' instead.\n",
      "  alternative=\"'density'\", removal=\"3.1\")\n"
     ]
    },
    {
     "data": {
      "image/png": "[encoded data removed]",
      "text/plain": [
       "<Figure size 432x288 with 1 Axes>"
      ]
     },
     "metadata": {
      "needs_background": "light"
     },
     "output_type": "display_data"
    },
    {
     "name": "stderr",
     "output_type": "stream",
     "text": [
      "C:\\Users\\josep\\Anaconda3\\envs\\learn-env\\lib\\site-packages\\matplotlib\\axes\\_axes.py:6521: MatplotlibDeprecationWarning: \n",
      "The 'normed' kwarg was deprecated in Matplotlib 2.1 and will be removed in 3.1. Use 'density' instead.\n",
      "  alternative=\"'density'\", removal=\"3.1\")\n"
     ]
    },
    {
     "data": {
      "image/png": "[encoded data removed]",
      "text/plain": [
       "<Figure size 432x288 with 1 Axes>"
      ]
     },
     "metadata": {
      "needs_background": "light"
     },
     "output_type": "display_data"
    },
    {
     "name": "stderr",
     "output_type": "stream",
     "text": [
      "C:\\Users\\josep\\Anaconda3\\envs\\learn-env\\lib\\site-packages\\matplotlib\\axes\\_axes.py:6521: MatplotlibDeprecationWarning: \n",
      "The 'normed' kwarg was deprecated in Matplotlib 2.1 and will be removed in 3.1. Use 'density' instead.\n",
      "  alternative=\"'density'\", removal=\"3.1\")\n"
     ]
    },
    {
     "data": {
      "image/png": "[encoded data removed]",
      "text/plain": [
       "<Figure size 432x288 with 1 Axes>"
      ]
     },
     "metadata": {
      "needs_background": "light"
     },
     "output_type": "display_data"
    },
    {
     "name": "stderr",
     "output_type": "stream",
     "text": [
      "C:\\Users\\josep\\Anaconda3\\envs\\learn-env\\lib\\site-packages\\matplotlib\\axes\\_axes.py:6521: MatplotlibDeprecationWarning: \n",
      "The 'normed' kwarg was deprecated in Matplotlib 2.1 and will be removed in 3.1. Use 'density' instead.\n",
      "  alternative=\"'density'\", removal=\"3.1\")\n"
     ]
    },
    {
     "data": {
      "image/png": "[encoded data removed]",
      "text/plain": [
       "<Figure size 432x288 with 1 Axes>"
      ]
     },
     "metadata": {
      "needs_background": "light"
     },
     "output_type": "display_data"
    },
    {
     "name": "stderr",
     "output_type": "stream",
     "text": [
      "C:\\Users\\josep\\Anaconda3\\envs\\learn-env\\lib\\site-packages\\matplotlib\\axes\\_axes.py:6521: MatplotlibDeprecationWarning: \n",
      "The 'normed' kwarg was deprecated in Matplotlib 2.1 and will be removed in 3.1. Use 'density' instead.\n",
      "  alternative=\"'density'\", removal=\"3.1\")\n"
     ]
    },
    {
     "data": {
      "image/png": "[encoded data removed]",
      "text/plain": [
       "<Figure size 432x288 with 1 Axes>"
      ]
     },
     "metadata": {
      "needs_background": "light"
     },
     "output_type": "display_data"
    },
    {
     "name": "stderr",
     "output_type": "stream",
     "text": [
      "C:\\Users\\josep\\Anaconda3\\envs\\learn-env\\lib\\site-packages\\matplotlib\\axes\\_axes.py:6521: MatplotlibDeprecationWarning: \n",
      "The 'normed' kwarg was deprecated in Matplotlib 2.1 and will be removed in 3.1. Use 'density' instead.\n",
      "  alternative=\"'density'\", removal=\"3.1\")\n"
     ]
    },
    {
     "data": {
      "image/png": "[encoded data removed]",
      "text/plain": [
       "<Figure size 432x288 with 1 Axes>"
      ]
     },
     "metadata": {
      "needs_background": "light"
     },
     "output_type": "display_data"
    },
    {
     "name": "stderr",
     "output_type": "stream",
     "text": [
      "C:\\Users\\josep\\Anaconda3\\envs\\learn-env\\lib\\site-packages\\matplotlib\\axes\\_axes.py:6521: MatplotlibDeprecationWarning: \n",
      "The 'normed' kwarg was deprecated in Matplotlib 2.1 and will be removed in 3.1. Use 'density' instead.\n",
      "  alternative=\"'density'\", removal=\"3.1\")\n"
     ]
    },
    {
     "data": {
      "image/png": "[encoded data removed]",
      "text/plain": [
       "<Figure size 432x288 with 1 Axes>"
      ]
     },
     "metadata": {
      "needs_background": "light"
     },
     "output_type": "display_data"
    },
    {
     "name": "stderr",
     "output_type": "stream",
     "text": [
      "C:\\Users\\josep\\Anaconda3\\envs\\learn-env\\lib\\site-packages\\matplotlib\\axes\\_axes.py:6521: MatplotlibDeprecationWarning: \n",
      "The 'normed' kwarg was deprecated in Matplotlib 2.1 and will be removed in 3.1. Use 'density' instead.\n",
      "  alternative=\"'density'\", removal=\"3.1\")\n"
     ]
    },
    {
     "data": {
      "image/png": "[encoded data removed]",
      "text/plain": [
       "<Figure size 432x288 with 1 Axes>"
      ]
     },
     "metadata": {
      "needs_background": "light"
     },
     "output_type": "display_data"
    },
    {
     "name": "stderr",
     "output_type": "stream",
     "text": [
      "C:\\Users\\josep\\Anaconda3\\envs\\learn-env\\lib\\site-packages\\matplotlib\\axes\\_axes.py:6521: MatplotlibDeprecationWarning: \n",
      "The 'normed' kwarg was deprecated in Matplotlib 2.1 and will be removed in 3.1. Use 'density' instead.\n",
      "  alternative=\"'density'\", removal=\"3.1\")\n"
     ]
    },
    {
     "data": {
      "image/png": "[encoded data removed]",
      "text/plain": [
       "<Figure size 432x288 with 1 Axes>"
      ]
     },
     "metadata": {
      "needs_background": "light"
     },
     "output_type": "display_data"
    }
   ],
   "source": [
    "for column in ['price', 'bedrooms', 'bathrooms', 'sqft_living', 'sqft_lot',\n",
    "       'sqft_above', 'sqft_basement', 'yr_built','lat', 'long',\n",
    "       'sqft_living15', 'sqft_lot15']:\n",
    "    df[column].plot.hist(normed=True )\n",
    "    df[column].plot.kde(label=column )\n",
    "    plt.legend()\n",
    "    plt.show()"
   ]
  },
  {
   "cell_type": "markdown",
   "metadata": {},
   "source": [
    "## Modeling"
   ]
  },
  {
   "cell_type": "code",
   "execution_count": 359,
   "metadata": {},
   "outputs": [
    {
     "name": "stdout",
     "output_type": "stream",
     "text": [
      "<class 'pandas.core.frame.DataFrame'>\n",
      "Int64Index: 21082 entries, 0 to 21596\n",
      "Data columns (total 48 columns):\n",
      "price                  21082 non-null float64\n",
      "bedrooms               21082 non-null float64\n",
      "bathrooms              21082 non-null float64\n",
      "sqft_living            21082 non-null float64\n",
      "sqft_lot               21082 non-null float64\n",
      "sqft_above             21082 non-null float64\n",
      "sqft_basement          21082 non-null float64\n",
      "yr_built               21082 non-null float64\n",
      "lat                    21082 non-null float64\n",
      "long                   21082 non-null float64\n",
      "sqft_living15          21082 non-null float64\n",
      "sqft_lot15             21082 non-null float64\n",
      "floors_1               21082 non-null category\n",
      "floors_2               21082 non-null category\n",
      "floors_3               21082 non-null category\n",
      "waterfront_no          21082 non-null category\n",
      "waterfront_yes         21082 non-null category\n",
      "view_0                 21082 non-null category\n",
      "view_1                 21082 non-null category\n",
      "view_2                 21082 non-null category\n",
      "view_3                 21082 non-null category\n",
      "view_4                 21082 non-null category\n",
      "condition_1            21082 non-null category\n",
      "condition_2            21082 non-null category\n",
      "condition_3            21082 non-null category\n",
      "condition_4            21082 non-null category\n",
      "condition_5            21082 non-null category\n",
      "grade_3                21082 non-null category\n",
      "grade_4                21082 non-null category\n",
      "grade_5                21082 non-null category\n",
      "grade_6                21082 non-null category\n",
      "grade_7                21082 non-null category\n",
      "grade_8                21082 non-null category\n",
      "grade_9                21082 non-null category\n",
      "grade_10               21082 non-null category\n",
      "grade_11               21082 non-null category\n",
      "grade_12               21082 non-null category\n",
      "grade_13               21082 non-null category\n",
      "renovated_no           21082 non-null category\n",
      "renovated_yes          21082 non-null category\n",
      "zipcode_98000_98025    21082 non-null category\n",
      "zipcode_98025_98050    21082 non-null category\n",
      "zipcode_98050_98075    21082 non-null category\n",
      "zipcode_98075_98100    21082 non-null category\n",
      "zipcode_98100_98125    21082 non-null category\n",
      "zipcode_98125_98150    21082 non-null category\n",
      "zipcode_98150_98175    21082 non-null category\n",
      "zipcode_98175_98200    21082 non-null category\n",
      "dtypes: category(36), float64(12)\n",
      "memory usage: 2.8 MB\n"
     ]
    }
   ],
   "source": [
    "df.info()"
   ]
  },
  {
   "cell_type": "code",
   "execution_count": 360,
   "metadata": {},
   "outputs": [],
   "source": [
    "import statsmodels.formula.api as smf"
   ]
  },
  {
   "cell_type": "code",
   "execution_count": 361,
   "metadata": {},
   "outputs": [
    {
     "name": "stdout",
     "output_type": "stream",
     "text": [
      "King Cty: price~bedrooms\n",
      "------------------------------\n",
      "['bedrooms', 0.09514380839134184, 540246.8904752871, 113120.01945780392, 0.0]\n",
      "King Cty: price~bathrooms\n",
      "------------------------------\n",
      "['bathrooms', 0.27565534211705833, 540246.8904752871, 192545.07397680086, 0.0]\n",
      "King Cty: price~sqft_living\n",
      "------------------------------\n",
      "['sqft_living', 0.49280911924669435, 540246.8904752871, 257447.43745887777, 0.0]\n",
      "King Cty: price~sqft_lot\n",
      "------------------------------\n",
      "['sqft_lot', 0.007814472143692908, 540246.8904752871, 32418.9563158288, 7.585998491378811e-38]\n",
      "King Cty: price~sqft_above\n",
      "------------------------------\n",
      "['sqft_above', 0.36660773487327236, 540246.8904752871, 222049.6113491868, 0.0]\n",
      "King Cty: price~sqft_basement\n",
      "------------------------------\n",
      "['sqft_basement', 0.10434033600616388, 540246.8904752871, 118460.9799624354, 0.0]\n",
      "King Cty: price~yr_built\n",
      "------------------------------\n",
      "['yr_built', 0.0030084646048749164, 540246.8904752871, 20115.075114976946, 1.59351169919941e-15]\n",
      "King Cty: price~lat\n",
      "------------------------------\n",
      "['lat', 0.09465928356351017, 540246.8904752899, 112831.61700085143, 0.0]\n",
      "King Cty: price~long\n",
      "------------------------------\n",
      "['long', 0.0005067813418511147, 540246.8904752864, 8255.80666522906, 0.0010798408406764756]\n",
      "King Cty: price~sqft_living15\n",
      "------------------------------\n",
      "['sqft_living15', 0.34397600054456756, 540246.8904752871, 215086.56154270502, 0.0]\n",
      "King Cty: price~sqft_lot15\n",
      "------------------------------\n",
      "['sqft_lot15', 0.006977342552415111, 540246.8904752871, 30633.331319480563, 5.8182630064886705e-34]\n"
     ]
    }
   ],
   "source": [
    "col_names = df.describe().columns.drop(['price'])\n",
    "results = [['ind_var', 'r_squared', 'intercept', 'slope', 'p-value' ]]\n",
    "for idx, val in enumerate(col_names):\n",
    "    print (\"King Cty: price~\" + val)\n",
    "    print (\"------------------------------\")\n",
    "\n",
    "    f = 'price~' + val\n",
    "    model = smf.ols(formula=f, data=df).fit()\n",
    "    X_new = pd.DataFrame({val: [df[val].min(), df[val].max()]});\n",
    "    preds = model.predict(X_new)\n",
    "    results.append([val, model.rsquared, model.params[0], model.params[1], model.pvalues[1] ])\n",
    "    print(results[idx+1])"
   ]
  },
  {
   "cell_type": "code",
   "execution_count": 362,
   "metadata": {},
   "outputs": [
    {
     "data": {
      "text/html": [
       "<div>\n",
       "<style scoped>\n",
       "    .dataframe tbody tr th:only-of-type {\n",
       "        vertical-align: middle;\n",
       "    }\n",
       "\n",
       "    .dataframe tbody tr th {\n",
       "        vertical-align: top;\n",
       "    }\n",
       "\n",
       "    .dataframe thead th {\n",
       "        text-align: right;\n",
       "    }\n",
       "</style>\n",
       "<table border=\"1\" class=\"dataframe\">\n",
       "  <thead>\n",
       "    <tr style=\"text-align: right;\">\n",
       "      <th></th>\n",
       "      <th>0</th>\n",
       "      <th>1</th>\n",
       "      <th>2</th>\n",
       "      <th>3</th>\n",
       "      <th>4</th>\n",
       "    </tr>\n",
       "  </thead>\n",
       "  <tbody>\n",
       "    <tr>\n",
       "      <th>0</th>\n",
       "      <td>ind_var</td>\n",
       "      <td>r_squared</td>\n",
       "      <td>intercept</td>\n",
       "      <td>slope</td>\n",
       "      <td>p-value</td>\n",
       "    </tr>\n",
       "    <tr>\n",
       "      <th>1</th>\n",
       "      <td>bedrooms</td>\n",
       "      <td>0.0951438</td>\n",
       "      <td>540247</td>\n",
       "      <td>113120</td>\n",
       "      <td>0</td>\n",
       "    </tr>\n",
       "    <tr>\n",
       "      <th>2</th>\n",
       "      <td>bathrooms</td>\n",
       "      <td>0.275655</td>\n",
       "      <td>540247</td>\n",
       "      <td>192545</td>\n",
       "      <td>0</td>\n",
       "    </tr>\n",
       "    <tr>\n",
       "      <th>3</th>\n",
       "      <td>sqft_living</td>\n",
       "      <td>0.492809</td>\n",
       "      <td>540247</td>\n",
       "      <td>257447</td>\n",
       "      <td>0</td>\n",
       "    </tr>\n",
       "    <tr>\n",
       "      <th>4</th>\n",
       "      <td>sqft_lot</td>\n",
       "      <td>0.00781447</td>\n",
       "      <td>540247</td>\n",
       "      <td>32419</td>\n",
       "      <td>7.586e-38</td>\n",
       "    </tr>\n",
       "    <tr>\n",
       "      <th>5</th>\n",
       "      <td>sqft_above</td>\n",
       "      <td>0.366608</td>\n",
       "      <td>540247</td>\n",
       "      <td>222050</td>\n",
       "      <td>0</td>\n",
       "    </tr>\n",
       "    <tr>\n",
       "      <th>6</th>\n",
       "      <td>sqft_basement</td>\n",
       "      <td>0.10434</td>\n",
       "      <td>540247</td>\n",
       "      <td>118461</td>\n",
       "      <td>0</td>\n",
       "    </tr>\n",
       "    <tr>\n",
       "      <th>7</th>\n",
       "      <td>yr_built</td>\n",
       "      <td>0.00300846</td>\n",
       "      <td>540247</td>\n",
       "      <td>20115.1</td>\n",
       "      <td>1.59351e-15</td>\n",
       "    </tr>\n",
       "    <tr>\n",
       "      <th>8</th>\n",
       "      <td>lat</td>\n",
       "      <td>0.0946593</td>\n",
       "      <td>540247</td>\n",
       "      <td>112832</td>\n",
       "      <td>0</td>\n",
       "    </tr>\n",
       "    <tr>\n",
       "      <th>9</th>\n",
       "      <td>long</td>\n",
       "      <td>0.000506781</td>\n",
       "      <td>540247</td>\n",
       "      <td>8255.81</td>\n",
       "      <td>0.00107984</td>\n",
       "    </tr>\n",
       "    <tr>\n",
       "      <th>10</th>\n",
       "      <td>sqft_living15</td>\n",
       "      <td>0.343976</td>\n",
       "      <td>540247</td>\n",
       "      <td>215087</td>\n",
       "      <td>0</td>\n",
       "    </tr>\n",
       "    <tr>\n",
       "      <th>11</th>\n",
       "      <td>sqft_lot15</td>\n",
       "      <td>0.00697734</td>\n",
       "      <td>540247</td>\n",
       "      <td>30633.3</td>\n",
       "      <td>5.81826e-34</td>\n",
       "    </tr>\n",
       "  </tbody>\n",
       "</table>\n",
       "</div>"
      ],
      "text/plain": [
       "                0            1          2        3            4\n",
       "0         ind_var    r_squared  intercept    slope      p-value\n",
       "1        bedrooms    0.0951438     540247   113120            0\n",
       "2       bathrooms     0.275655     540247   192545            0\n",
       "3     sqft_living     0.492809     540247   257447            0\n",
       "4        sqft_lot   0.00781447     540247    32419    7.586e-38\n",
       "5      sqft_above     0.366608     540247   222050            0\n",
       "6   sqft_basement      0.10434     540247   118461            0\n",
       "7        yr_built   0.00300846     540247  20115.1  1.59351e-15\n",
       "8             lat    0.0946593     540247   112832            0\n",
       "9            long  0.000506781     540247  8255.81   0.00107984\n",
       "10  sqft_living15     0.343976     540247   215087            0\n",
       "11     sqft_lot15   0.00697734     540247  30633.3  5.81826e-34"
      ]
     },
     "execution_count": 362,
     "metadata": {},
     "output_type": "execute_result"
    }
   ],
   "source": [
    "pd.DataFrame(results)"
   ]
  },
  {
   "cell_type": "markdown",
   "metadata": {},
   "source": [
    "None of the numerical predictors are disqualified by p-value.  Dropping all columns that do not have a >0.3 r_squared value."
   ]
  },
  {
   "cell_type": "markdown",
   "metadata": {},
   "source": [
    "I am left with three predictors.  Two, sqft_living and sqft_above, are basically the same thing.  Need to log transform the data and see if that helps."
   ]
  },
  {
   "cell_type": "code",
   "execution_count": 363,
   "metadata": {},
   "outputs": [],
   "source": [
    "df_log = pd.read_csv(\"kc_house_data.csv\")"
   ]
  },
  {
   "cell_type": "code",
   "execution_count": 364,
   "metadata": {},
   "outputs": [],
   "source": [
    "df_log = df_log.drop(['id'], axis=1) #ID is not useful to us it is an index\n",
    "df_log = df_log.drop(['date'], axis=1) # not using datetime trending in this model\n",
    "df_log.dropna(subset=['view'], inplace=True) #remove rows containing nulls in the view column\n",
    "df_log = df_log[df_log.sqft_basement != '?'] #remove '?' from the sqft_basement column\n"
   ]
  },
  {
   "cell_type": "code",
   "execution_count": 368,
   "metadata": {},
   "outputs": [],
   "source": [
    "df_log.floors = df_log.floors.astype('category')\n",
    "df_log.view = df_log.view.astype('category')\n",
    "df_log.condition = df_log.condition.astype('category')\n",
    "df_log.grade = df_log.grade.astype('category')\n",
    "df_log.floors = df_log.floors.astype('category')\n",
    "df_log.sqft_basement = df_log.sqft_basement.astype('float64')\n",
    "df_log.zipcode = df_log.zipcode.astype('category')"
   ]
  },
  {
   "cell_type": "code",
   "execution_count": 369,
   "metadata": {},
   "outputs": [
    {
     "data": {
      "text/html": [
       "<div>\n",
       "<style scoped>\n",
       "    .dataframe tbody tr th:only-of-type {\n",
       "        vertical-align: middle;\n",
       "    }\n",
       "\n",
       "    .dataframe tbody tr th {\n",
       "        vertical-align: top;\n",
       "    }\n",
       "\n",
       "    .dataframe thead th {\n",
       "        text-align: right;\n",
       "    }\n",
       "</style>\n",
       "<table border=\"1\" class=\"dataframe\">\n",
       "  <thead>\n",
       "    <tr style=\"text-align: right;\">\n",
       "      <th></th>\n",
       "      <th>price</th>\n",
       "      <th>bedrooms</th>\n",
       "      <th>bathrooms</th>\n",
       "      <th>sqft_living</th>\n",
       "      <th>sqft_lot</th>\n",
       "      <th>waterfront</th>\n",
       "      <th>sqft_above</th>\n",
       "      <th>sqft_basement</th>\n",
       "      <th>yr_built</th>\n",
       "      <th>yr_renovated</th>\n",
       "      <th>lat</th>\n",
       "      <th>long</th>\n",
       "      <th>sqft_living15</th>\n",
       "      <th>sqft_lot15</th>\n",
       "    </tr>\n",
       "  </thead>\n",
       "  <tbody>\n",
       "    <tr>\n",
       "      <th>count</th>\n",
       "      <td>2.108200e+04</td>\n",
       "      <td>21082.000000</td>\n",
       "      <td>21082.000000</td>\n",
       "      <td>21082.000000</td>\n",
       "      <td>2.108200e+04</td>\n",
       "      <td>18749.000000</td>\n",
       "      <td>21082.000000</td>\n",
       "      <td>21082.000000</td>\n",
       "      <td>21082.000000</td>\n",
       "      <td>17340.000000</td>\n",
       "      <td>21082.000000</td>\n",
       "      <td>21082.000000</td>\n",
       "      <td>21082.000000</td>\n",
       "      <td>21082.000000</td>\n",
       "    </tr>\n",
       "    <tr>\n",
       "      <th>mean</th>\n",
       "      <td>5.402469e+05</td>\n",
       "      <td>3.372403</td>\n",
       "      <td>2.115916</td>\n",
       "      <td>2080.359975</td>\n",
       "      <td>1.507759e+04</td>\n",
       "      <td>0.007520</td>\n",
       "      <td>1789.000000</td>\n",
       "      <td>291.359975</td>\n",
       "      <td>1971.023337</td>\n",
       "      <td>83.111419</td>\n",
       "      <td>47.560371</td>\n",
       "      <td>-122.213843</td>\n",
       "      <td>1986.917418</td>\n",
       "      <td>12732.514135</td>\n",
       "    </tr>\n",
       "    <tr>\n",
       "      <th>std</th>\n",
       "      <td>3.667323e+05</td>\n",
       "      <td>0.924996</td>\n",
       "      <td>0.768142</td>\n",
       "      <td>917.856396</td>\n",
       "      <td>4.117338e+04</td>\n",
       "      <td>0.086396</td>\n",
       "      <td>828.369355</td>\n",
       "      <td>442.007858</td>\n",
       "      <td>29.323120</td>\n",
       "      <td>398.756281</td>\n",
       "      <td>0.138568</td>\n",
       "      <td>0.140607</td>\n",
       "      <td>685.544250</td>\n",
       "      <td>27148.781580</td>\n",
       "    </tr>\n",
       "    <tr>\n",
       "      <th>min</th>\n",
       "      <td>7.800000e+04</td>\n",
       "      <td>1.000000</td>\n",
       "      <td>0.500000</td>\n",
       "      <td>370.000000</td>\n",
       "      <td>5.200000e+02</td>\n",
       "      <td>0.000000</td>\n",
       "      <td>370.000000</td>\n",
       "      <td>0.000000</td>\n",
       "      <td>1900.000000</td>\n",
       "      <td>0.000000</td>\n",
       "      <td>47.155900</td>\n",
       "      <td>-122.519000</td>\n",
       "      <td>399.000000</td>\n",
       "      <td>651.000000</td>\n",
       "    </tr>\n",
       "    <tr>\n",
       "      <th>25%</th>\n",
       "      <td>3.220000e+05</td>\n",
       "      <td>3.000000</td>\n",
       "      <td>1.750000</td>\n",
       "      <td>1430.000000</td>\n",
       "      <td>5.040000e+03</td>\n",
       "      <td>0.000000</td>\n",
       "      <td>1200.000000</td>\n",
       "      <td>0.000000</td>\n",
       "      <td>1952.000000</td>\n",
       "      <td>0.000000</td>\n",
       "      <td>47.471325</td>\n",
       "      <td>-122.328000</td>\n",
       "      <td>1490.000000</td>\n",
       "      <td>5100.000000</td>\n",
       "    </tr>\n",
       "    <tr>\n",
       "      <th>50%</th>\n",
       "      <td>4.500000e+05</td>\n",
       "      <td>3.000000</td>\n",
       "      <td>2.250000</td>\n",
       "      <td>1910.000000</td>\n",
       "      <td>7.620000e+03</td>\n",
       "      <td>0.000000</td>\n",
       "      <td>1560.000000</td>\n",
       "      <td>0.000000</td>\n",
       "      <td>1975.000000</td>\n",
       "      <td>0.000000</td>\n",
       "      <td>47.572200</td>\n",
       "      <td>-122.230000</td>\n",
       "      <td>1840.000000</td>\n",
       "      <td>7626.000000</td>\n",
       "    </tr>\n",
       "    <tr>\n",
       "      <th>75%</th>\n",
       "      <td>6.450000e+05</td>\n",
       "      <td>4.000000</td>\n",
       "      <td>2.500000</td>\n",
       "      <td>2550.000000</td>\n",
       "      <td>1.069775e+04</td>\n",
       "      <td>0.000000</td>\n",
       "      <td>2210.000000</td>\n",
       "      <td>560.000000</td>\n",
       "      <td>1997.000000</td>\n",
       "      <td>0.000000</td>\n",
       "      <td>47.678200</td>\n",
       "      <td>-122.125000</td>\n",
       "      <td>2360.000000</td>\n",
       "      <td>10088.750000</td>\n",
       "    </tr>\n",
       "    <tr>\n",
       "      <th>max</th>\n",
       "      <td>7.700000e+06</td>\n",
       "      <td>33.000000</td>\n",
       "      <td>8.000000</td>\n",
       "      <td>13540.000000</td>\n",
       "      <td>1.651359e+06</td>\n",
       "      <td>1.000000</td>\n",
       "      <td>9410.000000</td>\n",
       "      <td>4820.000000</td>\n",
       "      <td>2015.000000</td>\n",
       "      <td>2015.000000</td>\n",
       "      <td>47.777600</td>\n",
       "      <td>-121.315000</td>\n",
       "      <td>6210.000000</td>\n",
       "      <td>871200.000000</td>\n",
       "    </tr>\n",
       "  </tbody>\n",
       "</table>\n",
       "</div>"
      ],
      "text/plain": [
       "              price      bedrooms     bathrooms   sqft_living      sqft_lot  \\\n",
       "count  2.108200e+04  21082.000000  21082.000000  21082.000000  2.108200e+04   \n",
       "mean   5.402469e+05      3.372403      2.115916   2080.359975  1.507759e+04   \n",
       "std    3.667323e+05      0.924996      0.768142    917.856396  4.117338e+04   \n",
       "min    7.800000e+04      1.000000      0.500000    370.000000  5.200000e+02   \n",
       "25%    3.220000e+05      3.000000      1.750000   1430.000000  5.040000e+03   \n",
       "50%    4.500000e+05      3.000000      2.250000   1910.000000  7.620000e+03   \n",
       "75%    6.450000e+05      4.000000      2.500000   2550.000000  1.069775e+04   \n",
       "max    7.700000e+06     33.000000      8.000000  13540.000000  1.651359e+06   \n",
       "\n",
       "         waterfront    sqft_above  sqft_basement      yr_built  yr_renovated  \\\n",
       "count  18749.000000  21082.000000   21082.000000  21082.000000  17340.000000   \n",
       "mean       0.007520   1789.000000     291.359975   1971.023337     83.111419   \n",
       "std        0.086396    828.369355     442.007858     29.323120    398.756281   \n",
       "min        0.000000    370.000000       0.000000   1900.000000      0.000000   \n",
       "25%        0.000000   1200.000000       0.000000   1952.000000      0.000000   \n",
       "50%        0.000000   1560.000000       0.000000   1975.000000      0.000000   \n",
       "75%        0.000000   2210.000000     560.000000   1997.000000      0.000000   \n",
       "max        1.000000   9410.000000    4820.000000   2015.000000   2015.000000   \n",
       "\n",
       "                lat          long  sqft_living15     sqft_lot15  \n",
       "count  21082.000000  21082.000000   21082.000000   21082.000000  \n",
       "mean      47.560371   -122.213843    1986.917418   12732.514135  \n",
       "std        0.138568      0.140607     685.544250   27148.781580  \n",
       "min       47.155900   -122.519000     399.000000     651.000000  \n",
       "25%       47.471325   -122.328000    1490.000000    5100.000000  \n",
       "50%       47.572200   -122.230000    1840.000000    7626.000000  \n",
       "75%       47.678200   -122.125000    2360.000000   10088.750000  \n",
       "max       47.777600   -121.315000    6210.000000  871200.000000  "
      ]
     },
     "execution_count": 369,
     "metadata": {},
     "output_type": "execute_result"
    }
   ],
   "source": [
    "df_log.describe()"
   ]
  },
  {
   "cell_type": "code",
   "execution_count": 370,
   "metadata": {},
   "outputs": [],
   "source": [
    "df_log.bedrooms = np.log(df_log[\"bedrooms\"])\n",
    "df_log.bathrooms = np.log(df_log[\"bathrooms\"])\n",
    "df_log.sqft_living = np.log(df_log[\"sqft_living\"])\n",
    "df_log.sqft_lot = np.log(df_log[\"sqft_lot\"])\n",
    "df_log.sqft_above = np.log(df_log[\"sqft_above\"])\n",
    "df_log.sqft_basement = df_log.drop([\"sqft_basement\"], axis=1)\n",
    "df_log.yr_built = np.log(df_log[\"yr_built\"])\n",
    "df_log.lat = np.log(df_log[\"lat\"])\n",
    "df_log.long = df_log.drop([\"long\"], axis=1)\n",
    "df_log.sqft_living15 = np.log(df_log[\"sqft_living15\"])\n",
    "df_log.sqft_lot15 = np.log(df_log[\"sqft_lot15\"])\n",
    "df_log.price = np.log(df_log[\"price\"])"
   ]
  },
  {
   "cell_type": "code",
   "execution_count": 371,
   "metadata": {},
   "outputs": [
    {
     "name": "stdout",
     "output_type": "stream",
     "text": [
      "<class 'pandas.core.frame.DataFrame'>\n",
      "Int64Index: 21082 entries, 0 to 21596\n",
      "Data columns (total 19 columns):\n",
      "price            21082 non-null float64\n",
      "bedrooms         21082 non-null float64\n",
      "bathrooms        21082 non-null float64\n",
      "sqft_living      21082 non-null float64\n",
      "sqft_lot         21082 non-null float64\n",
      "floors           21082 non-null category\n",
      "waterfront       18749 non-null float64\n",
      "view             21082 non-null category\n",
      "condition        21082 non-null category\n",
      "grade            21082 non-null category\n",
      "sqft_above       21082 non-null float64\n",
      "sqft_basement    21082 non-null object\n",
      "yr_built         21082 non-null float64\n",
      "yr_renovated     17340 non-null float64\n",
      "zipcode          21082 non-null category\n",
      "lat              21082 non-null float64\n",
      "long             21082 non-null object\n",
      "sqft_living15    21082 non-null float64\n",
      "sqft_lot15       21082 non-null float64\n",
      "dtypes: category(5), float64(12), object(2)\n",
      "memory usage: 2.5+ MB\n"
     ]
    }
   ],
   "source": [
    "df_log.info()"
   ]
  },
  {
   "cell_type": "code",
   "execution_count": 372,
   "metadata": {},
   "outputs": [],
   "source": [
    "df_log.waterfront = df_log.drop([\"waterfront\"], axis=1)\n",
    "df_log.yr_renovated = df_log.drop([\"yr_renovated\"], axis=1)"
   ]
  },
  {
   "cell_type": "code",
   "execution_count": 373,
   "metadata": {},
   "outputs": [
    {
     "name": "stdout",
     "output_type": "stream",
     "text": [
      "<class 'pandas.core.frame.DataFrame'>\n",
      "Int64Index: 21082 entries, 0 to 21596\n",
      "Data columns (total 19 columns):\n",
      "price            21082 non-null float64\n",
      "bedrooms         21082 non-null float64\n",
      "bathrooms        21082 non-null float64\n",
      "sqft_living      21082 non-null float64\n",
      "sqft_lot         21082 non-null float64\n",
      "floors           21082 non-null category\n",
      "waterfront       21082 non-null object\n",
      "view             21082 non-null category\n",
      "condition        21082 non-null category\n",
      "grade            21082 non-null category\n",
      "sqft_above       21082 non-null float64\n",
      "sqft_basement    21082 non-null object\n",
      "yr_built         21082 non-null float64\n",
      "yr_renovated     21082 non-null object\n",
      "zipcode          21082 non-null category\n",
      "lat              21082 non-null float64\n",
      "long             21082 non-null object\n",
      "sqft_living15    21082 non-null float64\n",
      "sqft_lot15       21082 non-null float64\n",
      "dtypes: category(5), float64(10), object(4)\n",
      "memory usage: 2.5+ MB\n"
     ]
    }
   ],
   "source": [
    "df_log.info()"
   ]
  },
  {
   "cell_type": "code",
   "execution_count": 374,
   "metadata": {},
   "outputs": [
    {
     "data": {
      "text/html": [
       "<div>\n",
       "<style scoped>\n",
       "    .dataframe tbody tr th:only-of-type {\n",
       "        vertical-align: middle;\n",
       "    }\n",
       "\n",
       "    .dataframe tbody tr th {\n",
       "        vertical-align: top;\n",
       "    }\n",
       "\n",
       "    .dataframe thead th {\n",
       "        text-align: right;\n",
       "    }\n",
       "</style>\n",
       "<table border=\"1\" class=\"dataframe\">\n",
       "  <thead>\n",
       "    <tr style=\"text-align: right;\">\n",
       "      <th></th>\n",
       "      <th>price</th>\n",
       "      <th>bedrooms</th>\n",
       "      <th>bathrooms</th>\n",
       "      <th>sqft_living</th>\n",
       "      <th>sqft_lot</th>\n",
       "      <th>floors</th>\n",
       "      <th>waterfront</th>\n",
       "      <th>view</th>\n",
       "      <th>condition</th>\n",
       "      <th>grade</th>\n",
       "      <th>sqft_above</th>\n",
       "      <th>sqft_basement</th>\n",
       "      <th>yr_built</th>\n",
       "      <th>yr_renovated</th>\n",
       "      <th>zipcode</th>\n",
       "      <th>lat</th>\n",
       "      <th>long</th>\n",
       "      <th>sqft_living15</th>\n",
       "      <th>sqft_lot15</th>\n",
       "    </tr>\n",
       "  </thead>\n",
       "  <tbody>\n",
       "    <tr>\n",
       "      <th>0</th>\n",
       "      <td>12.309982</td>\n",
       "      <td>1.098612</td>\n",
       "      <td>0.000000</td>\n",
       "      <td>7.073270</td>\n",
       "      <td>8.639411</td>\n",
       "      <td>1.0</td>\n",
       "      <td>12.31</td>\n",
       "      <td>0.0</td>\n",
       "      <td>3</td>\n",
       "      <td>7</td>\n",
       "      <td>7.073270</td>\n",
       "      <td>221900</td>\n",
       "      <td>7.578145</td>\n",
       "      <td>12.31</td>\n",
       "      <td>98178</td>\n",
       "      <td>3.860965</td>\n",
       "      <td>221900</td>\n",
       "      <td>7.200425</td>\n",
       "      <td>8.639411</td>\n",
       "    </tr>\n",
       "    <tr>\n",
       "      <th>1</th>\n",
       "      <td>13.195614</td>\n",
       "      <td>1.098612</td>\n",
       "      <td>0.810930</td>\n",
       "      <td>7.851661</td>\n",
       "      <td>8.887653</td>\n",
       "      <td>2.0</td>\n",
       "      <td>13.1956</td>\n",
       "      <td>0.0</td>\n",
       "      <td>3</td>\n",
       "      <td>7</td>\n",
       "      <td>7.682482</td>\n",
       "      <td>538000</td>\n",
       "      <td>7.576097</td>\n",
       "      <td>13.1956</td>\n",
       "      <td>98125</td>\n",
       "      <td>3.865372</td>\n",
       "      <td>538000</td>\n",
       "      <td>7.432484</td>\n",
       "      <td>8.941022</td>\n",
       "    </tr>\n",
       "    <tr>\n",
       "      <th>2</th>\n",
       "      <td>12.100712</td>\n",
       "      <td>0.693147</td>\n",
       "      <td>0.000000</td>\n",
       "      <td>6.646391</td>\n",
       "      <td>9.210340</td>\n",
       "      <td>1.0</td>\n",
       "      <td>12.1007</td>\n",
       "      <td>0.0</td>\n",
       "      <td>3</td>\n",
       "      <td>6</td>\n",
       "      <td>6.646391</td>\n",
       "      <td>180000</td>\n",
       "      <td>7.566828</td>\n",
       "      <td>12.1007</td>\n",
       "      <td>98028</td>\n",
       "      <td>3.865726</td>\n",
       "      <td>180000</td>\n",
       "      <td>7.908387</td>\n",
       "      <td>8.994917</td>\n",
       "    </tr>\n",
       "    <tr>\n",
       "      <th>3</th>\n",
       "      <td>13.311329</td>\n",
       "      <td>1.386294</td>\n",
       "      <td>1.098612</td>\n",
       "      <td>7.580700</td>\n",
       "      <td>8.517193</td>\n",
       "      <td>1.0</td>\n",
       "      <td>13.3113</td>\n",
       "      <td>0.0</td>\n",
       "      <td>5</td>\n",
       "      <td>7</td>\n",
       "      <td>6.956545</td>\n",
       "      <td>604000</td>\n",
       "      <td>7.583248</td>\n",
       "      <td>13.3113</td>\n",
       "      <td>98136</td>\n",
       "      <td>3.861168</td>\n",
       "      <td>604000</td>\n",
       "      <td>7.215240</td>\n",
       "      <td>8.517193</td>\n",
       "    </tr>\n",
       "    <tr>\n",
       "      <th>4</th>\n",
       "      <td>13.142166</td>\n",
       "      <td>1.098612</td>\n",
       "      <td>0.693147</td>\n",
       "      <td>7.426549</td>\n",
       "      <td>8.997147</td>\n",
       "      <td>1.0</td>\n",
       "      <td>13.1422</td>\n",
       "      <td>0.0</td>\n",
       "      <td>3</td>\n",
       "      <td>8</td>\n",
       "      <td>7.426549</td>\n",
       "      <td>510000</td>\n",
       "      <td>7.594381</td>\n",
       "      <td>13.1422</td>\n",
       "      <td>98074</td>\n",
       "      <td>3.863186</td>\n",
       "      <td>510000</td>\n",
       "      <td>7.495542</td>\n",
       "      <td>8.923058</td>\n",
       "    </tr>\n",
       "  </tbody>\n",
       "</table>\n",
       "</div>"
      ],
      "text/plain": [
       "       price  bedrooms  bathrooms  sqft_living  sqft_lot floors waterfront  \\\n",
       "0  12.309982  1.098612   0.000000     7.073270  8.639411    1.0      12.31   \n",
       "1  13.195614  1.098612   0.810930     7.851661  8.887653    2.0    13.1956   \n",
       "2  12.100712  0.693147   0.000000     6.646391  9.210340    1.0    12.1007   \n",
       "3  13.311329  1.386294   1.098612     7.580700  8.517193    1.0    13.3113   \n",
       "4  13.142166  1.098612   0.693147     7.426549  8.997147    1.0    13.1422   \n",
       "\n",
       "  view condition grade  sqft_above sqft_basement  yr_built yr_renovated  \\\n",
       "0  0.0         3     7    7.073270        221900  7.578145        12.31   \n",
       "1  0.0         3     7    7.682482        538000  7.576097      13.1956   \n",
       "2  0.0         3     6    6.646391        180000  7.566828      12.1007   \n",
       "3  0.0         5     7    6.956545        604000  7.583248      13.3113   \n",
       "4  0.0         3     8    7.426549        510000  7.594381      13.1422   \n",
       "\n",
       "  zipcode       lat    long  sqft_living15  sqft_lot15  \n",
       "0   98178  3.860965  221900       7.200425    8.639411  \n",
       "1   98125  3.865372  538000       7.432484    8.941022  \n",
       "2   98028  3.865726  180000       7.908387    8.994917  \n",
       "3   98136  3.861168  604000       7.215240    8.517193  \n",
       "4   98074  3.863186  510000       7.495542    8.923058  "
      ]
     },
     "execution_count": 374,
     "metadata": {},
     "output_type": "execute_result"
    }
   ],
   "source": [
    "df_log.head()"
   ]
  },
  {
   "cell_type": "code",
   "execution_count": 375,
   "metadata": {},
   "outputs": [
    {
     "data": {
      "text/plain": [
       "array([[<matplotlib.axes._subplots.AxesSubplot object at 0x00000299D883AE80>,\n",
       "        <matplotlib.axes._subplots.AxesSubplot object at 0x00000299D86B7128>,\n",
       "        <matplotlib.axes._subplots.AxesSubplot object at 0x00000299D8698160>],\n",
       "       [<matplotlib.axes._subplots.AxesSubplot object at 0x00000299D8527DD8>,\n",
       "        <matplotlib.axes._subplots.AxesSubplot object at 0x00000299D5729160>,\n",
       "        <matplotlib.axes._subplots.AxesSubplot object at 0x00000299D54F1AC8>],\n",
       "       [<matplotlib.axes._subplots.AxesSubplot object at 0x00000299D3EDB9B0>,\n",
       "        <matplotlib.axes._subplots.AxesSubplot object at 0x00000299D3EB71D0>,\n",
       "        <matplotlib.axes._subplots.AxesSubplot object at 0x00000299D3EB72E8>],\n",
       "       [<matplotlib.axes._subplots.AxesSubplot object at 0x00000299D1ACC9B0>,\n",
       "        <matplotlib.axes._subplots.AxesSubplot object at 0x00000299D1AE5AC8>,\n",
       "        <matplotlib.axes._subplots.AxesSubplot object at 0x00000299D1A9F6D8>]],\n",
       "      dtype=object)"
      ]
     },
     "execution_count": 375,
     "metadata": {},
     "output_type": "execute_result"
    },
    {
     "data": {
      "image/png": "[encoded data removed]",
      "text/plain": [
       "<Figure size 1296x1296 with 12 Axes>"
      ]
     },
     "metadata": {
      "needs_background": "light"
     },
     "output_type": "display_data"
    }
   ],
   "source": [
    "df_log.hist(figsize=(18,18))"
   ]
  },
  {
   "cell_type": "code",
   "execution_count": 376,
   "metadata": {},
   "outputs": [
    {
     "name": "stdout",
     "output_type": "stream",
     "text": [
      "King Cty: price~bedrooms\n",
      "------------------------------\n",
      "['bedrooms', 0.11690843421819974, 12.298372771661583, 0.636695731004518, 0.0]\n",
      "King Cty: price~bathrooms\n",
      "------------------------------\n",
      "['bathrooms', 0.26999400394509154, 12.575420361580466, 0.6975426264753711, 0.0]\n",
      "King Cty: price~sqft_living\n",
      "------------------------------\n",
      "['sqft_living', 0.45487390817074236, 6.725492042621472, 0.8373565737137357, 0.0]\n",
      "King Cty: price~sqft_lot\n",
      "------------------------------\n",
      "['sqft_lot', 0.01912643850674456, 12.32211855226208, 0.08076135917588545, 1.5829053476127593e-90]\n",
      "King Cty: price~sqft_above\n",
      "------------------------------\n",
      "['sqft_above', 0.34318242539406985, 7.707525685549353, 0.7221650180792579, 0.0]\n",
      "King Cty: price~yr_built\n",
      "------------------------------\n",
      "['yr_built', 0.006334731497952939, -8.23672528771101, 2.8057460377117778, 5.581153245811331e-31]\n",
      "King Cty: price~lat\n",
      "------------------------------\n",
      "['lat', 0.20235359793984176, -300.60385810782566, 81.21502606449494, 0.0]\n",
      "King Cty: price~sqft_living15\n",
      "------------------------------\n",
      "['sqft_living15', 0.36916437948169, 5.68335234919347, 0.97681892342578, 0.0]\n",
      "King Cty: price~sqft_lot15\n",
      "------------------------------\n",
      "['sqft_lot15', 0.015423788005503702, 12.325902579830249, 0.0806025670042847, 3.109059505523184e-73]\n"
     ]
    }
   ],
   "source": [
    "col_names = df_log.describe().columns.drop(['price'])\n",
    "results = [['ind_var', 'r_squared', 'intercept', 'slope', 'p-value' ]]\n",
    "for idx, val in enumerate(col_names):\n",
    "    print (\"King Cty: price~\" + val)\n",
    "    print (\"------------------------------\")\n",
    "\n",
    "    f = 'price~' + val\n",
    "    model = smf.ols(formula=f, data=df_log).fit()\n",
    "    X_new = pd.DataFrame({val: [df_log[val].min(), df_log[val].max()]});\n",
    "    preds10 = model.predict(X_new)\n",
    "    results.append([val, model.rsquared, model.params[0], model.params[1], model.pvalues[1] ])\n",
    "    print(results[idx+1])"
   ]
  },
  {
   "cell_type": "code",
   "execution_count": 377,
   "metadata": {},
   "outputs": [
    {
     "data": {
      "text/html": [
       "<div>\n",
       "<style scoped>\n",
       "    .dataframe tbody tr th:only-of-type {\n",
       "        vertical-align: middle;\n",
       "    }\n",
       "\n",
       "    .dataframe tbody tr th {\n",
       "        vertical-align: top;\n",
       "    }\n",
       "\n",
       "    .dataframe thead th {\n",
       "        text-align: right;\n",
       "    }\n",
       "</style>\n",
       "<table border=\"1\" class=\"dataframe\">\n",
       "  <thead>\n",
       "    <tr style=\"text-align: right;\">\n",
       "      <th></th>\n",
       "      <th>0</th>\n",
       "      <th>1</th>\n",
       "      <th>2</th>\n",
       "      <th>3</th>\n",
       "      <th>4</th>\n",
       "    </tr>\n",
       "  </thead>\n",
       "  <tbody>\n",
       "    <tr>\n",
       "      <th>0</th>\n",
       "      <td>ind_var</td>\n",
       "      <td>r_squared</td>\n",
       "      <td>intercept</td>\n",
       "      <td>slope</td>\n",
       "      <td>p-value</td>\n",
       "    </tr>\n",
       "    <tr>\n",
       "      <th>1</th>\n",
       "      <td>bedrooms</td>\n",
       "      <td>0.116908</td>\n",
       "      <td>12.2984</td>\n",
       "      <td>0.636696</td>\n",
       "      <td>0</td>\n",
       "    </tr>\n",
       "    <tr>\n",
       "      <th>2</th>\n",
       "      <td>bathrooms</td>\n",
       "      <td>0.269994</td>\n",
       "      <td>12.5754</td>\n",
       "      <td>0.697543</td>\n",
       "      <td>0</td>\n",
       "    </tr>\n",
       "    <tr>\n",
       "      <th>3</th>\n",
       "      <td>sqft_living</td>\n",
       "      <td>0.454874</td>\n",
       "      <td>6.72549</td>\n",
       "      <td>0.837357</td>\n",
       "      <td>0</td>\n",
       "    </tr>\n",
       "    <tr>\n",
       "      <th>4</th>\n",
       "      <td>sqft_lot</td>\n",
       "      <td>0.0191264</td>\n",
       "      <td>12.3221</td>\n",
       "      <td>0.0807614</td>\n",
       "      <td>1.58291e-90</td>\n",
       "    </tr>\n",
       "    <tr>\n",
       "      <th>5</th>\n",
       "      <td>sqft_above</td>\n",
       "      <td>0.343182</td>\n",
       "      <td>7.70753</td>\n",
       "      <td>0.722165</td>\n",
       "      <td>0</td>\n",
       "    </tr>\n",
       "    <tr>\n",
       "      <th>6</th>\n",
       "      <td>yr_built</td>\n",
       "      <td>0.00633473</td>\n",
       "      <td>-8.23673</td>\n",
       "      <td>2.80575</td>\n",
       "      <td>5.58115e-31</td>\n",
       "    </tr>\n",
       "    <tr>\n",
       "      <th>7</th>\n",
       "      <td>lat</td>\n",
       "      <td>0.202354</td>\n",
       "      <td>-300.604</td>\n",
       "      <td>81.215</td>\n",
       "      <td>0</td>\n",
       "    </tr>\n",
       "    <tr>\n",
       "      <th>8</th>\n",
       "      <td>sqft_living15</td>\n",
       "      <td>0.369164</td>\n",
       "      <td>5.68335</td>\n",
       "      <td>0.976819</td>\n",
       "      <td>0</td>\n",
       "    </tr>\n",
       "    <tr>\n",
       "      <th>9</th>\n",
       "      <td>sqft_lot15</td>\n",
       "      <td>0.0154238</td>\n",
       "      <td>12.3259</td>\n",
       "      <td>0.0806026</td>\n",
       "      <td>3.10906e-73</td>\n",
       "    </tr>\n",
       "  </tbody>\n",
       "</table>\n",
       "</div>"
      ],
      "text/plain": [
       "               0           1          2          3            4\n",
       "0        ind_var   r_squared  intercept      slope      p-value\n",
       "1       bedrooms    0.116908    12.2984   0.636696            0\n",
       "2      bathrooms    0.269994    12.5754   0.697543            0\n",
       "3    sqft_living    0.454874    6.72549   0.837357            0\n",
       "4       sqft_lot   0.0191264    12.3221  0.0807614  1.58291e-90\n",
       "5     sqft_above    0.343182    7.70753   0.722165            0\n",
       "6       yr_built  0.00633473   -8.23673    2.80575  5.58115e-31\n",
       "7            lat    0.202354   -300.604     81.215            0\n",
       "8  sqft_living15    0.369164    5.68335   0.976819            0\n",
       "9     sqft_lot15   0.0154238    12.3259  0.0806026  3.10906e-73"
      ]
     },
     "execution_count": 377,
     "metadata": {},
     "output_type": "execute_result"
    }
   ],
   "source": [
    "pd.DataFrame(results)"
   ]
  },
  {
   "cell_type": "markdown",
   "metadata": {},
   "source": [
    "Log transformed data looks very similar to Z score normalized data.  Keeping Z score data.  Next step is to model categorical predictors."
   ]
  },
  {
   "cell_type": "code",
   "execution_count": 393,
   "metadata": {},
   "outputs": [
    {
     "name": "stdout",
     "output_type": "stream",
     "text": [
      "<class 'pandas.core.frame.DataFrame'>\n",
      "Int64Index: 21082 entries, 0 to 21596\n",
      "Data columns (total 48 columns):\n",
      "price                  21082 non-null float64\n",
      "bedrooms               21082 non-null float64\n",
      "bathrooms              21082 non-null float64\n",
      "sqft_living            21082 non-null float64\n",
      "sqft_lot               21082 non-null float64\n",
      "sqft_above             21082 non-null float64\n",
      "sqft_basement          21082 non-null float64\n",
      "yr_built               21082 non-null float64\n",
      "lat                    21082 non-null float64\n",
      "long                   21082 non-null float64\n",
      "sqft_living15          21082 non-null float64\n",
      "sqft_lot15             21082 non-null float64\n",
      "floors_1               21082 non-null category\n",
      "floors_2               21082 non-null category\n",
      "floors_3               21082 non-null category\n",
      "waterfront_no          21082 non-null category\n",
      "waterfront_yes         21082 non-null category\n",
      "view_0                 21082 non-null category\n",
      "view_1                 21082 non-null category\n",
      "view_2                 21082 non-null category\n",
      "view_3                 21082 non-null category\n",
      "view_4                 21082 non-null category\n",
      "condition_1            21082 non-null category\n",
      "condition_2            21082 non-null category\n",
      "condition_3            21082 non-null category\n",
      "condition_4            21082 non-null category\n",
      "condition_5            21082 non-null category\n",
      "grade_3                21082 non-null category\n",
      "grade_4                21082 non-null category\n",
      "grade_5                21082 non-null category\n",
      "grade_6                21082 non-null category\n",
      "grade_7                21082 non-null category\n",
      "grade_8                21082 non-null category\n",
      "grade_9                21082 non-null category\n",
      "grade_10               21082 non-null category\n",
      "grade_11               21082 non-null category\n",
      "grade_12               21082 non-null category\n",
      "grade_13               21082 non-null category\n",
      "renovated_no           21082 non-null category\n",
      "renovated_yes          21082 non-null category\n",
      "zipcode_98000_98025    21082 non-null category\n",
      "zipcode_98025_98050    21082 non-null category\n",
      "zipcode_98050_98075    21082 non-null category\n",
      "zipcode_98075_98100    21082 non-null category\n",
      "zipcode_98100_98125    21082 non-null category\n",
      "zipcode_98125_98150    21082 non-null category\n",
      "zipcode_98150_98175    21082 non-null category\n",
      "zipcode_98175_98200    21082 non-null category\n",
      "dtypes: category(36), float64(12)\n",
      "memory usage: 2.8 MB\n"
     ]
    }
   ],
   "source": [
    "df_cat = df\n",
    "df_cat.info()"
   ]
  },
  {
   "cell_type": "code",
   "execution_count": 394,
   "metadata": {},
   "outputs": [
    {
     "data": {
      "text/plain": [
       "Index(['price', 'bedrooms', 'bathrooms', 'sqft_living', 'sqft_lot',\n",
       "       'sqft_above', 'sqft_basement', 'yr_built', 'lat', 'long',\n",
       "       'sqft_living15', 'sqft_lot15', 'floors_1', 'floors_2', 'floors_3',\n",
       "       'waterfront_no', 'waterfront_yes', 'view_0', 'view_1', 'view_2',\n",
       "       'view_3', 'view_4', 'condition_1', 'condition_2', 'condition_3',\n",
       "       'condition_4', 'condition_5', 'grade_3', 'grade_4', 'grade_5',\n",
       "       'grade_6', 'grade_7', 'grade_8', 'grade_9', 'grade_10', 'grade_11',\n",
       "       'grade_12', 'grade_13', 'renovated_no', 'renovated_yes',\n",
       "       'zipcode_98000_98025', 'zipcode_98025_98050', 'zipcode_98050_98075',\n",
       "       'zipcode_98075_98100', 'zipcode_98100_98125', 'zipcode_98125_98150',\n",
       "       'zipcode_98150_98175', 'zipcode_98175_98200'],\n",
       "      dtype='object')"
      ]
     },
     "execution_count": 394,
     "metadata": {},
     "output_type": "execute_result"
    }
   ],
   "source": [
    "df_cat.columns"
   ]
  },
  {
   "cell_type": "code",
   "execution_count": 395,
   "metadata": {},
   "outputs": [],
   "source": [
    "df_cat = df_cat.drop(['bedrooms', 'bathrooms', 'sqft_living', 'sqft_lot',\n",
    "       'sqft_above', 'sqft_basement', 'yr_built', 'lat', 'long',\n",
    "       'sqft_living15', 'sqft_lot15'], axis=1)"
   ]
  },
  {
   "cell_type": "markdown",
   "metadata": {},
   "source": [
    "Dropping the numerical data above, and dropping one of each dummy columns below for singularity."
   ]
  },
  {
   "cell_type": "code",
   "execution_count": 396,
   "metadata": {},
   "outputs": [],
   "source": [
    "df_cat1 = df_cat.drop(['floors_1', 'waterfront_no', 'view_0', 'condition_1', 'grade_3', 'renovated_no', 'zipcode_98175_98200'], axis=1)"
   ]
  },
  {
   "cell_type": "code",
   "execution_count": 397,
   "metadata": {},
   "outputs": [],
   "source": [
    "import statsmodels.formula.api as smf\n",
    "from statsmodels.formula.api import ols"
   ]
  },
  {
   "cell_type": "code",
   "execution_count": 398,
   "metadata": {},
   "outputs": [
    {
     "data": {
      "text/html": [
       "<table class=\"simpletable\">\n",
       "<caption>OLS Regression Results</caption>\n",
       "<tr>\n",
       "  <th>Dep. Variable:</th>          <td>price</td>      <th>  R-squared:         </th>  <td>   0.633</td>  \n",
       "</tr>\n",
       "<tr>\n",
       "  <th>Model:</th>                   <td>OLS</td>       <th>  Adj. R-squared:    </th>  <td>   0.633</td>  \n",
       "</tr>\n",
       "<tr>\n",
       "  <th>Method:</th>             <td>Least Squares</td>  <th>  F-statistic:       </th>  <td>   1252.</td>  \n",
       "</tr>\n",
       "<tr>\n",
       "  <th>Date:</th>             <td>Fri, 08 Mar 2019</td> <th>  Prob (F-statistic):</th>   <td>  0.00</td>   \n",
       "</tr>\n",
       "<tr>\n",
       "  <th>Time:</th>                 <td>08:58:28</td>     <th>  Log-Likelihood:    </th> <td>-2.8946e+05</td>\n",
       "</tr>\n",
       "<tr>\n",
       "  <th>No. Observations:</th>      <td> 21082</td>      <th>  AIC:               </th>  <td>5.790e+05</td> \n",
       "</tr>\n",
       "<tr>\n",
       "  <th>Df Residuals:</th>          <td> 21052</td>      <th>  BIC:               </th>  <td>5.792e+05</td> \n",
       "</tr>\n",
       "<tr>\n",
       "  <th>Df Model:</th>              <td>    29</td>      <th>                     </th>      <td> </td>     \n",
       "</tr>\n",
       "<tr>\n",
       "  <th>Covariance Type:</th>      <td>nonrobust</td>    <th>                     </th>      <td> </td>     \n",
       "</tr>\n",
       "</table>\n",
       "<table class=\"simpletable\">\n",
       "<tr>\n",
       "              <td></td>                <th>coef</th>     <th>std err</th>      <th>t</th>      <th>P>|t|</th>  <th>[0.025</th>    <th>0.975]</th>  \n",
       "</tr>\n",
       "<tr>\n",
       "  <th>Intercept</th>                <td> 1.093e+05</td> <td> 2.27e+05</td> <td>    0.483</td> <td> 0.629</td> <td>-3.35e+05</td> <td> 5.53e+05</td>\n",
       "</tr>\n",
       "<tr>\n",
       "  <th>floors_2[T.1]</th>            <td>-1739.3249</td> <td> 3940.893</td> <td>   -0.441</td> <td> 0.659</td> <td>-9463.777</td> <td> 5985.128</td>\n",
       "</tr>\n",
       "<tr>\n",
       "  <th>floors_3[T.1]</th>            <td>-9.123e+04</td> <td> 9925.647</td> <td>   -9.192</td> <td> 0.000</td> <td>-1.11e+05</td> <td>-7.18e+04</td>\n",
       "</tr>\n",
       "<tr>\n",
       "  <th>waterfront_yes[T.1]</th>      <td>  5.55e+05</td> <td> 2.29e+04</td> <td>   24.237</td> <td> 0.000</td> <td>  5.1e+05</td> <td>    6e+05</td>\n",
       "</tr>\n",
       "<tr>\n",
       "  <th>view_1[T.1]</th>              <td> 1.725e+05</td> <td> 1.25e+04</td> <td>   13.796</td> <td> 0.000</td> <td> 1.48e+05</td> <td> 1.97e+05</td>\n",
       "</tr>\n",
       "<tr>\n",
       "  <th>view_2[T.1]</th>              <td> 1.067e+05</td> <td> 7626.362</td> <td>   13.990</td> <td> 0.000</td> <td> 9.17e+04</td> <td> 1.22e+05</td>\n",
       "</tr>\n",
       "<tr>\n",
       "  <th>view_3[T.1]</th>              <td> 1.788e+05</td> <td> 1.04e+04</td> <td>   17.243</td> <td> 0.000</td> <td> 1.58e+05</td> <td> 1.99e+05</td>\n",
       "</tr>\n",
       "<tr>\n",
       "  <th>view_4[T.1]</th>              <td>  3.32e+05</td> <td> 1.58e+04</td> <td>   21.068</td> <td> 0.000</td> <td> 3.01e+05</td> <td> 3.63e+05</td>\n",
       "</tr>\n",
       "<tr>\n",
       "  <th>condition_2[T.1]</th>         <td>-7345.5380</td> <td> 4.56e+04</td> <td>   -0.161</td> <td> 0.872</td> <td>-9.67e+04</td> <td>  8.2e+04</td>\n",
       "</tr>\n",
       "<tr>\n",
       "  <th>condition_3[T.1]</th>         <td> 1944.6169</td> <td> 4.24e+04</td> <td>    0.046</td> <td> 0.963</td> <td>-8.12e+04</td> <td> 8.51e+04</td>\n",
       "</tr>\n",
       "<tr>\n",
       "  <th>condition_4[T.1]</th>         <td> 6.588e+04</td> <td> 4.24e+04</td> <td>    1.552</td> <td> 0.121</td> <td>-1.73e+04</td> <td> 1.49e+05</td>\n",
       "</tr>\n",
       "<tr>\n",
       "  <th>condition_5[T.1]</th>         <td> 1.403e+05</td> <td> 4.27e+04</td> <td>    3.289</td> <td> 0.001</td> <td> 5.67e+04</td> <td> 2.24e+05</td>\n",
       "</tr>\n",
       "<tr>\n",
       "  <th>grade_4[T.1]</th>             <td> 3.211e+04</td> <td> 2.27e+05</td> <td>    0.142</td> <td> 0.887</td> <td>-4.12e+05</td> <td> 4.76e+05</td>\n",
       "</tr>\n",
       "<tr>\n",
       "  <th>grade_5[T.1]</th>             <td> 4.864e+04</td> <td> 2.23e+05</td> <td>    0.218</td> <td> 0.827</td> <td>-3.88e+05</td> <td> 4.85e+05</td>\n",
       "</tr>\n",
       "<tr>\n",
       "  <th>grade_6[T.1]</th>             <td> 9.177e+04</td> <td> 2.22e+05</td> <td>    0.413</td> <td> 0.680</td> <td>-3.44e+05</td> <td> 5.28e+05</td>\n",
       "</tr>\n",
       "<tr>\n",
       "  <th>grade_7[T.1]</th>             <td> 2.041e+05</td> <td> 2.22e+05</td> <td>    0.918</td> <td> 0.359</td> <td>-2.32e+05</td> <td>  6.4e+05</td>\n",
       "</tr>\n",
       "<tr>\n",
       "  <th>grade_8[T.1]</th>             <td> 3.545e+05</td> <td> 2.22e+05</td> <td>    1.594</td> <td> 0.111</td> <td>-8.15e+04</td> <td>  7.9e+05</td>\n",
       "</tr>\n",
       "<tr>\n",
       "  <th>grade_9[T.1]</th>             <td> 5.859e+05</td> <td> 2.22e+05</td> <td>    2.634</td> <td> 0.008</td> <td>  1.5e+05</td> <td> 1.02e+06</td>\n",
       "</tr>\n",
       "<tr>\n",
       "  <th>grade_10[T.1]</th>            <td>  8.68e+05</td> <td> 2.23e+05</td> <td>    3.901</td> <td> 0.000</td> <td> 4.32e+05</td> <td>  1.3e+06</td>\n",
       "</tr>\n",
       "<tr>\n",
       "  <th>grade_11[T.1]</th>            <td> 1.262e+06</td> <td> 2.23e+05</td> <td>    5.666</td> <td> 0.000</td> <td> 8.25e+05</td> <td>  1.7e+06</td>\n",
       "</tr>\n",
       "<tr>\n",
       "  <th>grade_12[T.1]</th>            <td> 1.859e+06</td> <td> 2.24e+05</td> <td>    8.308</td> <td> 0.000</td> <td> 1.42e+06</td> <td>  2.3e+06</td>\n",
       "</tr>\n",
       "<tr>\n",
       "  <th>grade_13[T.1]</th>            <td>  3.41e+06</td> <td> 2.31e+05</td> <td>   14.769</td> <td> 0.000</td> <td> 2.96e+06</td> <td> 3.86e+06</td>\n",
       "</tr>\n",
       "<tr>\n",
       "  <th>renovated_yes[T.1]</th>       <td> 1.566e+05</td> <td> 8525.810</td> <td>   18.372</td> <td> 0.000</td> <td>  1.4e+05</td> <td> 1.73e+05</td>\n",
       "</tr>\n",
       "<tr>\n",
       "  <th>zipcode_98000_98025[T.1]</th> <td> 1.234e+04</td> <td> 7450.864</td> <td>    1.657</td> <td> 0.098</td> <td>-2261.000</td> <td> 2.69e+04</td>\n",
       "</tr>\n",
       "<tr>\n",
       "  <th>zipcode_98025_98050[T.1]</th> <td> 1.502e+04</td> <td> 7356.914</td> <td>    2.041</td> <td> 0.041</td> <td>  598.997</td> <td> 2.94e+04</td>\n",
       "</tr>\n",
       "<tr>\n",
       "  <th>zipcode_98050_98075[T.1]</th> <td>-1.005e+04</td> <td> 7454.410</td> <td>   -1.348</td> <td> 0.178</td> <td>-2.47e+04</td> <td> 4560.063</td>\n",
       "</tr>\n",
       "<tr>\n",
       "  <th>zipcode_98075_98100[T.1]</th> <td>-1.269e+05</td> <td> 1.17e+04</td> <td>  -10.860</td> <td> 0.000</td> <td> -1.5e+05</td> <td>-1.04e+05</td>\n",
       "</tr>\n",
       "<tr>\n",
       "  <th>zipcode_98100_98125[T.1]</th> <td> 1.506e+05</td> <td> 7211.466</td> <td>   20.877</td> <td> 0.000</td> <td> 1.36e+05</td> <td> 1.65e+05</td>\n",
       "</tr>\n",
       "<tr>\n",
       "  <th>zipcode_98125_98150[T.1]</th> <td> 3.304e+04</td> <td> 8335.133</td> <td>    3.964</td> <td> 0.000</td> <td> 1.67e+04</td> <td> 4.94e+04</td>\n",
       "</tr>\n",
       "<tr>\n",
       "  <th>zipcode_98150_98175[T.1]</th> <td>-2.993e+04</td> <td> 9681.146</td> <td>   -3.091</td> <td> 0.002</td> <td>-4.89e+04</td> <td> -1.1e+04</td>\n",
       "</tr>\n",
       "</table>\n",
       "<table class=\"simpletable\">\n",
       "<tr>\n",
       "  <th>Omnibus:</th>       <td>13996.345</td> <th>  Durbin-Watson:     </th>  <td>   1.976</td> \n",
       "</tr>\n",
       "<tr>\n",
       "  <th>Prob(Omnibus):</th>  <td> 0.000</td>   <th>  Jarque-Bera (JB):  </th> <td>731591.305</td>\n",
       "</tr>\n",
       "<tr>\n",
       "  <th>Skew:</th>           <td> 2.565</td>   <th>  Prob(JB):          </th>  <td>    0.00</td> \n",
       "</tr>\n",
       "<tr>\n",
       "  <th>Kurtosis:</th>       <td>31.400</td>   <th>  Cond. No.          </th>  <td>    709.</td> \n",
       "</tr>\n",
       "</table><br/><br/>Warnings:<br/>[1] Standard Errors assume that the covariance matrix of the errors is correctly specified."
      ],
      "text/plain": [
       "<class 'statsmodels.iolib.summary.Summary'>\n",
       "\"\"\"\n",
       "                            OLS Regression Results                            \n",
       "==============================================================================\n",
       "Dep. Variable:                  price   R-squared:                       0.633\n",
       "Model:                            OLS   Adj. R-squared:                  0.633\n",
       "Method:                 Least Squares   F-statistic:                     1252.\n",
       "Date:                Fri, 08 Mar 2019   Prob (F-statistic):               0.00\n",
       "Time:                        08:58:28   Log-Likelihood:            -2.8946e+05\n",
       "No. Observations:               21082   AIC:                         5.790e+05\n",
       "Df Residuals:                   21052   BIC:                         5.792e+05\n",
       "Df Model:                          29                                         \n",
       "Covariance Type:            nonrobust                                         \n",
       "============================================================================================\n",
       "                               coef    std err          t      P>|t|      [0.025      0.975]\n",
       "--------------------------------------------------------------------------------------------\n",
       "Intercept                 1.093e+05   2.27e+05      0.483      0.629   -3.35e+05    5.53e+05\n",
       "floors_2[T.1]            -1739.3249   3940.893     -0.441      0.659   -9463.777    5985.128\n",
       "floors_3[T.1]            -9.123e+04   9925.647     -9.192      0.000   -1.11e+05   -7.18e+04\n",
       "waterfront_yes[T.1]        5.55e+05   2.29e+04     24.237      0.000     5.1e+05       6e+05\n",
       "view_1[T.1]               1.725e+05   1.25e+04     13.796      0.000    1.48e+05    1.97e+05\n",
       "view_2[T.1]               1.067e+05   7626.362     13.990      0.000    9.17e+04    1.22e+05\n",
       "view_3[T.1]               1.788e+05   1.04e+04     17.243      0.000    1.58e+05    1.99e+05\n",
       "view_4[T.1]                3.32e+05   1.58e+04     21.068      0.000    3.01e+05    3.63e+05\n",
       "condition_2[T.1]         -7345.5380   4.56e+04     -0.161      0.872   -9.67e+04     8.2e+04\n",
       "condition_3[T.1]          1944.6169   4.24e+04      0.046      0.963   -8.12e+04    8.51e+04\n",
       "condition_4[T.1]          6.588e+04   4.24e+04      1.552      0.121   -1.73e+04    1.49e+05\n",
       "condition_5[T.1]          1.403e+05   4.27e+04      3.289      0.001    5.67e+04    2.24e+05\n",
       "grade_4[T.1]              3.211e+04   2.27e+05      0.142      0.887   -4.12e+05    4.76e+05\n",
       "grade_5[T.1]              4.864e+04   2.23e+05      0.218      0.827   -3.88e+05    4.85e+05\n",
       "grade_6[T.1]              9.177e+04   2.22e+05      0.413      0.680   -3.44e+05    5.28e+05\n",
       "grade_7[T.1]              2.041e+05   2.22e+05      0.918      0.359   -2.32e+05     6.4e+05\n",
       "grade_8[T.1]              3.545e+05   2.22e+05      1.594      0.111   -8.15e+04     7.9e+05\n",
       "grade_9[T.1]              5.859e+05   2.22e+05      2.634      0.008     1.5e+05    1.02e+06\n",
       "grade_10[T.1]              8.68e+05   2.23e+05      3.901      0.000    4.32e+05     1.3e+06\n",
       "grade_11[T.1]             1.262e+06   2.23e+05      5.666      0.000    8.25e+05     1.7e+06\n",
       "grade_12[T.1]             1.859e+06   2.24e+05      8.308      0.000    1.42e+06     2.3e+06\n",
       "grade_13[T.1]              3.41e+06   2.31e+05     14.769      0.000    2.96e+06    3.86e+06\n",
       "renovated_yes[T.1]        1.566e+05   8525.810     18.372      0.000     1.4e+05    1.73e+05\n",
       "zipcode_98000_98025[T.1]  1.234e+04   7450.864      1.657      0.098   -2261.000    2.69e+04\n",
       "zipcode_98025_98050[T.1]  1.502e+04   7356.914      2.041      0.041     598.997    2.94e+04\n",
       "zipcode_98050_98075[T.1] -1.005e+04   7454.410     -1.348      0.178   -2.47e+04    4560.063\n",
       "zipcode_98075_98100[T.1] -1.269e+05   1.17e+04    -10.860      0.000    -1.5e+05   -1.04e+05\n",
       "zipcode_98100_98125[T.1]  1.506e+05   7211.466     20.877      0.000    1.36e+05    1.65e+05\n",
       "zipcode_98125_98150[T.1]  3.304e+04   8335.133      3.964      0.000    1.67e+04    4.94e+04\n",
       "zipcode_98150_98175[T.1] -2.993e+04   9681.146     -3.091      0.002   -4.89e+04    -1.1e+04\n",
       "==============================================================================\n",
       "Omnibus:                    13996.345   Durbin-Watson:                   1.976\n",
       "Prob(Omnibus):                  0.000   Jarque-Bera (JB):           731591.305\n",
       "Skew:                           2.565   Prob(JB):                         0.00\n",
       "Kurtosis:                      31.400   Cond. No.                         709.\n",
       "==============================================================================\n",
       "\n",
       "Warnings:\n",
       "[1] Standard Errors assume that the covariance matrix of the errors is correctly specified.\n",
       "\"\"\""
      ]
     },
     "execution_count": 398,
     "metadata": {},
     "output_type": "execute_result"
    }
   ],
   "source": [
    "predictors11 = df_cat1.drop('price', axis=1)\n",
    "pred_sum = \"+\".join(predictors11.columns)\n",
    "formula = 'price' + \"~\" + pred_sum\n",
    "model = ols(formula= formula, data=df_cat1).fit()\n",
    "model.summary()"
   ]
  },
  {
   "cell_type": "markdown",
   "metadata": {},
   "source": [
    "Only predictors that have a p-value of <0.05 are renovated_yes and waterfront_yes.  Dropping all columns and will run analysis again."
   ]
  },
  {
   "cell_type": "code",
   "execution_count": 400,
   "metadata": {},
   "outputs": [],
   "source": [
    "df_cat1 = df_cat1.drop(['floors_2', 'condition_2', 'condition_3', 'condition_4',\n",
    "       'grade_4', 'grade_5', 'grade_6', 'grade_7',\n",
    "       'grade_8', 'zipcode_98000_98025', 'zipcode_98050_98075'], axis=1)"
   ]
  },
  {
   "cell_type": "code",
   "execution_count": 402,
   "metadata": {},
   "outputs": [
    {
     "data": {
      "text/plain": [
       "Index(['price', 'floors_3', 'waterfront_yes', 'view_1', 'view_2', 'view_3',\n",
       "       'view_4', 'condition_5', 'grade_9', 'grade_10', 'grade_11', 'grade_12',\n",
       "       'grade_13', 'renovated_yes', 'zipcode_98025_98050',\n",
       "       'zipcode_98075_98100', 'zipcode_98100_98125', 'zipcode_98125_98150',\n",
       "       'zipcode_98150_98175'],\n",
       "      dtype='object')"
      ]
     },
     "execution_count": 402,
     "metadata": {},
     "output_type": "execute_result"
    }
   ],
   "source": [
    "df_cat1.columns"
   ]
  },
  {
   "cell_type": "code",
   "execution_count": 403,
   "metadata": {},
   "outputs": [
    {
     "data": {
      "text/html": [
       "<table class=\"simpletable\">\n",
       "<caption>OLS Regression Results</caption>\n",
       "<tr>\n",
       "  <th>Dep. Variable:</th>          <td>price</td>      <th>  R-squared:         </th>  <td>   0.583</td>  \n",
       "</tr>\n",
       "<tr>\n",
       "  <th>Model:</th>                   <td>OLS</td>       <th>  Adj. R-squared:    </th>  <td>   0.583</td>  \n",
       "</tr>\n",
       "<tr>\n",
       "  <th>Method:</th>             <td>Least Squares</td>  <th>  F-statistic:       </th>  <td>   1639.</td>  \n",
       "</tr>\n",
       "<tr>\n",
       "  <th>Date:</th>             <td>Fri, 08 Mar 2019</td> <th>  Prob (F-statistic):</th>   <td>  0.00</td>   \n",
       "</tr>\n",
       "<tr>\n",
       "  <th>Time:</th>                 <td>09:00:09</td>     <th>  Log-Likelihood:    </th> <td>-2.9079e+05</td>\n",
       "</tr>\n",
       "<tr>\n",
       "  <th>No. Observations:</th>      <td> 21082</td>      <th>  AIC:               </th>  <td>5.816e+05</td> \n",
       "</tr>\n",
       "<tr>\n",
       "  <th>Df Residuals:</th>          <td> 21063</td>      <th>  BIC:               </th>  <td>5.818e+05</td> \n",
       "</tr>\n",
       "<tr>\n",
       "  <th>Df Model:</th>              <td>    18</td>      <th>                     </th>      <td> </td>     \n",
       "</tr>\n",
       "<tr>\n",
       "  <th>Covariance Type:</th>      <td>nonrobust</td>    <th>                     </th>      <td> </td>     \n",
       "</tr>\n",
       "</table>\n",
       "<table class=\"simpletable\">\n",
       "<tr>\n",
       "              <td></td>                <th>coef</th>     <th>std err</th>      <th>t</th>      <th>P>|t|</th>  <th>[0.025</th>    <th>0.975]</th>  \n",
       "</tr>\n",
       "<tr>\n",
       "  <th>Intercept</th>                <td> 3.804e+05</td> <td> 2803.175</td> <td>  135.688</td> <td> 0.000</td> <td> 3.75e+05</td> <td> 3.86e+05</td>\n",
       "</tr>\n",
       "<tr>\n",
       "  <th>floors_3[T.1]</th>            <td>-2.855e+04</td> <td> 1.01e+04</td> <td>   -2.823</td> <td> 0.005</td> <td>-4.84e+04</td> <td>-8729.776</td>\n",
       "</tr>\n",
       "<tr>\n",
       "  <th>waterfront_yes[T.1]</th>      <td>  5.33e+05</td> <td> 2.44e+04</td> <td>   21.876</td> <td> 0.000</td> <td> 4.85e+05</td> <td> 5.81e+05</td>\n",
       "</tr>\n",
       "<tr>\n",
       "  <th>view_1[T.1]</th>              <td> 2.068e+05</td> <td> 1.33e+04</td> <td>   15.610</td> <td> 0.000</td> <td> 1.81e+05</td> <td> 2.33e+05</td>\n",
       "</tr>\n",
       "<tr>\n",
       "  <th>view_2[T.1]</th>              <td> 1.423e+05</td> <td> 8039.109</td> <td>   17.702</td> <td> 0.000</td> <td> 1.27e+05</td> <td> 1.58e+05</td>\n",
       "</tr>\n",
       "<tr>\n",
       "  <th>view_3[T.1]</th>              <td> 2.197e+05</td> <td>  1.1e+04</td> <td>   20.056</td> <td> 0.000</td> <td> 1.98e+05</td> <td> 2.41e+05</td>\n",
       "</tr>\n",
       "<tr>\n",
       "  <th>view_4[T.1]</th>              <td> 3.773e+05</td> <td> 1.67e+04</td> <td>   22.605</td> <td> 0.000</td> <td> 3.45e+05</td> <td>  4.1e+05</td>\n",
       "</tr>\n",
       "<tr>\n",
       "  <th>condition_5[T.1]</th>         <td> 1.042e+05</td> <td> 6105.259</td> <td>   17.068</td> <td> 0.000</td> <td> 9.22e+04</td> <td> 1.16e+05</td>\n",
       "</tr>\n",
       "<tr>\n",
       "  <th>grade_9[T.1]</th>             <td> 3.232e+05</td> <td> 5136.546</td> <td>   62.918</td> <td> 0.000</td> <td> 3.13e+05</td> <td> 3.33e+05</td>\n",
       "</tr>\n",
       "<tr>\n",
       "  <th>grade_10[T.1]</th>            <td> 5.991e+05</td> <td> 7498.038</td> <td>   79.902</td> <td> 0.000</td> <td> 5.84e+05</td> <td> 6.14e+05</td>\n",
       "</tr>\n",
       "<tr>\n",
       "  <th>grade_11[T.1]</th>            <td> 9.858e+05</td> <td> 1.24e+04</td> <td>   79.699</td> <td> 0.000</td> <td> 9.62e+05</td> <td> 1.01e+06</td>\n",
       "</tr>\n",
       "<tr>\n",
       "  <th>grade_12[T.1]</th>            <td> 1.581e+06</td> <td> 2.56e+04</td> <td>   61.764</td> <td> 0.000</td> <td> 1.53e+06</td> <td> 1.63e+06</td>\n",
       "</tr>\n",
       "<tr>\n",
       "  <th>grade_13[T.1]</th>            <td> 3.129e+06</td> <td> 6.59e+04</td> <td>   47.500</td> <td> 0.000</td> <td>    3e+06</td> <td> 3.26e+06</td>\n",
       "</tr>\n",
       "<tr>\n",
       "  <th>renovated_yes[T.1]</th>       <td> 1.551e+05</td> <td> 9054.551</td> <td>   17.126</td> <td> 0.000</td> <td> 1.37e+05</td> <td> 1.73e+05</td>\n",
       "</tr>\n",
       "<tr>\n",
       "  <th>zipcode_98025_98050[T.1]</th> <td> 1.711e+04</td> <td> 4436.441</td> <td>    3.856</td> <td> 0.000</td> <td> 8409.417</td> <td> 2.58e+04</td>\n",
       "</tr>\n",
       "<tr>\n",
       "  <th>zipcode_98075_98100[T.1]</th> <td>-1.081e+05</td> <td> 1.06e+04</td> <td>  -10.238</td> <td> 0.000</td> <td>-1.29e+05</td> <td>-8.74e+04</td>\n",
       "</tr>\n",
       "<tr>\n",
       "  <th>zipcode_98100_98125[T.1]</th> <td> 1.284e+05</td> <td> 4406.038</td> <td>   29.153</td> <td> 0.000</td> <td>  1.2e+05</td> <td> 1.37e+05</td>\n",
       "</tr>\n",
       "<tr>\n",
       "  <th>zipcode_98125_98150[T.1]</th> <td>-5479.1488</td> <td> 6297.299</td> <td>   -0.870</td> <td> 0.384</td> <td>-1.78e+04</td> <td> 6864.039</td>\n",
       "</tr>\n",
       "<tr>\n",
       "  <th>zipcode_98150_98175[T.1]</th> <td>-7.847e+04</td> <td> 8159.687</td> <td>   -9.617</td> <td> 0.000</td> <td>-9.45e+04</td> <td>-6.25e+04</td>\n",
       "</tr>\n",
       "</table>\n",
       "<table class=\"simpletable\">\n",
       "<tr>\n",
       "  <th>Omnibus:</th>       <td>12586.652</td> <th>  Durbin-Watson:     </th>  <td>   1.973</td> \n",
       "</tr>\n",
       "<tr>\n",
       "  <th>Prob(Omnibus):</th>  <td> 0.000</td>   <th>  Jarque-Bera (JB):  </th> <td>462036.189</td>\n",
       "</tr>\n",
       "<tr>\n",
       "  <th>Skew:</th>           <td> 2.287</td>   <th>  Prob(JB):          </th>  <td>    0.00</td> \n",
       "</tr>\n",
       "<tr>\n",
       "  <th>Kurtosis:</th>       <td>25.474</td>   <th>  Cond. No.          </th>  <td>    43.2</td> \n",
       "</tr>\n",
       "</table><br/><br/>Warnings:<br/>[1] Standard Errors assume that the covariance matrix of the errors is correctly specified."
      ],
      "text/plain": [
       "<class 'statsmodels.iolib.summary.Summary'>\n",
       "\"\"\"\n",
       "                            OLS Regression Results                            \n",
       "==============================================================================\n",
       "Dep. Variable:                  price   R-squared:                       0.583\n",
       "Model:                            OLS   Adj. R-squared:                  0.583\n",
       "Method:                 Least Squares   F-statistic:                     1639.\n",
       "Date:                Fri, 08 Mar 2019   Prob (F-statistic):               0.00\n",
       "Time:                        09:00:09   Log-Likelihood:            -2.9079e+05\n",
       "No. Observations:               21082   AIC:                         5.816e+05\n",
       "Df Residuals:                   21063   BIC:                         5.818e+05\n",
       "Df Model:                          18                                         \n",
       "Covariance Type:            nonrobust                                         \n",
       "============================================================================================\n",
       "                               coef    std err          t      P>|t|      [0.025      0.975]\n",
       "--------------------------------------------------------------------------------------------\n",
       "Intercept                 3.804e+05   2803.175    135.688      0.000    3.75e+05    3.86e+05\n",
       "floors_3[T.1]            -2.855e+04   1.01e+04     -2.823      0.005   -4.84e+04   -8729.776\n",
       "waterfront_yes[T.1]        5.33e+05   2.44e+04     21.876      0.000    4.85e+05    5.81e+05\n",
       "view_1[T.1]               2.068e+05   1.33e+04     15.610      0.000    1.81e+05    2.33e+05\n",
       "view_2[T.1]               1.423e+05   8039.109     17.702      0.000    1.27e+05    1.58e+05\n",
       "view_3[T.1]               2.197e+05    1.1e+04     20.056      0.000    1.98e+05    2.41e+05\n",
       "view_4[T.1]               3.773e+05   1.67e+04     22.605      0.000    3.45e+05     4.1e+05\n",
       "condition_5[T.1]          1.042e+05   6105.259     17.068      0.000    9.22e+04    1.16e+05\n",
       "grade_9[T.1]              3.232e+05   5136.546     62.918      0.000    3.13e+05    3.33e+05\n",
       "grade_10[T.1]             5.991e+05   7498.038     79.902      0.000    5.84e+05    6.14e+05\n",
       "grade_11[T.1]             9.858e+05   1.24e+04     79.699      0.000    9.62e+05    1.01e+06\n",
       "grade_12[T.1]             1.581e+06   2.56e+04     61.764      0.000    1.53e+06    1.63e+06\n",
       "grade_13[T.1]             3.129e+06   6.59e+04     47.500      0.000       3e+06    3.26e+06\n",
       "renovated_yes[T.1]        1.551e+05   9054.551     17.126      0.000    1.37e+05    1.73e+05\n",
       "zipcode_98025_98050[T.1]  1.711e+04   4436.441      3.856      0.000    8409.417    2.58e+04\n",
       "zipcode_98075_98100[T.1] -1.081e+05   1.06e+04    -10.238      0.000   -1.29e+05   -8.74e+04\n",
       "zipcode_98100_98125[T.1]  1.284e+05   4406.038     29.153      0.000     1.2e+05    1.37e+05\n",
       "zipcode_98125_98150[T.1] -5479.1488   6297.299     -0.870      0.384   -1.78e+04    6864.039\n",
       "zipcode_98150_98175[T.1] -7.847e+04   8159.687     -9.617      0.000   -9.45e+04   -6.25e+04\n",
       "==============================================================================\n",
       "Omnibus:                    12586.652   Durbin-Watson:                   1.973\n",
       "Prob(Omnibus):                  0.000   Jarque-Bera (JB):           462036.189\n",
       "Skew:                           2.287   Prob(JB):                         0.00\n",
       "Kurtosis:                      25.474   Cond. No.                         43.2\n",
       "==============================================================================\n",
       "\n",
       "Warnings:\n",
       "[1] Standard Errors assume that the covariance matrix of the errors is correctly specified.\n",
       "\"\"\""
      ]
     },
     "execution_count": 403,
     "metadata": {},
     "output_type": "execute_result"
    }
   ],
   "source": [
    "predictors12 = df_cat1.drop('price', axis=1)\n",
    "pred_sum = \"+\".join(predictors12.columns)\n",
    "formula = 'price' + \"~\" + pred_sum\n",
    "model = ols(formula= formula, data=df_cat1).fit()\n",
    "model.summary()"
   ]
  },
  {
   "cell_type": "code",
   "execution_count": 404,
   "metadata": {},
   "outputs": [],
   "source": [
    "df_cat1 = df_cat1.drop(['zipcode_98125_98150'], axis=1)"
   ]
  },
  {
   "cell_type": "code",
   "execution_count": 406,
   "metadata": {},
   "outputs": [
    {
     "data": {
      "text/html": [
       "<table class=\"simpletable\">\n",
       "<caption>OLS Regression Results</caption>\n",
       "<tr>\n",
       "  <th>Dep. Variable:</th>          <td>price</td>      <th>  R-squared:         </th>  <td>   0.583</td>  \n",
       "</tr>\n",
       "<tr>\n",
       "  <th>Model:</th>                   <td>OLS</td>       <th>  Adj. R-squared:    </th>  <td>   0.583</td>  \n",
       "</tr>\n",
       "<tr>\n",
       "  <th>Method:</th>             <td>Least Squares</td>  <th>  F-statistic:       </th>  <td>   1736.</td>  \n",
       "</tr>\n",
       "<tr>\n",
       "  <th>Date:</th>             <td>Fri, 08 Mar 2019</td> <th>  Prob (F-statistic):</th>   <td>  0.00</td>   \n",
       "</tr>\n",
       "<tr>\n",
       "  <th>Time:</th>                 <td>09:02:44</td>     <th>  Log-Likelihood:    </th> <td>-2.9079e+05</td>\n",
       "</tr>\n",
       "<tr>\n",
       "  <th>No. Observations:</th>      <td> 21082</td>      <th>  AIC:               </th>  <td>5.816e+05</td> \n",
       "</tr>\n",
       "<tr>\n",
       "  <th>Df Residuals:</th>          <td> 21064</td>      <th>  BIC:               </th>  <td>5.818e+05</td> \n",
       "</tr>\n",
       "<tr>\n",
       "  <th>Df Model:</th>              <td>    17</td>      <th>                     </th>      <td> </td>     \n",
       "</tr>\n",
       "<tr>\n",
       "  <th>Covariance Type:</th>      <td>nonrobust</td>    <th>                     </th>      <td> </td>     \n",
       "</tr>\n",
       "</table>\n",
       "<table class=\"simpletable\">\n",
       "<tr>\n",
       "              <td></td>                <th>coef</th>     <th>std err</th>      <th>t</th>      <th>P>|t|</th>  <th>[0.025</th>    <th>0.975]</th>  \n",
       "</tr>\n",
       "<tr>\n",
       "  <th>Intercept</th>                <td> 3.794e+05</td> <td> 2574.908</td> <td>  147.342</td> <td> 0.000</td> <td> 3.74e+05</td> <td> 3.84e+05</td>\n",
       "</tr>\n",
       "<tr>\n",
       "  <th>floors_3[T.1]</th>            <td>-2.918e+04</td> <td> 1.01e+04</td> <td>   -2.893</td> <td> 0.004</td> <td> -4.9e+04</td> <td>-9407.218</td>\n",
       "</tr>\n",
       "<tr>\n",
       "  <th>waterfront_yes[T.1]</th>      <td> 5.333e+05</td> <td> 2.44e+04</td> <td>   21.891</td> <td> 0.000</td> <td> 4.86e+05</td> <td> 5.81e+05</td>\n",
       "</tr>\n",
       "<tr>\n",
       "  <th>view_1[T.1]</th>              <td> 2.065e+05</td> <td> 1.32e+04</td> <td>   15.591</td> <td> 0.000</td> <td> 1.81e+05</td> <td> 2.32e+05</td>\n",
       "</tr>\n",
       "<tr>\n",
       "  <th>view_2[T.1]</th>              <td>  1.42e+05</td> <td> 8033.435</td> <td>   17.682</td> <td> 0.000</td> <td> 1.26e+05</td> <td> 1.58e+05</td>\n",
       "</tr>\n",
       "<tr>\n",
       "  <th>view_3[T.1]</th>              <td> 2.194e+05</td> <td> 1.09e+04</td> <td>   20.040</td> <td> 0.000</td> <td> 1.98e+05</td> <td> 2.41e+05</td>\n",
       "</tr>\n",
       "<tr>\n",
       "  <th>view_4[T.1]</th>              <td> 3.769e+05</td> <td> 1.67e+04</td> <td>   22.589</td> <td> 0.000</td> <td> 3.44e+05</td> <td>  4.1e+05</td>\n",
       "</tr>\n",
       "<tr>\n",
       "  <th>condition_5[T.1]</th>         <td>  1.04e+05</td> <td> 6101.335</td> <td>   17.048</td> <td> 0.000</td> <td> 9.21e+04</td> <td> 1.16e+05</td>\n",
       "</tr>\n",
       "<tr>\n",
       "  <th>grade_9[T.1]</th>             <td> 3.236e+05</td> <td> 5109.831</td> <td>   63.336</td> <td> 0.000</td> <td> 3.14e+05</td> <td> 3.34e+05</td>\n",
       "</tr>\n",
       "<tr>\n",
       "  <th>grade_10[T.1]</th>            <td> 5.997e+05</td> <td> 7467.152</td> <td>   80.312</td> <td> 0.000</td> <td> 5.85e+05</td> <td> 6.14e+05</td>\n",
       "</tr>\n",
       "<tr>\n",
       "  <th>grade_11[T.1]</th>            <td> 9.865e+05</td> <td> 1.23e+04</td> <td>   79.933</td> <td> 0.000</td> <td> 9.62e+05</td> <td> 1.01e+06</td>\n",
       "</tr>\n",
       "<tr>\n",
       "  <th>grade_12[T.1]</th>            <td> 1.582e+06</td> <td> 2.56e+04</td> <td>   61.825</td> <td> 0.000</td> <td> 1.53e+06</td> <td> 1.63e+06</td>\n",
       "</tr>\n",
       "<tr>\n",
       "  <th>grade_13[T.1]</th>            <td>  3.13e+06</td> <td> 6.59e+04</td> <td>   47.518</td> <td> 0.000</td> <td>    3e+06</td> <td> 3.26e+06</td>\n",
       "</tr>\n",
       "<tr>\n",
       "  <th>renovated_yes[T.1]</th>       <td> 1.548e+05</td> <td> 9047.199</td> <td>   17.105</td> <td> 0.000</td> <td> 1.37e+05</td> <td> 1.72e+05</td>\n",
       "</tr>\n",
       "<tr>\n",
       "  <th>zipcode_98025_98050[T.1]</th> <td> 1.799e+04</td> <td> 4317.374</td> <td>    4.168</td> <td> 0.000</td> <td> 9530.994</td> <td> 2.65e+04</td>\n",
       "</tr>\n",
       "<tr>\n",
       "  <th>zipcode_98075_98100[T.1]</th> <td>-1.073e+05</td> <td> 1.05e+04</td> <td>  -10.201</td> <td> 0.000</td> <td>-1.28e+05</td> <td>-8.67e+04</td>\n",
       "</tr>\n",
       "<tr>\n",
       "  <th>zipcode_98100_98125[T.1]</th> <td> 1.295e+05</td> <td> 4244.296</td> <td>   30.507</td> <td> 0.000</td> <td> 1.21e+05</td> <td> 1.38e+05</td>\n",
       "</tr>\n",
       "<tr>\n",
       "  <th>zipcode_98150_98175[T.1]</th> <td>-7.748e+04</td> <td> 8079.659</td> <td>   -9.590</td> <td> 0.000</td> <td>-9.33e+04</td> <td>-6.16e+04</td>\n",
       "</tr>\n",
       "</table>\n",
       "<table class=\"simpletable\">\n",
       "<tr>\n",
       "  <th>Omnibus:</th>       <td>12590.503</td> <th>  Durbin-Watson:     </th>  <td>   1.973</td> \n",
       "</tr>\n",
       "<tr>\n",
       "  <th>Prob(Omnibus):</th>  <td> 0.000</td>   <th>  Jarque-Bera (JB):  </th> <td>462046.089</td>\n",
       "</tr>\n",
       "<tr>\n",
       "  <th>Skew:</th>           <td> 2.288</td>   <th>  Prob(JB):          </th>  <td>    0.00</td> \n",
       "</tr>\n",
       "<tr>\n",
       "  <th>Kurtosis:</th>       <td>25.474</td>   <th>  Cond. No.          </th>  <td>    43.1</td> \n",
       "</tr>\n",
       "</table><br/><br/>Warnings:<br/>[1] Standard Errors assume that the covariance matrix of the errors is correctly specified."
      ],
      "text/plain": [
       "<class 'statsmodels.iolib.summary.Summary'>\n",
       "\"\"\"\n",
       "                            OLS Regression Results                            \n",
       "==============================================================================\n",
       "Dep. Variable:                  price   R-squared:                       0.583\n",
       "Model:                            OLS   Adj. R-squared:                  0.583\n",
       "Method:                 Least Squares   F-statistic:                     1736.\n",
       "Date:                Fri, 08 Mar 2019   Prob (F-statistic):               0.00\n",
       "Time:                        09:02:44   Log-Likelihood:            -2.9079e+05\n",
       "No. Observations:               21082   AIC:                         5.816e+05\n",
       "Df Residuals:                   21064   BIC:                         5.818e+05\n",
       "Df Model:                          17                                         \n",
       "Covariance Type:            nonrobust                                         \n",
       "============================================================================================\n",
       "                               coef    std err          t      P>|t|      [0.025      0.975]\n",
       "--------------------------------------------------------------------------------------------\n",
       "Intercept                 3.794e+05   2574.908    147.342      0.000    3.74e+05    3.84e+05\n",
       "floors_3[T.1]            -2.918e+04   1.01e+04     -2.893      0.004    -4.9e+04   -9407.218\n",
       "waterfront_yes[T.1]       5.333e+05   2.44e+04     21.891      0.000    4.86e+05    5.81e+05\n",
       "view_1[T.1]               2.065e+05   1.32e+04     15.591      0.000    1.81e+05    2.32e+05\n",
       "view_2[T.1]                1.42e+05   8033.435     17.682      0.000    1.26e+05    1.58e+05\n",
       "view_3[T.1]               2.194e+05   1.09e+04     20.040      0.000    1.98e+05    2.41e+05\n",
       "view_4[T.1]               3.769e+05   1.67e+04     22.589      0.000    3.44e+05     4.1e+05\n",
       "condition_5[T.1]           1.04e+05   6101.335     17.048      0.000    9.21e+04    1.16e+05\n",
       "grade_9[T.1]              3.236e+05   5109.831     63.336      0.000    3.14e+05    3.34e+05\n",
       "grade_10[T.1]             5.997e+05   7467.152     80.312      0.000    5.85e+05    6.14e+05\n",
       "grade_11[T.1]             9.865e+05   1.23e+04     79.933      0.000    9.62e+05    1.01e+06\n",
       "grade_12[T.1]             1.582e+06   2.56e+04     61.825      0.000    1.53e+06    1.63e+06\n",
       "grade_13[T.1]              3.13e+06   6.59e+04     47.518      0.000       3e+06    3.26e+06\n",
       "renovated_yes[T.1]        1.548e+05   9047.199     17.105      0.000    1.37e+05    1.72e+05\n",
       "zipcode_98025_98050[T.1]  1.799e+04   4317.374      4.168      0.000    9530.994    2.65e+04\n",
       "zipcode_98075_98100[T.1] -1.073e+05   1.05e+04    -10.201      0.000   -1.28e+05   -8.67e+04\n",
       "zipcode_98100_98125[T.1]  1.295e+05   4244.296     30.507      0.000    1.21e+05    1.38e+05\n",
       "zipcode_98150_98175[T.1] -7.748e+04   8079.659     -9.590      0.000   -9.33e+04   -6.16e+04\n",
       "==============================================================================\n",
       "Omnibus:                    12590.503   Durbin-Watson:                   1.973\n",
       "Prob(Omnibus):                  0.000   Jarque-Bera (JB):           462046.089\n",
       "Skew:                           2.288   Prob(JB):                         0.00\n",
       "Kurtosis:                      25.474   Cond. No.                         43.1\n",
       "==============================================================================\n",
       "\n",
       "Warnings:\n",
       "[1] Standard Errors assume that the covariance matrix of the errors is correctly specified.\n",
       "\"\"\""
      ]
     },
     "execution_count": 406,
     "metadata": {},
     "output_type": "execute_result"
    }
   ],
   "source": [
    "predictors13 = df_cat1.drop('price', axis=1)\n",
    "pred_sum = \"+\".join(predictors13.columns)\n",
    "formula = 'price' + \"~\" + pred_sum\n",
    "model = ols(formula= formula, data=df_cat1).fit()\n",
    "model.summary()"
   ]
  },
  {
   "cell_type": "code",
   "execution_count": 407,
   "metadata": {},
   "outputs": [],
   "source": [
    "df_cat2 = df_cat1"
   ]
  },
  {
   "cell_type": "code",
   "execution_count": 408,
   "metadata": {},
   "outputs": [],
   "source": [
    "df_cat2 = df_cat1.drop(['price'],axis=1)"
   ]
  },
  {
   "cell_type": "code",
   "execution_count": 410,
   "metadata": {},
   "outputs": [
    {
     "name": "stdout",
     "output_type": "stream",
     "text": [
      "<class 'pandas.core.frame.DataFrame'>\n",
      "Int64Index: 21082 entries, 0 to 21596\n",
      "Data columns (total 17 columns):\n",
      "floors_3               21082 non-null category\n",
      "waterfront_yes         21082 non-null category\n",
      "view_1                 21082 non-null category\n",
      "view_2                 21082 non-null category\n",
      "view_3                 21082 non-null category\n",
      "view_4                 21082 non-null category\n",
      "condition_5            21082 non-null category\n",
      "grade_9                21082 non-null category\n",
      "grade_10               21082 non-null category\n",
      "grade_11               21082 non-null category\n",
      "grade_12               21082 non-null category\n",
      "grade_13               21082 non-null category\n",
      "renovated_yes          21082 non-null category\n",
      "zipcode_98025_98050    21082 non-null category\n",
      "zipcode_98075_98100    21082 non-null category\n",
      "zipcode_98100_98125    21082 non-null category\n",
      "zipcode_98150_98175    21082 non-null category\n",
      "dtypes: category(17)\n",
      "memory usage: 516.3 KB\n"
     ]
    }
   ],
   "source": [
    "df_cat2.info()"
   ]
  },
  {
   "cell_type": "code",
   "execution_count": 411,
   "metadata": {},
   "outputs": [],
   "source": [
    "df_1 = df"
   ]
  },
  {
   "cell_type": "code",
   "execution_count": 413,
   "metadata": {},
   "outputs": [],
   "source": [
    "df_1 = df_1.drop(['bedrooms', 'bathrooms', 'sqft_lot',\n",
    "       'sqft_basement', 'yr_built', 'lat', 'long',\n",
    "       'sqft_lot15', 'floors_1', 'floors_2', 'floors_3',\n",
    "       'waterfront_no', 'waterfront_yes', 'view_0', 'view_1', 'view_2',\n",
    "       'view_3', 'view_4', 'condition_1', 'condition_2', 'condition_3',\n",
    "       'condition_4', 'condition_5', 'grade_3', 'grade_4', 'grade_5',\n",
    "       'grade_6', 'grade_7', 'grade_8', 'grade_9', 'grade_10', 'grade_11',\n",
    "       'grade_12', 'grade_13', 'renovated_no', 'renovated_yes'], axis=1)"
   ]
  },
  {
   "cell_type": "code",
   "execution_count": 415,
   "metadata": {},
   "outputs": [],
   "source": [
    " df_1 = df_1.drop(['zipcode_98000_98025', 'zipcode_98025_98050', 'zipcode_98050_98075',\n",
    "       'zipcode_98075_98100', 'zipcode_98100_98125', 'zipcode_98125_98150',\n",
    "       'zipcode_98150_98175', 'zipcode_98175_98200'], axis=1)"
   ]
  },
  {
   "cell_type": "code",
   "execution_count": 416,
   "metadata": {},
   "outputs": [
    {
     "name": "stdout",
     "output_type": "stream",
     "text": [
      "<class 'pandas.core.frame.DataFrame'>\n",
      "Int64Index: 21082 entries, 0 to 21596\n",
      "Data columns (total 4 columns):\n",
      "price            21082 non-null float64\n",
      "sqft_living      21082 non-null float64\n",
      "sqft_above       21082 non-null float64\n",
      "sqft_living15    21082 non-null float64\n",
      "dtypes: float64(4)\n",
      "memory usage: 823.5 KB\n"
     ]
    }
   ],
   "source": [
    "df_1.info()"
   ]
  },
  {
   "cell_type": "code",
   "execution_count": 417,
   "metadata": {},
   "outputs": [],
   "source": [
    "df_final = pd.concat([df_1, df_cat2],axis=1)"
   ]
  },
  {
   "cell_type": "code",
   "execution_count": 418,
   "metadata": {},
   "outputs": [
    {
     "name": "stdout",
     "output_type": "stream",
     "text": [
      "<class 'pandas.core.frame.DataFrame'>\n",
      "Int64Index: 21082 entries, 0 to 21596\n",
      "Data columns (total 21 columns):\n",
      "price                  21082 non-null float64\n",
      "sqft_living            21082 non-null float64\n",
      "sqft_above             21082 non-null float64\n",
      "sqft_living15          21082 non-null float64\n",
      "floors_3               21082 non-null category\n",
      "waterfront_yes         21082 non-null category\n",
      "view_1                 21082 non-null category\n",
      "view_2                 21082 non-null category\n",
      "view_3                 21082 non-null category\n",
      "view_4                 21082 non-null category\n",
      "condition_5            21082 non-null category\n",
      "grade_9                21082 non-null category\n",
      "grade_10               21082 non-null category\n",
      "grade_11               21082 non-null category\n",
      "grade_12               21082 non-null category\n",
      "grade_13               21082 non-null category\n",
      "renovated_yes          21082 non-null category\n",
      "zipcode_98025_98050    21082 non-null category\n",
      "zipcode_98075_98100    21082 non-null category\n",
      "zipcode_98100_98125    21082 non-null category\n",
      "zipcode_98150_98175    21082 non-null category\n",
      "dtypes: category(17), float64(4)\n",
      "memory usage: 1.1 MB\n"
     ]
    }
   ],
   "source": [
    "df_final.info()"
   ]
  },
  {
   "cell_type": "code",
   "execution_count": 419,
   "metadata": {},
   "outputs": [],
   "source": [
    "df_final1 = df_final"
   ]
  },
  {
   "cell_type": "code",
   "execution_count": 420,
   "metadata": {},
   "outputs": [
    {
     "name": "stdout",
     "output_type": "stream",
     "text": [
      "<class 'pandas.core.frame.DataFrame'>\n",
      "Int64Index: 21082 entries, 0 to 21596\n",
      "Data columns (total 21 columns):\n",
      "price                  21082 non-null float64\n",
      "sqft_living            21082 non-null float64\n",
      "sqft_above             21082 non-null float64\n",
      "sqft_living15          21082 non-null float64\n",
      "floors_3               21082 non-null category\n",
      "waterfront_yes         21082 non-null category\n",
      "view_1                 21082 non-null category\n",
      "view_2                 21082 non-null category\n",
      "view_3                 21082 non-null category\n",
      "view_4                 21082 non-null category\n",
      "condition_5            21082 non-null category\n",
      "grade_9                21082 non-null category\n",
      "grade_10               21082 non-null category\n",
      "grade_11               21082 non-null category\n",
      "grade_12               21082 non-null category\n",
      "grade_13               21082 non-null category\n",
      "renovated_yes          21082 non-null category\n",
      "zipcode_98025_98050    21082 non-null category\n",
      "zipcode_98075_98100    21082 non-null category\n",
      "zipcode_98100_98125    21082 non-null category\n",
      "zipcode_98150_98175    21082 non-null category\n",
      "dtypes: category(17), float64(4)\n",
      "memory usage: 1.1 MB\n"
     ]
    }
   ],
   "source": [
    "df_final1.info()"
   ]
  },
  {
   "cell_type": "code",
   "execution_count": 421,
   "metadata": {},
   "outputs": [
    {
     "data": {
      "text/html": [
       "<table class=\"simpletable\">\n",
       "<caption>OLS Regression Results</caption>\n",
       "<tr>\n",
       "  <th>Dep. Variable:</th>          <td>price</td>      <th>  R-squared:         </th>  <td>   0.681</td>  \n",
       "</tr>\n",
       "<tr>\n",
       "  <th>Model:</th>                   <td>OLS</td>       <th>  Adj. R-squared:    </th>  <td>   0.681</td>  \n",
       "</tr>\n",
       "<tr>\n",
       "  <th>Method:</th>             <td>Least Squares</td>  <th>  F-statistic:       </th>  <td>   2249.</td>  \n",
       "</tr>\n",
       "<tr>\n",
       "  <th>Date:</th>             <td>Fri, 08 Mar 2019</td> <th>  Prob (F-statistic):</th>   <td>  0.00</td>   \n",
       "</tr>\n",
       "<tr>\n",
       "  <th>Time:</th>                 <td>09:07:52</td>     <th>  Log-Likelihood:    </th> <td>-2.8798e+05</td>\n",
       "</tr>\n",
       "<tr>\n",
       "  <th>No. Observations:</th>      <td> 21082</td>      <th>  AIC:               </th>  <td>5.760e+05</td> \n",
       "</tr>\n",
       "<tr>\n",
       "  <th>Df Residuals:</th>          <td> 21061</td>      <th>  BIC:               </th>  <td>5.762e+05</td> \n",
       "</tr>\n",
       "<tr>\n",
       "  <th>Df Model:</th>              <td>    20</td>      <th>                     </th>      <td> </td>     \n",
       "</tr>\n",
       "<tr>\n",
       "  <th>Covariance Type:</th>      <td>nonrobust</td>    <th>                     </th>      <td> </td>     \n",
       "</tr>\n",
       "</table>\n",
       "<table class=\"simpletable\">\n",
       "<tr>\n",
       "              <td></td>                <th>coef</th>     <th>std err</th>      <th>t</th>      <th>P>|t|</th>  <th>[0.025</th>    <th>0.975]</th>  \n",
       "</tr>\n",
       "<tr>\n",
       "  <th>Intercept</th>                <td> 4.297e+05</td> <td> 2339.183</td> <td>  183.708</td> <td> 0.000</td> <td> 4.25e+05</td> <td> 4.34e+05</td>\n",
       "</tr>\n",
       "<tr>\n",
       "  <th>floors_3[T.1]</th>            <td> 1.912e+04</td> <td> 8910.584</td> <td>    2.146</td> <td> 0.032</td> <td> 1656.902</td> <td> 3.66e+04</td>\n",
       "</tr>\n",
       "<tr>\n",
       "  <th>waterfront_yes[T.1]</th>      <td> 5.531e+05</td> <td> 2.13e+04</td> <td>   25.934</td> <td> 0.000</td> <td> 5.11e+05</td> <td> 5.95e+05</td>\n",
       "</tr>\n",
       "<tr>\n",
       "  <th>view_1[T.1]</th>              <td> 1.332e+05</td> <td> 1.17e+04</td> <td>   11.405</td> <td> 0.000</td> <td>  1.1e+05</td> <td> 1.56e+05</td>\n",
       "</tr>\n",
       "<tr>\n",
       "  <th>view_2[T.1]</th>              <td> 7.735e+04</td> <td> 7128.301</td> <td>   10.851</td> <td> 0.000</td> <td> 6.34e+04</td> <td> 9.13e+04</td>\n",
       "</tr>\n",
       "<tr>\n",
       "  <th>view_3[T.1]</th>              <td> 1.276e+05</td> <td> 9751.372</td> <td>   13.082</td> <td> 0.000</td> <td> 1.08e+05</td> <td> 1.47e+05</td>\n",
       "</tr>\n",
       "<tr>\n",
       "  <th>view_4[T.1]</th>              <td> 2.723e+05</td> <td> 1.48e+04</td> <td>   18.450</td> <td> 0.000</td> <td> 2.43e+05</td> <td> 3.01e+05</td>\n",
       "</tr>\n",
       "<tr>\n",
       "  <th>condition_5[T.1]</th>         <td> 9.235e+04</td> <td> 5378.991</td> <td>   17.169</td> <td> 0.000</td> <td> 8.18e+04</td> <td> 1.03e+05</td>\n",
       "</tr>\n",
       "<tr>\n",
       "  <th>grade_9[T.1]</th>             <td> 1.287e+05</td> <td> 5258.844</td> <td>   24.465</td> <td> 0.000</td> <td> 1.18e+05</td> <td> 1.39e+05</td>\n",
       "</tr>\n",
       "<tr>\n",
       "  <th>grade_10[T.1]</th>            <td> 2.916e+05</td> <td> 7799.754</td> <td>   37.386</td> <td> 0.000</td> <td> 2.76e+05</td> <td> 3.07e+05</td>\n",
       "</tr>\n",
       "<tr>\n",
       "  <th>grade_11[T.1]</th>            <td> 5.302e+05</td> <td> 1.25e+04</td> <td>   42.556</td> <td> 0.000</td> <td> 5.06e+05</td> <td> 5.55e+05</td>\n",
       "</tr>\n",
       "<tr>\n",
       "  <th>grade_12[T.1]</th>            <td> 9.537e+05</td> <td> 2.39e+04</td> <td>   39.905</td> <td> 0.000</td> <td> 9.07e+05</td> <td>    1e+06</td>\n",
       "</tr>\n",
       "<tr>\n",
       "  <th>grade_13[T.1]</th>            <td> 2.207e+06</td> <td>  5.9e+04</td> <td>   37.407</td> <td> 0.000</td> <td> 2.09e+06</td> <td> 2.32e+06</td>\n",
       "</tr>\n",
       "<tr>\n",
       "  <th>renovated_yes[T.1]</th>       <td> 1.277e+05</td> <td> 7936.873</td> <td>   16.094</td> <td> 0.000</td> <td> 1.12e+05</td> <td> 1.43e+05</td>\n",
       "</tr>\n",
       "<tr>\n",
       "  <th>zipcode_98025_98050[T.1]</th> <td> 6347.4348</td> <td> 3782.995</td> <td>    1.678</td> <td> 0.093</td> <td>-1067.525</td> <td> 1.38e+04</td>\n",
       "</tr>\n",
       "<tr>\n",
       "  <th>zipcode_98075_98100[T.1]</th> <td>-1.344e+05</td> <td> 9231.256</td> <td>  -14.559</td> <td> 0.000</td> <td>-1.52e+05</td> <td>-1.16e+05</td>\n",
       "</tr>\n",
       "<tr>\n",
       "  <th>zipcode_98100_98125[T.1]</th> <td> 1.746e+05</td> <td> 3843.849</td> <td>   45.423</td> <td> 0.000</td> <td> 1.67e+05</td> <td> 1.82e+05</td>\n",
       "</tr>\n",
       "<tr>\n",
       "  <th>zipcode_98150_98175[T.1]</th> <td>-3.878e+04</td> <td> 7104.765</td> <td>   -5.458</td> <td> 0.000</td> <td>-5.27e+04</td> <td>-2.49e+04</td>\n",
       "</tr>\n",
       "<tr>\n",
       "  <th>sqft_living</th>              <td> 1.466e+05</td> <td> 3356.151</td> <td>   43.693</td> <td> 0.000</td> <td>  1.4e+05</td> <td> 1.53e+05</td>\n",
       "</tr>\n",
       "<tr>\n",
       "  <th>sqft_above</th>               <td>-1.317e+04</td> <td> 3301.060</td> <td>   -3.989</td> <td> 0.000</td> <td>-1.96e+04</td> <td>-6696.879</td>\n",
       "</tr>\n",
       "<tr>\n",
       "  <th>sqft_living15</th>            <td>  4.43e+04</td> <td> 2388.838</td> <td>   18.545</td> <td> 0.000</td> <td> 3.96e+04</td> <td>  4.9e+04</td>\n",
       "</tr>\n",
       "</table>\n",
       "<table class=\"simpletable\">\n",
       "<tr>\n",
       "  <th>Omnibus:</th>       <td>12049.716</td> <th>  Durbin-Watson:     </th>  <td>   1.981</td> \n",
       "</tr>\n",
       "<tr>\n",
       "  <th>Prob(Omnibus):</th>  <td> 0.000</td>   <th>  Jarque-Bera (JB):  </th> <td>428609.939</td>\n",
       "</tr>\n",
       "<tr>\n",
       "  <th>Skew:</th>           <td> 2.152</td>   <th>  Prob(JB):          </th>  <td>    0.00</td> \n",
       "</tr>\n",
       "<tr>\n",
       "  <th>Kurtosis:</th>       <td>24.666</td>   <th>  Cond. No.          </th>  <td>    67.0</td> \n",
       "</tr>\n",
       "</table><br/><br/>Warnings:<br/>[1] Standard Errors assume that the covariance matrix of the errors is correctly specified."
      ],
      "text/plain": [
       "<class 'statsmodels.iolib.summary.Summary'>\n",
       "\"\"\"\n",
       "                            OLS Regression Results                            \n",
       "==============================================================================\n",
       "Dep. Variable:                  price   R-squared:                       0.681\n",
       "Model:                            OLS   Adj. R-squared:                  0.681\n",
       "Method:                 Least Squares   F-statistic:                     2249.\n",
       "Date:                Fri, 08 Mar 2019   Prob (F-statistic):               0.00\n",
       "Time:                        09:07:52   Log-Likelihood:            -2.8798e+05\n",
       "No. Observations:               21082   AIC:                         5.760e+05\n",
       "Df Residuals:                   21061   BIC:                         5.762e+05\n",
       "Df Model:                          20                                         \n",
       "Covariance Type:            nonrobust                                         \n",
       "============================================================================================\n",
       "                               coef    std err          t      P>|t|      [0.025      0.975]\n",
       "--------------------------------------------------------------------------------------------\n",
       "Intercept                 4.297e+05   2339.183    183.708      0.000    4.25e+05    4.34e+05\n",
       "floors_3[T.1]             1.912e+04   8910.584      2.146      0.032    1656.902    3.66e+04\n",
       "waterfront_yes[T.1]       5.531e+05   2.13e+04     25.934      0.000    5.11e+05    5.95e+05\n",
       "view_1[T.1]               1.332e+05   1.17e+04     11.405      0.000     1.1e+05    1.56e+05\n",
       "view_2[T.1]               7.735e+04   7128.301     10.851      0.000    6.34e+04    9.13e+04\n",
       "view_3[T.1]               1.276e+05   9751.372     13.082      0.000    1.08e+05    1.47e+05\n",
       "view_4[T.1]               2.723e+05   1.48e+04     18.450      0.000    2.43e+05    3.01e+05\n",
       "condition_5[T.1]          9.235e+04   5378.991     17.169      0.000    8.18e+04    1.03e+05\n",
       "grade_9[T.1]              1.287e+05   5258.844     24.465      0.000    1.18e+05    1.39e+05\n",
       "grade_10[T.1]             2.916e+05   7799.754     37.386      0.000    2.76e+05    3.07e+05\n",
       "grade_11[T.1]             5.302e+05   1.25e+04     42.556      0.000    5.06e+05    5.55e+05\n",
       "grade_12[T.1]             9.537e+05   2.39e+04     39.905      0.000    9.07e+05       1e+06\n",
       "grade_13[T.1]             2.207e+06    5.9e+04     37.407      0.000    2.09e+06    2.32e+06\n",
       "renovated_yes[T.1]        1.277e+05   7936.873     16.094      0.000    1.12e+05    1.43e+05\n",
       "zipcode_98025_98050[T.1]  6347.4348   3782.995      1.678      0.093   -1067.525    1.38e+04\n",
       "zipcode_98075_98100[T.1] -1.344e+05   9231.256    -14.559      0.000   -1.52e+05   -1.16e+05\n",
       "zipcode_98100_98125[T.1]  1.746e+05   3843.849     45.423      0.000    1.67e+05    1.82e+05\n",
       "zipcode_98150_98175[T.1] -3.878e+04   7104.765     -5.458      0.000   -5.27e+04   -2.49e+04\n",
       "sqft_living               1.466e+05   3356.151     43.693      0.000     1.4e+05    1.53e+05\n",
       "sqft_above               -1.317e+04   3301.060     -3.989      0.000   -1.96e+04   -6696.879\n",
       "sqft_living15              4.43e+04   2388.838     18.545      0.000    3.96e+04     4.9e+04\n",
       "==============================================================================\n",
       "Omnibus:                    12049.716   Durbin-Watson:                   1.981\n",
       "Prob(Omnibus):                  0.000   Jarque-Bera (JB):           428609.939\n",
       "Skew:                           2.152   Prob(JB):                         0.00\n",
       "Kurtosis:                      24.666   Cond. No.                         67.0\n",
       "==============================================================================\n",
       "\n",
       "Warnings:\n",
       "[1] Standard Errors assume that the covariance matrix of the errors is correctly specified.\n",
       "\"\"\""
      ]
     },
     "execution_count": 421,
     "metadata": {},
     "output_type": "execute_result"
    }
   ],
   "source": [
    "predictors14 = df_final1.drop('price', axis=1)\n",
    "pred_sum = \"+\".join(predictors14.columns)\n",
    "formula = 'price' + \"~\" + pred_sum\n",
    "model = ols(formula= formula, data=df_final1).fit()\n",
    "model.summary()"
   ]
  },
  {
   "cell_type": "code",
   "execution_count": 422,
   "metadata": {},
   "outputs": [],
   "source": [
    "df_final1 = df_final1.drop(['zipcode_98025_98050'], axis=1)"
   ]
  },
  {
   "cell_type": "code",
   "execution_count": 423,
   "metadata": {},
   "outputs": [
    {
     "data": {
      "text/html": [
       "<table class=\"simpletable\">\n",
       "<caption>OLS Regression Results</caption>\n",
       "<tr>\n",
       "  <th>Dep. Variable:</th>          <td>price</td>      <th>  R-squared:         </th>  <td>   0.681</td>  \n",
       "</tr>\n",
       "<tr>\n",
       "  <th>Model:</th>                   <td>OLS</td>       <th>  Adj. R-squared:    </th>  <td>   0.681</td>  \n",
       "</tr>\n",
       "<tr>\n",
       "  <th>Method:</th>             <td>Least Squares</td>  <th>  F-statistic:       </th>  <td>   2367.</td>  \n",
       "</tr>\n",
       "<tr>\n",
       "  <th>Date:</th>             <td>Fri, 08 Mar 2019</td> <th>  Prob (F-statistic):</th>   <td>  0.00</td>   \n",
       "</tr>\n",
       "<tr>\n",
       "  <th>Time:</th>                 <td>09:09:07</td>     <th>  Log-Likelihood:    </th> <td>-2.8798e+05</td>\n",
       "</tr>\n",
       "<tr>\n",
       "  <th>No. Observations:</th>      <td> 21082</td>      <th>  AIC:               </th>  <td>5.760e+05</td> \n",
       "</tr>\n",
       "<tr>\n",
       "  <th>Df Residuals:</th>          <td> 21062</td>      <th>  BIC:               </th>  <td>5.762e+05</td> \n",
       "</tr>\n",
       "<tr>\n",
       "  <th>Df Model:</th>              <td>    19</td>      <th>                     </th>      <td> </td>     \n",
       "</tr>\n",
       "<tr>\n",
       "  <th>Covariance Type:</th>      <td>nonrobust</td>    <th>                     </th>      <td> </td>     \n",
       "</tr>\n",
       "</table>\n",
       "<table class=\"simpletable\">\n",
       "<tr>\n",
       "              <td></td>                <th>coef</th>     <th>std err</th>      <th>t</th>      <th>P>|t|</th>  <th>[0.025</th>    <th>0.975]</th>  \n",
       "</tr>\n",
       "<tr>\n",
       "  <th>Intercept</th>                <td> 4.316e+05</td> <td> 2049.992</td> <td>  210.546</td> <td> 0.000</td> <td> 4.28e+05</td> <td> 4.36e+05</td>\n",
       "</tr>\n",
       "<tr>\n",
       "  <th>floors_3[T.1]</th>            <td> 1.887e+04</td> <td> 8909.687</td> <td>    2.118</td> <td> 0.034</td> <td> 1405.174</td> <td> 3.63e+04</td>\n",
       "</tr>\n",
       "<tr>\n",
       "  <th>waterfront_yes[T.1]</th>      <td> 5.532e+05</td> <td> 2.13e+04</td> <td>   25.938</td> <td> 0.000</td> <td> 5.11e+05</td> <td> 5.95e+05</td>\n",
       "</tr>\n",
       "<tr>\n",
       "  <th>view_1[T.1]</th>              <td> 1.331e+05</td> <td> 1.17e+04</td> <td>   11.396</td> <td> 0.000</td> <td>  1.1e+05</td> <td> 1.56e+05</td>\n",
       "</tr>\n",
       "<tr>\n",
       "  <th>view_2[T.1]</th>              <td>   7.7e+04</td> <td> 7125.637</td> <td>   10.806</td> <td> 0.000</td> <td>  6.3e+04</td> <td>  9.1e+04</td>\n",
       "</tr>\n",
       "<tr>\n",
       "  <th>view_3[T.1]</th>              <td>  1.27e+05</td> <td> 9746.800</td> <td>   13.035</td> <td> 0.000</td> <td> 1.08e+05</td> <td> 1.46e+05</td>\n",
       "</tr>\n",
       "<tr>\n",
       "  <th>view_4[T.1]</th>              <td> 2.718e+05</td> <td> 1.48e+04</td> <td>   18.415</td> <td> 0.000</td> <td> 2.43e+05</td> <td> 3.01e+05</td>\n",
       "</tr>\n",
       "<tr>\n",
       "  <th>condition_5[T.1]</th>         <td> 9.226e+04</td> <td> 5378.944</td> <td>   17.152</td> <td> 0.000</td> <td> 8.17e+04</td> <td> 1.03e+05</td>\n",
       "</tr>\n",
       "<tr>\n",
       "  <th>grade_9[T.1]</th>             <td> 1.285e+05</td> <td> 5258.264</td> <td>   24.438</td> <td> 0.000</td> <td> 1.18e+05</td> <td> 1.39e+05</td>\n",
       "</tr>\n",
       "<tr>\n",
       "  <th>grade_10[T.1]</th>            <td> 2.913e+05</td> <td> 7797.450</td> <td>   37.353</td> <td> 0.000</td> <td> 2.76e+05</td> <td> 3.07e+05</td>\n",
       "</tr>\n",
       "<tr>\n",
       "  <th>grade_11[T.1]</th>            <td> 5.297e+05</td> <td> 1.25e+04</td> <td>   42.529</td> <td> 0.000</td> <td> 5.05e+05</td> <td> 5.54e+05</td>\n",
       "</tr>\n",
       "<tr>\n",
       "  <th>grade_12[T.1]</th>            <td> 9.534e+05</td> <td> 2.39e+04</td> <td>   39.891</td> <td> 0.000</td> <td> 9.07e+05</td> <td>    1e+06</td>\n",
       "</tr>\n",
       "<tr>\n",
       "  <th>grade_13[T.1]</th>            <td> 2.206e+06</td> <td>  5.9e+04</td> <td>   37.395</td> <td> 0.000</td> <td> 2.09e+06</td> <td> 2.32e+06</td>\n",
       "</tr>\n",
       "<tr>\n",
       "  <th>renovated_yes[T.1]</th>       <td> 1.275e+05</td> <td> 7936.282</td> <td>   16.070</td> <td> 0.000</td> <td> 1.12e+05</td> <td> 1.43e+05</td>\n",
       "</tr>\n",
       "<tr>\n",
       "  <th>zipcode_98075_98100[T.1]</th> <td>-1.363e+05</td> <td> 9161.055</td> <td>  -14.879</td> <td> 0.000</td> <td>-1.54e+05</td> <td>-1.18e+05</td>\n",
       "</tr>\n",
       "<tr>\n",
       "  <th>zipcode_98100_98125[T.1]</th> <td> 1.729e+05</td> <td> 3710.080</td> <td>   46.606</td> <td> 0.000</td> <td> 1.66e+05</td> <td>  1.8e+05</td>\n",
       "</tr>\n",
       "<tr>\n",
       "  <th>zipcode_98150_98175[T.1]</th> <td>-4.052e+04</td> <td> 7029.079</td> <td>   -5.764</td> <td> 0.000</td> <td>-5.43e+04</td> <td>-2.67e+04</td>\n",
       "</tr>\n",
       "<tr>\n",
       "  <th>sqft_living</th>              <td> 1.466e+05</td> <td> 3356.166</td> <td>   43.678</td> <td> 0.000</td> <td>  1.4e+05</td> <td> 1.53e+05</td>\n",
       "</tr>\n",
       "<tr>\n",
       "  <th>sqft_above</th>               <td>  -1.3e+04</td> <td> 3299.683</td> <td>   -3.940</td> <td> 0.000</td> <td>-1.95e+04</td> <td>-6531.506</td>\n",
       "</tr>\n",
       "<tr>\n",
       "  <th>sqft_living15</th>            <td> 4.438e+04</td> <td> 2388.455</td> <td>   18.582</td> <td> 0.000</td> <td> 3.97e+04</td> <td> 4.91e+04</td>\n",
       "</tr>\n",
       "</table>\n",
       "<table class=\"simpletable\">\n",
       "<tr>\n",
       "  <th>Omnibus:</th>       <td>12055.599</td> <th>  Durbin-Watson:     </th>  <td>   1.980</td> \n",
       "</tr>\n",
       "<tr>\n",
       "  <th>Prob(Omnibus):</th>  <td> 0.000</td>   <th>  Jarque-Bera (JB):  </th> <td>428927.495</td>\n",
       "</tr>\n",
       "<tr>\n",
       "  <th>Skew:</th>           <td> 2.154</td>   <th>  Prob(JB):          </th>  <td>    0.00</td> \n",
       "</tr>\n",
       "<tr>\n",
       "  <th>Kurtosis:</th>       <td>24.674</td>   <th>  Cond. No.          </th>  <td>    66.9</td> \n",
       "</tr>\n",
       "</table><br/><br/>Warnings:<br/>[1] Standard Errors assume that the covariance matrix of the errors is correctly specified."
      ],
      "text/plain": [
       "<class 'statsmodels.iolib.summary.Summary'>\n",
       "\"\"\"\n",
       "                            OLS Regression Results                            \n",
       "==============================================================================\n",
       "Dep. Variable:                  price   R-squared:                       0.681\n",
       "Model:                            OLS   Adj. R-squared:                  0.681\n",
       "Method:                 Least Squares   F-statistic:                     2367.\n",
       "Date:                Fri, 08 Mar 2019   Prob (F-statistic):               0.00\n",
       "Time:                        09:09:07   Log-Likelihood:            -2.8798e+05\n",
       "No. Observations:               21082   AIC:                         5.760e+05\n",
       "Df Residuals:                   21062   BIC:                         5.762e+05\n",
       "Df Model:                          19                                         \n",
       "Covariance Type:            nonrobust                                         \n",
       "============================================================================================\n",
       "                               coef    std err          t      P>|t|      [0.025      0.975]\n",
       "--------------------------------------------------------------------------------------------\n",
       "Intercept                 4.316e+05   2049.992    210.546      0.000    4.28e+05    4.36e+05\n",
       "floors_3[T.1]             1.887e+04   8909.687      2.118      0.034    1405.174    3.63e+04\n",
       "waterfront_yes[T.1]       5.532e+05   2.13e+04     25.938      0.000    5.11e+05    5.95e+05\n",
       "view_1[T.1]               1.331e+05   1.17e+04     11.396      0.000     1.1e+05    1.56e+05\n",
       "view_2[T.1]                 7.7e+04   7125.637     10.806      0.000     6.3e+04     9.1e+04\n",
       "view_3[T.1]                1.27e+05   9746.800     13.035      0.000    1.08e+05    1.46e+05\n",
       "view_4[T.1]               2.718e+05   1.48e+04     18.415      0.000    2.43e+05    3.01e+05\n",
       "condition_5[T.1]          9.226e+04   5378.944     17.152      0.000    8.17e+04    1.03e+05\n",
       "grade_9[T.1]              1.285e+05   5258.264     24.438      0.000    1.18e+05    1.39e+05\n",
       "grade_10[T.1]             2.913e+05   7797.450     37.353      0.000    2.76e+05    3.07e+05\n",
       "grade_11[T.1]             5.297e+05   1.25e+04     42.529      0.000    5.05e+05    5.54e+05\n",
       "grade_12[T.1]             9.534e+05   2.39e+04     39.891      0.000    9.07e+05       1e+06\n",
       "grade_13[T.1]             2.206e+06    5.9e+04     37.395      0.000    2.09e+06    2.32e+06\n",
       "renovated_yes[T.1]        1.275e+05   7936.282     16.070      0.000    1.12e+05    1.43e+05\n",
       "zipcode_98075_98100[T.1] -1.363e+05   9161.055    -14.879      0.000   -1.54e+05   -1.18e+05\n",
       "zipcode_98100_98125[T.1]  1.729e+05   3710.080     46.606      0.000    1.66e+05     1.8e+05\n",
       "zipcode_98150_98175[T.1] -4.052e+04   7029.079     -5.764      0.000   -5.43e+04   -2.67e+04\n",
       "sqft_living               1.466e+05   3356.166     43.678      0.000     1.4e+05    1.53e+05\n",
       "sqft_above                 -1.3e+04   3299.683     -3.940      0.000   -1.95e+04   -6531.506\n",
       "sqft_living15             4.438e+04   2388.455     18.582      0.000    3.97e+04    4.91e+04\n",
       "==============================================================================\n",
       "Omnibus:                    12055.599   Durbin-Watson:                   1.980\n",
       "Prob(Omnibus):                  0.000   Jarque-Bera (JB):           428927.495\n",
       "Skew:                           2.154   Prob(JB):                         0.00\n",
       "Kurtosis:                      24.674   Cond. No.                         66.9\n",
       "==============================================================================\n",
       "\n",
       "Warnings:\n",
       "[1] Standard Errors assume that the covariance matrix of the errors is correctly specified.\n",
       "\"\"\""
      ]
     },
     "execution_count": 423,
     "metadata": {},
     "output_type": "execute_result"
    }
   ],
   "source": [
    "predictors15 = df_final1.drop('price', axis=1)\n",
    "pred_sum = \"+\".join(predictors15.columns)\n",
    "formula = 'price' + \"~\" + pred_sum\n",
    "model = ols(formula= formula, data=df_final1).fit()\n",
    "model.summary()"
   ]
  },
  {
   "cell_type": "markdown",
   "metadata": {},
   "source": [
    "## Model Validation"
   ]
  },
  {
   "cell_type": "code",
   "execution_count": 424,
   "metadata": {},
   "outputs": [
    {
     "data": {
      "text/html": [
       "<div>\n",
       "<style scoped>\n",
       "    .dataframe tbody tr th:only-of-type {\n",
       "        vertical-align: middle;\n",
       "    }\n",
       "\n",
       "    .dataframe tbody tr th {\n",
       "        vertical-align: top;\n",
       "    }\n",
       "\n",
       "    .dataframe thead th {\n",
       "        text-align: right;\n",
       "    }\n",
       "</style>\n",
       "<table border=\"1\" class=\"dataframe\">\n",
       "  <thead>\n",
       "    <tr style=\"text-align: right;\">\n",
       "      <th></th>\n",
       "      <th>sqft_living</th>\n",
       "      <th>sqft_above</th>\n",
       "      <th>sqft_living15</th>\n",
       "      <th>floors_3</th>\n",
       "      <th>waterfront_yes</th>\n",
       "      <th>view_1</th>\n",
       "      <th>view_2</th>\n",
       "      <th>view_3</th>\n",
       "      <th>view_4</th>\n",
       "      <th>condition_5</th>\n",
       "      <th>grade_9</th>\n",
       "      <th>grade_10</th>\n",
       "      <th>grade_11</th>\n",
       "      <th>grade_12</th>\n",
       "      <th>grade_13</th>\n",
       "      <th>renovated_yes</th>\n",
       "      <th>zipcode_98075_98100</th>\n",
       "      <th>zipcode_98100_98125</th>\n",
       "      <th>zipcode_98150_98175</th>\n",
       "    </tr>\n",
       "  </thead>\n",
       "  <tbody>\n",
       "    <tr>\n",
       "      <th>0</th>\n",
       "      <td>-0.980938</td>\n",
       "      <td>-0.735179</td>\n",
       "      <td>-0.943655</td>\n",
       "      <td>0</td>\n",
       "      <td>0</td>\n",
       "      <td>0</td>\n",
       "      <td>0</td>\n",
       "      <td>0</td>\n",
       "      <td>0</td>\n",
       "      <td>0</td>\n",
       "      <td>0</td>\n",
       "      <td>0</td>\n",
       "      <td>0</td>\n",
       "      <td>0</td>\n",
       "      <td>0</td>\n",
       "      <td>0</td>\n",
       "      <td>0</td>\n",
       "      <td>0</td>\n",
       "      <td>0</td>\n",
       "    </tr>\n",
       "    <tr>\n",
       "      <th>1</th>\n",
       "      <td>0.533460</td>\n",
       "      <td>0.459940</td>\n",
       "      <td>-0.433112</td>\n",
       "      <td>0</td>\n",
       "      <td>0</td>\n",
       "      <td>0</td>\n",
       "      <td>0</td>\n",
       "      <td>0</td>\n",
       "      <td>0</td>\n",
       "      <td>0</td>\n",
       "      <td>0</td>\n",
       "      <td>0</td>\n",
       "      <td>0</td>\n",
       "      <td>0</td>\n",
       "      <td>0</td>\n",
       "      <td>1</td>\n",
       "      <td>0</td>\n",
       "      <td>1</td>\n",
       "      <td>0</td>\n",
       "    </tr>\n",
       "    <tr>\n",
       "      <th>2</th>\n",
       "      <td>-1.427631</td>\n",
       "      <td>-1.230128</td>\n",
       "      <td>1.069344</td>\n",
       "      <td>0</td>\n",
       "      <td>0</td>\n",
       "      <td>0</td>\n",
       "      <td>0</td>\n",
       "      <td>0</td>\n",
       "      <td>0</td>\n",
       "      <td>0</td>\n",
       "      <td>0</td>\n",
       "      <td>0</td>\n",
       "      <td>0</td>\n",
       "      <td>0</td>\n",
       "      <td>0</td>\n",
       "      <td>0</td>\n",
       "      <td>0</td>\n",
       "      <td>0</td>\n",
       "      <td>0</td>\n",
       "    </tr>\n",
       "    <tr>\n",
       "      <th>3</th>\n",
       "      <td>-0.131132</td>\n",
       "      <td>-0.892114</td>\n",
       "      <td>-0.914481</td>\n",
       "      <td>0</td>\n",
       "      <td>0</td>\n",
       "      <td>0</td>\n",
       "      <td>0</td>\n",
       "      <td>0</td>\n",
       "      <td>0</td>\n",
       "      <td>1</td>\n",
       "      <td>0</td>\n",
       "      <td>0</td>\n",
       "      <td>0</td>\n",
       "      <td>0</td>\n",
       "      <td>0</td>\n",
       "      <td>0</td>\n",
       "      <td>0</td>\n",
       "      <td>0</td>\n",
       "      <td>0</td>\n",
       "    </tr>\n",
       "    <tr>\n",
       "      <th>4</th>\n",
       "      <td>-0.436190</td>\n",
       "      <td>-0.131584</td>\n",
       "      <td>-0.272656</td>\n",
       "      <td>0</td>\n",
       "      <td>0</td>\n",
       "      <td>0</td>\n",
       "      <td>0</td>\n",
       "      <td>0</td>\n",
       "      <td>0</td>\n",
       "      <td>0</td>\n",
       "      <td>0</td>\n",
       "      <td>0</td>\n",
       "      <td>0</td>\n",
       "      <td>0</td>\n",
       "      <td>0</td>\n",
       "      <td>0</td>\n",
       "      <td>0</td>\n",
       "      <td>0</td>\n",
       "      <td>0</td>\n",
       "    </tr>\n",
       "  </tbody>\n",
       "</table>\n",
       "</div>"
      ],
      "text/plain": [
       "   sqft_living  sqft_above  sqft_living15 floors_3 waterfront_yes view_1  \\\n",
       "0    -0.980938   -0.735179      -0.943655        0              0      0   \n",
       "1     0.533460    0.459940      -0.433112        0              0      0   \n",
       "2    -1.427631   -1.230128       1.069344        0              0      0   \n",
       "3    -0.131132   -0.892114      -0.914481        0              0      0   \n",
       "4    -0.436190   -0.131584      -0.272656        0              0      0   \n",
       "\n",
       "  view_2 view_3 view_4 condition_5 grade_9 grade_10 grade_11 grade_12  \\\n",
       "0      0      0      0           0       0        0        0        0   \n",
       "1      0      0      0           0       0        0        0        0   \n",
       "2      0      0      0           0       0        0        0        0   \n",
       "3      0      0      0           1       0        0        0        0   \n",
       "4      0      0      0           0       0        0        0        0   \n",
       "\n",
       "  grade_13 renovated_yes zipcode_98075_98100 zipcode_98100_98125  \\\n",
       "0        0             0                   0                   0   \n",
       "1        0             1                   0                   1   \n",
       "2        0             0                   0                   0   \n",
       "3        0             0                   0                   0   \n",
       "4        0             0                   0                   0   \n",
       "\n",
       "  zipcode_98150_98175  \n",
       "0                   0  \n",
       "1                   0  \n",
       "2                   0  \n",
       "3                   0  \n",
       "4                   0  "
      ]
     },
     "execution_count": 424,
     "metadata": {},
     "output_type": "execute_result"
    }
   ],
   "source": [
    "y = df_final1[[\"price\"]]\n",
    "X = df_final1.drop([\"price\"], axis=1)\n",
    "X.head()"
   ]
  },
  {
   "cell_type": "code",
   "execution_count": 425,
   "metadata": {},
   "outputs": [],
   "source": [
    "from sklearn.feature_selection import RFE\n",
    "from sklearn.linear_model import LinearRegression\n",
    "linreg = LinearRegression()\n"
   ]
  },
  {
   "cell_type": "code",
   "execution_count": 436,
   "metadata": {},
   "outputs": [
    {
     "name": "stdout",
     "output_type": "stream",
     "text": [
      "price    0.128832\n",
      "dtype: float64\n",
      "price    0.128046\n",
      "dtype: float64\n",
      "price    0.304651\n",
      "dtype: float64\n",
      "price    0.304023\n",
      "dtype: float64\n",
      "price    0.438139\n",
      "dtype: float64\n",
      "price    0.437632\n",
      "dtype: float64\n",
      "price    0.642926\n",
      "dtype: float64\n",
      "price    0.642604\n",
      "dtype: float64\n",
      "price    0.649512\n",
      "dtype: float64\n",
      "price    0.649196\n",
      "dtype: float64\n",
      "price    0.664903\n",
      "dtype: float64\n",
      "price    0.6646\n",
      "dtype: float64\n",
      "price    0.67086\n",
      "dtype: float64\n",
      "price    0.670563\n",
      "dtype: float64\n",
      "price    0.680329\n",
      "dtype: float64\n",
      "price    0.680041\n",
      "dtype: float64\n",
      "price    0.680855\n",
      "dtype: float64\n",
      "price    0.680567\n",
      "dtype: float64\n"
     ]
    }
   ],
   "source": [
    "r_list = []\n",
    "adj_r_list = []\n",
    "list_n = list(range(2,20,2))\n",
    "for n in list_n: \n",
    "    select_n = RFE(linreg, n_features_to_select = n)\n",
    "    select_n = select_n.fit(X, np.ravel(y))\n",
    "    selected_columns = X.columns[select_n.support_ ]\n",
    "    linreg.fit(X[selected_columns],y)\n",
    "    yhat = linreg.predict(X[selected_columns])\n",
    "    SS_Residual = np.sum((y-yhat)**2)\n",
    "    SS_Total = np.sum((y-np.mean(y))**2)\n",
    "    r_squared = 1 - (float(SS_Residual))/SS_Total\n",
    "    print(r_squared)\n",
    "    adjusted_r_squared = 1 - (1-r_squared)*(len(y)-1)/(len(y)-X.shape[1]-1)\n",
    "    print(adjusted_r_squared)\n",
    "r_list.append(r_squared)\n",
    "adj_r_list.append(adjusted_r_squared)"
   ]
  },
  {
   "cell_type": "markdown",
   "metadata": {},
   "source": [
    "The r_squared vs r_squared adjusted is very similar each time.  This suggests that each time a feature is added, the predictive variance doesn't change.  The overall values increase with the addition of each couple of predictors.  This could lead to overfitting."
   ]
  },
  {
   "cell_type": "code",
   "execution_count": 437,
   "metadata": {},
   "outputs": [
    {
     "name": "stdout",
     "output_type": "stream",
     "text": [
      "price    1.177698e+11\n",
      "dtype: float64\n",
      "price    1.149409e+11\n",
      "dtype: float64\n",
      "price    9.391292e+10\n",
      "dtype: float64\n",
      "price    9.224194e+10\n",
      "dtype: float64\n",
      "price    7.539057e+10\n",
      "dtype: float64\n",
      "price    7.650353e+10\n",
      "dtype: float64\n",
      "price    4.788135e+10\n",
      "dtype: float64\n",
      "price    4.878486e+10\n",
      "dtype: float64\n",
      "price    4.691026e+10\n",
      "dtype: float64\n",
      "price    4.826920e+10\n",
      "dtype: float64\n",
      "price    4.502577e+10\n",
      "dtype: float64\n",
      "price    4.548861e+10\n",
      "dtype: float64\n",
      "price    4.391483e+10\n",
      "dtype: float64\n",
      "price    4.473788e+10\n",
      "dtype: float64\n",
      "price    4.347689e+10\n",
      "dtype: float64\n",
      "price    4.434928e+10\n",
      "dtype: float64\n",
      "price    4.282524e+10\n",
      "dtype: float64\n",
      "price    4.356926e+10\n",
      "dtype: float64\n"
     ]
    }
   ],
   "source": [
    "from sklearn.model_selection import train_test_split\n",
    "X_train, X_test, y_train, y_test = train_test_split(X, y, test_size = 0.2, random_state=3)\n",
    "\n",
    "MSE_test = []\n",
    "MSE_train = []\n",
    "list_n = list(range(2,20,2))\n",
    "for n in list_n: \n",
    "    select_n = RFE(linreg, n_features_to_select = n)\n",
    "    select_n = select_n.fit(X_train, np.ravel(y_train))\n",
    "    selected_columns = X.columns[select_n.support_ ]\n",
    "    linreg.fit(X_train[selected_columns],y_train)\n",
    "    yhat_train = linreg.predict(X_train[selected_columns])\n",
    "    yhat_test = linreg.predict(X_test[selected_columns])\n",
    "    mse_train = np.sum((y_train-yhat_train)**2)/len(y_train)\n",
    "    mse_test =np.sum((y_test-yhat_test)**2)/len(y_test)\n",
    "    print(mse_train)\n",
    "    print(mse_test)\n",
    "MSE_test.append(mse_test)\n",
    "MSE_train.append(mse_train)"
   ]
  },
  {
   "cell_type": "markdown",
   "metadata": {},
   "source": [
    "The mean squarred error between the test set and the train set are not different each time.  The values remain consistent when adding more predictors showing that having more predictors improves model performance."
   ]
  },
  {
   "cell_type": "code",
   "execution_count": 429,
   "metadata": {},
   "outputs": [
    {
     "data": {
      "text/plain": [
       "array([-4.35991436e+10, -5.11194450e+10, -3.92330635e+10, -4.93443301e+10,\n",
       "       -3.65430997e+10, -4.14657711e+10, -4.27394569e+10, -4.31379554e+10,\n",
       "       -4.18007342e+10, -4.75654085e+10])"
      ]
     },
     "execution_count": 429,
     "metadata": {},
     "output_type": "execute_result"
    }
   ],
   "source": [
    "from sklearn.metrics import mean_squared_error\n",
    "from sklearn.model_selection import cross_val_score\n",
    "\n",
    "select_19 = RFE(linreg, n_features_to_select = 19)\n",
    "select_19 = select_n.fit(X, np.ravel(y))\n",
    "selected_columns = X.columns[select_n.support_]\n",
    "\n",
    "cv_10_results = cross_val_score(linreg, X[selected_columns], y, cv=10, scoring=\"neg_mean_squared_error\")\n",
    "\n",
    "cv_10_results"
   ]
  },
  {
   "cell_type": "markdown",
   "metadata": {},
   "source": [
    "The cross score evaluation shows that randomly selecting a 10% group of the dataset yields close to the same mean squared error."
   ]
  },
  {
   "cell_type": "code",
   "execution_count": null,
   "metadata": {},
   "outputs": [],
   "source": []
  }
 ],
 "metadata": {
  "kernelspec": {
   "display_name": "learn-env",
   "language": "python",
   "name": "learn-env"
  },
  "language_info": {
   "codemirror_mode": {
    "name": "ipython",
    "version": 3
   },
   "file_extension": ".py",
   "mimetype": "text/x-python",
   "name": "python",
   "nbconvert_exporter": "python",
   "pygments_lexer": "ipython3",
   "version": "3.7.1"
  }
 },
 "nbformat": 4,
 "nbformat_minor": 2
}
