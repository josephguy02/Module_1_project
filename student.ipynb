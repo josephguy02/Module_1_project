{
 "cells": [
  {
   "cell_type": "markdown",
   "metadata": {},
   "source": [
    "## Final Project Submission\n",
    "\n",
    "Please fill out:\n",
    "* Student name: Joe Guy\n",
    "* Student pace:  part time \n",
    "* Scheduled project review date/time: 03/08/19 3pm\n",
    "* Instructor name: Joe San Pietro\n",
    "* Blog post URL:\n"
   ]
  },
  {
   "cell_type": "markdown",
   "metadata": {},
   "source": [
    "## Importing programs and files"
   ]
  },
  {
   "cell_type": "code",
   "execution_count": 192,
   "metadata": {},
   "outputs": [],
   "source": [
    "import pandas as pd\n",
    "import numpy as np\n",
    "import matplotlib.pyplot as plt\n",
    "%matplotlib inline\n",
    "import seaborn as sns"
   ]
  },
  {
   "cell_type": "code",
   "execution_count": 193,
   "metadata": {},
   "outputs": [],
   "source": [
    "df = pd.read_csv(\"kc_house_data.csv\")"
   ]
  },
  {
   "cell_type": "markdown",
   "metadata": {},
   "source": [
    "## Scrubbing the dataset"
   ]
  },
  {
   "cell_type": "code",
   "execution_count": 194,
   "metadata": {},
   "outputs": [
    {
     "name": "stdout",
     "output_type": "stream",
     "text": [
      "<class 'pandas.core.frame.DataFrame'>\n",
      "RangeIndex: 21597 entries, 0 to 21596\n",
      "Data columns (total 21 columns):\n",
      "id               21597 non-null int64\n",
      "date             21597 non-null object\n",
      "price            21597 non-null float64\n",
      "bedrooms         21597 non-null int64\n",
      "bathrooms        21597 non-null float64\n",
      "sqft_living      21597 non-null int64\n",
      "sqft_lot         21597 non-null int64\n",
      "floors           21597 non-null float64\n",
      "waterfront       19221 non-null float64\n",
      "view             21534 non-null float64\n",
      "condition        21597 non-null int64\n",
      "grade            21597 non-null int64\n",
      "sqft_above       21597 non-null int64\n",
      "sqft_basement    21597 non-null object\n",
      "yr_built         21597 non-null int64\n",
      "yr_renovated     17755 non-null float64\n",
      "zipcode          21597 non-null int64\n",
      "lat              21597 non-null float64\n",
      "long             21597 non-null float64\n",
      "sqft_living15    21597 non-null int64\n",
      "sqft_lot15       21597 non-null int64\n",
      "dtypes: float64(8), int64(11), object(2)\n",
      "memory usage: 3.5+ MB\n"
     ]
    }
   ],
   "source": [
    "df.info()"
   ]
  },
  {
   "cell_type": "code",
   "execution_count": 195,
   "metadata": {},
   "outputs": [],
   "source": [
    "df = df.drop(['id'], axis=1) #ID is not useful to us it is an index\n",
    "df = df.drop(['date'], axis=1) # not using datetime trending in this model"
   ]
  },
  {
   "cell_type": "markdown",
   "metadata": {},
   "source": [
    "There are missing values in waterfront, view, yr_renovated.  "
   ]
  },
  {
   "cell_type": "code",
   "execution_count": 196,
   "metadata": {},
   "outputs": [
    {
     "data": {
      "text/plain": [
       "price               0\n",
       "bedrooms            0\n",
       "bathrooms           0\n",
       "sqft_living         0\n",
       "sqft_lot            0\n",
       "floors              0\n",
       "waterfront       2376\n",
       "view               63\n",
       "condition           0\n",
       "grade               0\n",
       "sqft_above          0\n",
       "sqft_basement       0\n",
       "yr_built            0\n",
       "yr_renovated     3842\n",
       "zipcode             0\n",
       "lat                 0\n",
       "long                0\n",
       "sqft_living15       0\n",
       "sqft_lot15          0\n",
       "dtype: int64"
      ]
     },
     "execution_count": 196,
     "metadata": {},
     "output_type": "execute_result"
    }
   ],
   "source": [
    "df.isna().sum()"
   ]
  },
  {
   "cell_type": "code",
   "execution_count": 197,
   "metadata": {},
   "outputs": [],
   "source": [
    "df.dropna(subset=['view'], inplace=True) #remove rows containing nulls in the view column"
   ]
  },
  {
   "cell_type": "markdown",
   "metadata": {},
   "source": [
    "There are too many nulls in waterfront and yr_renovated.  Will bin out the nulls.  "
   ]
  },
  {
   "cell_type": "markdown",
   "metadata": {},
   "source": [
    "Looking at datatypes, sqft_basement is an object, "
   ]
  },
  {
   "cell_type": "code",
   "execution_count": 198,
   "metadata": {
    "scrolled": true
   },
   "outputs": [
    {
     "data": {
      "text/plain": [
       "0.0       12798\n",
       "?           452\n",
       "600.0       216\n",
       "500.0       209\n",
       "700.0       207\n",
       "800.0       201\n",
       "400.0       184\n",
       "1000.0      147\n",
       "900.0       142\n",
       "300.0       140\n",
       "200.0       105\n",
       "750.0       104\n",
       "450.0       103\n",
       "530.0       103\n",
       "480.0       102\n",
       "720.0        98\n",
       "620.0        90\n",
       "580.0        84\n",
       "840.0        83\n",
       "420.0        81\n",
       "1100.0       78\n",
       "860.0        78\n",
       "670.0        77\n",
       "550.0        76\n",
       "780.0        75\n",
       "650.0        75\n",
       "240.0        74\n",
       "680.0        73\n",
       "380.0        73\n",
       "910.0        71\n",
       "          ...  \n",
       "875.0         1\n",
       "3260.0        1\n",
       "1913.0        1\n",
       "172.0         1\n",
       "915.0         1\n",
       "248.0         1\n",
       "2730.0        1\n",
       "2810.0        1\n",
       "1024.0        1\n",
       "2190.0        1\n",
       "3480.0        1\n",
       "768.0         1\n",
       "243.0         1\n",
       "274.0         1\n",
       "2400.0        1\n",
       "652.0         1\n",
       "1920.0        1\n",
       "207.0         1\n",
       "1840.0        1\n",
       "143.0         1\n",
       "276.0         1\n",
       "417.0         1\n",
       "2580.0        1\n",
       "2120.0        1\n",
       "556.0         1\n",
       "2600.0        1\n",
       "65.0          1\n",
       "3500.0        1\n",
       "1960.0        1\n",
       "704.0         1\n",
       "Name: sqft_basement, Length: 302, dtype: int64"
      ]
     },
     "execution_count": 198,
     "metadata": {},
     "output_type": "execute_result"
    }
   ],
   "source": [
    "df.sqft_basement.value_counts() #listed with an object datatype"
   ]
  },
  {
   "cell_type": "code",
   "execution_count": 199,
   "metadata": {},
   "outputs": [],
   "source": [
    "df = df[df.sqft_basement != '?'] #remove '?' from the sqft_basement column"
   ]
  },
  {
   "cell_type": "code",
   "execution_count": 200,
   "metadata": {},
   "outputs": [
    {
     "name": "stdout",
     "output_type": "stream",
     "text": [
      "<class 'pandas.core.frame.DataFrame'>\n",
      "Int64Index: 21082 entries, 0 to 21596\n",
      "Data columns (total 19 columns):\n",
      "price            21082 non-null float64\n",
      "bedrooms         21082 non-null int64\n",
      "bathrooms        21082 non-null float64\n",
      "sqft_living      21082 non-null int64\n",
      "sqft_lot         21082 non-null int64\n",
      "floors           21082 non-null float64\n",
      "waterfront       18749 non-null float64\n",
      "view             21082 non-null float64\n",
      "condition        21082 non-null int64\n",
      "grade            21082 non-null int64\n",
      "sqft_above       21082 non-null int64\n",
      "sqft_basement    21082 non-null object\n",
      "yr_built         21082 non-null int64\n",
      "yr_renovated     17340 non-null float64\n",
      "zipcode          21082 non-null int64\n",
      "lat              21082 non-null float64\n",
      "long             21082 non-null float64\n",
      "sqft_living15    21082 non-null int64\n",
      "sqft_lot15       21082 non-null int64\n",
      "dtypes: float64(8), int64(10), object(1)\n",
      "memory usage: 3.2+ MB\n"
     ]
    }
   ],
   "source": [
    "df.info()"
   ]
  },
  {
   "cell_type": "code",
   "execution_count": 201,
   "metadata": {},
   "outputs": [
    {
     "data": {
      "text/plain": [
       "0.0    18608\n",
       "1.0      141\n",
       "Name: waterfront, dtype: int64"
      ]
     },
     "execution_count": 201,
     "metadata": {},
     "output_type": "execute_result"
    }
   ],
   "source": [
    "df.waterfront.value_counts() #waterfront is a categorical column, 0 = not on the waterfront, 1 = on the waterfront.  "
   ]
  },
  {
   "cell_type": "code",
   "execution_count": 202,
   "metadata": {},
   "outputs": [],
   "source": [
    "df.waterfront=df.waterfront.fillna(2) #filling the nulls with 2. This bin will represent data that will be dropped."
   ]
  },
  {
   "cell_type": "code",
   "execution_count": 203,
   "metadata": {},
   "outputs": [
    {
     "data": {
      "text/plain": [
       "0.0    18608\n",
       "2.0     2333\n",
       "1.0      141\n",
       "Name: waterfront, dtype: int64"
      ]
     },
     "execution_count": 203,
     "metadata": {},
     "output_type": "execute_result"
    }
   ],
   "source": [
    "df.waterfront.value_counts()"
   ]
  },
  {
   "cell_type": "code",
   "execution_count": 204,
   "metadata": {},
   "outputs": [
    {
     "data": {
      "text/plain": [
       "<matplotlib.axes._subplots.AxesSubplot at 0x299d26a6eb8>"
      ]
     },
     "execution_count": 204,
     "metadata": {},
     "output_type": "execute_result"
    },
    {
     "data": {
      "image/png": "[encoded data removed]",
      "text/plain": [
       "<Figure size 432x288 with 1 Axes>"
      ]
     },
     "metadata": {
      "needs_background": "light"
     },
     "output_type": "display_data"
    }
   ],
   "source": [
    "bins_waterfront = [-1, .9, 1.1, 2.1]\n",
    "# use pd.cut\n",
    "bins_waterfront = pd.cut(df['waterfront'], bins_waterfront)\n",
    "bins_waterfront = bins_waterfront.cat.as_unordered()\n",
    "bins_waterfront.value_counts().plot(kind='bar')"
   ]
  },
  {
   "cell_type": "code",
   "execution_count": 205,
   "metadata": {},
   "outputs": [],
   "source": [
    "df[\"waterfront\"]=bins_waterfront"
   ]
  },
  {
   "cell_type": "code",
   "execution_count": 206,
   "metadata": {
    "scrolled": true
   },
   "outputs": [
    {
     "data": {
      "text/plain": [
       "0.0       16618\n",
       "2014.0       69\n",
       "2003.0       31\n",
       "2013.0       31\n",
       "2007.0       30\n",
       "2000.0       29\n",
       "2005.0       29\n",
       "1990.0       22\n",
       "2009.0       21\n",
       "2004.0       21\n",
       "2006.0       20\n",
       "1989.0       18\n",
       "2002.0       17\n",
       "1998.0       15\n",
       "1999.0       15\n",
       "2008.0       15\n",
       "1983.0       15\n",
       "1984.0       15\n",
       "2015.0       14\n",
       "1985.0       14\n",
       "1986.0       14\n",
       "1987.0       14\n",
       "1991.0       14\n",
       "2010.0       14\n",
       "1992.0       13\n",
       "1994.0       13\n",
       "2001.0       12\n",
       "1997.0       12\n",
       "1996.0       11\n",
       "1995.0       11\n",
       "          ...  \n",
       "1968.0        6\n",
       "1964.0        5\n",
       "1975.0        5\n",
       "1973.0        4\n",
       "1965.0        4\n",
       "1981.0        4\n",
       "1969.0        4\n",
       "1978.0        3\n",
       "1963.0        3\n",
       "1960.0        3\n",
       "1958.0        3\n",
       "1956.0        3\n",
       "1955.0        3\n",
       "1972.0        3\n",
       "1945.0        2\n",
       "1962.0        2\n",
       "1967.0        2\n",
       "1974.0        2\n",
       "1957.0        2\n",
       "1940.0        2\n",
       "1951.0        1\n",
       "1948.0        1\n",
       "1950.0        1\n",
       "1976.0        1\n",
       "1954.0        1\n",
       "1953.0        1\n",
       "1944.0        1\n",
       "1934.0        1\n",
       "1971.0        1\n",
       "1959.0        1\n",
       "Name: yr_renovated, Length: 69, dtype: int64"
      ]
     },
     "execution_count": 206,
     "metadata": {},
     "output_type": "execute_result"
    }
   ],
   "source": [
    "df.yr_renovated.value_counts() #There are many more properties that have not been renovated; not renovated = 0. "
   ]
  },
  {
   "cell_type": "code",
   "execution_count": 207,
   "metadata": {},
   "outputs": [],
   "source": [
    "df.yr_renovated = df.yr_renovated.fillna(1) #Replacing the null values with a 1."
   ]
  },
  {
   "cell_type": "code",
   "execution_count": 208,
   "metadata": {
    "scrolled": true
   },
   "outputs": [
    {
     "data": {
      "text/plain": [
       "0.0       16618\n",
       "1.0        3742\n",
       "2014.0       69\n",
       "2013.0       31\n",
       "2003.0       31\n",
       "2007.0       30\n",
       "2000.0       29\n",
       "2005.0       29\n",
       "1990.0       22\n",
       "2009.0       21\n",
       "2004.0       21\n",
       "2006.0       20\n",
       "1989.0       18\n",
       "2002.0       17\n",
       "2008.0       15\n",
       "1998.0       15\n",
       "1999.0       15\n",
       "1983.0       15\n",
       "1984.0       15\n",
       "1987.0       14\n",
       "2015.0       14\n",
       "1991.0       14\n",
       "2010.0       14\n",
       "1985.0       14\n",
       "1986.0       14\n",
       "1994.0       13\n",
       "1992.0       13\n",
       "2001.0       12\n",
       "1997.0       12\n",
       "1988.0       11\n",
       "          ...  \n",
       "1968.0        6\n",
       "1975.0        5\n",
       "1964.0        5\n",
       "1969.0        4\n",
       "1965.0        4\n",
       "1973.0        4\n",
       "1981.0        4\n",
       "1955.0        3\n",
       "1956.0        3\n",
       "1978.0        3\n",
       "1958.0        3\n",
       "1960.0        3\n",
       "1963.0        3\n",
       "1972.0        3\n",
       "1967.0        2\n",
       "1974.0        2\n",
       "1945.0        2\n",
       "1957.0        2\n",
       "1940.0        2\n",
       "1962.0        2\n",
       "1976.0        1\n",
       "1944.0        1\n",
       "1934.0        1\n",
       "1948.0        1\n",
       "1953.0        1\n",
       "1950.0        1\n",
       "1954.0        1\n",
       "1959.0        1\n",
       "1951.0        1\n",
       "1971.0        1\n",
       "Name: yr_renovated, Length: 70, dtype: int64"
      ]
     },
     "execution_count": 208,
     "metadata": {},
     "output_type": "execute_result"
    }
   ],
   "source": [
    "df.yr_renovated.value_counts()"
   ]
  },
  {
   "cell_type": "code",
   "execution_count": 209,
   "metadata": {},
   "outputs": [
    {
     "data": {
      "text/plain": [
       "<matplotlib.axes._subplots.AxesSubplot at 0x299cb650ac8>"
      ]
     },
     "execution_count": 209,
     "metadata": {},
     "output_type": "execute_result"
    },
    {
     "data": {
      "image/png": "[encoded data removed]",
      "text/plain": [
       "<Figure size 432x288 with 1 Axes>"
      ]
     },
     "metadata": {
      "needs_background": "light"
     },
     "output_type": "display_data"
    }
   ],
   "source": [
    "#binning to create columns for renovated = y, renovated = n, and renovated = N/A\n",
    "bins_yr_renovated = [-1, .1, 1.1, 2016]\n",
    "bins_yr_renovated = pd.cut(df['yr_renovated'], bins_yr_renovated)\n",
    "bins_yr_renovated = bins_yr_renovated.cat.as_unordered()\n",
    "bins_yr_renovated.value_counts().plot(kind='bar')"
   ]
  },
  {
   "cell_type": "code",
   "execution_count": 210,
   "metadata": {},
   "outputs": [],
   "source": [
    "df[\"yr_renovated\"]=bins_yr_renovated"
   ]
  },
  {
   "cell_type": "code",
   "execution_count": 211,
   "metadata": {},
   "outputs": [
    {
     "name": "stdout",
     "output_type": "stream",
     "text": [
      "<class 'pandas.core.frame.DataFrame'>\n",
      "Int64Index: 21082 entries, 0 to 21596\n",
      "Data columns (total 19 columns):\n",
      "price            21082 non-null float64\n",
      "bedrooms         21082 non-null int64\n",
      "bathrooms        21082 non-null float64\n",
      "sqft_living      21082 non-null int64\n",
      "sqft_lot         21082 non-null int64\n",
      "floors           21082 non-null float64\n",
      "waterfront       21082 non-null category\n",
      "view             21082 non-null float64\n",
      "condition        21082 non-null int64\n",
      "grade            21082 non-null int64\n",
      "sqft_above       21082 non-null int64\n",
      "sqft_basement    21082 non-null object\n",
      "yr_built         21082 non-null int64\n",
      "yr_renovated     21082 non-null category\n",
      "zipcode          21082 non-null int64\n",
      "lat              21082 non-null float64\n",
      "long             21082 non-null float64\n",
      "sqft_living15    21082 non-null int64\n",
      "sqft_lot15       21082 non-null int64\n",
      "dtypes: category(2), float64(6), int64(10), object(1)\n",
      "memory usage: 2.9+ MB\n"
     ]
    }
   ],
   "source": [
    "df.info() #All nulls removed.  Will drop the null columns from yr_renovated and waterfront after one hot encoding."
   ]
  },
  {
   "cell_type": "code",
   "execution_count": 212,
   "metadata": {},
   "outputs": [],
   "source": [
    "df.view = df.view.astype('int64')"
   ]
  },
  {
   "cell_type": "code",
   "execution_count": 213,
   "metadata": {},
   "outputs": [],
   "source": [
    "df.floors = df.floors.astype('int64')"
   ]
  },
  {
   "cell_type": "code",
   "execution_count": 214,
   "metadata": {},
   "outputs": [],
   "source": [
    "#What else is categorical, changing datatype to category for scatterplot display.\n",
    "df.floors = df.floors.astype('category')\n",
    "df.view = df.view.astype('category')\n",
    "df.condition = df.condition.astype('category')\n",
    "df.grade = df.grade.astype('category')\n",
    "df.floors = df.floors.astype('category')\n",
    "df.sqft_basement = df.sqft_basement.astype('float64')"
   ]
  },
  {
   "cell_type": "code",
   "execution_count": 123,
   "metadata": {},
   "outputs": [
    {
     "data": {
      "image/png": "[encoded data removed]",
      "text/plain": [
       "<Figure size 1152x216 with 4 Axes>"
      ]
     },
     "metadata": {
      "needs_background": "light"
     },
     "output_type": "display_data"
    }
   ],
   "source": [
    "fig, axes = plt.subplots(nrows=1, ncols=4, figsize=(16,3))\n",
    "\n",
    "for xcol, ax in zip(['sqft_living', 'sqft_lot', 'bedrooms', 'bathrooms'], axes):\n",
    "    df.plot(kind='scatter', x=xcol, y='price', ax=ax, alpha=0.4, color='b')"
   ]
  },
  {
   "cell_type": "markdown",
   "metadata": {},
   "source": [
    "Sqft_living shows a high degree of linearity with price.  Sqft_lot is heavily skewed toward 0, but is numerical.  Bedrooms and bathrooms are categorical and need to be binned."
   ]
  },
  {
   "cell_type": "code",
   "execution_count": 124,
   "metadata": {},
   "outputs": [
    {
     "data": {
      "image/png": "[encoded data removed]",
      "text/plain": [
       "<Figure size 1152x216 with 4 Axes>"
      ]
     },
     "metadata": {
      "needs_background": "light"
     },
     "output_type": "display_data"
    }
   ],
   "source": [
    "fig, axes = plt.subplots(nrows=1, ncols=4, figsize=(16,3))\n",
    "\n",
    "for xcol, ax in zip(['sqft_above', 'sqft_basement', 'yr_built', 'zipcode'], axes):\n",
    "    df.plot(kind='scatter', x=xcol, y='price', ax=ax, alpha=0.4, color='b')"
   ]
  },
  {
   "cell_type": "markdown",
   "metadata": {},
   "source": [
    "Sqft_above is linear with price as well.  Sqft_basement is not linear, but numerical.  Yr_built and zipcode are categorical, need to be binned."
   ]
  },
  {
   "cell_type": "code",
   "execution_count": 125,
   "metadata": {},
   "outputs": [
    {
     "data": {
      "image/png": "[encoded data removed]",
      "text/plain": [
       "<Figure size 1152x216 with 4 Axes>"
      ]
     },
     "metadata": {
      "needs_background": "light"
     },
     "output_type": "display_data"
    }
   ],
   "source": [
    "fig, axes = plt.subplots(nrows=1, ncols=4, figsize=(16,3))\n",
    "\n",
    "for xcol, ax in zip(['lat', 'long', 'sqft_living15', 'sqft_lot15'], axes):\n",
    "    df.plot(kind='scatter', x=xcol, y='price', ax=ax, alpha=0.4, color='b')"
   ]
  },
  {
   "cell_type": "markdown",
   "metadata": {},
   "source": [
    "Lat and long do not show linearity, need to look at histogram to determine if it needs normalization.  Sqft_living15 is linear with price.  Sqft_lot15 is heavily skewed toward 0."
   ]
  },
  {
   "cell_type": "code",
   "execution_count": 126,
   "metadata": {},
   "outputs": [
    {
     "data": {
      "image/png": "[encoded data removed]",
      "text/plain": [
       "<Figure size 792x648 with 2 Axes>"
      ]
     },
     "metadata": {
      "needs_background": "light"
     },
     "output_type": "display_data"
    }
   ],
   "source": [
    "f, ax = plt.subplots(figsize=(11, 9))\n",
    "sns.heatmap(df.corr(), center=0, cmap='RdYlBu',);"
   ]
  },
  {
   "cell_type": "code",
   "execution_count": 127,
   "metadata": {},
   "outputs": [
    {
     "data": {
      "text/html": [
       "<div>\n",
       "<style scoped>\n",
       "    .dataframe tbody tr th:only-of-type {\n",
       "        vertical-align: middle;\n",
       "    }\n",
       "\n",
       "    .dataframe tbody tr th {\n",
       "        vertical-align: top;\n",
       "    }\n",
       "\n",
       "    .dataframe thead th {\n",
       "        text-align: right;\n",
       "    }\n",
       "</style>\n",
       "<table border=\"1\" class=\"dataframe\">\n",
       "  <thead>\n",
       "    <tr style=\"text-align: right;\">\n",
       "      <th></th>\n",
       "      <th>price</th>\n",
       "      <th>bedrooms</th>\n",
       "      <th>bathrooms</th>\n",
       "      <th>sqft_living</th>\n",
       "      <th>sqft_lot</th>\n",
       "      <th>sqft_above</th>\n",
       "      <th>sqft_basement</th>\n",
       "      <th>yr_built</th>\n",
       "      <th>zipcode</th>\n",
       "      <th>lat</th>\n",
       "      <th>long</th>\n",
       "      <th>sqft_living15</th>\n",
       "      <th>sqft_lot15</th>\n",
       "    </tr>\n",
       "  </thead>\n",
       "  <tbody>\n",
       "    <tr>\n",
       "      <th>price</th>\n",
       "      <td>True</td>\n",
       "      <td>False</td>\n",
       "      <td>False</td>\n",
       "      <td>False</td>\n",
       "      <td>False</td>\n",
       "      <td>False</td>\n",
       "      <td>False</td>\n",
       "      <td>False</td>\n",
       "      <td>False</td>\n",
       "      <td>False</td>\n",
       "      <td>False</td>\n",
       "      <td>False</td>\n",
       "      <td>False</td>\n",
       "    </tr>\n",
       "    <tr>\n",
       "      <th>bedrooms</th>\n",
       "      <td>False</td>\n",
       "      <td>True</td>\n",
       "      <td>False</td>\n",
       "      <td>False</td>\n",
       "      <td>False</td>\n",
       "      <td>False</td>\n",
       "      <td>False</td>\n",
       "      <td>False</td>\n",
       "      <td>False</td>\n",
       "      <td>False</td>\n",
       "      <td>False</td>\n",
       "      <td>False</td>\n",
       "      <td>False</td>\n",
       "    </tr>\n",
       "    <tr>\n",
       "      <th>bathrooms</th>\n",
       "      <td>False</td>\n",
       "      <td>False</td>\n",
       "      <td>True</td>\n",
       "      <td>True</td>\n",
       "      <td>False</td>\n",
       "      <td>False</td>\n",
       "      <td>False</td>\n",
       "      <td>False</td>\n",
       "      <td>False</td>\n",
       "      <td>False</td>\n",
       "      <td>False</td>\n",
       "      <td>False</td>\n",
       "      <td>False</td>\n",
       "    </tr>\n",
       "    <tr>\n",
       "      <th>sqft_living</th>\n",
       "      <td>False</td>\n",
       "      <td>False</td>\n",
       "      <td>True</td>\n",
       "      <td>True</td>\n",
       "      <td>False</td>\n",
       "      <td>True</td>\n",
       "      <td>False</td>\n",
       "      <td>False</td>\n",
       "      <td>False</td>\n",
       "      <td>False</td>\n",
       "      <td>False</td>\n",
       "      <td>True</td>\n",
       "      <td>False</td>\n",
       "    </tr>\n",
       "    <tr>\n",
       "      <th>sqft_lot</th>\n",
       "      <td>False</td>\n",
       "      <td>False</td>\n",
       "      <td>False</td>\n",
       "      <td>False</td>\n",
       "      <td>True</td>\n",
       "      <td>False</td>\n",
       "      <td>False</td>\n",
       "      <td>False</td>\n",
       "      <td>False</td>\n",
       "      <td>False</td>\n",
       "      <td>False</td>\n",
       "      <td>False</td>\n",
       "      <td>False</td>\n",
       "    </tr>\n",
       "    <tr>\n",
       "      <th>sqft_above</th>\n",
       "      <td>False</td>\n",
       "      <td>False</td>\n",
       "      <td>False</td>\n",
       "      <td>True</td>\n",
       "      <td>False</td>\n",
       "      <td>True</td>\n",
       "      <td>False</td>\n",
       "      <td>False</td>\n",
       "      <td>False</td>\n",
       "      <td>False</td>\n",
       "      <td>False</td>\n",
       "      <td>False</td>\n",
       "      <td>False</td>\n",
       "    </tr>\n",
       "    <tr>\n",
       "      <th>sqft_basement</th>\n",
       "      <td>False</td>\n",
       "      <td>False</td>\n",
       "      <td>False</td>\n",
       "      <td>False</td>\n",
       "      <td>False</td>\n",
       "      <td>False</td>\n",
       "      <td>True</td>\n",
       "      <td>False</td>\n",
       "      <td>False</td>\n",
       "      <td>False</td>\n",
       "      <td>False</td>\n",
       "      <td>False</td>\n",
       "      <td>False</td>\n",
       "    </tr>\n",
       "    <tr>\n",
       "      <th>yr_built</th>\n",
       "      <td>False</td>\n",
       "      <td>False</td>\n",
       "      <td>False</td>\n",
       "      <td>False</td>\n",
       "      <td>False</td>\n",
       "      <td>False</td>\n",
       "      <td>False</td>\n",
       "      <td>True</td>\n",
       "      <td>False</td>\n",
       "      <td>False</td>\n",
       "      <td>False</td>\n",
       "      <td>False</td>\n",
       "      <td>False</td>\n",
       "    </tr>\n",
       "    <tr>\n",
       "      <th>zipcode</th>\n",
       "      <td>False</td>\n",
       "      <td>False</td>\n",
       "      <td>False</td>\n",
       "      <td>False</td>\n",
       "      <td>False</td>\n",
       "      <td>False</td>\n",
       "      <td>False</td>\n",
       "      <td>False</td>\n",
       "      <td>True</td>\n",
       "      <td>False</td>\n",
       "      <td>False</td>\n",
       "      <td>False</td>\n",
       "      <td>False</td>\n",
       "    </tr>\n",
       "    <tr>\n",
       "      <th>lat</th>\n",
       "      <td>False</td>\n",
       "      <td>False</td>\n",
       "      <td>False</td>\n",
       "      <td>False</td>\n",
       "      <td>False</td>\n",
       "      <td>False</td>\n",
       "      <td>False</td>\n",
       "      <td>False</td>\n",
       "      <td>False</td>\n",
       "      <td>True</td>\n",
       "      <td>False</td>\n",
       "      <td>False</td>\n",
       "      <td>False</td>\n",
       "    </tr>\n",
       "    <tr>\n",
       "      <th>long</th>\n",
       "      <td>False</td>\n",
       "      <td>False</td>\n",
       "      <td>False</td>\n",
       "      <td>False</td>\n",
       "      <td>False</td>\n",
       "      <td>False</td>\n",
       "      <td>False</td>\n",
       "      <td>False</td>\n",
       "      <td>False</td>\n",
       "      <td>False</td>\n",
       "      <td>True</td>\n",
       "      <td>False</td>\n",
       "      <td>False</td>\n",
       "    </tr>\n",
       "    <tr>\n",
       "      <th>sqft_living15</th>\n",
       "      <td>False</td>\n",
       "      <td>False</td>\n",
       "      <td>False</td>\n",
       "      <td>True</td>\n",
       "      <td>False</td>\n",
       "      <td>False</td>\n",
       "      <td>False</td>\n",
       "      <td>False</td>\n",
       "      <td>False</td>\n",
       "      <td>False</td>\n",
       "      <td>False</td>\n",
       "      <td>True</td>\n",
       "      <td>False</td>\n",
       "    </tr>\n",
       "    <tr>\n",
       "      <th>sqft_lot15</th>\n",
       "      <td>False</td>\n",
       "      <td>False</td>\n",
       "      <td>False</td>\n",
       "      <td>False</td>\n",
       "      <td>False</td>\n",
       "      <td>False</td>\n",
       "      <td>False</td>\n",
       "      <td>False</td>\n",
       "      <td>False</td>\n",
       "      <td>False</td>\n",
       "      <td>False</td>\n",
       "      <td>False</td>\n",
       "      <td>True</td>\n",
       "    </tr>\n",
       "  </tbody>\n",
       "</table>\n",
       "</div>"
      ],
      "text/plain": [
       "               price  bedrooms  bathrooms  sqft_living  sqft_lot  sqft_above  \\\n",
       "price           True     False      False        False     False       False   \n",
       "bedrooms       False      True      False        False     False       False   \n",
       "bathrooms      False     False       True         True     False       False   \n",
       "sqft_living    False     False       True         True     False        True   \n",
       "sqft_lot       False     False      False        False      True       False   \n",
       "sqft_above     False     False      False         True     False        True   \n",
       "sqft_basement  False     False      False        False     False       False   \n",
       "yr_built       False     False      False        False     False       False   \n",
       "zipcode        False     False      False        False     False       False   \n",
       "lat            False     False      False        False     False       False   \n",
       "long           False     False      False        False     False       False   \n",
       "sqft_living15  False     False      False         True     False       False   \n",
       "sqft_lot15     False     False      False        False     False       False   \n",
       "\n",
       "               sqft_basement  yr_built  zipcode    lat   long  sqft_living15  \\\n",
       "price                  False     False    False  False  False          False   \n",
       "bedrooms               False     False    False  False  False          False   \n",
       "bathrooms              False     False    False  False  False          False   \n",
       "sqft_living            False     False    False  False  False           True   \n",
       "sqft_lot               False     False    False  False  False          False   \n",
       "sqft_above             False     False    False  False  False          False   \n",
       "sqft_basement           True     False    False  False  False          False   \n",
       "yr_built               False      True    False  False  False          False   \n",
       "zipcode                False     False     True  False  False          False   \n",
       "lat                    False     False    False   True  False          False   \n",
       "long                   False     False    False  False   True          False   \n",
       "sqft_living15          False     False    False  False  False           True   \n",
       "sqft_lot15             False     False    False  False  False          False   \n",
       "\n",
       "               sqft_lot15  \n",
       "price               False  \n",
       "bedrooms            False  \n",
       "bathrooms           False  \n",
       "sqft_living         False  \n",
       "sqft_lot            False  \n",
       "sqft_above          False  \n",
       "sqft_basement       False  \n",
       "yr_built            False  \n",
       "zipcode             False  \n",
       "lat                 False  \n",
       "long                False  \n",
       "sqft_living15       False  \n",
       "sqft_lot15           True  "
      ]
     },
     "execution_count": 127,
     "metadata": {},
     "output_type": "execute_result"
    }
   ],
   "source": [
    "abs(df.corr()) >0.75 #Positive correlation between sqft living and above columns."
   ]
  },
  {
   "cell_type": "code",
   "execution_count": 215,
   "metadata": {},
   "outputs": [
    {
     "name": "stdout",
     "output_type": "stream",
     "text": [
      "<class 'pandas.core.frame.DataFrame'>\n",
      "Int64Index: 21082 entries, 0 to 21596\n",
      "Data columns (total 19 columns):\n",
      "price            21082 non-null float64\n",
      "bedrooms         21082 non-null int64\n",
      "bathrooms        21082 non-null float64\n",
      "sqft_living      21082 non-null int64\n",
      "sqft_lot         21082 non-null int64\n",
      "floors           21082 non-null category\n",
      "waterfront       21082 non-null category\n",
      "view             21082 non-null category\n",
      "condition        21082 non-null category\n",
      "grade            21082 non-null category\n",
      "sqft_above       21082 non-null int64\n",
      "sqft_basement    21082 non-null float64\n",
      "yr_built         21082 non-null int64\n",
      "yr_renovated     21082 non-null category\n",
      "zipcode          21082 non-null int64\n",
      "lat              21082 non-null float64\n",
      "long             21082 non-null float64\n",
      "sqft_living15    21082 non-null int64\n",
      "sqft_lot15       21082 non-null int64\n",
      "dtypes: category(6), float64(5), int64(8)\n",
      "memory usage: 2.4 MB\n"
     ]
    }
   ],
   "source": [
    "df.info()"
   ]
  },
  {
   "cell_type": "code",
   "execution_count": 216,
   "metadata": {},
   "outputs": [],
   "source": [
    "#normalizing the numerical data.\n",
    "df.bedrooms = (df.bedrooms - df.bedrooms.mean()) / df.bedrooms.std()\n",
    "df.bathrooms = (df.bathrooms - df.bathrooms.mean()) / df.bathrooms.std()\n",
    "df.sqft_living = (df.sqft_living - df.sqft_living.mean()) / df.sqft_living.std()\n",
    "df.sqft_lot = (df.sqft_lot - df.sqft_lot.mean()) / df.sqft_lot.std()\n",
    "df.sqft_above = (df.sqft_above - df.sqft_above.mean()) / df.sqft_above.std()\n",
    "df.sqft_basement = (df.sqft_basement - df.sqft_basement.mean()) / df.sqft_basement.std()\n",
    "df.yr_built = (df.yr_built - df.yr_built.mean()) / df.yr_built.std()\n",
    "df.zipcode = (df.zipcode - df.zipcode.mean()) / df.zipcode.std()\n",
    "df.lat = (df.lat - df.lat.mean()) / df.lat.std()\n",
    "df.long = (df.long - df.long.mean()) / df.long.std()\n",
    "df.sqft_living15 = (df.sqft_living15 - df.sqft_living15.mean()) / df.sqft_living15.std()\n",
    "df.sqft_lot15 = (df.sqft_lot15 - df.sqft_lot15.mean()) / df.sqft_lot15.std()"
   ]
  },
  {
   "cell_type": "code",
   "execution_count": 217,
   "metadata": {},
   "outputs": [
    {
     "name": "stdout",
     "output_type": "stream",
     "text": [
      "<class 'pandas.core.frame.DataFrame'>\n",
      "Int64Index: 21082 entries, 0 to 21596\n",
      "Data columns (total 19 columns):\n",
      "price            21082 non-null float64\n",
      "bedrooms         21082 non-null float64\n",
      "bathrooms        21082 non-null float64\n",
      "sqft_living      21082 non-null float64\n",
      "sqft_lot         21082 non-null float64\n",
      "floors           21082 non-null category\n",
      "waterfront       21082 non-null category\n",
      "view             21082 non-null category\n",
      "condition        21082 non-null category\n",
      "grade            21082 non-null category\n",
      "sqft_above       21082 non-null float64\n",
      "sqft_basement    21082 non-null float64\n",
      "yr_built         21082 non-null float64\n",
      "yr_renovated     21082 non-null category\n",
      "zipcode          21082 non-null float64\n",
      "lat              21082 non-null float64\n",
      "long             21082 non-null float64\n",
      "sqft_living15    21082 non-null float64\n",
      "sqft_lot15       21082 non-null float64\n",
      "dtypes: category(6), float64(13)\n",
      "memory usage: 2.4 MB\n"
     ]
    }
   ],
   "source": [
    "df.info()"
   ]
  },
  {
   "cell_type": "code",
   "execution_count": 218,
   "metadata": {},
   "outputs": [
    {
     "data": {
      "text/html": [
       "<div>\n",
       "<style scoped>\n",
       "    .dataframe tbody tr th:only-of-type {\n",
       "        vertical-align: middle;\n",
       "    }\n",
       "\n",
       "    .dataframe tbody tr th {\n",
       "        vertical-align: top;\n",
       "    }\n",
       "\n",
       "    .dataframe thead th {\n",
       "        text-align: right;\n",
       "    }\n",
       "</style>\n",
       "<table border=\"1\" class=\"dataframe\">\n",
       "  <thead>\n",
       "    <tr style=\"text-align: right;\">\n",
       "      <th></th>\n",
       "      <th>price</th>\n",
       "      <th>bedrooms</th>\n",
       "      <th>bathrooms</th>\n",
       "      <th>sqft_living</th>\n",
       "      <th>sqft_lot</th>\n",
       "      <th>floors</th>\n",
       "      <th>waterfront</th>\n",
       "      <th>view</th>\n",
       "      <th>condition</th>\n",
       "      <th>grade</th>\n",
       "      <th>sqft_above</th>\n",
       "      <th>sqft_basement</th>\n",
       "      <th>yr_built</th>\n",
       "      <th>yr_renovated</th>\n",
       "      <th>zipcode</th>\n",
       "      <th>lat</th>\n",
       "      <th>long</th>\n",
       "      <th>sqft_living15</th>\n",
       "      <th>sqft_lot15</th>\n",
       "    </tr>\n",
       "  </thead>\n",
       "  <tbody>\n",
       "    <tr>\n",
       "      <th>0</th>\n",
       "      <td>221900.0</td>\n",
       "      <td>-0.402600</td>\n",
       "      <td>-1.452748</td>\n",
       "      <td>-0.980938</td>\n",
       "      <td>-0.228973</td>\n",
       "      <td>1</td>\n",
       "      <td>(1.1, 2.1]</td>\n",
       "      <td>0</td>\n",
       "      <td>3</td>\n",
       "      <td>7</td>\n",
       "      <td>-0.735179</td>\n",
       "      <td>-0.659174</td>\n",
       "      <td>-0.546440</td>\n",
       "      <td>(-1.0, 0.1]</td>\n",
       "      <td>1.870791</td>\n",
       "      <td>-0.354849</td>\n",
       "      <td>-0.306933</td>\n",
       "      <td>-0.943655</td>\n",
       "      <td>-0.260878</td>\n",
       "    </tr>\n",
       "    <tr>\n",
       "      <th>1</th>\n",
       "      <td>538000.0</td>\n",
       "      <td>-0.402600</td>\n",
       "      <td>0.174556</td>\n",
       "      <td>0.533460</td>\n",
       "      <td>-0.190307</td>\n",
       "      <td>2</td>\n",
       "      <td>(-1.0, 0.9]</td>\n",
       "      <td>0</td>\n",
       "      <td>3</td>\n",
       "      <td>7</td>\n",
       "      <td>0.459940</td>\n",
       "      <td>0.245788</td>\n",
       "      <td>-0.682852</td>\n",
       "      <td>(1.1, 2016.0]</td>\n",
       "      <td>0.880670</td>\n",
       "      <td>1.159208</td>\n",
       "      <td>-0.747879</td>\n",
       "      <td>-0.433112</td>\n",
       "      <td>-0.187615</td>\n",
       "    </tr>\n",
       "    <tr>\n",
       "      <th>2</th>\n",
       "      <td>180000.0</td>\n",
       "      <td>-1.483686</td>\n",
       "      <td>-1.452748</td>\n",
       "      <td>-1.427631</td>\n",
       "      <td>-0.123322</td>\n",
       "      <td>1</td>\n",
       "      <td>(-1.0, 0.9]</td>\n",
       "      <td>0</td>\n",
       "      <td>3</td>\n",
       "      <td>6</td>\n",
       "      <td>-1.230128</td>\n",
       "      <td>-0.659174</td>\n",
       "      <td>-1.296702</td>\n",
       "      <td>(0.1, 1.1]</td>\n",
       "      <td>-0.931440</td>\n",
       "      <td>1.281170</td>\n",
       "      <td>-0.136245</td>\n",
       "      <td>1.069344</td>\n",
       "      <td>-0.172034</td>\n",
       "    </tr>\n",
       "    <tr>\n",
       "      <th>3</th>\n",
       "      <td>604000.0</td>\n",
       "      <td>0.678486</td>\n",
       "      <td>1.150938</td>\n",
       "      <td>-0.131132</td>\n",
       "      <td>-0.244760</td>\n",
       "      <td>1</td>\n",
       "      <td>(-1.0, 0.9]</td>\n",
       "      <td>0</td>\n",
       "      <td>5</td>\n",
       "      <td>7</td>\n",
       "      <td>-0.892114</td>\n",
       "      <td>1.399613</td>\n",
       "      <td>-0.205413</td>\n",
       "      <td>(-1.0, 0.1]</td>\n",
       "      <td>1.086167</td>\n",
       "      <td>-0.285569</td>\n",
       "      <td>-1.274170</td>\n",
       "      <td>-0.914481</td>\n",
       "      <td>-0.284820</td>\n",
       "    </tr>\n",
       "    <tr>\n",
       "      <th>4</th>\n",
       "      <td>510000.0</td>\n",
       "      <td>-0.402600</td>\n",
       "      <td>-0.150905</td>\n",
       "      <td>-0.436190</td>\n",
       "      <td>-0.169954</td>\n",
       "      <td>1</td>\n",
       "      <td>(-1.0, 0.9]</td>\n",
       "      <td>0</td>\n",
       "      <td>3</td>\n",
       "      <td>8</td>\n",
       "      <td>-0.131584</td>\n",
       "      <td>-0.659174</td>\n",
       "      <td>0.544849</td>\n",
       "      <td>(-1.0, 0.1]</td>\n",
       "      <td>-0.072089</td>\n",
       "      <td>0.407231</td>\n",
       "      <td>1.200818</td>\n",
       "      <td>-0.272656</td>\n",
       "      <td>-0.192624</td>\n",
       "    </tr>\n",
       "  </tbody>\n",
       "</table>\n",
       "</div>"
      ],
      "text/plain": [
       "      price  bedrooms  bathrooms  sqft_living  sqft_lot floors   waterfront  \\\n",
       "0  221900.0 -0.402600  -1.452748    -0.980938 -0.228973      1   (1.1, 2.1]   \n",
       "1  538000.0 -0.402600   0.174556     0.533460 -0.190307      2  (-1.0, 0.9]   \n",
       "2  180000.0 -1.483686  -1.452748    -1.427631 -0.123322      1  (-1.0, 0.9]   \n",
       "3  604000.0  0.678486   1.150938    -0.131132 -0.244760      1  (-1.0, 0.9]   \n",
       "4  510000.0 -0.402600  -0.150905    -0.436190 -0.169954      1  (-1.0, 0.9]   \n",
       "\n",
       "  view condition grade  sqft_above  sqft_basement  yr_built   yr_renovated  \\\n",
       "0    0         3     7   -0.735179      -0.659174 -0.546440    (-1.0, 0.1]   \n",
       "1    0         3     7    0.459940       0.245788 -0.682852  (1.1, 2016.0]   \n",
       "2    0         3     6   -1.230128      -0.659174 -1.296702     (0.1, 1.1]   \n",
       "3    0         5     7   -0.892114       1.399613 -0.205413    (-1.0, 0.1]   \n",
       "4    0         3     8   -0.131584      -0.659174  0.544849    (-1.0, 0.1]   \n",
       "\n",
       "    zipcode       lat      long  sqft_living15  sqft_lot15  \n",
       "0  1.870791 -0.354849 -0.306933      -0.943655   -0.260878  \n",
       "1  0.880670  1.159208 -0.747879      -0.433112   -0.187615  \n",
       "2 -0.931440  1.281170 -0.136245       1.069344   -0.172034  \n",
       "3  1.086167 -0.285569 -1.274170      -0.914481   -0.284820  \n",
       "4 -0.072089  0.407231  1.200818      -0.272656   -0.192624  "
      ]
     },
     "execution_count": 218,
     "metadata": {},
     "output_type": "execute_result"
    }
   ],
   "source": [
    "df.head()"
   ]
  },
  {
   "cell_type": "code",
   "execution_count": 219,
   "metadata": {},
   "outputs": [],
   "source": [
    "df = pd.get_dummies(df)"
   ]
  },
  {
   "cell_type": "code",
   "execution_count": 220,
   "metadata": {},
   "outputs": [
    {
     "name": "stdout",
     "output_type": "stream",
     "text": [
      "<class 'pandas.core.frame.DataFrame'>\n",
      "Int64Index: 21082 entries, 0 to 21596\n",
      "Data columns (total 43 columns):\n",
      "price                         21082 non-null float64\n",
      "bedrooms                      21082 non-null float64\n",
      "bathrooms                     21082 non-null float64\n",
      "sqft_living                   21082 non-null float64\n",
      "sqft_lot                      21082 non-null float64\n",
      "sqft_above                    21082 non-null float64\n",
      "sqft_basement                 21082 non-null float64\n",
      "yr_built                      21082 non-null float64\n",
      "zipcode                       21082 non-null float64\n",
      "lat                           21082 non-null float64\n",
      "long                          21082 non-null float64\n",
      "sqft_living15                 21082 non-null float64\n",
      "sqft_lot15                    21082 non-null float64\n",
      "floors_1                      21082 non-null uint8\n",
      "floors_2                      21082 non-null uint8\n",
      "floors_3                      21082 non-null uint8\n",
      "waterfront_(-1.0, 0.9]        21082 non-null uint8\n",
      "waterfront_(0.9, 1.1]         21082 non-null uint8\n",
      "waterfront_(1.1, 2.1]         21082 non-null uint8\n",
      "view_0                        21082 non-null uint8\n",
      "view_1                        21082 non-null uint8\n",
      "view_2                        21082 non-null uint8\n",
      "view_3                        21082 non-null uint8\n",
      "view_4                        21082 non-null uint8\n",
      "condition_1                   21082 non-null uint8\n",
      "condition_2                   21082 non-null uint8\n",
      "condition_3                   21082 non-null uint8\n",
      "condition_4                   21082 non-null uint8\n",
      "condition_5                   21082 non-null uint8\n",
      "grade_3                       21082 non-null uint8\n",
      "grade_4                       21082 non-null uint8\n",
      "grade_5                       21082 non-null uint8\n",
      "grade_6                       21082 non-null uint8\n",
      "grade_7                       21082 non-null uint8\n",
      "grade_8                       21082 non-null uint8\n",
      "grade_9                       21082 non-null uint8\n",
      "grade_10                      21082 non-null uint8\n",
      "grade_11                      21082 non-null uint8\n",
      "grade_12                      21082 non-null uint8\n",
      "grade_13                      21082 non-null uint8\n",
      "yr_renovated_(-1.0, 0.1]      21082 non-null uint8\n",
      "yr_renovated_(0.1, 1.1]       21082 non-null uint8\n",
      "yr_renovated_(1.1, 2016.0]    21082 non-null uint8\n",
      "dtypes: float64(13), uint8(30)\n",
      "memory usage: 2.9 MB\n"
     ]
    }
   ],
   "source": [
    "df.info()"
   ]
  },
  {
   "cell_type": "code",
   "execution_count": 221,
   "metadata": {},
   "outputs": [],
   "source": [
    "df.rename(columns={'waterfront_(-1.0, 0.9]': 'waterfront_no', 'waterfront_(0.9, 1.1]':'waterfront_yes', 'waterfront_(1.1, 2.1]':'waterfront_na', 'yr_renovated_(-1.0, 0.1]':'renovated_no', 'yr_renovated_(0.1, 1.1]':'renovated_na', 'yr_renovated_(1.1, 2016.0]':'renovated_yes'}, inplace=True)"
   ]
  },
  {
   "cell_type": "code",
   "execution_count": 222,
   "metadata": {},
   "outputs": [
    {
     "name": "stdout",
     "output_type": "stream",
     "text": [
      "<class 'pandas.core.frame.DataFrame'>\n",
      "Int64Index: 21082 entries, 0 to 21596\n",
      "Data columns (total 43 columns):\n",
      "price             21082 non-null float64\n",
      "bedrooms          21082 non-null float64\n",
      "bathrooms         21082 non-null float64\n",
      "sqft_living       21082 non-null float64\n",
      "sqft_lot          21082 non-null float64\n",
      "sqft_above        21082 non-null float64\n",
      "sqft_basement     21082 non-null float64\n",
      "yr_built          21082 non-null float64\n",
      "zipcode           21082 non-null float64\n",
      "lat               21082 non-null float64\n",
      "long              21082 non-null float64\n",
      "sqft_living15     21082 non-null float64\n",
      "sqft_lot15        21082 non-null float64\n",
      "floors_1          21082 non-null uint8\n",
      "floors_2          21082 non-null uint8\n",
      "floors_3          21082 non-null uint8\n",
      "waterfront_no     21082 non-null uint8\n",
      "waterfront_yes    21082 non-null uint8\n",
      "waterfront_na     21082 non-null uint8\n",
      "view_0            21082 non-null uint8\n",
      "view_1            21082 non-null uint8\n",
      "view_2            21082 non-null uint8\n",
      "view_3            21082 non-null uint8\n",
      "view_4            21082 non-null uint8\n",
      "condition_1       21082 non-null uint8\n",
      "condition_2       21082 non-null uint8\n",
      "condition_3       21082 non-null uint8\n",
      "condition_4       21082 non-null uint8\n",
      "condition_5       21082 non-null uint8\n",
      "grade_3           21082 non-null uint8\n",
      "grade_4           21082 non-null uint8\n",
      "grade_5           21082 non-null uint8\n",
      "grade_6           21082 non-null uint8\n",
      "grade_7           21082 non-null uint8\n",
      "grade_8           21082 non-null uint8\n",
      "grade_9           21082 non-null uint8\n",
      "grade_10          21082 non-null uint8\n",
      "grade_11          21082 non-null uint8\n",
      "grade_12          21082 non-null uint8\n",
      "grade_13          21082 non-null uint8\n",
      "renovated_no      21082 non-null uint8\n",
      "renovated_na      21082 non-null uint8\n",
      "renovated_yes     21082 non-null uint8\n",
      "dtypes: float64(13), uint8(30)\n",
      "memory usage: 2.9 MB\n"
     ]
    }
   ],
   "source": [
    "df.info()"
   ]
  },
  {
   "cell_type": "code",
   "execution_count": 223,
   "metadata": {},
   "outputs": [],
   "source": [
    "df = df.drop(['waterfront_na', 'renovated_na'], axis=1)"
   ]
  },
  {
   "cell_type": "code",
   "execution_count": 224,
   "metadata": {
    "scrolled": true
   },
   "outputs": [
    {
     "name": "stdout",
     "output_type": "stream",
     "text": [
      "<class 'pandas.core.frame.DataFrame'>\n",
      "Int64Index: 21082 entries, 0 to 21596\n",
      "Data columns (total 41 columns):\n",
      "price             21082 non-null float64\n",
      "bedrooms          21082 non-null float64\n",
      "bathrooms         21082 non-null float64\n",
      "sqft_living       21082 non-null float64\n",
      "sqft_lot          21082 non-null float64\n",
      "sqft_above        21082 non-null float64\n",
      "sqft_basement     21082 non-null float64\n",
      "yr_built          21082 non-null float64\n",
      "zipcode           21082 non-null float64\n",
      "lat               21082 non-null float64\n",
      "long              21082 non-null float64\n",
      "sqft_living15     21082 non-null float64\n",
      "sqft_lot15        21082 non-null float64\n",
      "floors_1          21082 non-null uint8\n",
      "floors_2          21082 non-null uint8\n",
      "floors_3          21082 non-null uint8\n",
      "waterfront_no     21082 non-null uint8\n",
      "waterfront_yes    21082 non-null uint8\n",
      "view_0            21082 non-null uint8\n",
      "view_1            21082 non-null uint8\n",
      "view_2            21082 non-null uint8\n",
      "view_3            21082 non-null uint8\n",
      "view_4            21082 non-null uint8\n",
      "condition_1       21082 non-null uint8\n",
      "condition_2       21082 non-null uint8\n",
      "condition_3       21082 non-null uint8\n",
      "condition_4       21082 non-null uint8\n",
      "condition_5       21082 non-null uint8\n",
      "grade_3           21082 non-null uint8\n",
      "grade_4           21082 non-null uint8\n",
      "grade_5           21082 non-null uint8\n",
      "grade_6           21082 non-null uint8\n",
      "grade_7           21082 non-null uint8\n",
      "grade_8           21082 non-null uint8\n",
      "grade_9           21082 non-null uint8\n",
      "grade_10          21082 non-null uint8\n",
      "grade_11          21082 non-null uint8\n",
      "grade_12          21082 non-null uint8\n",
      "grade_13          21082 non-null uint8\n",
      "renovated_no      21082 non-null uint8\n",
      "renovated_yes     21082 non-null uint8\n",
      "dtypes: float64(13), uint8(28)\n",
      "memory usage: 2.8 MB\n"
     ]
    }
   ],
   "source": [
    "df.info()"
   ]
  },
  {
   "cell_type": "markdown",
   "metadata": {},
   "source": [
    "Data scrubbed, normalized, and one hot encoded."
   ]
  },
  {
   "cell_type": "code",
   "execution_count": 225,
   "metadata": {},
   "outputs": [],
   "source": [
    "df.to_csv('student_scrub.csv')"
   ]
  },
  {
   "cell_type": "markdown",
   "metadata": {},
   "source": [
    "## Exploring"
   ]
  },
  {
   "cell_type": "code",
   "execution_count": 138,
   "metadata": {},
   "outputs": [],
   "source": [
    "for cat_names in df.iloc[:,13:].columns:\n",
    "         df[cat_names] = df[cat_names].astype('category')"
   ]
  },
  {
   "cell_type": "code",
   "execution_count": 139,
   "metadata": {},
   "outputs": [
    {
     "data": {
      "text/html": [
       "<div>\n",
       "<style scoped>\n",
       "    .dataframe tbody tr th:only-of-type {\n",
       "        vertical-align: middle;\n",
       "    }\n",
       "\n",
       "    .dataframe tbody tr th {\n",
       "        vertical-align: top;\n",
       "    }\n",
       "\n",
       "    .dataframe thead th {\n",
       "        text-align: right;\n",
       "    }\n",
       "</style>\n",
       "<table border=\"1\" class=\"dataframe\">\n",
       "  <thead>\n",
       "    <tr style=\"text-align: right;\">\n",
       "      <th></th>\n",
       "      <th>price</th>\n",
       "      <th>bedrooms</th>\n",
       "      <th>bathrooms</th>\n",
       "      <th>sqft_living</th>\n",
       "      <th>sqft_lot</th>\n",
       "      <th>sqft_above</th>\n",
       "      <th>sqft_basement</th>\n",
       "      <th>yr_built</th>\n",
       "      <th>zipcode</th>\n",
       "      <th>lat</th>\n",
       "      <th>long</th>\n",
       "      <th>sqft_living15</th>\n",
       "      <th>sqft_lot15</th>\n",
       "    </tr>\n",
       "  </thead>\n",
       "  <tbody>\n",
       "    <tr>\n",
       "      <th>count</th>\n",
       "      <td>2.108200e+04</td>\n",
       "      <td>2.108200e+04</td>\n",
       "      <td>2.108200e+04</td>\n",
       "      <td>2.108200e+04</td>\n",
       "      <td>2.108200e+04</td>\n",
       "      <td>21082.000000</td>\n",
       "      <td>2.108200e+04</td>\n",
       "      <td>2.108200e+04</td>\n",
       "      <td>2.108200e+04</td>\n",
       "      <td>2.108200e+04</td>\n",
       "      <td>2.108200e+04</td>\n",
       "      <td>2.108200e+04</td>\n",
       "      <td>2.108200e+04</td>\n",
       "    </tr>\n",
       "    <tr>\n",
       "      <th>mean</th>\n",
       "      <td>5.402469e+05</td>\n",
       "      <td>-7.414828e-17</td>\n",
       "      <td>-3.019857e-16</td>\n",
       "      <td>1.941337e-16</td>\n",
       "      <td>2.696301e-18</td>\n",
       "      <td>0.000000</td>\n",
       "      <td>3.505191e-17</td>\n",
       "      <td>-1.013809e-15</td>\n",
       "      <td>7.719577e-14</td>\n",
       "      <td>-2.467503e-14</td>\n",
       "      <td>9.732838e-14</td>\n",
       "      <td>-5.931862e-17</td>\n",
       "      <td>5.392602e-18</td>\n",
       "    </tr>\n",
       "    <tr>\n",
       "      <th>std</th>\n",
       "      <td>3.667323e+05</td>\n",
       "      <td>1.000000e+00</td>\n",
       "      <td>1.000000e+00</td>\n",
       "      <td>1.000000e+00</td>\n",
       "      <td>1.000000e+00</td>\n",
       "      <td>1.000000</td>\n",
       "      <td>1.000000e+00</td>\n",
       "      <td>1.000000e+00</td>\n",
       "      <td>1.000000e+00</td>\n",
       "      <td>1.000000e+00</td>\n",
       "      <td>1.000000e+00</td>\n",
       "      <td>1.000000e+00</td>\n",
       "      <td>1.000000e+00</td>\n",
       "    </tr>\n",
       "    <tr>\n",
       "      <th>min</th>\n",
       "      <td>7.800000e+04</td>\n",
       "      <td>-2.564772e+00</td>\n",
       "      <td>-2.103670e+00</td>\n",
       "      <td>-1.863429e+00</td>\n",
       "      <td>-3.535680e-01</td>\n",
       "      <td>-1.713004</td>\n",
       "      <td>-6.591737e-01</td>\n",
       "      <td>-2.422093e+00</td>\n",
       "      <td>-1.435842e+00</td>\n",
       "      <td>-2.918930e+00</td>\n",
       "      <td>-2.170286e+00</td>\n",
       "      <td>-2.316287e+00</td>\n",
       "      <td>-4.450113e-01</td>\n",
       "    </tr>\n",
       "    <tr>\n",
       "      <th>25%</th>\n",
       "      <td>3.220000e+05</td>\n",
       "      <td>-4.025997e-01</td>\n",
       "      <td>-4.763658e-01</td>\n",
       "      <td>-7.085640e-01</td>\n",
       "      <td>-2.437883e-01</td>\n",
       "      <td>-0.711035</td>\n",
       "      <td>-6.591737e-01</td>\n",
       "      <td>-6.487487e-01</td>\n",
       "      <td>-8.380323e-01</td>\n",
       "      <td>-6.426134e-01</td>\n",
       "      <td>-8.118877e-01</td>\n",
       "      <td>-7.248510e-01</td>\n",
       "      <td>-2.811365e-01</td>\n",
       "    </tr>\n",
       "    <tr>\n",
       "      <th>50%</th>\n",
       "      <td>4.500000e+05</td>\n",
       "      <td>-4.025997e-01</td>\n",
       "      <td>1.745558e-01</td>\n",
       "      <td>-1.856063e-01</td>\n",
       "      <td>-1.811264e-01</td>\n",
       "      <td>-0.276447</td>\n",
       "      <td>-6.591737e-01</td>\n",
       "      <td>1.356153e-01</td>\n",
       "      <td>-2.402229e-01</td>\n",
       "      <td>8.536787e-02</td>\n",
       "      <td>-1.149085e-01</td>\n",
       "      <td>-2.143077e-01</td>\n",
       "      <td>-1.880937e-01</td>\n",
       "    </tr>\n",
       "    <tr>\n",
       "      <th>75%</th>\n",
       "      <td>6.450000e+05</td>\n",
       "      <td>6.784864e-01</td>\n",
       "      <td>5.000166e-01</td>\n",
       "      <td>5.116705e-01</td>\n",
       "      <td>-1.063755e-01</td>\n",
       "      <td>0.508227</td>\n",
       "      <td>6.077721e-01</td>\n",
       "      <td>8.858765e-01</td>\n",
       "      <td>7.312173e-01</td>\n",
       "      <td>8.503345e-01</td>\n",
       "      <td>6.318550e-01</td>\n",
       "      <td>5.442137e-01</td>\n",
       "      <td>-9.738058e-02</td>\n",
       "    </tr>\n",
       "    <tr>\n",
       "      <th>max</th>\n",
       "      <td>7.700000e+06</td>\n",
       "      <td>3.202998e+01</td>\n",
       "      <td>7.660154e+00</td>\n",
       "      <td>1.248522e+01</td>\n",
       "      <td>3.974125e+01</td>\n",
       "      <td>9.200002</td>\n",
       "      <td>1.024561e+01</td>\n",
       "      <td>1.499727e+00</td>\n",
       "      <td>2.263104e+00</td>\n",
       "      <td>1.567671e+00</td>\n",
       "      <td>6.392602e+00</td>\n",
       "      <td>6.160190e+00</td>\n",
       "      <td>3.162085e+01</td>\n",
       "    </tr>\n",
       "  </tbody>\n",
       "</table>\n",
       "</div>"
      ],
      "text/plain": [
       "              price      bedrooms     bathrooms   sqft_living      sqft_lot  \\\n",
       "count  2.108200e+04  2.108200e+04  2.108200e+04  2.108200e+04  2.108200e+04   \n",
       "mean   5.402469e+05 -7.414828e-17 -3.019857e-16  1.941337e-16  2.696301e-18   \n",
       "std    3.667323e+05  1.000000e+00  1.000000e+00  1.000000e+00  1.000000e+00   \n",
       "min    7.800000e+04 -2.564772e+00 -2.103670e+00 -1.863429e+00 -3.535680e-01   \n",
       "25%    3.220000e+05 -4.025997e-01 -4.763658e-01 -7.085640e-01 -2.437883e-01   \n",
       "50%    4.500000e+05 -4.025997e-01  1.745558e-01 -1.856063e-01 -1.811264e-01   \n",
       "75%    6.450000e+05  6.784864e-01  5.000166e-01  5.116705e-01 -1.063755e-01   \n",
       "max    7.700000e+06  3.202998e+01  7.660154e+00  1.248522e+01  3.974125e+01   \n",
       "\n",
       "         sqft_above  sqft_basement      yr_built       zipcode           lat  \\\n",
       "count  21082.000000   2.108200e+04  2.108200e+04  2.108200e+04  2.108200e+04   \n",
       "mean       0.000000   3.505191e-17 -1.013809e-15  7.719577e-14 -2.467503e-14   \n",
       "std        1.000000   1.000000e+00  1.000000e+00  1.000000e+00  1.000000e+00   \n",
       "min       -1.713004  -6.591737e-01 -2.422093e+00 -1.435842e+00 -2.918930e+00   \n",
       "25%       -0.711035  -6.591737e-01 -6.487487e-01 -8.380323e-01 -6.426134e-01   \n",
       "50%       -0.276447  -6.591737e-01  1.356153e-01 -2.402229e-01  8.536787e-02   \n",
       "75%        0.508227   6.077721e-01  8.858765e-01  7.312173e-01  8.503345e-01   \n",
       "max        9.200002   1.024561e+01  1.499727e+00  2.263104e+00  1.567671e+00   \n",
       "\n",
       "               long  sqft_living15    sqft_lot15  \n",
       "count  2.108200e+04   2.108200e+04  2.108200e+04  \n",
       "mean   9.732838e-14  -5.931862e-17  5.392602e-18  \n",
       "std    1.000000e+00   1.000000e+00  1.000000e+00  \n",
       "min   -2.170286e+00  -2.316287e+00 -4.450113e-01  \n",
       "25%   -8.118877e-01  -7.248510e-01 -2.811365e-01  \n",
       "50%   -1.149085e-01  -2.143077e-01 -1.880937e-01  \n",
       "75%    6.318550e-01   5.442137e-01 -9.738058e-02  \n",
       "max    6.392602e+00   6.160190e+00  3.162085e+01  "
      ]
     },
     "execution_count": 139,
     "metadata": {},
     "output_type": "execute_result"
    }
   ],
   "source": [
    "df.describe()"
   ]
  },
  {
   "cell_type": "code",
   "execution_count": 140,
   "metadata": {},
   "outputs": [
    {
     "data": {
      "text/plain": [
       "array([[<matplotlib.axes._subplots.AxesSubplot object at 0x00000299CB661748>,\n",
       "        <matplotlib.axes._subplots.AxesSubplot object at 0x00000299CB66AF28>,\n",
       "        <matplotlib.axes._subplots.AxesSubplot object at 0x00000299CB6A31D0>,\n",
       "        <matplotlib.axes._subplots.AxesSubplot object at 0x00000299CB6C8438>],\n",
       "       [<matplotlib.axes._subplots.AxesSubplot object at 0x00000299CB6F35F8>,\n",
       "        <matplotlib.axes._subplots.AxesSubplot object at 0x00000299CB86B860>,\n",
       "        <matplotlib.axes._subplots.AxesSubplot object at 0x00000299CB894AC8>,\n",
       "        <matplotlib.axes._subplots.AxesSubplot object at 0x00000299CB8BED68>],\n",
       "       [<matplotlib.axes._subplots.AxesSubplot object at 0x00000299CB8BEDA0>,\n",
       "        <matplotlib.axes._subplots.AxesSubplot object at 0x00000299D11F8240>,\n",
       "        <matplotlib.axes._subplots.AxesSubplot object at 0x00000299D12224A8>,\n",
       "        <matplotlib.axes._subplots.AxesSubplot object at 0x00000299D1249710>],\n",
       "       [<matplotlib.axes._subplots.AxesSubplot object at 0x00000299D1272978>,\n",
       "        <matplotlib.axes._subplots.AxesSubplot object at 0x00000299D129DBE0>,\n",
       "        <matplotlib.axes._subplots.AxesSubplot object at 0x00000299D12C8E48>,\n",
       "        <matplotlib.axes._subplots.AxesSubplot object at 0x00000299D12FB0F0>]],\n",
       "      dtype=object)"
      ]
     },
     "execution_count": 140,
     "metadata": {},
     "output_type": "execute_result"
    },
    {
     "data": {
      "image/png": "[encoded data removed]",
      "text/plain": [
       "<Figure size 1296x1296 with 16 Axes>"
      ]
     },
     "metadata": {
      "needs_background": "light"
     },
     "output_type": "display_data"
    }
   ],
   "source": [
    "df.hist(figsize=(18,18))"
   ]
  },
  {
   "cell_type": "markdown",
   "metadata": {},
   "source": [
    "Bedrooms, price, sqft_lot, and sqft_lot15 look to have outliers.  Most histograms are skewed.  Zipcode looks like it has two modes.  "
   ]
  },
  {
   "cell_type": "code",
   "execution_count": 55,
   "metadata": {},
   "outputs": [
    {
     "name": "stderr",
     "output_type": "stream",
     "text": [
      "C:\\Users\\josep\\Anaconda3\\envs\\learn-env\\lib\\site-packages\\matplotlib\\axes\\_axes.py:6521: MatplotlibDeprecationWarning: \n",
      "The 'normed' kwarg was deprecated in Matplotlib 2.1 and will be removed in 3.1. Use 'density' instead.\n",
      "  alternative=\"'density'\", removal=\"3.1\")\n"
     ]
    },
    {
     "data": {
      "image/png": "[encoded data removed]",
      "text/plain": [
       "<Figure size 432x288 with 1 Axes>"
      ]
     },
     "metadata": {
      "needs_background": "light"
     },
     "output_type": "display_data"
    },
    {
     "name": "stderr",
     "output_type": "stream",
     "text": [
      "C:\\Users\\josep\\Anaconda3\\envs\\learn-env\\lib\\site-packages\\matplotlib\\axes\\_axes.py:6521: MatplotlibDeprecationWarning: \n",
      "The 'normed' kwarg was deprecated in Matplotlib 2.1 and will be removed in 3.1. Use 'density' instead.\n",
      "  alternative=\"'density'\", removal=\"3.1\")\n"
     ]
    },
    {
     "data": {
      "image/png": "[encoded data removed]",
      "text/plain": [
       "<Figure size 432x288 with 1 Axes>"
      ]
     },
     "metadata": {
      "needs_background": "light"
     },
     "output_type": "display_data"
    },
    {
     "name": "stderr",
     "output_type": "stream",
     "text": [
      "C:\\Users\\josep\\Anaconda3\\envs\\learn-env\\lib\\site-packages\\matplotlib\\axes\\_axes.py:6521: MatplotlibDeprecationWarning: \n",
      "The 'normed' kwarg was deprecated in Matplotlib 2.1 and will be removed in 3.1. Use 'density' instead.\n",
      "  alternative=\"'density'\", removal=\"3.1\")\n"
     ]
    },
    {
     "data": {
      "image/png": "[encoded data removed]",
      "text/plain": [
       "<Figure size 432x288 with 1 Axes>"
      ]
     },
     "metadata": {
      "needs_background": "light"
     },
     "output_type": "display_data"
    },
    {
     "name": "stderr",
     "output_type": "stream",
     "text": [
      "C:\\Users\\josep\\Anaconda3\\envs\\learn-env\\lib\\site-packages\\matplotlib\\axes\\_axes.py:6521: MatplotlibDeprecationWarning: \n",
      "The 'normed' kwarg was deprecated in Matplotlib 2.1 and will be removed in 3.1. Use 'density' instead.\n",
      "  alternative=\"'density'\", removal=\"3.1\")\n"
     ]
    },
    {
     "data": {
      "image/png": "[encoded data removed]",
      "text/plain": [
       "<Figure size 432x288 with 1 Axes>"
      ]
     },
     "metadata": {
      "needs_background": "light"
     },
     "output_type": "display_data"
    },
    {
     "name": "stderr",
     "output_type": "stream",
     "text": [
      "C:\\Users\\josep\\Anaconda3\\envs\\learn-env\\lib\\site-packages\\matplotlib\\axes\\_axes.py:6521: MatplotlibDeprecationWarning: \n",
      "The 'normed' kwarg was deprecated in Matplotlib 2.1 and will be removed in 3.1. Use 'density' instead.\n",
      "  alternative=\"'density'\", removal=\"3.1\")\n"
     ]
    },
    {
     "data": {
      "image/png": "[encoded data removed]",
      "text/plain": [
       "<Figure size 432x288 with 1 Axes>"
      ]
     },
     "metadata": {
      "needs_background": "light"
     },
     "output_type": "display_data"
    },
    {
     "name": "stderr",
     "output_type": "stream",
     "text": [
      "C:\\Users\\josep\\Anaconda3\\envs\\learn-env\\lib\\site-packages\\matplotlib\\axes\\_axes.py:6521: MatplotlibDeprecationWarning: \n",
      "The 'normed' kwarg was deprecated in Matplotlib 2.1 and will be removed in 3.1. Use 'density' instead.\n",
      "  alternative=\"'density'\", removal=\"3.1\")\n"
     ]
    },
    {
     "data": {
      "image/png": "[encoded data removed]",
      "text/plain": [
       "<Figure size 432x288 with 1 Axes>"
      ]
     },
     "metadata": {
      "needs_background": "light"
     },
     "output_type": "display_data"
    },
    {
     "name": "stderr",
     "output_type": "stream",
     "text": [
      "C:\\Users\\josep\\Anaconda3\\envs\\learn-env\\lib\\site-packages\\matplotlib\\axes\\_axes.py:6521: MatplotlibDeprecationWarning: \n",
      "The 'normed' kwarg was deprecated in Matplotlib 2.1 and will be removed in 3.1. Use 'density' instead.\n",
      "  alternative=\"'density'\", removal=\"3.1\")\n"
     ]
    },
    {
     "data": {
      "image/png": "[encoded data removed]",
      "text/plain": [
       "<Figure size 432x288 with 1 Axes>"
      ]
     },
     "metadata": {
      "needs_background": "light"
     },
     "output_type": "display_data"
    },
    {
     "name": "stderr",
     "output_type": "stream",
     "text": [
      "C:\\Users\\josep\\Anaconda3\\envs\\learn-env\\lib\\site-packages\\matplotlib\\axes\\_axes.py:6521: MatplotlibDeprecationWarning: \n",
      "The 'normed' kwarg was deprecated in Matplotlib 2.1 and will be removed in 3.1. Use 'density' instead.\n",
      "  alternative=\"'density'\", removal=\"3.1\")\n"
     ]
    },
    {
     "data": {
      "image/png": "[encoded data removed]",
      "text/plain": [
       "<Figure size 432x288 with 1 Axes>"
      ]
     },
     "metadata": {
      "needs_background": "light"
     },
     "output_type": "display_data"
    },
    {
     "name": "stderr",
     "output_type": "stream",
     "text": [
      "C:\\Users\\josep\\Anaconda3\\envs\\learn-env\\lib\\site-packages\\matplotlib\\axes\\_axes.py:6521: MatplotlibDeprecationWarning: \n",
      "The 'normed' kwarg was deprecated in Matplotlib 2.1 and will be removed in 3.1. Use 'density' instead.\n",
      "  alternative=\"'density'\", removal=\"3.1\")\n"
     ]
    },
    {
     "data": {
      "image/png": "[encoded data removed]",
      "text/plain": [
       "<Figure size 432x288 with 1 Axes>"
      ]
     },
     "metadata": {
      "needs_background": "light"
     },
     "output_type": "display_data"
    },
    {
     "name": "stderr",
     "output_type": "stream",
     "text": [
      "C:\\Users\\josep\\Anaconda3\\envs\\learn-env\\lib\\site-packages\\matplotlib\\axes\\_axes.py:6521: MatplotlibDeprecationWarning: \n",
      "The 'normed' kwarg was deprecated in Matplotlib 2.1 and will be removed in 3.1. Use 'density' instead.\n",
      "  alternative=\"'density'\", removal=\"3.1\")\n"
     ]
    },
    {
     "data": {
      "image/png": "[encoded data removed]",
      "text/plain": [
       "<Figure size 432x288 with 1 Axes>"
      ]
     },
     "metadata": {
      "needs_background": "light"
     },
     "output_type": "display_data"
    },
    {
     "name": "stderr",
     "output_type": "stream",
     "text": [
      "C:\\Users\\josep\\Anaconda3\\envs\\learn-env\\lib\\site-packages\\matplotlib\\axes\\_axes.py:6521: MatplotlibDeprecationWarning: \n",
      "The 'normed' kwarg was deprecated in Matplotlib 2.1 and will be removed in 3.1. Use 'density' instead.\n",
      "  alternative=\"'density'\", removal=\"3.1\")\n"
     ]
    },
    {
     "data": {
      "image/png": "[encoded data removed]",
      "text/plain": [
       "<Figure size 432x288 with 1 Axes>"
      ]
     },
     "metadata": {
      "needs_background": "light"
     },
     "output_type": "display_data"
    },
    {
     "name": "stderr",
     "output_type": "stream",
     "text": [
      "C:\\Users\\josep\\Anaconda3\\envs\\learn-env\\lib\\site-packages\\matplotlib\\axes\\_axes.py:6521: MatplotlibDeprecationWarning: \n",
      "The 'normed' kwarg was deprecated in Matplotlib 2.1 and will be removed in 3.1. Use 'density' instead.\n",
      "  alternative=\"'density'\", removal=\"3.1\")\n"
     ]
    },
    {
     "data": {
      "image/png": "[encoded data removed]",
      "text/plain": [
       "<Figure size 432x288 with 1 Axes>"
      ]
     },
     "metadata": {
      "needs_background": "light"
     },
     "output_type": "display_data"
    },
    {
     "name": "stderr",
     "output_type": "stream",
     "text": [
      "C:\\Users\\josep\\Anaconda3\\envs\\learn-env\\lib\\site-packages\\matplotlib\\axes\\_axes.py:6521: MatplotlibDeprecationWarning: \n",
      "The 'normed' kwarg was deprecated in Matplotlib 2.1 and will be removed in 3.1. Use 'density' instead.\n",
      "  alternative=\"'density'\", removal=\"3.1\")\n"
     ]
    },
    {
     "data": {
      "image/png": "[encoded data removed]",
      "text/plain": [
       "<Figure size 432x288 with 1 Axes>"
      ]
     },
     "metadata": {
      "needs_background": "light"
     },
     "output_type": "display_data"
    }
   ],
   "source": [
    "for column in ['price', 'bedrooms', 'bathrooms', 'sqft_living', 'sqft_lot',\n",
    "       'sqft_above', 'sqft_basement', 'yr_built', 'zipcode', 'lat', 'long',\n",
    "       'sqft_living15', 'sqft_lot15']:\n",
    "    df[column].plot.hist(normed=True )\n",
    "    df[column].plot.kde(label=column )\n",
    "    plt.legend()\n",
    "    plt.show()"
   ]
  },
  {
   "cell_type": "markdown",
   "metadata": {},
   "source": [
    "## Modeling"
   ]
  },
  {
   "cell_type": "code",
   "execution_count": 141,
   "metadata": {},
   "outputs": [
    {
     "name": "stdout",
     "output_type": "stream",
     "text": [
      "<class 'pandas.core.frame.DataFrame'>\n",
      "Int64Index: 21082 entries, 0 to 21596\n",
      "Data columns (total 44 columns):\n",
      "price             21082 non-null float64\n",
      "bedrooms          21082 non-null float64\n",
      "bathrooms         21082 non-null float64\n",
      "sqft_living       21082 non-null float64\n",
      "sqft_lot          21082 non-null float64\n",
      "sqft_above        21082 non-null float64\n",
      "sqft_basement     21082 non-null float64\n",
      "yr_built          21082 non-null float64\n",
      "zipcode           21082 non-null float64\n",
      "lat               21082 non-null float64\n",
      "long              21082 non-null float64\n",
      "sqft_living15     21082 non-null float64\n",
      "sqft_lot15        21082 non-null float64\n",
      "floors_1.0        21082 non-null category\n",
      "floors_1.5        21082 non-null category\n",
      "floors_2.0        21082 non-null category\n",
      "floors_2.5        21082 non-null category\n",
      "floors_3.0        21082 non-null category\n",
      "floors_3.5        21082 non-null category\n",
      "waterfront_no     21082 non-null category\n",
      "waterfront_yes    21082 non-null category\n",
      "view_0.0          21082 non-null category\n",
      "view_1.0          21082 non-null category\n",
      "view_2.0          21082 non-null category\n",
      "view_3.0          21082 non-null category\n",
      "view_4.0          21082 non-null category\n",
      "condition_1       21082 non-null category\n",
      "condition_2       21082 non-null category\n",
      "condition_3       21082 non-null category\n",
      "condition_4       21082 non-null category\n",
      "condition_5       21082 non-null category\n",
      "grade_3           21082 non-null category\n",
      "grade_4           21082 non-null category\n",
      "grade_5           21082 non-null category\n",
      "grade_6           21082 non-null category\n",
      "grade_7           21082 non-null category\n",
      "grade_8           21082 non-null category\n",
      "grade_9           21082 non-null category\n",
      "grade_10          21082 non-null category\n",
      "grade_11          21082 non-null category\n",
      "grade_12          21082 non-null category\n",
      "grade_13          21082 non-null category\n",
      "renovated_no      21082 non-null category\n",
      "renovated_yes     21082 non-null category\n",
      "dtypes: category(31), float64(13)\n",
      "memory usage: 2.9 MB\n"
     ]
    }
   ],
   "source": [
    "df.info()"
   ]
  },
  {
   "cell_type": "code",
   "execution_count": 142,
   "metadata": {},
   "outputs": [],
   "source": [
    "import statsmodels.formula.api as smf"
   ]
  },
  {
   "cell_type": "code",
   "execution_count": 143,
   "metadata": {},
   "outputs": [
    {
     "name": "stdout",
     "output_type": "stream",
     "text": [
      "King Cty: price~bedrooms\n",
      "------------------------------\n",
      "['bedrooms', 0.09514380839134184, 540246.8904752871, 113120.01945780392, 0.0]\n",
      "King Cty: price~bathrooms\n",
      "------------------------------\n",
      "['bathrooms', 0.27565534211705833, 540246.8904752871, 192545.07397680086, 0.0]\n",
      "King Cty: price~sqft_living\n",
      "------------------------------\n",
      "['sqft_living', 0.49280911924669435, 540246.8904752871, 257447.43745887777, 0.0]\n",
      "King Cty: price~sqft_lot\n",
      "------------------------------\n",
      "['sqft_lot', 0.007814472143692908, 540246.8904752871, 32418.9563158288, 7.585998491378811e-38]\n",
      "King Cty: price~sqft_above\n",
      "------------------------------\n",
      "['sqft_above', 0.36660773487327236, 540246.8904752871, 222049.6113491868, 0.0]\n",
      "King Cty: price~sqft_basement\n",
      "------------------------------\n",
      "['sqft_basement', 0.10434033600616388, 540246.8904752871, 118460.9799624354, 0.0]\n",
      "King Cty: price~yr_built\n",
      "------------------------------\n",
      "['yr_built', 0.0030084646048749164, 540246.8904752871, 20115.075114976946, 1.59351169919941e-15]\n",
      "King Cty: price~zipcode\n",
      "------------------------------\n",
      "['zipcode', 0.0028546159908414692, 540246.8904752886, -19593.997696801733, 8.312249106137016e-15]\n",
      "King Cty: price~lat\n",
      "------------------------------\n",
      "['lat', 0.09465928356351017, 540246.8904752899, 112831.61700085143, 0.0]\n",
      "King Cty: price~long\n",
      "------------------------------\n",
      "['long', 0.0005067813418511147, 540246.8904752864, 8255.80666522906, 0.0010798408406764756]\n",
      "King Cty: price~sqft_living15\n",
      "------------------------------\n",
      "['sqft_living15', 0.34397600054456756, 540246.8904752871, 215086.56154270502, 0.0]\n",
      "King Cty: price~sqft_lot15\n",
      "------------------------------\n",
      "['sqft_lot15', 0.006977342552415111, 540246.8904752871, 30633.331319480563, 5.8182630064886705e-34]\n"
     ]
    }
   ],
   "source": [
    "col_names = df.describe().columns.drop(['price'])\n",
    "results = [['ind_var', 'r_squared', 'intercept', 'slope', 'p-value' ]]\n",
    "for idx, val in enumerate(col_names):\n",
    "    print (\"King Cty: price~\" + val)\n",
    "    print (\"------------------------------\")\n",
    "\n",
    "    f = 'price~' + val\n",
    "    model = smf.ols(formula=f, data=df).fit()\n",
    "    X_new = pd.DataFrame({val: [df[val].min(), df[val].max()]});\n",
    "    preds = model.predict(X_new)\n",
    "    results.append([val, model.rsquared, model.params[0], model.params[1], model.pvalues[1] ])\n",
    "    print(results[idx+1])"
   ]
  },
  {
   "cell_type": "markdown",
   "metadata": {},
   "source": [
    "None of the numerical predictors are disqualified by p-value.  Dropping all columns that do not have a >0.3 r_squared value."
   ]
  },
  {
   "cell_type": "markdown",
   "metadata": {},
   "source": [
    "I am left with three predictors.  Two, sqft_living and sqft_above, are basically the same thing.  Need to log transform the data and see if that helps."
   ]
  },
  {
   "cell_type": "code",
   "execution_count": 284,
   "metadata": {},
   "outputs": [],
   "source": [
    "df_log = pd.read_csv(\"kc_house_data.csv\")"
   ]
  },
  {
   "cell_type": "code",
   "execution_count": 285,
   "metadata": {},
   "outputs": [],
   "source": [
    "df_log = df_log.drop(['id'], axis=1) #ID is not useful to us it is an index\n",
    "df_log = df_log.drop(['date'], axis=1) # not using datetime trending in this model\n",
    "df_log.dropna(subset=['view'], inplace=True) #remove rows containing nulls in the view column\n",
    "df_log = df_log[df_log.sqft_basement != '?'] #remove '?' from the sqft_basement column\n"
   ]
  },
  {
   "cell_type": "code",
   "execution_count": 286,
   "metadata": {},
   "outputs": [],
   "source": [
    "df_log.floors = df_log.floors.astype('category')\n",
    "df_log.view = df_log.view.astype('category')\n",
    "df_log.condition = df_log.condition.astype('category')\n",
    "df_log.grade = df_log.grade.astype('category')\n",
    "df_log.floors = df_log.floors.astype('category')\n",
    "df_log.sqft_basement = df_log.sqft_basement.astype('float64')"
   ]
  },
  {
   "cell_type": "code",
   "execution_count": 287,
   "metadata": {},
   "outputs": [
    {
     "data": {
      "text/html": [
       "<div>\n",
       "<style scoped>\n",
       "    .dataframe tbody tr th:only-of-type {\n",
       "        vertical-align: middle;\n",
       "    }\n",
       "\n",
       "    .dataframe tbody tr th {\n",
       "        vertical-align: top;\n",
       "    }\n",
       "\n",
       "    .dataframe thead th {\n",
       "        text-align: right;\n",
       "    }\n",
       "</style>\n",
       "<table border=\"1\" class=\"dataframe\">\n",
       "  <thead>\n",
       "    <tr style=\"text-align: right;\">\n",
       "      <th></th>\n",
       "      <th>price</th>\n",
       "      <th>bedrooms</th>\n",
       "      <th>bathrooms</th>\n",
       "      <th>sqft_living</th>\n",
       "      <th>sqft_lot</th>\n",
       "      <th>waterfront</th>\n",
       "      <th>sqft_above</th>\n",
       "      <th>sqft_basement</th>\n",
       "      <th>yr_built</th>\n",
       "      <th>yr_renovated</th>\n",
       "      <th>zipcode</th>\n",
       "      <th>lat</th>\n",
       "      <th>long</th>\n",
       "      <th>sqft_living15</th>\n",
       "      <th>sqft_lot15</th>\n",
       "    </tr>\n",
       "  </thead>\n",
       "  <tbody>\n",
       "    <tr>\n",
       "      <th>count</th>\n",
       "      <td>2.108200e+04</td>\n",
       "      <td>21082.000000</td>\n",
       "      <td>21082.000000</td>\n",
       "      <td>21082.000000</td>\n",
       "      <td>2.108200e+04</td>\n",
       "      <td>18749.000000</td>\n",
       "      <td>21082.000000</td>\n",
       "      <td>21082.000000</td>\n",
       "      <td>21082.000000</td>\n",
       "      <td>17340.000000</td>\n",
       "      <td>21082.000000</td>\n",
       "      <td>21082.000000</td>\n",
       "      <td>21082.000000</td>\n",
       "      <td>21082.000000</td>\n",
       "      <td>21082.000000</td>\n",
       "    </tr>\n",
       "    <tr>\n",
       "      <th>mean</th>\n",
       "      <td>5.402469e+05</td>\n",
       "      <td>3.372403</td>\n",
       "      <td>2.115916</td>\n",
       "      <td>2080.359975</td>\n",
       "      <td>1.507759e+04</td>\n",
       "      <td>0.007520</td>\n",
       "      <td>1789.000000</td>\n",
       "      <td>291.359975</td>\n",
       "      <td>1971.023337</td>\n",
       "      <td>83.111419</td>\n",
       "      <td>98077.858837</td>\n",
       "      <td>47.560371</td>\n",
       "      <td>-122.213843</td>\n",
       "      <td>1986.917418</td>\n",
       "      <td>12732.514135</td>\n",
       "    </tr>\n",
       "    <tr>\n",
       "      <th>std</th>\n",
       "      <td>3.667323e+05</td>\n",
       "      <td>0.924996</td>\n",
       "      <td>0.768142</td>\n",
       "      <td>917.856396</td>\n",
       "      <td>4.117338e+04</td>\n",
       "      <td>0.086396</td>\n",
       "      <td>828.369355</td>\n",
       "      <td>442.007858</td>\n",
       "      <td>29.323120</td>\n",
       "      <td>398.756281</td>\n",
       "      <td>53.528769</td>\n",
       "      <td>0.138568</td>\n",
       "      <td>0.140607</td>\n",
       "      <td>685.544250</td>\n",
       "      <td>27148.781580</td>\n",
       "    </tr>\n",
       "    <tr>\n",
       "      <th>min</th>\n",
       "      <td>7.800000e+04</td>\n",
       "      <td>1.000000</td>\n",
       "      <td>0.500000</td>\n",
       "      <td>370.000000</td>\n",
       "      <td>5.200000e+02</td>\n",
       "      <td>0.000000</td>\n",
       "      <td>370.000000</td>\n",
       "      <td>0.000000</td>\n",
       "      <td>1900.000000</td>\n",
       "      <td>0.000000</td>\n",
       "      <td>98001.000000</td>\n",
       "      <td>47.155900</td>\n",
       "      <td>-122.519000</td>\n",
       "      <td>399.000000</td>\n",
       "      <td>651.000000</td>\n",
       "    </tr>\n",
       "    <tr>\n",
       "      <th>25%</th>\n",
       "      <td>3.220000e+05</td>\n",
       "      <td>3.000000</td>\n",
       "      <td>1.750000</td>\n",
       "      <td>1430.000000</td>\n",
       "      <td>5.040000e+03</td>\n",
       "      <td>0.000000</td>\n",
       "      <td>1200.000000</td>\n",
       "      <td>0.000000</td>\n",
       "      <td>1952.000000</td>\n",
       "      <td>0.000000</td>\n",
       "      <td>98033.000000</td>\n",
       "      <td>47.471325</td>\n",
       "      <td>-122.328000</td>\n",
       "      <td>1490.000000</td>\n",
       "      <td>5100.000000</td>\n",
       "    </tr>\n",
       "    <tr>\n",
       "      <th>50%</th>\n",
       "      <td>4.500000e+05</td>\n",
       "      <td>3.000000</td>\n",
       "      <td>2.250000</td>\n",
       "      <td>1910.000000</td>\n",
       "      <td>7.620000e+03</td>\n",
       "      <td>0.000000</td>\n",
       "      <td>1560.000000</td>\n",
       "      <td>0.000000</td>\n",
       "      <td>1975.000000</td>\n",
       "      <td>0.000000</td>\n",
       "      <td>98065.000000</td>\n",
       "      <td>47.572200</td>\n",
       "      <td>-122.230000</td>\n",
       "      <td>1840.000000</td>\n",
       "      <td>7626.000000</td>\n",
       "    </tr>\n",
       "    <tr>\n",
       "      <th>75%</th>\n",
       "      <td>6.450000e+05</td>\n",
       "      <td>4.000000</td>\n",
       "      <td>2.500000</td>\n",
       "      <td>2550.000000</td>\n",
       "      <td>1.069775e+04</td>\n",
       "      <td>0.000000</td>\n",
       "      <td>2210.000000</td>\n",
       "      <td>560.000000</td>\n",
       "      <td>1997.000000</td>\n",
       "      <td>0.000000</td>\n",
       "      <td>98117.000000</td>\n",
       "      <td>47.678200</td>\n",
       "      <td>-122.125000</td>\n",
       "      <td>2360.000000</td>\n",
       "      <td>10088.750000</td>\n",
       "    </tr>\n",
       "    <tr>\n",
       "      <th>max</th>\n",
       "      <td>7.700000e+06</td>\n",
       "      <td>33.000000</td>\n",
       "      <td>8.000000</td>\n",
       "      <td>13540.000000</td>\n",
       "      <td>1.651359e+06</td>\n",
       "      <td>1.000000</td>\n",
       "      <td>9410.000000</td>\n",
       "      <td>4820.000000</td>\n",
       "      <td>2015.000000</td>\n",
       "      <td>2015.000000</td>\n",
       "      <td>98199.000000</td>\n",
       "      <td>47.777600</td>\n",
       "      <td>-121.315000</td>\n",
       "      <td>6210.000000</td>\n",
       "      <td>871200.000000</td>\n",
       "    </tr>\n",
       "  </tbody>\n",
       "</table>\n",
       "</div>"
      ],
      "text/plain": [
       "              price      bedrooms     bathrooms   sqft_living      sqft_lot  \\\n",
       "count  2.108200e+04  21082.000000  21082.000000  21082.000000  2.108200e+04   \n",
       "mean   5.402469e+05      3.372403      2.115916   2080.359975  1.507759e+04   \n",
       "std    3.667323e+05      0.924996      0.768142    917.856396  4.117338e+04   \n",
       "min    7.800000e+04      1.000000      0.500000    370.000000  5.200000e+02   \n",
       "25%    3.220000e+05      3.000000      1.750000   1430.000000  5.040000e+03   \n",
       "50%    4.500000e+05      3.000000      2.250000   1910.000000  7.620000e+03   \n",
       "75%    6.450000e+05      4.000000      2.500000   2550.000000  1.069775e+04   \n",
       "max    7.700000e+06     33.000000      8.000000  13540.000000  1.651359e+06   \n",
       "\n",
       "         waterfront    sqft_above  sqft_basement      yr_built  yr_renovated  \\\n",
       "count  18749.000000  21082.000000   21082.000000  21082.000000  17340.000000   \n",
       "mean       0.007520   1789.000000     291.359975   1971.023337     83.111419   \n",
       "std        0.086396    828.369355     442.007858     29.323120    398.756281   \n",
       "min        0.000000    370.000000       0.000000   1900.000000      0.000000   \n",
       "25%        0.000000   1200.000000       0.000000   1952.000000      0.000000   \n",
       "50%        0.000000   1560.000000       0.000000   1975.000000      0.000000   \n",
       "75%        0.000000   2210.000000     560.000000   1997.000000      0.000000   \n",
       "max        1.000000   9410.000000    4820.000000   2015.000000   2015.000000   \n",
       "\n",
       "            zipcode           lat          long  sqft_living15     sqft_lot15  \n",
       "count  21082.000000  21082.000000  21082.000000   21082.000000   21082.000000  \n",
       "mean   98077.858837     47.560371   -122.213843    1986.917418   12732.514135  \n",
       "std       53.528769      0.138568      0.140607     685.544250   27148.781580  \n",
       "min    98001.000000     47.155900   -122.519000     399.000000     651.000000  \n",
       "25%    98033.000000     47.471325   -122.328000    1490.000000    5100.000000  \n",
       "50%    98065.000000     47.572200   -122.230000    1840.000000    7626.000000  \n",
       "75%    98117.000000     47.678200   -122.125000    2360.000000   10088.750000  \n",
       "max    98199.000000     47.777600   -121.315000    6210.000000  871200.000000  "
      ]
     },
     "execution_count": 287,
     "metadata": {},
     "output_type": "execute_result"
    }
   ],
   "source": [
    "df_log.describe()"
   ]
  },
  {
   "cell_type": "code",
   "execution_count": 288,
   "metadata": {},
   "outputs": [],
   "source": [
    "df_log.bedrooms = np.log(df_log[\"bedrooms\"])\n",
    "df_log.bathrooms = np.log(df_log[\"bathrooms\"])\n",
    "df_log.sqft_living = np.log(df_log[\"sqft_living\"])\n",
    "df_log.sqft_lot = np.log(df_log[\"sqft_lot\"])\n",
    "df_log.sqft_above = np.log(df_log[\"sqft_above\"])\n",
    "df_log.sqft_basement = df_log.drop([\"sqft_basement\"], axis=1)\n",
    "df_log.yr_built = np.log(df_log[\"yr_built\"])\n",
    "df_log.zipcode = np.log(df_log[\"zipcode\"])\n",
    "df_log.lat = np.log(df_log[\"lat\"])\n",
    "df_log.long = df_log.drop([\"long\"], axis=1)\n",
    "df_log.sqft_living15 = np.log(df_log[\"sqft_living15\"])\n",
    "df_log.sqft_lot15 = np.log(df_log[\"sqft_lot15\"])\n",
    "df_log.price = np.log(df_log[\"price\"])"
   ]
  },
  {
   "cell_type": "code",
   "execution_count": 289,
   "metadata": {},
   "outputs": [
    {
     "name": "stdout",
     "output_type": "stream",
     "text": [
      "<class 'pandas.core.frame.DataFrame'>\n",
      "Int64Index: 21082 entries, 0 to 21596\n",
      "Data columns (total 19 columns):\n",
      "price            21082 non-null float64\n",
      "bedrooms         21082 non-null float64\n",
      "bathrooms        21082 non-null float64\n",
      "sqft_living      21082 non-null float64\n",
      "sqft_lot         21082 non-null float64\n",
      "floors           21082 non-null category\n",
      "waterfront       18749 non-null float64\n",
      "view             21082 non-null category\n",
      "condition        21082 non-null category\n",
      "grade            21082 non-null category\n",
      "sqft_above       21082 non-null float64\n",
      "sqft_basement    21082 non-null object\n",
      "yr_built         21082 non-null float64\n",
      "yr_renovated     17340 non-null float64\n",
      "zipcode          21082 non-null float64\n",
      "lat              21082 non-null float64\n",
      "long             21082 non-null object\n",
      "sqft_living15    21082 non-null float64\n",
      "sqft_lot15       21082 non-null float64\n",
      "dtypes: category(4), float64(13), object(2)\n",
      "memory usage: 2.7+ MB\n"
     ]
    }
   ],
   "source": [
    "df_log.info()"
   ]
  },
  {
   "cell_type": "code",
   "execution_count": 290,
   "metadata": {},
   "outputs": [],
   "source": [
    "df_log.waterfront = df_log.drop([\"waterfront\"], axis=1)\n",
    "df_log.yr_renovated = df_log.drop([\"yr_renovated\"], axis=1)"
   ]
  },
  {
   "cell_type": "code",
   "execution_count": 291,
   "metadata": {},
   "outputs": [
    {
     "name": "stdout",
     "output_type": "stream",
     "text": [
      "<class 'pandas.core.frame.DataFrame'>\n",
      "Int64Index: 21082 entries, 0 to 21596\n",
      "Data columns (total 19 columns):\n",
      "price            21082 non-null float64\n",
      "bedrooms         21082 non-null float64\n",
      "bathrooms        21082 non-null float64\n",
      "sqft_living      21082 non-null float64\n",
      "sqft_lot         21082 non-null float64\n",
      "floors           21082 non-null category\n",
      "waterfront       21082 non-null object\n",
      "view             21082 non-null category\n",
      "condition        21082 non-null category\n",
      "grade            21082 non-null category\n",
      "sqft_above       21082 non-null float64\n",
      "sqft_basement    21082 non-null object\n",
      "yr_built         21082 non-null float64\n",
      "yr_renovated     21082 non-null object\n",
      "zipcode          21082 non-null float64\n",
      "lat              21082 non-null float64\n",
      "long             21082 non-null object\n",
      "sqft_living15    21082 non-null float64\n",
      "sqft_lot15       21082 non-null float64\n",
      "dtypes: category(4), float64(11), object(4)\n",
      "memory usage: 2.7+ MB\n"
     ]
    }
   ],
   "source": [
    "df_log.info()"
   ]
  },
  {
   "cell_type": "code",
   "execution_count": 292,
   "metadata": {},
   "outputs": [
    {
     "data": {
      "text/html": [
       "<div>\n",
       "<style scoped>\n",
       "    .dataframe tbody tr th:only-of-type {\n",
       "        vertical-align: middle;\n",
       "    }\n",
       "\n",
       "    .dataframe tbody tr th {\n",
       "        vertical-align: top;\n",
       "    }\n",
       "\n",
       "    .dataframe thead th {\n",
       "        text-align: right;\n",
       "    }\n",
       "</style>\n",
       "<table border=\"1\" class=\"dataframe\">\n",
       "  <thead>\n",
       "    <tr style=\"text-align: right;\">\n",
       "      <th></th>\n",
       "      <th>price</th>\n",
       "      <th>bedrooms</th>\n",
       "      <th>bathrooms</th>\n",
       "      <th>sqft_living</th>\n",
       "      <th>sqft_lot</th>\n",
       "      <th>floors</th>\n",
       "      <th>waterfront</th>\n",
       "      <th>view</th>\n",
       "      <th>condition</th>\n",
       "      <th>grade</th>\n",
       "      <th>sqft_above</th>\n",
       "      <th>sqft_basement</th>\n",
       "      <th>yr_built</th>\n",
       "      <th>yr_renovated</th>\n",
       "      <th>zipcode</th>\n",
       "      <th>lat</th>\n",
       "      <th>long</th>\n",
       "      <th>sqft_living15</th>\n",
       "      <th>sqft_lot15</th>\n",
       "    </tr>\n",
       "  </thead>\n",
       "  <tbody>\n",
       "    <tr>\n",
       "      <th>0</th>\n",
       "      <td>12.309982</td>\n",
       "      <td>1.098612</td>\n",
       "      <td>0.000000</td>\n",
       "      <td>7.073270</td>\n",
       "      <td>8.639411</td>\n",
       "      <td>1.0</td>\n",
       "      <td>12.31</td>\n",
       "      <td>0.0</td>\n",
       "      <td>3</td>\n",
       "      <td>7</td>\n",
       "      <td>7.073270</td>\n",
       "      <td>221900</td>\n",
       "      <td>7.578145</td>\n",
       "      <td>12.31</td>\n",
       "      <td>11.494537</td>\n",
       "      <td>3.860965</td>\n",
       "      <td>221900</td>\n",
       "      <td>7.200425</td>\n",
       "      <td>8.639411</td>\n",
       "    </tr>\n",
       "    <tr>\n",
       "      <th>1</th>\n",
       "      <td>13.195614</td>\n",
       "      <td>1.098612</td>\n",
       "      <td>0.810930</td>\n",
       "      <td>7.851661</td>\n",
       "      <td>8.887653</td>\n",
       "      <td>2.0</td>\n",
       "      <td>13.1956</td>\n",
       "      <td>0.0</td>\n",
       "      <td>3</td>\n",
       "      <td>7</td>\n",
       "      <td>7.682482</td>\n",
       "      <td>538000</td>\n",
       "      <td>7.576097</td>\n",
       "      <td>13.1956</td>\n",
       "      <td>11.493997</td>\n",
       "      <td>3.865372</td>\n",
       "      <td>538000</td>\n",
       "      <td>7.432484</td>\n",
       "      <td>8.941022</td>\n",
       "    </tr>\n",
       "    <tr>\n",
       "      <th>2</th>\n",
       "      <td>12.100712</td>\n",
       "      <td>0.693147</td>\n",
       "      <td>0.000000</td>\n",
       "      <td>6.646391</td>\n",
       "      <td>9.210340</td>\n",
       "      <td>1.0</td>\n",
       "      <td>12.1007</td>\n",
       "      <td>0.0</td>\n",
       "      <td>3</td>\n",
       "      <td>6</td>\n",
       "      <td>6.646391</td>\n",
       "      <td>180000</td>\n",
       "      <td>7.566828</td>\n",
       "      <td>12.1007</td>\n",
       "      <td>11.493008</td>\n",
       "      <td>3.865726</td>\n",
       "      <td>180000</td>\n",
       "      <td>7.908387</td>\n",
       "      <td>8.994917</td>\n",
       "    </tr>\n",
       "    <tr>\n",
       "      <th>3</th>\n",
       "      <td>13.311329</td>\n",
       "      <td>1.386294</td>\n",
       "      <td>1.098612</td>\n",
       "      <td>7.580700</td>\n",
       "      <td>8.517193</td>\n",
       "      <td>1.0</td>\n",
       "      <td>13.3113</td>\n",
       "      <td>0.0</td>\n",
       "      <td>5</td>\n",
       "      <td>7</td>\n",
       "      <td>6.956545</td>\n",
       "      <td>604000</td>\n",
       "      <td>7.583248</td>\n",
       "      <td>13.3113</td>\n",
       "      <td>11.494110</td>\n",
       "      <td>3.861168</td>\n",
       "      <td>604000</td>\n",
       "      <td>7.215240</td>\n",
       "      <td>8.517193</td>\n",
       "    </tr>\n",
       "    <tr>\n",
       "      <th>4</th>\n",
       "      <td>13.142166</td>\n",
       "      <td>1.098612</td>\n",
       "      <td>0.693147</td>\n",
       "      <td>7.426549</td>\n",
       "      <td>8.997147</td>\n",
       "      <td>1.0</td>\n",
       "      <td>13.1422</td>\n",
       "      <td>0.0</td>\n",
       "      <td>3</td>\n",
       "      <td>8</td>\n",
       "      <td>7.426549</td>\n",
       "      <td>510000</td>\n",
       "      <td>7.594381</td>\n",
       "      <td>13.1422</td>\n",
       "      <td>11.493478</td>\n",
       "      <td>3.863186</td>\n",
       "      <td>510000</td>\n",
       "      <td>7.495542</td>\n",
       "      <td>8.923058</td>\n",
       "    </tr>\n",
       "  </tbody>\n",
       "</table>\n",
       "</div>"
      ],
      "text/plain": [
       "       price  bedrooms  bathrooms  sqft_living  sqft_lot floors waterfront  \\\n",
       "0  12.309982  1.098612   0.000000     7.073270  8.639411    1.0      12.31   \n",
       "1  13.195614  1.098612   0.810930     7.851661  8.887653    2.0    13.1956   \n",
       "2  12.100712  0.693147   0.000000     6.646391  9.210340    1.0    12.1007   \n",
       "3  13.311329  1.386294   1.098612     7.580700  8.517193    1.0    13.3113   \n",
       "4  13.142166  1.098612   0.693147     7.426549  8.997147    1.0    13.1422   \n",
       "\n",
       "  view condition grade  sqft_above sqft_basement  yr_built yr_renovated  \\\n",
       "0  0.0         3     7    7.073270        221900  7.578145        12.31   \n",
       "1  0.0         3     7    7.682482        538000  7.576097      13.1956   \n",
       "2  0.0         3     6    6.646391        180000  7.566828      12.1007   \n",
       "3  0.0         5     7    6.956545        604000  7.583248      13.3113   \n",
       "4  0.0         3     8    7.426549        510000  7.594381      13.1422   \n",
       "\n",
       "     zipcode       lat    long  sqft_living15  sqft_lot15  \n",
       "0  11.494537  3.860965  221900       7.200425    8.639411  \n",
       "1  11.493997  3.865372  538000       7.432484    8.941022  \n",
       "2  11.493008  3.865726  180000       7.908387    8.994917  \n",
       "3  11.494110  3.861168  604000       7.215240    8.517193  \n",
       "4  11.493478  3.863186  510000       7.495542    8.923058  "
      ]
     },
     "execution_count": 292,
     "metadata": {},
     "output_type": "execute_result"
    }
   ],
   "source": [
    "df_log.head()"
   ]
  },
  {
   "cell_type": "code",
   "execution_count": 293,
   "metadata": {},
   "outputs": [
    {
     "data": {
      "text/plain": [
       "array([[<matplotlib.axes._subplots.AxesSubplot object at 0x00000299D16AC278>,\n",
       "        <matplotlib.axes._subplots.AxesSubplot object at 0x00000299CBB862B0>,\n",
       "        <matplotlib.axes._subplots.AxesSubplot object at 0x00000299D1F1B518>],\n",
       "       [<matplotlib.axes._subplots.AxesSubplot object at 0x00000299D476B780>,\n",
       "        <matplotlib.axes._subplots.AxesSubplot object at 0x00000299D45AB9E8>,\n",
       "        <matplotlib.axes._subplots.AxesSubplot object at 0x00000299D46E4C50>],\n",
       "       [<matplotlib.axes._subplots.AxesSubplot object at 0x00000299D1E7CEB8>,\n",
       "        <matplotlib.axes._subplots.AxesSubplot object at 0x00000299D8767160>,\n",
       "        <matplotlib.axes._subplots.AxesSubplot object at 0x00000299D8767198>],\n",
       "       [<matplotlib.axes._subplots.AxesSubplot object at 0x00000299D855F5F8>,\n",
       "        <matplotlib.axes._subplots.AxesSubplot object at 0x00000299D2115860>,\n",
       "        <matplotlib.axes._subplots.AxesSubplot object at 0x00000299D1980AC8>]],\n",
       "      dtype=object)"
      ]
     },
     "execution_count": 293,
     "metadata": {},
     "output_type": "execute_result"
    },
    {
     "data": {
      "image/png": "[encoded data removed]",
      "text/plain": [
       "<Figure size 1296x1296 with 12 Axes>"
      ]
     },
     "metadata": {
      "needs_background": "light"
     },
     "output_type": "display_data"
    }
   ],
   "source": [
    "df_log.hist(figsize=(18,18))"
   ]
  },
  {
   "cell_type": "code",
   "execution_count": 294,
   "metadata": {},
   "outputs": [
    {
     "name": "stdout",
     "output_type": "stream",
     "text": [
      "King Cty: price~bedrooms\n",
      "------------------------------\n",
      "['bedrooms', 0.11690843421819974, 12.298372771661583, 0.636695731004518, 0.0]\n",
      "King Cty: price~bathrooms\n",
      "------------------------------\n",
      "['bathrooms', 0.26999400394509154, 12.575420361580466, 0.6975426264753711, 0.0]\n",
      "King Cty: price~sqft_living\n",
      "------------------------------\n",
      "['sqft_living', 0.45487390817074236, 6.725492042621472, 0.8373565737137357, 0.0]\n",
      "King Cty: price~sqft_lot\n",
      "------------------------------\n",
      "['sqft_lot', 0.01912643850674456, 12.32211855226208, 0.08076135917588545, 1.5829053476127593e-90]\n",
      "King Cty: price~sqft_above\n",
      "------------------------------\n",
      "['sqft_above', 0.34318242539406985, 7.707525685549353, 0.7221650180792579, 0.0]\n",
      "King Cty: price~yr_built\n",
      "------------------------------\n",
      "['yr_built', 0.006334731497952939, -8.23672528771101, 2.8057460377117778, 5.581153245811331e-31]\n",
      "King Cty: price~zipcode\n",
      "------------------------------\n",
      "['zipcode', 0.001481818864053852, 439.81742918259226, -37.13129940565579, 2.257788644072628e-08]\n",
      "King Cty: price~lat\n",
      "------------------------------\n",
      "['lat', 0.20235359793984176, -300.60385810782566, 81.21502606449494, 0.0]\n",
      "King Cty: price~sqft_living15\n",
      "------------------------------\n",
      "['sqft_living15', 0.36916437948169, 5.68335234919347, 0.97681892342578, 0.0]\n",
      "King Cty: price~sqft_lot15\n",
      "------------------------------\n",
      "['sqft_lot15', 0.015423788005503702, 12.325902579830249, 0.0806025670042847, 3.109059505523184e-73]\n"
     ]
    }
   ],
   "source": [
    "col_names = df_log.describe().columns.drop(['price'])\n",
    "results = [['ind_var', 'r_squared', 'intercept', 'slope', 'p-value' ]]\n",
    "for idx, val in enumerate(col_names):\n",
    "    print (\"King Cty: price~\" + val)\n",
    "    print (\"------------------------------\")\n",
    "\n",
    "    f = 'price~' + val\n",
    "    model = smf.ols(formula=f, data=df_log).fit()\n",
    "    X_new = pd.DataFrame({val: [df_log[val].min(), df_log[val].max()]});\n",
    "    preds10 = model.predict(X_new)\n",
    "    results.append([val, model.rsquared, model.params[0], model.params[1], model.pvalues[1] ])\n",
    "    print(results[idx+1])"
   ]
  },
  {
   "cell_type": "code",
   "execution_count": 295,
   "metadata": {},
   "outputs": [
    {
     "data": {
      "text/html": [
       "<div>\n",
       "<style scoped>\n",
       "    .dataframe tbody tr th:only-of-type {\n",
       "        vertical-align: middle;\n",
       "    }\n",
       "\n",
       "    .dataframe tbody tr th {\n",
       "        vertical-align: top;\n",
       "    }\n",
       "\n",
       "    .dataframe thead th {\n",
       "        text-align: right;\n",
       "    }\n",
       "</style>\n",
       "<table border=\"1\" class=\"dataframe\">\n",
       "  <thead>\n",
       "    <tr style=\"text-align: right;\">\n",
       "      <th></th>\n",
       "      <th>0</th>\n",
       "      <th>1</th>\n",
       "      <th>2</th>\n",
       "      <th>3</th>\n",
       "      <th>4</th>\n",
       "    </tr>\n",
       "  </thead>\n",
       "  <tbody>\n",
       "    <tr>\n",
       "      <th>0</th>\n",
       "      <td>ind_var</td>\n",
       "      <td>r_squared</td>\n",
       "      <td>intercept</td>\n",
       "      <td>slope</td>\n",
       "      <td>p-value</td>\n",
       "    </tr>\n",
       "    <tr>\n",
       "      <th>1</th>\n",
       "      <td>bedrooms</td>\n",
       "      <td>0.116908</td>\n",
       "      <td>12.2984</td>\n",
       "      <td>0.636696</td>\n",
       "      <td>0</td>\n",
       "    </tr>\n",
       "    <tr>\n",
       "      <th>2</th>\n",
       "      <td>bathrooms</td>\n",
       "      <td>0.269994</td>\n",
       "      <td>12.5754</td>\n",
       "      <td>0.697543</td>\n",
       "      <td>0</td>\n",
       "    </tr>\n",
       "    <tr>\n",
       "      <th>3</th>\n",
       "      <td>sqft_living</td>\n",
       "      <td>0.454874</td>\n",
       "      <td>6.72549</td>\n",
       "      <td>0.837357</td>\n",
       "      <td>0</td>\n",
       "    </tr>\n",
       "    <tr>\n",
       "      <th>4</th>\n",
       "      <td>sqft_lot</td>\n",
       "      <td>0.0191264</td>\n",
       "      <td>12.3221</td>\n",
       "      <td>0.0807614</td>\n",
       "      <td>1.58291e-90</td>\n",
       "    </tr>\n",
       "    <tr>\n",
       "      <th>5</th>\n",
       "      <td>sqft_above</td>\n",
       "      <td>0.343182</td>\n",
       "      <td>7.70753</td>\n",
       "      <td>0.722165</td>\n",
       "      <td>0</td>\n",
       "    </tr>\n",
       "    <tr>\n",
       "      <th>6</th>\n",
       "      <td>yr_built</td>\n",
       "      <td>0.00633473</td>\n",
       "      <td>-8.23673</td>\n",
       "      <td>2.80575</td>\n",
       "      <td>5.58115e-31</td>\n",
       "    </tr>\n",
       "    <tr>\n",
       "      <th>7</th>\n",
       "      <td>zipcode</td>\n",
       "      <td>0.00148182</td>\n",
       "      <td>439.817</td>\n",
       "      <td>-37.1313</td>\n",
       "      <td>2.25779e-08</td>\n",
       "    </tr>\n",
       "    <tr>\n",
       "      <th>8</th>\n",
       "      <td>lat</td>\n",
       "      <td>0.202354</td>\n",
       "      <td>-300.604</td>\n",
       "      <td>81.215</td>\n",
       "      <td>0</td>\n",
       "    </tr>\n",
       "    <tr>\n",
       "      <th>9</th>\n",
       "      <td>sqft_living15</td>\n",
       "      <td>0.369164</td>\n",
       "      <td>5.68335</td>\n",
       "      <td>0.976819</td>\n",
       "      <td>0</td>\n",
       "    </tr>\n",
       "    <tr>\n",
       "      <th>10</th>\n",
       "      <td>sqft_lot15</td>\n",
       "      <td>0.0154238</td>\n",
       "      <td>12.3259</td>\n",
       "      <td>0.0806026</td>\n",
       "      <td>3.10906e-73</td>\n",
       "    </tr>\n",
       "  </tbody>\n",
       "</table>\n",
       "</div>"
      ],
      "text/plain": [
       "                0           1          2          3            4\n",
       "0         ind_var   r_squared  intercept      slope      p-value\n",
       "1        bedrooms    0.116908    12.2984   0.636696            0\n",
       "2       bathrooms    0.269994    12.5754   0.697543            0\n",
       "3     sqft_living    0.454874    6.72549   0.837357            0\n",
       "4        sqft_lot   0.0191264    12.3221  0.0807614  1.58291e-90\n",
       "5      sqft_above    0.343182    7.70753   0.722165            0\n",
       "6        yr_built  0.00633473   -8.23673    2.80575  5.58115e-31\n",
       "7         zipcode  0.00148182    439.817   -37.1313  2.25779e-08\n",
       "8             lat    0.202354   -300.604     81.215            0\n",
       "9   sqft_living15    0.369164    5.68335   0.976819            0\n",
       "10     sqft_lot15   0.0154238    12.3259  0.0806026  3.10906e-73"
      ]
     },
     "execution_count": 295,
     "metadata": {},
     "output_type": "execute_result"
    }
   ],
   "source": [
    "pd.DataFrame(results)"
   ]
  },
  {
   "cell_type": "markdown",
   "metadata": {},
   "source": [
    "Log transformed data looks very similar to Z score normalized data.  Keeping Z score data.  Next step is to model categorical predictors."
   ]
  },
  {
   "cell_type": "code",
   "execution_count": 248,
   "metadata": {},
   "outputs": [
    {
     "name": "stdout",
     "output_type": "stream",
     "text": [
      "<class 'pandas.core.frame.DataFrame'>\n",
      "Int64Index: 21082 entries, 0 to 21596\n",
      "Data columns (total 41 columns):\n",
      "price             21082 non-null float64\n",
      "bedrooms          21082 non-null float64\n",
      "bathrooms         21082 non-null float64\n",
      "sqft_living       21082 non-null float64\n",
      "sqft_lot          21082 non-null float64\n",
      "sqft_above        21082 non-null float64\n",
      "sqft_basement     21082 non-null float64\n",
      "yr_built          21082 non-null float64\n",
      "zipcode           21082 non-null float64\n",
      "lat               21082 non-null float64\n",
      "long              21082 non-null float64\n",
      "sqft_living15     21082 non-null float64\n",
      "sqft_lot15        21082 non-null float64\n",
      "floors_1          21082 non-null uint8\n",
      "floors_2          21082 non-null uint8\n",
      "floors_3          21082 non-null uint8\n",
      "waterfront_no     21082 non-null uint8\n",
      "waterfront_yes    21082 non-null uint8\n",
      "view_0            21082 non-null uint8\n",
      "view_1            21082 non-null uint8\n",
      "view_2            21082 non-null uint8\n",
      "view_3            21082 non-null uint8\n",
      "view_4            21082 non-null uint8\n",
      "condition_1       21082 non-null uint8\n",
      "condition_2       21082 non-null uint8\n",
      "condition_3       21082 non-null uint8\n",
      "condition_4       21082 non-null uint8\n",
      "condition_5       21082 non-null uint8\n",
      "grade_3           21082 non-null uint8\n",
      "grade_4           21082 non-null uint8\n",
      "grade_5           21082 non-null uint8\n",
      "grade_6           21082 non-null uint8\n",
      "grade_7           21082 non-null uint8\n",
      "grade_8           21082 non-null uint8\n",
      "grade_9           21082 non-null uint8\n",
      "grade_10          21082 non-null uint8\n",
      "grade_11          21082 non-null uint8\n",
      "grade_12          21082 non-null uint8\n",
      "grade_13          21082 non-null uint8\n",
      "renovated_no      21082 non-null uint8\n",
      "renovated_yes     21082 non-null uint8\n",
      "dtypes: float64(13), uint8(28)\n",
      "memory usage: 3.4 MB\n"
     ]
    }
   ],
   "source": [
    "df_cat = df\n",
    "df_cat.info()"
   ]
  },
  {
   "cell_type": "code",
   "execution_count": 249,
   "metadata": {},
   "outputs": [
    {
     "data": {
      "text/plain": [
       "Index(['price', 'bedrooms', 'bathrooms', 'sqft_living', 'sqft_lot',\n",
       "       'sqft_above', 'sqft_basement', 'yr_built', 'zipcode', 'lat', 'long',\n",
       "       'sqft_living15', 'sqft_lot15', 'floors_1', 'floors_2', 'floors_3',\n",
       "       'waterfront_no', 'waterfront_yes', 'view_0', 'view_1', 'view_2',\n",
       "       'view_3', 'view_4', 'condition_1', 'condition_2', 'condition_3',\n",
       "       'condition_4', 'condition_5', 'grade_3', 'grade_4', 'grade_5',\n",
       "       'grade_6', 'grade_7', 'grade_8', 'grade_9', 'grade_10', 'grade_11',\n",
       "       'grade_12', 'grade_13', 'renovated_no', 'renovated_yes'],\n",
       "      dtype='object')"
      ]
     },
     "execution_count": 249,
     "metadata": {},
     "output_type": "execute_result"
    }
   ],
   "source": [
    "df_cat.columns"
   ]
  },
  {
   "cell_type": "code",
   "execution_count": 250,
   "metadata": {},
   "outputs": [],
   "source": [
    "df_cat = df_cat.drop(['bedrooms', 'bathrooms', 'sqft_living', 'sqft_lot',\n",
    "       'sqft_above', 'sqft_basement', 'yr_built', 'zipcode', 'lat', 'long',\n",
    "       'sqft_living15', 'sqft_lot15'], axis=1)"
   ]
  },
  {
   "cell_type": "code",
   "execution_count": 254,
   "metadata": {},
   "outputs": [
    {
     "data": {
      "text/plain": [
       "Index(['price', 'floors_1', 'floors_2', 'floors_3', 'waterfront_no',\n",
       "       'waterfront_yes', 'view_0', 'view_1', 'view_2', 'view_3', 'view_4',\n",
       "       'condition_1', 'condition_2', 'condition_3', 'condition_4',\n",
       "       'condition_5', 'grade_3', 'grade_4', 'grade_5', 'grade_6', 'grade_7',\n",
       "       'grade_8', 'grade_9', 'grade_10', 'grade_11', 'grade_12', 'grade_13',\n",
       "       'renovated_no', 'renovated_yes'],\n",
       "      dtype='object')"
      ]
     },
     "execution_count": 254,
     "metadata": {},
     "output_type": "execute_result"
    }
   ],
   "source": [
    "df_cat.columns"
   ]
  },
  {
   "cell_type": "code",
   "execution_count": 252,
   "metadata": {},
   "outputs": [],
   "source": [
    "import statsmodels.formula.api as smf\n",
    "from statsmodels.formula.api import ols"
   ]
  },
  {
   "cell_type": "code",
   "execution_count": 253,
   "metadata": {},
   "outputs": [
    {
     "data": {
      "text/html": [
       "<table class=\"simpletable\">\n",
       "<caption>OLS Regression Results</caption>\n",
       "<tr>\n",
       "  <th>Dep. Variable:</th>          <td>price</td>      <th>  R-squared:         </th>  <td>   0.602</td>  \n",
       "</tr>\n",
       "<tr>\n",
       "  <th>Model:</th>                   <td>OLS</td>       <th>  Adj. R-squared:    </th>  <td>   0.602</td>  \n",
       "</tr>\n",
       "<tr>\n",
       "  <th>Method:</th>             <td>Least Squares</td>  <th>  F-statistic:       </th>  <td>   1328.</td>  \n",
       "</tr>\n",
       "<tr>\n",
       "  <th>Date:</th>             <td>Thu, 07 Mar 2019</td> <th>  Prob (F-statistic):</th>   <td>  0.00</td>   \n",
       "</tr>\n",
       "<tr>\n",
       "  <th>Time:</th>                 <td>18:26:39</td>     <th>  Log-Likelihood:    </th> <td>-2.9031e+05</td>\n",
       "</tr>\n",
       "<tr>\n",
       "  <th>No. Observations:</th>      <td> 21082</td>      <th>  AIC:               </th>  <td>5.807e+05</td> \n",
       "</tr>\n",
       "<tr>\n",
       "  <th>Df Residuals:</th>          <td> 21057</td>      <th>  BIC:               </th>  <td>5.809e+05</td> \n",
       "</tr>\n",
       "<tr>\n",
       "  <th>Df Model:</th>              <td>    24</td>      <th>                     </th>      <td> </td>     \n",
       "</tr>\n",
       "<tr>\n",
       "  <th>Covariance Type:</th>      <td>nonrobust</td>    <th>                     </th>      <td> </td>     \n",
       "</tr>\n",
       "</table>\n",
       "<table class=\"simpletable\">\n",
       "<tr>\n",
       "         <td></td>           <th>coef</th>     <th>std err</th>      <th>t</th>      <th>P>|t|</th>  <th>[0.025</th>    <th>0.975]</th>  \n",
       "</tr>\n",
       "<tr>\n",
       "  <th>Intercept</th>      <td>-1.685e+17</td> <td> 9.71e+16</td> <td>   -1.734</td> <td> 0.083</td> <td>-3.59e+17</td> <td> 2.19e+16</td>\n",
       "</tr>\n",
       "<tr>\n",
       "  <th>floors_1</th>       <td>-2.888e+17</td> <td> 1.66e+17</td> <td>   -1.734</td> <td> 0.083</td> <td>-6.15e+17</td> <td> 3.76e+16</td>\n",
       "</tr>\n",
       "<tr>\n",
       "  <th>floors_2</th>       <td>-2.888e+17</td> <td> 1.66e+17</td> <td>   -1.734</td> <td> 0.083</td> <td>-6.15e+17</td> <td> 3.76e+16</td>\n",
       "</tr>\n",
       "<tr>\n",
       "  <th>floors_3</th>       <td>-2.888e+17</td> <td> 1.66e+17</td> <td>   -1.734</td> <td> 0.083</td> <td>-6.15e+17</td> <td> 3.76e+16</td>\n",
       "</tr>\n",
       "<tr>\n",
       "  <th>waterfront_no</th>  <td> 2301.4213</td> <td> 5085.612</td> <td>    0.453</td> <td> 0.651</td> <td>-7666.769</td> <td> 1.23e+04</td>\n",
       "</tr>\n",
       "<tr>\n",
       "  <th>waterfront_yes</th> <td> 5.263e+05</td> <td> 2.44e+04</td> <td>   21.597</td> <td> 0.000</td> <td> 4.79e+05</td> <td> 5.74e+05</td>\n",
       "</tr>\n",
       "<tr>\n",
       "  <th>view_0</th>         <td> 2.364e+17</td> <td> 1.36e+17</td> <td>    1.734</td> <td> 0.083</td> <td>-3.08e+16</td> <td> 5.04e+17</td>\n",
       "</tr>\n",
       "<tr>\n",
       "  <th>view_1</th>         <td> 2.364e+17</td> <td> 1.36e+17</td> <td>    1.734</td> <td> 0.083</td> <td>-3.08e+16</td> <td> 5.04e+17</td>\n",
       "</tr>\n",
       "<tr>\n",
       "  <th>view_2</th>         <td> 2.364e+17</td> <td> 1.36e+17</td> <td>    1.734</td> <td> 0.083</td> <td>-3.08e+16</td> <td> 5.04e+17</td>\n",
       "</tr>\n",
       "<tr>\n",
       "  <th>view_3</th>         <td> 2.364e+17</td> <td> 1.36e+17</td> <td>    1.734</td> <td> 0.083</td> <td>-3.08e+16</td> <td> 5.04e+17</td>\n",
       "</tr>\n",
       "<tr>\n",
       "  <th>view_4</th>         <td> 2.364e+17</td> <td> 1.36e+17</td> <td>    1.734</td> <td> 0.083</td> <td>-3.08e+16</td> <td> 5.04e+17</td>\n",
       "</tr>\n",
       "<tr>\n",
       "  <th>condition_1</th>    <td> 2.131e+17</td> <td> 1.23e+17</td> <td>    1.734</td> <td> 0.083</td> <td>-2.77e+16</td> <td> 4.54e+17</td>\n",
       "</tr>\n",
       "<tr>\n",
       "  <th>condition_2</th>    <td> 2.131e+17</td> <td> 1.23e+17</td> <td>    1.734</td> <td> 0.083</td> <td>-2.77e+16</td> <td> 4.54e+17</td>\n",
       "</tr>\n",
       "<tr>\n",
       "  <th>condition_3</th>    <td> 2.131e+17</td> <td> 1.23e+17</td> <td>    1.734</td> <td> 0.083</td> <td>-2.77e+16</td> <td> 4.54e+17</td>\n",
       "</tr>\n",
       "<tr>\n",
       "  <th>condition_4</th>    <td> 2.131e+17</td> <td> 1.23e+17</td> <td>    1.734</td> <td> 0.083</td> <td>-2.77e+16</td> <td> 4.54e+17</td>\n",
       "</tr>\n",
       "<tr>\n",
       "  <th>condition_5</th>    <td> 2.131e+17</td> <td> 1.23e+17</td> <td>    1.734</td> <td> 0.083</td> <td>-2.77e+16</td> <td> 4.54e+17</td>\n",
       "</tr>\n",
       "<tr>\n",
       "  <th>grade_3</th>        <td> 7.676e+15</td> <td> 4.43e+15</td> <td>    1.734</td> <td> 0.083</td> <td>-9.98e+14</td> <td> 1.64e+16</td>\n",
       "</tr>\n",
       "<tr>\n",
       "  <th>grade_4</th>        <td> 7.676e+15</td> <td> 4.43e+15</td> <td>    1.734</td> <td> 0.083</td> <td>-9.98e+14</td> <td> 1.64e+16</td>\n",
       "</tr>\n",
       "<tr>\n",
       "  <th>grade_5</th>        <td> 7.676e+15</td> <td> 4.43e+15</td> <td>    1.734</td> <td> 0.083</td> <td>-9.98e+14</td> <td> 1.64e+16</td>\n",
       "</tr>\n",
       "<tr>\n",
       "  <th>grade_6</th>        <td> 7.676e+15</td> <td> 4.43e+15</td> <td>    1.734</td> <td> 0.083</td> <td>-9.98e+14</td> <td> 1.64e+16</td>\n",
       "</tr>\n",
       "<tr>\n",
       "  <th>grade_7</th>        <td> 7.676e+15</td> <td> 4.43e+15</td> <td>    1.734</td> <td> 0.083</td> <td>-9.98e+14</td> <td> 1.64e+16</td>\n",
       "</tr>\n",
       "<tr>\n",
       "  <th>grade_8</th>        <td> 7.676e+15</td> <td> 4.43e+15</td> <td>    1.734</td> <td> 0.083</td> <td>-9.98e+14</td> <td> 1.64e+16</td>\n",
       "</tr>\n",
       "<tr>\n",
       "  <th>grade_9</th>        <td> 7.676e+15</td> <td> 4.43e+15</td> <td>    1.734</td> <td> 0.083</td> <td>-9.98e+14</td> <td> 1.64e+16</td>\n",
       "</tr>\n",
       "<tr>\n",
       "  <th>grade_10</th>       <td> 7.676e+15</td> <td> 4.43e+15</td> <td>    1.734</td> <td> 0.083</td> <td>-9.98e+14</td> <td> 1.64e+16</td>\n",
       "</tr>\n",
       "<tr>\n",
       "  <th>grade_11</th>       <td> 7.676e+15</td> <td> 4.43e+15</td> <td>    1.734</td> <td> 0.083</td> <td>-9.98e+14</td> <td> 1.64e+16</td>\n",
       "</tr>\n",
       "<tr>\n",
       "  <th>grade_12</th>       <td> 7.676e+15</td> <td> 4.43e+15</td> <td>    1.734</td> <td> 0.083</td> <td>-9.98e+14</td> <td> 1.64e+16</td>\n",
       "</tr>\n",
       "<tr>\n",
       "  <th>grade_13</th>       <td> 7.676e+15</td> <td> 4.43e+15</td> <td>    1.734</td> <td> 0.083</td> <td>-9.98e+14</td> <td> 1.64e+16</td>\n",
       "</tr>\n",
       "<tr>\n",
       "  <th>renovated_no</th>   <td>-8449.6360</td> <td> 4190.920</td> <td>   -2.016</td> <td> 0.044</td> <td>-1.67e+04</td> <td> -235.111</td>\n",
       "</tr>\n",
       "<tr>\n",
       "  <th>renovated_yes</th>  <td> 1.743e+05</td> <td> 9474.645</td> <td>   18.391</td> <td> 0.000</td> <td> 1.56e+05</td> <td> 1.93e+05</td>\n",
       "</tr>\n",
       "</table>\n",
       "<table class=\"simpletable\">\n",
       "<tr>\n",
       "  <th>Omnibus:</th>       <td>13406.627</td> <th>  Durbin-Watson:     </th>  <td>   1.976</td> \n",
       "</tr>\n",
       "<tr>\n",
       "  <th>Prob(Omnibus):</th>  <td> 0.000</td>   <th>  Jarque-Bera (JB):  </th> <td>583764.916</td>\n",
       "</tr>\n",
       "<tr>\n",
       "  <th>Skew:</th>           <td> 2.458</td>   <th>  Prob(JB):          </th>  <td>    0.00</td> \n",
       "</tr>\n",
       "<tr>\n",
       "  <th>Kurtosis:</th>       <td>28.306</td>   <th>  Cond. No.          </th>  <td>5.94e+15</td> \n",
       "</tr>\n",
       "</table><br/><br/>Warnings:<br/>[1] Standard Errors assume that the covariance matrix of the errors is correctly specified.<br/>[2] The smallest eigenvalue is 2.72e-27. This might indicate that there are<br/>strong multicollinearity problems or that the design matrix is singular."
      ],
      "text/plain": [
       "<class 'statsmodels.iolib.summary.Summary'>\n",
       "\"\"\"\n",
       "                            OLS Regression Results                            \n",
       "==============================================================================\n",
       "Dep. Variable:                  price   R-squared:                       0.602\n",
       "Model:                            OLS   Adj. R-squared:                  0.602\n",
       "Method:                 Least Squares   F-statistic:                     1328.\n",
       "Date:                Thu, 07 Mar 2019   Prob (F-statistic):               0.00\n",
       "Time:                        18:26:39   Log-Likelihood:            -2.9031e+05\n",
       "No. Observations:               21082   AIC:                         5.807e+05\n",
       "Df Residuals:                   21057   BIC:                         5.809e+05\n",
       "Df Model:                          24                                         \n",
       "Covariance Type:            nonrobust                                         \n",
       "==================================================================================\n",
       "                     coef    std err          t      P>|t|      [0.025      0.975]\n",
       "----------------------------------------------------------------------------------\n",
       "Intercept      -1.685e+17   9.71e+16     -1.734      0.083   -3.59e+17    2.19e+16\n",
       "floors_1       -2.888e+17   1.66e+17     -1.734      0.083   -6.15e+17    3.76e+16\n",
       "floors_2       -2.888e+17   1.66e+17     -1.734      0.083   -6.15e+17    3.76e+16\n",
       "floors_3       -2.888e+17   1.66e+17     -1.734      0.083   -6.15e+17    3.76e+16\n",
       "waterfront_no   2301.4213   5085.612      0.453      0.651   -7666.769    1.23e+04\n",
       "waterfront_yes  5.263e+05   2.44e+04     21.597      0.000    4.79e+05    5.74e+05\n",
       "view_0          2.364e+17   1.36e+17      1.734      0.083   -3.08e+16    5.04e+17\n",
       "view_1          2.364e+17   1.36e+17      1.734      0.083   -3.08e+16    5.04e+17\n",
       "view_2          2.364e+17   1.36e+17      1.734      0.083   -3.08e+16    5.04e+17\n",
       "view_3          2.364e+17   1.36e+17      1.734      0.083   -3.08e+16    5.04e+17\n",
       "view_4          2.364e+17   1.36e+17      1.734      0.083   -3.08e+16    5.04e+17\n",
       "condition_1     2.131e+17   1.23e+17      1.734      0.083   -2.77e+16    4.54e+17\n",
       "condition_2     2.131e+17   1.23e+17      1.734      0.083   -2.77e+16    4.54e+17\n",
       "condition_3     2.131e+17   1.23e+17      1.734      0.083   -2.77e+16    4.54e+17\n",
       "condition_4     2.131e+17   1.23e+17      1.734      0.083   -2.77e+16    4.54e+17\n",
       "condition_5     2.131e+17   1.23e+17      1.734      0.083   -2.77e+16    4.54e+17\n",
       "grade_3         7.676e+15   4.43e+15      1.734      0.083   -9.98e+14    1.64e+16\n",
       "grade_4         7.676e+15   4.43e+15      1.734      0.083   -9.98e+14    1.64e+16\n",
       "grade_5         7.676e+15   4.43e+15      1.734      0.083   -9.98e+14    1.64e+16\n",
       "grade_6         7.676e+15   4.43e+15      1.734      0.083   -9.98e+14    1.64e+16\n",
       "grade_7         7.676e+15   4.43e+15      1.734      0.083   -9.98e+14    1.64e+16\n",
       "grade_8         7.676e+15   4.43e+15      1.734      0.083   -9.98e+14    1.64e+16\n",
       "grade_9         7.676e+15   4.43e+15      1.734      0.083   -9.98e+14    1.64e+16\n",
       "grade_10        7.676e+15   4.43e+15      1.734      0.083   -9.98e+14    1.64e+16\n",
       "grade_11        7.676e+15   4.43e+15      1.734      0.083   -9.98e+14    1.64e+16\n",
       "grade_12        7.676e+15   4.43e+15      1.734      0.083   -9.98e+14    1.64e+16\n",
       "grade_13        7.676e+15   4.43e+15      1.734      0.083   -9.98e+14    1.64e+16\n",
       "renovated_no   -8449.6360   4190.920     -2.016      0.044   -1.67e+04    -235.111\n",
       "renovated_yes   1.743e+05   9474.645     18.391      0.000    1.56e+05    1.93e+05\n",
       "==============================================================================\n",
       "Omnibus:                    13406.627   Durbin-Watson:                   1.976\n",
       "Prob(Omnibus):                  0.000   Jarque-Bera (JB):           583764.916\n",
       "Skew:                           2.458   Prob(JB):                         0.00\n",
       "Kurtosis:                      28.306   Cond. No.                     5.94e+15\n",
       "==============================================================================\n",
       "\n",
       "Warnings:\n",
       "[1] Standard Errors assume that the covariance matrix of the errors is correctly specified.\n",
       "[2] The smallest eigenvalue is 2.72e-27. This might indicate that there are\n",
       "strong multicollinearity problems or that the design matrix is singular.\n",
       "\"\"\""
      ]
     },
     "execution_count": 253,
     "metadata": {},
     "output_type": "execute_result"
    }
   ],
   "source": [
    "predictors = df_cat.drop('price', axis=1)\n",
    "pred_sum = \"+\".join(predictors.columns)\n",
    "formula = 'price' + \"~\" + pred_sum\n",
    "model = ols(formula= formula, data=df_cat).fit()\n",
    "model.summary()"
   ]
  },
  {
   "cell_type": "markdown",
   "metadata": {},
   "source": [
    "Only predictors that have a p-value of <0.05 are renovated_yes and waterfront_yes.  Dropping all columns and will run analysis again."
   ]
  },
  {
   "cell_type": "code",
   "execution_count": 232,
   "metadata": {},
   "outputs": [],
   "source": [
    "df_cat = df_cat.drop(['floors_1', 'floors_2', 'floors_3', 'waterfront_no',\n",
    "       'view_0', 'view_1', 'view_2', 'view_3', 'view_4',\n",
    "       'condition_1', 'condition_2', 'condition_3', 'condition_4',\n",
    "       'condition_5', 'grade_3', 'grade_4', 'grade_5', 'grade_6', 'grade_7',\n",
    "       'grade_8', 'grade_9', 'grade_10', 'grade_11', 'grade_12', 'grade_13',\n",
    "       'renovated_no'], axis=1)"
   ]
  },
  {
   "cell_type": "code",
   "execution_count": 233,
   "metadata": {},
   "outputs": [
    {
     "data": {
      "text/plain": [
       "Index(['price', 'waterfront_yes', 'renovated_yes'], dtype='object')"
      ]
     },
     "execution_count": 233,
     "metadata": {},
     "output_type": "execute_result"
    }
   ],
   "source": [
    "df_cat.columns"
   ]
  },
  {
   "cell_type": "code",
   "execution_count": 234,
   "metadata": {},
   "outputs": [
    {
     "data": {
      "text/html": [
       "<table class=\"simpletable\">\n",
       "<caption>OLS Regression Results</caption>\n",
       "<tr>\n",
       "  <th>Dep. Variable:</th>          <td>price</td>      <th>  R-squared:         </th>  <td>   0.078</td>  \n",
       "</tr>\n",
       "<tr>\n",
       "  <th>Model:</th>                   <td>OLS</td>       <th>  Adj. R-squared:    </th>  <td>   0.078</td>  \n",
       "</tr>\n",
       "<tr>\n",
       "  <th>Method:</th>             <td>Least Squares</td>  <th>  F-statistic:       </th>  <td>   887.5</td>  \n",
       "</tr>\n",
       "<tr>\n",
       "  <th>Date:</th>             <td>Thu, 07 Mar 2019</td> <th>  Prob (F-statistic):</th>   <td>  0.00</td>   \n",
       "</tr>\n",
       "<tr>\n",
       "  <th>Time:</th>                 <td>17:55:15</td>     <th>  Log-Likelihood:    </th> <td>-2.9917e+05</td>\n",
       "</tr>\n",
       "<tr>\n",
       "  <th>No. Observations:</th>      <td> 21082</td>      <th>  AIC:               </th>  <td>5.984e+05</td> \n",
       "</tr>\n",
       "<tr>\n",
       "  <th>Df Residuals:</th>          <td> 21079</td>      <th>  BIC:               </th>  <td>5.984e+05</td> \n",
       "</tr>\n",
       "<tr>\n",
       "  <th>Df Model:</th>              <td>     2</td>      <th>                     </th>      <td> </td>     \n",
       "</tr>\n",
       "<tr>\n",
       "  <th>Covariance Type:</th>      <td>nonrobust</td>    <th>                     </th>      <td> </td>     \n",
       "</tr>\n",
       "</table>\n",
       "<table class=\"simpletable\">\n",
       "<tr>\n",
       "         <td></td>           <th>coef</th>     <th>std err</th>      <th>t</th>      <th>P>|t|</th>  <th>[0.025</th>    <th>0.975]</th>  \n",
       "</tr>\n",
       "<tr>\n",
       "  <th>Intercept</th>      <td> 5.258e+05</td> <td> 2474.102</td> <td>  212.524</td> <td> 0.000</td> <td> 5.21e+05</td> <td> 5.31e+05</td>\n",
       "</tr>\n",
       "<tr>\n",
       "  <th>waterfront_yes</th> <td> 1.142e+06</td> <td> 2.98e+04</td> <td>   38.270</td> <td> 0.000</td> <td> 1.08e+06</td> <td>  1.2e+06</td>\n",
       "</tr>\n",
       "<tr>\n",
       "  <th>renovated_yes</th>  <td> 1.987e+05</td> <td> 1.34e+04</td> <td>   14.858</td> <td> 0.000</td> <td> 1.72e+05</td> <td> 2.25e+05</td>\n",
       "</tr>\n",
       "</table>\n",
       "<table class=\"simpletable\">\n",
       "<tr>\n",
       "  <th>Omnibus:</th>       <td>17118.454</td> <th>  Durbin-Watson:     </th>  <td>   1.959</td> \n",
       "</tr>\n",
       "<tr>\n",
       "  <th>Prob(Omnibus):</th>  <td> 0.000</td>   <th>  Jarque-Bera (JB):  </th> <td>858530.416</td>\n",
       "</tr>\n",
       "<tr>\n",
       "  <th>Skew:</th>           <td> 3.553</td>   <th>  Prob(JB):          </th>  <td>    0.00</td> \n",
       "</tr>\n",
       "<tr>\n",
       "  <th>Kurtosis:</th>       <td>33.444</td>   <th>  Cond. No.          </th>  <td>    12.3</td> \n",
       "</tr>\n",
       "</table><br/><br/>Warnings:<br/>[1] Standard Errors assume that the covariance matrix of the errors is correctly specified."
      ],
      "text/plain": [
       "<class 'statsmodels.iolib.summary.Summary'>\n",
       "\"\"\"\n",
       "                            OLS Regression Results                            \n",
       "==============================================================================\n",
       "Dep. Variable:                  price   R-squared:                       0.078\n",
       "Model:                            OLS   Adj. R-squared:                  0.078\n",
       "Method:                 Least Squares   F-statistic:                     887.5\n",
       "Date:                Thu, 07 Mar 2019   Prob (F-statistic):               0.00\n",
       "Time:                        17:55:15   Log-Likelihood:            -2.9917e+05\n",
       "No. Observations:               21082   AIC:                         5.984e+05\n",
       "Df Residuals:                   21079   BIC:                         5.984e+05\n",
       "Df Model:                           2                                         \n",
       "Covariance Type:            nonrobust                                         \n",
       "==================================================================================\n",
       "                     coef    std err          t      P>|t|      [0.025      0.975]\n",
       "----------------------------------------------------------------------------------\n",
       "Intercept       5.258e+05   2474.102    212.524      0.000    5.21e+05    5.31e+05\n",
       "waterfront_yes  1.142e+06   2.98e+04     38.270      0.000    1.08e+06     1.2e+06\n",
       "renovated_yes   1.987e+05   1.34e+04     14.858      0.000    1.72e+05    2.25e+05\n",
       "==============================================================================\n",
       "Omnibus:                    17118.454   Durbin-Watson:                   1.959\n",
       "Prob(Omnibus):                  0.000   Jarque-Bera (JB):           858530.416\n",
       "Skew:                           3.553   Prob(JB):                         0.00\n",
       "Kurtosis:                      33.444   Cond. No.                         12.3\n",
       "==============================================================================\n",
       "\n",
       "Warnings:\n",
       "[1] Standard Errors assume that the covariance matrix of the errors is correctly specified.\n",
       "\"\"\""
      ]
     },
     "execution_count": 234,
     "metadata": {},
     "output_type": "execute_result"
    }
   ],
   "source": [
    "predictors1 = df_cat.drop('price', axis=1)\n",
    "pred_sum = \"+\".join(predictors1.columns)\n",
    "formula = 'price' + \"~\" + pred_sum\n",
    "model = ols(formula= formula, data=df_cat).fit()\n",
    "model.summary()"
   ]
  },
  {
   "cell_type": "code",
   "execution_count": 255,
   "metadata": {},
   "outputs": [],
   "source": [
    "df_cat1 = df_cat"
   ]
  },
  {
   "cell_type": "code",
   "execution_count": 256,
   "metadata": {},
   "outputs": [],
   "source": [
    "df_cat1 = df_cat1.drop(['price'],axis=1)"
   ]
  },
  {
   "cell_type": "code",
   "execution_count": 257,
   "metadata": {},
   "outputs": [
    {
     "name": "stdout",
     "output_type": "stream",
     "text": [
      "<class 'pandas.core.frame.DataFrame'>\n",
      "Int64Index: 21082 entries, 0 to 21596\n",
      "Data columns (total 28 columns):\n",
      "floors_1          21082 non-null uint8\n",
      "floors_2          21082 non-null uint8\n",
      "floors_3          21082 non-null uint8\n",
      "waterfront_no     21082 non-null uint8\n",
      "waterfront_yes    21082 non-null uint8\n",
      "view_0            21082 non-null uint8\n",
      "view_1            21082 non-null uint8\n",
      "view_2            21082 non-null uint8\n",
      "view_3            21082 non-null uint8\n",
      "view_4            21082 non-null uint8\n",
      "condition_1       21082 non-null uint8\n",
      "condition_2       21082 non-null uint8\n",
      "condition_3       21082 non-null uint8\n",
      "condition_4       21082 non-null uint8\n",
      "condition_5       21082 non-null uint8\n",
      "grade_3           21082 non-null uint8\n",
      "grade_4           21082 non-null uint8\n",
      "grade_5           21082 non-null uint8\n",
      "grade_6           21082 non-null uint8\n",
      "grade_7           21082 non-null uint8\n",
      "grade_8           21082 non-null uint8\n",
      "grade_9           21082 non-null uint8\n",
      "grade_10          21082 non-null uint8\n",
      "grade_11          21082 non-null uint8\n",
      "grade_12          21082 non-null uint8\n",
      "grade_13          21082 non-null uint8\n",
      "renovated_no      21082 non-null uint8\n",
      "renovated_yes     21082 non-null uint8\n",
      "dtypes: uint8(28)\n",
      "memory usage: 1.3 MB\n"
     ]
    }
   ],
   "source": [
    "df_cat1.info()"
   ]
  },
  {
   "cell_type": "code",
   "execution_count": 258,
   "metadata": {},
   "outputs": [],
   "source": [
    "df_1 = df"
   ]
  },
  {
   "cell_type": "code",
   "execution_count": 259,
   "metadata": {},
   "outputs": [],
   "source": [
    "df_1 = df_1.drop(['bedrooms', 'bathrooms', 'sqft_lot',\n",
    "       'sqft_basement', 'yr_built', 'zipcode', 'lat', 'long',\n",
    "       'sqft_lot15', 'floors_1', 'floors_2', 'floors_3',\n",
    "       'waterfront_no', 'waterfront_yes', 'view_0', 'view_1', 'view_2',\n",
    "       'view_3', 'view_4', 'condition_1', 'condition_2', 'condition_3',\n",
    "       'condition_4', 'condition_5', 'grade_3', 'grade_4', 'grade_5',\n",
    "       'grade_6', 'grade_7', 'grade_8', 'grade_9', 'grade_10', 'grade_11',\n",
    "       'grade_12', 'grade_13', 'renovated_no', 'renovated_yes'], axis=1)"
   ]
  },
  {
   "cell_type": "code",
   "execution_count": 260,
   "metadata": {},
   "outputs": [
    {
     "name": "stdout",
     "output_type": "stream",
     "text": [
      "<class 'pandas.core.frame.DataFrame'>\n",
      "Int64Index: 21082 entries, 0 to 21596\n",
      "Data columns (total 4 columns):\n",
      "price            21082 non-null float64\n",
      "sqft_living      21082 non-null float64\n",
      "sqft_above       21082 non-null float64\n",
      "sqft_living15    21082 non-null float64\n",
      "dtypes: float64(4)\n",
      "memory usage: 1.4 MB\n"
     ]
    }
   ],
   "source": [
    "df_1.info()"
   ]
  },
  {
   "cell_type": "code",
   "execution_count": 261,
   "metadata": {},
   "outputs": [],
   "source": [
    "df_final = pd.concat([df_1, df_cat1],axis=1)"
   ]
  },
  {
   "cell_type": "code",
   "execution_count": 262,
   "metadata": {},
   "outputs": [
    {
     "name": "stdout",
     "output_type": "stream",
     "text": [
      "<class 'pandas.core.frame.DataFrame'>\n",
      "Int64Index: 21082 entries, 0 to 21596\n",
      "Data columns (total 32 columns):\n",
      "price             21082 non-null float64\n",
      "sqft_living       21082 non-null float64\n",
      "sqft_above        21082 non-null float64\n",
      "sqft_living15     21082 non-null float64\n",
      "floors_1          21082 non-null uint8\n",
      "floors_2          21082 non-null uint8\n",
      "floors_3          21082 non-null uint8\n",
      "waterfront_no     21082 non-null uint8\n",
      "waterfront_yes    21082 non-null uint8\n",
      "view_0            21082 non-null uint8\n",
      "view_1            21082 non-null uint8\n",
      "view_2            21082 non-null uint8\n",
      "view_3            21082 non-null uint8\n",
      "view_4            21082 non-null uint8\n",
      "condition_1       21082 non-null uint8\n",
      "condition_2       21082 non-null uint8\n",
      "condition_3       21082 non-null uint8\n",
      "condition_4       21082 non-null uint8\n",
      "condition_5       21082 non-null uint8\n",
      "grade_3           21082 non-null uint8\n",
      "grade_4           21082 non-null uint8\n",
      "grade_5           21082 non-null uint8\n",
      "grade_6           21082 non-null uint8\n",
      "grade_7           21082 non-null uint8\n",
      "grade_8           21082 non-null uint8\n",
      "grade_9           21082 non-null uint8\n",
      "grade_10          21082 non-null uint8\n",
      "grade_11          21082 non-null uint8\n",
      "grade_12          21082 non-null uint8\n",
      "grade_13          21082 non-null uint8\n",
      "renovated_no      21082 non-null uint8\n",
      "renovated_yes     21082 non-null uint8\n",
      "dtypes: float64(4), uint8(28)\n",
      "memory usage: 2.0 MB\n"
     ]
    }
   ],
   "source": [
    "df_final.info()"
   ]
  },
  {
   "cell_type": "code",
   "execution_count": 267,
   "metadata": {},
   "outputs": [],
   "source": [
    "df_final1 = df_final"
   ]
  },
  {
   "cell_type": "code",
   "execution_count": 268,
   "metadata": {},
   "outputs": [
    {
     "name": "stdout",
     "output_type": "stream",
     "text": [
      "<class 'pandas.core.frame.DataFrame'>\n",
      "Int64Index: 21082 entries, 0 to 21596\n",
      "Data columns (total 32 columns):\n",
      "price             21082 non-null float64\n",
      "sqft_living       21082 non-null float64\n",
      "sqft_above        21082 non-null float64\n",
      "sqft_living15     21082 non-null float64\n",
      "floors_1          21082 non-null uint8\n",
      "floors_2          21082 non-null uint8\n",
      "floors_3          21082 non-null uint8\n",
      "waterfront_no     21082 non-null uint8\n",
      "waterfront_yes    21082 non-null uint8\n",
      "view_0            21082 non-null uint8\n",
      "view_1            21082 non-null uint8\n",
      "view_2            21082 non-null uint8\n",
      "view_3            21082 non-null uint8\n",
      "view_4            21082 non-null uint8\n",
      "condition_1       21082 non-null uint8\n",
      "condition_2       21082 non-null uint8\n",
      "condition_3       21082 non-null uint8\n",
      "condition_4       21082 non-null uint8\n",
      "condition_5       21082 non-null uint8\n",
      "grade_3           21082 non-null uint8\n",
      "grade_4           21082 non-null uint8\n",
      "grade_5           21082 non-null uint8\n",
      "grade_6           21082 non-null uint8\n",
      "grade_7           21082 non-null uint8\n",
      "grade_8           21082 non-null uint8\n",
      "grade_9           21082 non-null uint8\n",
      "grade_10          21082 non-null uint8\n",
      "grade_11          21082 non-null uint8\n",
      "grade_12          21082 non-null uint8\n",
      "grade_13          21082 non-null uint8\n",
      "renovated_no      21082 non-null uint8\n",
      "renovated_yes     21082 non-null uint8\n",
      "dtypes: float64(4), uint8(28)\n",
      "memory usage: 2.0 MB\n"
     ]
    }
   ],
   "source": [
    "df_final1.info()"
   ]
  },
  {
   "cell_type": "code",
   "execution_count": 269,
   "metadata": {},
   "outputs": [],
   "source": [
    "df_final1 = df_final1.drop(['floors_1', 'waterfront_no', 'view_0', 'condition_1', 'grade_3', 'renovated_no'], axis=1)"
   ]
  },
  {
   "cell_type": "code",
   "execution_count": 270,
   "metadata": {},
   "outputs": [
    {
     "data": {
      "text/html": [
       "<table class=\"simpletable\">\n",
       "<caption>OLS Regression Results</caption>\n",
       "<tr>\n",
       "  <th>Dep. Variable:</th>          <td>price</td>      <th>  R-squared:         </th>  <td>   0.650</td>  \n",
       "</tr>\n",
       "<tr>\n",
       "  <th>Model:</th>                   <td>OLS</td>       <th>  Adj. R-squared:    </th>  <td>   0.650</td>  \n",
       "</tr>\n",
       "<tr>\n",
       "  <th>Method:</th>             <td>Least Squares</td>  <th>  F-statistic:       </th>  <td>   1567.</td>  \n",
       "</tr>\n",
       "<tr>\n",
       "  <th>Date:</th>             <td>Thu, 07 Mar 2019</td> <th>  Prob (F-statistic):</th>   <td>  0.00</td>   \n",
       "</tr>\n",
       "<tr>\n",
       "  <th>Time:</th>                 <td>18:41:11</td>     <th>  Log-Likelihood:    </th> <td>-2.8895e+05</td>\n",
       "</tr>\n",
       "<tr>\n",
       "  <th>No. Observations:</th>      <td> 21082</td>      <th>  AIC:               </th>  <td>5.779e+05</td> \n",
       "</tr>\n",
       "<tr>\n",
       "  <th>Df Residuals:</th>          <td> 21056</td>      <th>  BIC:               </th>  <td>5.781e+05</td> \n",
       "</tr>\n",
       "<tr>\n",
       "  <th>Df Model:</th>              <td>    25</td>      <th>                     </th>      <td> </td>     \n",
       "</tr>\n",
       "<tr>\n",
       "  <th>Covariance Type:</th>      <td>nonrobust</td>    <th>                     </th>      <td> </td>     \n",
       "</tr>\n",
       "</table>\n",
       "<table class=\"simpletable\">\n",
       "<tr>\n",
       "         <td></td>           <th>coef</th>     <th>std err</th>      <th>t</th>      <th>P>|t|</th>  <th>[0.025</th>    <th>0.975]</th>  \n",
       "</tr>\n",
       "<tr>\n",
       "  <th>Intercept</th>      <td> 3.691e+05</td> <td> 2.21e+05</td> <td>    1.670</td> <td> 0.095</td> <td> -6.4e+04</td> <td> 8.02e+05</td>\n",
       "</tr>\n",
       "<tr>\n",
       "  <th>sqft_living</th>    <td> 1.453e+05</td> <td> 3664.840</td> <td>   39.652</td> <td> 0.000</td> <td> 1.38e+05</td> <td> 1.53e+05</td>\n",
       "</tr>\n",
       "<tr>\n",
       "  <th>sqft_above</th>     <td>-3.247e+04</td> <td> 3847.041</td> <td>   -8.441</td> <td> 0.000</td> <td>   -4e+04</td> <td>-2.49e+04</td>\n",
       "</tr>\n",
       "<tr>\n",
       "  <th>sqft_living15</th>  <td> 1.476e+04</td> <td> 2525.229</td> <td>    5.845</td> <td> 0.000</td> <td> 9809.286</td> <td> 1.97e+04</td>\n",
       "</tr>\n",
       "<tr>\n",
       "  <th>floors_2</th>       <td>-2.094e+04</td> <td> 4277.126</td> <td>   -4.895</td> <td> 0.000</td> <td>-2.93e+04</td> <td>-1.26e+04</td>\n",
       "</tr>\n",
       "<tr>\n",
       "  <th>floors_3</th>       <td>  7.58e+04</td> <td> 9708.232</td> <td>    7.808</td> <td> 0.000</td> <td> 5.68e+04</td> <td> 9.48e+04</td>\n",
       "</tr>\n",
       "<tr>\n",
       "  <th>waterfront_yes</th> <td> 5.214e+05</td> <td> 2.23e+04</td> <td>   23.359</td> <td> 0.000</td> <td> 4.78e+05</td> <td> 5.65e+05</td>\n",
       "</tr>\n",
       "<tr>\n",
       "  <th>view_1</th>         <td> 1.391e+05</td> <td> 1.22e+04</td> <td>   11.369</td> <td> 0.000</td> <td> 1.15e+05</td> <td> 1.63e+05</td>\n",
       "</tr>\n",
       "<tr>\n",
       "  <th>view_2</th>         <td> 8.137e+04</td> <td> 7465.089</td> <td>   10.900</td> <td> 0.000</td> <td> 6.67e+04</td> <td>  9.6e+04</td>\n",
       "</tr>\n",
       "<tr>\n",
       "  <th>view_3</th>         <td> 1.311e+05</td> <td> 1.02e+04</td> <td>   12.838</td> <td> 0.000</td> <td> 1.11e+05</td> <td> 1.51e+05</td>\n",
       "</tr>\n",
       "<tr>\n",
       "  <th>view_4</th>         <td>  2.82e+05</td> <td> 1.55e+04</td> <td>   18.242</td> <td> 0.000</td> <td> 2.52e+05</td> <td> 3.12e+05</td>\n",
       "</tr>\n",
       "<tr>\n",
       "  <th>condition_2</th>    <td>-2.452e+04</td> <td> 4.45e+04</td> <td>   -0.551</td> <td> 0.581</td> <td>-1.12e+05</td> <td> 6.27e+04</td>\n",
       "</tr>\n",
       "<tr>\n",
       "  <th>condition_3</th>    <td>-2.204e+04</td> <td> 4.14e+04</td> <td>   -0.532</td> <td> 0.595</td> <td>-1.03e+05</td> <td> 5.91e+04</td>\n",
       "</tr>\n",
       "<tr>\n",
       "  <th>condition_4</th>    <td> 2.449e+04</td> <td> 4.14e+04</td> <td>    0.591</td> <td> 0.554</td> <td>-5.67e+04</td> <td> 1.06e+05</td>\n",
       "</tr>\n",
       "<tr>\n",
       "  <th>condition_5</th>    <td> 1.041e+05</td> <td> 4.17e+04</td> <td>    2.499</td> <td> 0.012</td> <td> 2.25e+04</td> <td> 1.86e+05</td>\n",
       "</tr>\n",
       "<tr>\n",
       "  <th>grade_4</th>        <td> 1.667e+04</td> <td> 2.21e+05</td> <td>    0.075</td> <td> 0.940</td> <td>-4.17e+05</td> <td>  4.5e+05</td>\n",
       "</tr>\n",
       "<tr>\n",
       "  <th>grade_5</th>        <td> 2137.6206</td> <td> 2.17e+05</td> <td>    0.010</td> <td> 0.992</td> <td>-4.24e+05</td> <td> 4.28e+05</td>\n",
       "</tr>\n",
       "<tr>\n",
       "  <th>grade_6</th>        <td> 3.614e+04</td> <td> 2.17e+05</td> <td>    0.166</td> <td> 0.868</td> <td>-3.89e+05</td> <td> 4.62e+05</td>\n",
       "</tr>\n",
       "<tr>\n",
       "  <th>grade_7</th>        <td> 7.475e+04</td> <td> 2.17e+05</td> <td>    0.344</td> <td> 0.731</td> <td>-3.51e+05</td> <td>    5e+05</td>\n",
       "</tr>\n",
       "<tr>\n",
       "  <th>grade_8</th>        <td> 1.458e+05</td> <td> 2.17e+05</td> <td>    0.672</td> <td> 0.502</td> <td> -2.8e+05</td> <td> 5.71e+05</td>\n",
       "</tr>\n",
       "<tr>\n",
       "  <th>grade_9</th>        <td>  2.84e+05</td> <td> 2.17e+05</td> <td>    1.308</td> <td> 0.191</td> <td>-1.42e+05</td> <td>  7.1e+05</td>\n",
       "</tr>\n",
       "<tr>\n",
       "  <th>grade_10</th>       <td> 4.745e+05</td> <td> 2.17e+05</td> <td>    2.184</td> <td> 0.029</td> <td> 4.86e+04</td> <td>    9e+05</td>\n",
       "</tr>\n",
       "<tr>\n",
       "  <th>grade_11</th>       <td> 7.465e+05</td> <td> 2.18e+05</td> <td>    3.431</td> <td> 0.001</td> <td>  3.2e+05</td> <td> 1.17e+06</td>\n",
       "</tr>\n",
       "<tr>\n",
       "  <th>grade_12</th>       <td> 1.201e+06</td> <td> 2.19e+05</td> <td>    5.492</td> <td> 0.000</td> <td> 7.73e+05</td> <td> 1.63e+06</td>\n",
       "</tr>\n",
       "<tr>\n",
       "  <th>grade_13</th>       <td> 2.514e+06</td> <td> 2.26e+05</td> <td>   11.123</td> <td> 0.000</td> <td> 2.07e+06</td> <td> 2.96e+06</td>\n",
       "</tr>\n",
       "<tr>\n",
       "  <th>renovated_yes</th>  <td> 1.594e+05</td> <td> 8316.625</td> <td>   19.162</td> <td> 0.000</td> <td> 1.43e+05</td> <td> 1.76e+05</td>\n",
       "</tr>\n",
       "</table>\n",
       "<table class=\"simpletable\">\n",
       "<tr>\n",
       "  <th>Omnibus:</th>       <td>11861.768</td> <th>  Durbin-Watson:     </th>  <td>   1.984</td> \n",
       "</tr>\n",
       "<tr>\n",
       "  <th>Prob(Omnibus):</th>  <td> 0.000</td>   <th>  Jarque-Bera (JB):  </th> <td>376878.803</td>\n",
       "</tr>\n",
       "<tr>\n",
       "  <th>Skew:</th>           <td> 2.138</td>   <th>  Prob(JB):          </th>  <td>    0.00</td> \n",
       "</tr>\n",
       "<tr>\n",
       "  <th>Kurtosis:</th>       <td>23.267</td>   <th>  Cond. No.          </th>  <td>    799.</td> \n",
       "</tr>\n",
       "</table><br/><br/>Warnings:<br/>[1] Standard Errors assume that the covariance matrix of the errors is correctly specified."
      ],
      "text/plain": [
       "<class 'statsmodels.iolib.summary.Summary'>\n",
       "\"\"\"\n",
       "                            OLS Regression Results                            \n",
       "==============================================================================\n",
       "Dep. Variable:                  price   R-squared:                       0.650\n",
       "Model:                            OLS   Adj. R-squared:                  0.650\n",
       "Method:                 Least Squares   F-statistic:                     1567.\n",
       "Date:                Thu, 07 Mar 2019   Prob (F-statistic):               0.00\n",
       "Time:                        18:41:11   Log-Likelihood:            -2.8895e+05\n",
       "No. Observations:               21082   AIC:                         5.779e+05\n",
       "Df Residuals:                   21056   BIC:                         5.781e+05\n",
       "Df Model:                          25                                         \n",
       "Covariance Type:            nonrobust                                         \n",
       "==================================================================================\n",
       "                     coef    std err          t      P>|t|      [0.025      0.975]\n",
       "----------------------------------------------------------------------------------\n",
       "Intercept       3.691e+05   2.21e+05      1.670      0.095    -6.4e+04    8.02e+05\n",
       "sqft_living     1.453e+05   3664.840     39.652      0.000    1.38e+05    1.53e+05\n",
       "sqft_above     -3.247e+04   3847.041     -8.441      0.000      -4e+04   -2.49e+04\n",
       "sqft_living15   1.476e+04   2525.229      5.845      0.000    9809.286    1.97e+04\n",
       "floors_2       -2.094e+04   4277.126     -4.895      0.000   -2.93e+04   -1.26e+04\n",
       "floors_3         7.58e+04   9708.232      7.808      0.000    5.68e+04    9.48e+04\n",
       "waterfront_yes  5.214e+05   2.23e+04     23.359      0.000    4.78e+05    5.65e+05\n",
       "view_1          1.391e+05   1.22e+04     11.369      0.000    1.15e+05    1.63e+05\n",
       "view_2          8.137e+04   7465.089     10.900      0.000    6.67e+04     9.6e+04\n",
       "view_3          1.311e+05   1.02e+04     12.838      0.000    1.11e+05    1.51e+05\n",
       "view_4           2.82e+05   1.55e+04     18.242      0.000    2.52e+05    3.12e+05\n",
       "condition_2    -2.452e+04   4.45e+04     -0.551      0.581   -1.12e+05    6.27e+04\n",
       "condition_3    -2.204e+04   4.14e+04     -0.532      0.595   -1.03e+05    5.91e+04\n",
       "condition_4     2.449e+04   4.14e+04      0.591      0.554   -5.67e+04    1.06e+05\n",
       "condition_5     1.041e+05   4.17e+04      2.499      0.012    2.25e+04    1.86e+05\n",
       "grade_4         1.667e+04   2.21e+05      0.075      0.940   -4.17e+05     4.5e+05\n",
       "grade_5         2137.6206   2.17e+05      0.010      0.992   -4.24e+05    4.28e+05\n",
       "grade_6         3.614e+04   2.17e+05      0.166      0.868   -3.89e+05    4.62e+05\n",
       "grade_7         7.475e+04   2.17e+05      0.344      0.731   -3.51e+05       5e+05\n",
       "grade_8         1.458e+05   2.17e+05      0.672      0.502    -2.8e+05    5.71e+05\n",
       "grade_9          2.84e+05   2.17e+05      1.308      0.191   -1.42e+05     7.1e+05\n",
       "grade_10        4.745e+05   2.17e+05      2.184      0.029    4.86e+04       9e+05\n",
       "grade_11        7.465e+05   2.18e+05      3.431      0.001     3.2e+05    1.17e+06\n",
       "grade_12        1.201e+06   2.19e+05      5.492      0.000    7.73e+05    1.63e+06\n",
       "grade_13        2.514e+06   2.26e+05     11.123      0.000    2.07e+06    2.96e+06\n",
       "renovated_yes   1.594e+05   8316.625     19.162      0.000    1.43e+05    1.76e+05\n",
       "==============================================================================\n",
       "Omnibus:                    11861.768   Durbin-Watson:                   1.984\n",
       "Prob(Omnibus):                  0.000   Jarque-Bera (JB):           376878.803\n",
       "Skew:                           2.138   Prob(JB):                         0.00\n",
       "Kurtosis:                      23.267   Cond. No.                         799.\n",
       "==============================================================================\n",
       "\n",
       "Warnings:\n",
       "[1] Standard Errors assume that the covariance matrix of the errors is correctly specified.\n",
       "\"\"\""
      ]
     },
     "execution_count": 270,
     "metadata": {},
     "output_type": "execute_result"
    }
   ],
   "source": [
    "predictors4 = df_final1.drop('price', axis=1)\n",
    "pred_sum = \"+\".join(predictors4.columns)\n",
    "formula = 'price' + \"~\" + pred_sum\n",
    "model = ols(formula= formula, data=df_final1).fit()\n",
    "model.summary()"
   ]
  },
  {
   "cell_type": "code",
   "execution_count": 272,
   "metadata": {},
   "outputs": [],
   "source": [
    "df_final1 = df_final1.drop(['condition_2', 'condition_3', 'condition_4', 'condition_5', 'grade_4',\n",
    "       'grade_5', 'grade_6', 'grade_7', 'grade_8', 'grade_9', 'grade_10',\n",
    "       'grade_11', 'grade_12', 'grade_13'], axis=1)"
   ]
  },
  {
   "cell_type": "code",
   "execution_count": 273,
   "metadata": {},
   "outputs": [
    {
     "data": {
      "text/html": [
       "<table class=\"simpletable\">\n",
       "<caption>OLS Regression Results</caption>\n",
       "<tr>\n",
       "  <th>Dep. Variable:</th>          <td>price</td>      <th>  R-squared:         </th>  <td>   0.567</td>  \n",
       "</tr>\n",
       "<tr>\n",
       "  <th>Model:</th>                   <td>OLS</td>       <th>  Adj. R-squared:    </th>  <td>   0.566</td>  \n",
       "</tr>\n",
       "<tr>\n",
       "  <th>Method:</th>             <td>Least Squares</td>  <th>  F-statistic:       </th>  <td>   2504.</td>  \n",
       "</tr>\n",
       "<tr>\n",
       "  <th>Date:</th>             <td>Thu, 07 Mar 2019</td> <th>  Prob (F-statistic):</th>   <td>  0.00</td>   \n",
       "</tr>\n",
       "<tr>\n",
       "  <th>Time:</th>                 <td>18:49:21</td>     <th>  Log-Likelihood:    </th> <td>-2.9121e+05</td>\n",
       "</tr>\n",
       "<tr>\n",
       "  <th>No. Observations:</th>      <td> 21082</td>      <th>  AIC:               </th>  <td>5.824e+05</td> \n",
       "</tr>\n",
       "<tr>\n",
       "  <th>Df Residuals:</th>          <td> 21070</td>      <th>  BIC:               </th>  <td>5.825e+05</td> \n",
       "</tr>\n",
       "<tr>\n",
       "  <th>Df Model:</th>              <td>    11</td>      <th>                     </th>      <td> </td>     \n",
       "</tr>\n",
       "<tr>\n",
       "  <th>Covariance Type:</th>      <td>nonrobust</td>    <th>                     </th>      <td> </td>     \n",
       "</tr>\n",
       "</table>\n",
       "<table class=\"simpletable\">\n",
       "<tr>\n",
       "         <td></td>           <th>coef</th>     <th>std err</th>      <th>t</th>      <th>P>|t|</th>  <th>[0.025</th>    <th>0.975]</th>  \n",
       "</tr>\n",
       "<tr>\n",
       "  <th>Intercept</th>      <td> 5.262e+05</td> <td> 2543.471</td> <td>  206.894</td> <td> 0.000</td> <td> 5.21e+05</td> <td> 5.31e+05</td>\n",
       "</tr>\n",
       "<tr>\n",
       "  <th>sqft_living</th>    <td> 2.008e+05</td> <td> 3897.478</td> <td>   51.523</td> <td> 0.000</td> <td> 1.93e+05</td> <td> 2.08e+05</td>\n",
       "</tr>\n",
       "<tr>\n",
       "  <th>sqft_above</th>     <td> 1.172e+04</td> <td> 4159.160</td> <td>    2.817</td> <td> 0.005</td> <td> 3563.443</td> <td> 1.99e+04</td>\n",
       "</tr>\n",
       "<tr>\n",
       "  <th>sqft_living15</th>  <td> 4.427e+04</td> <td> 2657.424</td> <td>   16.658</td> <td> 0.000</td> <td> 3.91e+04</td> <td> 4.95e+04</td>\n",
       "</tr>\n",
       "<tr>\n",
       "  <th>floors_2</th>       <td>-3.722e+04</td> <td> 4427.260</td> <td>   -8.408</td> <td> 0.000</td> <td>-4.59e+04</td> <td>-2.85e+04</td>\n",
       "</tr>\n",
       "<tr>\n",
       "  <th>floors_3</th>       <td> 1.214e+05</td> <td> 1.03e+04</td> <td>   11.806</td> <td> 0.000</td> <td> 1.01e+05</td> <td> 1.42e+05</td>\n",
       "</tr>\n",
       "<tr>\n",
       "  <th>waterfront_yes</th> <td> 5.075e+05</td> <td> 2.48e+04</td> <td>   20.457</td> <td> 0.000</td> <td> 4.59e+05</td> <td> 5.56e+05</td>\n",
       "</tr>\n",
       "<tr>\n",
       "  <th>view_1</th>         <td> 1.488e+05</td> <td> 1.36e+04</td> <td>   10.935</td> <td> 0.000</td> <td> 1.22e+05</td> <td> 1.75e+05</td>\n",
       "</tr>\n",
       "<tr>\n",
       "  <th>view_2</th>         <td> 1.101e+05</td> <td> 8288.929</td> <td>   13.280</td> <td> 0.000</td> <td> 9.38e+04</td> <td> 1.26e+05</td>\n",
       "</tr>\n",
       "<tr>\n",
       "  <th>view_3</th>         <td> 1.748e+05</td> <td> 1.13e+04</td> <td>   15.428</td> <td> 0.000</td> <td> 1.53e+05</td> <td> 1.97e+05</td>\n",
       "</tr>\n",
       "<tr>\n",
       "  <th>view_4</th>         <td>  3.87e+05</td> <td> 1.71e+04</td> <td>   22.621</td> <td> 0.000</td> <td> 3.53e+05</td> <td>  4.2e+05</td>\n",
       "</tr>\n",
       "<tr>\n",
       "  <th>renovated_yes</th>  <td>  1.36e+05</td> <td> 9220.184</td> <td>   14.746</td> <td> 0.000</td> <td> 1.18e+05</td> <td> 1.54e+05</td>\n",
       "</tr>\n",
       "</table>\n",
       "<table class=\"simpletable\">\n",
       "<tr>\n",
       "  <th>Omnibus:</th>       <td>13673.511</td> <th>  Durbin-Watson:     </th>  <td>   1.982</td> \n",
       "</tr>\n",
       "<tr>\n",
       "  <th>Prob(Omnibus):</th>  <td> 0.000</td>   <th>  Jarque-Bera (JB):  </th> <td>566975.273</td>\n",
       "</tr>\n",
       "<tr>\n",
       "  <th>Skew:</th>           <td> 2.550</td>   <th>  Prob(JB):          </th>  <td>    0.00</td> \n",
       "</tr>\n",
       "<tr>\n",
       "  <th>Kurtosis:</th>       <td>27.889</td>   <th>  Cond. No.          </th>  <td>    26.7</td> \n",
       "</tr>\n",
       "</table><br/><br/>Warnings:<br/>[1] Standard Errors assume that the covariance matrix of the errors is correctly specified."
      ],
      "text/plain": [
       "<class 'statsmodels.iolib.summary.Summary'>\n",
       "\"\"\"\n",
       "                            OLS Regression Results                            \n",
       "==============================================================================\n",
       "Dep. Variable:                  price   R-squared:                       0.567\n",
       "Model:                            OLS   Adj. R-squared:                  0.566\n",
       "Method:                 Least Squares   F-statistic:                     2504.\n",
       "Date:                Thu, 07 Mar 2019   Prob (F-statistic):               0.00\n",
       "Time:                        18:49:21   Log-Likelihood:            -2.9121e+05\n",
       "No. Observations:               21082   AIC:                         5.824e+05\n",
       "Df Residuals:                   21070   BIC:                         5.825e+05\n",
       "Df Model:                          11                                         \n",
       "Covariance Type:            nonrobust                                         \n",
       "==================================================================================\n",
       "                     coef    std err          t      P>|t|      [0.025      0.975]\n",
       "----------------------------------------------------------------------------------\n",
       "Intercept       5.262e+05   2543.471    206.894      0.000    5.21e+05    5.31e+05\n",
       "sqft_living     2.008e+05   3897.478     51.523      0.000    1.93e+05    2.08e+05\n",
       "sqft_above      1.172e+04   4159.160      2.817      0.005    3563.443    1.99e+04\n",
       "sqft_living15   4.427e+04   2657.424     16.658      0.000    3.91e+04    4.95e+04\n",
       "floors_2       -3.722e+04   4427.260     -8.408      0.000   -4.59e+04   -2.85e+04\n",
       "floors_3        1.214e+05   1.03e+04     11.806      0.000    1.01e+05    1.42e+05\n",
       "waterfront_yes  5.075e+05   2.48e+04     20.457      0.000    4.59e+05    5.56e+05\n",
       "view_1          1.488e+05   1.36e+04     10.935      0.000    1.22e+05    1.75e+05\n",
       "view_2          1.101e+05   8288.929     13.280      0.000    9.38e+04    1.26e+05\n",
       "view_3          1.748e+05   1.13e+04     15.428      0.000    1.53e+05    1.97e+05\n",
       "view_4           3.87e+05   1.71e+04     22.621      0.000    3.53e+05     4.2e+05\n",
       "renovated_yes    1.36e+05   9220.184     14.746      0.000    1.18e+05    1.54e+05\n",
       "==============================================================================\n",
       "Omnibus:                    13673.511   Durbin-Watson:                   1.982\n",
       "Prob(Omnibus):                  0.000   Jarque-Bera (JB):           566975.273\n",
       "Skew:                           2.550   Prob(JB):                         0.00\n",
       "Kurtosis:                      27.889   Cond. No.                         26.7\n",
       "==============================================================================\n",
       "\n",
       "Warnings:\n",
       "[1] Standard Errors assume that the covariance matrix of the errors is correctly specified.\n",
       "\"\"\""
      ]
     },
     "execution_count": 273,
     "metadata": {},
     "output_type": "execute_result"
    }
   ],
   "source": [
    "predictors5 = df_final1.drop('price', axis=1)\n",
    "pred_sum = \"+\".join(predictors5.columns)\n",
    "formula = 'price' + \"~\" + pred_sum\n",
    "model = ols(formula= formula, data=df_final1).fit()\n",
    "model.summary()"
   ]
  },
  {
   "cell_type": "markdown",
   "metadata": {},
   "source": [
    "## Model Validation"
   ]
  },
  {
   "cell_type": "code",
   "execution_count": 274,
   "metadata": {},
   "outputs": [
    {
     "data": {
      "text/html": [
       "<div>\n",
       "<style scoped>\n",
       "    .dataframe tbody tr th:only-of-type {\n",
       "        vertical-align: middle;\n",
       "    }\n",
       "\n",
       "    .dataframe tbody tr th {\n",
       "        vertical-align: top;\n",
       "    }\n",
       "\n",
       "    .dataframe thead th {\n",
       "        text-align: right;\n",
       "    }\n",
       "</style>\n",
       "<table border=\"1\" class=\"dataframe\">\n",
       "  <thead>\n",
       "    <tr style=\"text-align: right;\">\n",
       "      <th></th>\n",
       "      <th>sqft_living</th>\n",
       "      <th>sqft_above</th>\n",
       "      <th>sqft_living15</th>\n",
       "      <th>floors_2</th>\n",
       "      <th>floors_3</th>\n",
       "      <th>waterfront_yes</th>\n",
       "      <th>view_1</th>\n",
       "      <th>view_2</th>\n",
       "      <th>view_3</th>\n",
       "      <th>view_4</th>\n",
       "      <th>renovated_yes</th>\n",
       "    </tr>\n",
       "  </thead>\n",
       "  <tbody>\n",
       "    <tr>\n",
       "      <th>0</th>\n",
       "      <td>-0.980938</td>\n",
       "      <td>-0.735179</td>\n",
       "      <td>-0.943655</td>\n",
       "      <td>0</td>\n",
       "      <td>0</td>\n",
       "      <td>0</td>\n",
       "      <td>0</td>\n",
       "      <td>0</td>\n",
       "      <td>0</td>\n",
       "      <td>0</td>\n",
       "      <td>0</td>\n",
       "    </tr>\n",
       "    <tr>\n",
       "      <th>1</th>\n",
       "      <td>0.533460</td>\n",
       "      <td>0.459940</td>\n",
       "      <td>-0.433112</td>\n",
       "      <td>1</td>\n",
       "      <td>0</td>\n",
       "      <td>0</td>\n",
       "      <td>0</td>\n",
       "      <td>0</td>\n",
       "      <td>0</td>\n",
       "      <td>0</td>\n",
       "      <td>1</td>\n",
       "    </tr>\n",
       "    <tr>\n",
       "      <th>2</th>\n",
       "      <td>-1.427631</td>\n",
       "      <td>-1.230128</td>\n",
       "      <td>1.069344</td>\n",
       "      <td>0</td>\n",
       "      <td>0</td>\n",
       "      <td>0</td>\n",
       "      <td>0</td>\n",
       "      <td>0</td>\n",
       "      <td>0</td>\n",
       "      <td>0</td>\n",
       "      <td>0</td>\n",
       "    </tr>\n",
       "    <tr>\n",
       "      <th>3</th>\n",
       "      <td>-0.131132</td>\n",
       "      <td>-0.892114</td>\n",
       "      <td>-0.914481</td>\n",
       "      <td>0</td>\n",
       "      <td>0</td>\n",
       "      <td>0</td>\n",
       "      <td>0</td>\n",
       "      <td>0</td>\n",
       "      <td>0</td>\n",
       "      <td>0</td>\n",
       "      <td>0</td>\n",
       "    </tr>\n",
       "    <tr>\n",
       "      <th>4</th>\n",
       "      <td>-0.436190</td>\n",
       "      <td>-0.131584</td>\n",
       "      <td>-0.272656</td>\n",
       "      <td>0</td>\n",
       "      <td>0</td>\n",
       "      <td>0</td>\n",
       "      <td>0</td>\n",
       "      <td>0</td>\n",
       "      <td>0</td>\n",
       "      <td>0</td>\n",
       "      <td>0</td>\n",
       "    </tr>\n",
       "  </tbody>\n",
       "</table>\n",
       "</div>"
      ],
      "text/plain": [
       "   sqft_living  sqft_above  sqft_living15  floors_2  floors_3  waterfront_yes  \\\n",
       "0    -0.980938   -0.735179      -0.943655         0         0               0   \n",
       "1     0.533460    0.459940      -0.433112         1         0               0   \n",
       "2    -1.427631   -1.230128       1.069344         0         0               0   \n",
       "3    -0.131132   -0.892114      -0.914481         0         0               0   \n",
       "4    -0.436190   -0.131584      -0.272656         0         0               0   \n",
       "\n",
       "   view_1  view_2  view_3  view_4  renovated_yes  \n",
       "0       0       0       0       0              0  \n",
       "1       0       0       0       0              1  \n",
       "2       0       0       0       0              0  \n",
       "3       0       0       0       0              0  \n",
       "4       0       0       0       0              0  "
      ]
     },
     "execution_count": 274,
     "metadata": {},
     "output_type": "execute_result"
    }
   ],
   "source": [
    "y = df_final1[[\"price\"]]\n",
    "X = df_final1.drop([\"price\"], axis=1)\n",
    "X.head()"
   ]
  },
  {
   "cell_type": "code",
   "execution_count": 275,
   "metadata": {},
   "outputs": [],
   "source": [
    "from sklearn.feature_selection import RFE\n",
    "from sklearn.linear_model import LinearRegression\n",
    "linreg = LinearRegression()\n"
   ]
  },
  {
   "cell_type": "code",
   "execution_count": 276,
   "metadata": {},
   "outputs": [
    {
     "name": "stdout",
     "output_type": "stream",
     "text": [
      "price    0.547861\n",
      "dtype: float64\n",
      "price    0.547625\n",
      "dtype: float64\n",
      "price    0.566604\n",
      "dtype: float64\n",
      "price    0.566378\n",
      "dtype: float64\n",
      "price    0.566604\n",
      "dtype: float64\n",
      "price    0.566378\n",
      "dtype: float64\n",
      "price    0.566604\n",
      "dtype: float64\n",
      "price    0.566378\n",
      "dtype: float64\n",
      "price    0.566604\n",
      "dtype: float64\n",
      "price    0.566378\n",
      "dtype: float64\n",
      "price    0.566604\n",
      "dtype: float64\n",
      "price    0.566378\n",
      "dtype: float64\n",
      "price    0.566604\n",
      "dtype: float64\n",
      "price    0.566378\n",
      "dtype: float64\n",
      "price    0.566604\n",
      "dtype: float64\n",
      "price    0.566378\n",
      "dtype: float64\n",
      "price    0.566604\n",
      "dtype: float64\n",
      "price    0.566378\n",
      "dtype: float64\n"
     ]
    }
   ],
   "source": [
    "r_list = []\n",
    "adj_r_list = []\n",
    "list_n = list(range(5,86,10))\n",
    "for n in list_n: \n",
    "    select_n = RFE(linreg, n_features_to_select = n)\n",
    "    select_n = select_n.fit(X, np.ravel(y))\n",
    "    selected_columns = X.columns[select_n.support_ ]\n",
    "    linreg.fit(X[selected_columns],y)\n",
    "    yhat = linreg.predict(X[selected_columns])\n",
    "    SS_Residual = np.sum((y-yhat)**2)\n",
    "    SS_Total = np.sum((y-np.mean(y))**2)\n",
    "    r_squared = 1 - (float(SS_Residual))/SS_Total\n",
    "    print(r_squared)\n",
    "    adjusted_r_squared = 1 - (1-r_squared)*(len(y)-1)/(len(y)-X.shape[1]-1)\n",
    "    print(adjusted_r_squared)\n",
    "r_list.append(r_squared)\n",
    "adj_r_list.append(adjusted_r_squared)"
   ]
  },
  {
   "cell_type": "code",
   "execution_count": 282,
   "metadata": {},
   "outputs": [
    {
     "name": "stdout",
     "output_type": "stream",
     "text": [
      "price    5.998338e+10\n",
      "dtype: float64\n",
      "price    6.422127e+10\n",
      "dtype: float64\n",
      "price    5.749219e+10\n",
      "dtype: float64\n",
      "price    6.157518e+10\n",
      "dtype: float64\n",
      "price    5.749219e+10\n",
      "dtype: float64\n",
      "price    6.157518e+10\n",
      "dtype: float64\n",
      "price    5.749219e+10\n",
      "dtype: float64\n",
      "price    6.157518e+10\n",
      "dtype: float64\n",
      "price    5.749219e+10\n",
      "dtype: float64\n",
      "price    6.157518e+10\n",
      "dtype: float64\n",
      "price    5.749219e+10\n",
      "dtype: float64\n",
      "price    6.157518e+10\n",
      "dtype: float64\n",
      "price    5.749219e+10\n",
      "dtype: float64\n",
      "price    6.157518e+10\n",
      "dtype: float64\n",
      "price    5.749219e+10\n",
      "dtype: float64\n",
      "price    6.157518e+10\n",
      "dtype: float64\n",
      "price    5.749219e+10\n",
      "dtype: float64\n",
      "price    6.157518e+10\n",
      "dtype: float64\n"
     ]
    }
   ],
   "source": [
    "from sklearn.model_selection import train_test_split\n",
    "X_train, X_test, y_train, y_test = train_test_split(X, y, test_size = 0.2, random_state=3)\n",
    "\n",
    "MSE_test = []\n",
    "MSE_train = []\n",
    "list_n = list(range(5,86,10))\n",
    "for n in list_n: \n",
    "    select_n = RFE(linreg, n_features_to_select = n)\n",
    "    select_n = select_n.fit(X_train, np.ravel(y_train))\n",
    "    selected_columns = X.columns[select_n.support_ ]\n",
    "    linreg.fit(X_train[selected_columns],y_train)\n",
    "    yhat_train = linreg.predict(X_train[selected_columns])\n",
    "    yhat_test = linreg.predict(X_test[selected_columns])\n",
    "    mse_train = np.sum((y_train-yhat_train)**2)/len(y_train)\n",
    "    mse_test =np.sum((y_test-yhat_test)**2)/len(y_test)\n",
    "    print(mse_train)\n",
    "    print(mse_test)\n",
    "MSE_test.append(mse_test)\n",
    "MSE_train.append(mse_train)"
   ]
  },
  {
   "cell_type": "code",
   "execution_count": 283,
   "metadata": {},
   "outputs": [
    {
     "data": {
      "text/plain": [
       "array([-5.56952957e+10, -6.71994451e+10, -5.21719626e+10, -7.04851038e+10,\n",
       "       -5.28939645e+10, -5.34331728e+10, -5.30285076e+10, -5.70994552e+10,\n",
       "       -5.94794719e+10, -6.62135041e+10])"
      ]
     },
     "execution_count": 283,
     "metadata": {},
     "output_type": "execute_result"
    }
   ],
   "source": [
    "from sklearn.metrics import mean_squared_error\n",
    "from sklearn.model_selection import cross_val_score\n",
    "\n",
    "# select 85 best predictors\n",
    "\n",
    "select_85 = RFE(linreg, n_features_to_select = 85)\n",
    "select_85 = select_n.fit(X, np.ravel(y))\n",
    "selected_columns = X.columns[select_n.support_]\n",
    "\n",
    "cv_10_results = cross_val_score(linreg, X[selected_columns], y, cv=10, scoring=\"neg_mean_squared_error\")\n",
    "\n",
    "cv_10_results"
   ]
  },
  {
   "cell_type": "code",
   "execution_count": null,
   "metadata": {},
   "outputs": [],
   "source": []
  }
 ],
 "metadata": {
  "kernelspec": {
   "display_name": "Python 3",
   "language": "python",
   "name": "python3"
  },
  "language_info": {
   "codemirror_mode": {
    "name": "ipython",
    "version": 3
   },
   "file_extension": ".py",
   "mimetype": "text/x-python",
   "name": "python",
   "nbconvert_exporter": "python",
   "pygments_lexer": "ipython3",
   "version": "3.6.6"
  }
 },
 "nbformat": 4,
 "nbformat_minor": 2
}
